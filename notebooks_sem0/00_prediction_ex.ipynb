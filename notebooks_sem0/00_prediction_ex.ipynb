{
 "cells": [
  {
   "cell_type": "code",
   "execution_count": 2,
   "metadata": {},
   "outputs": [],
   "source": [
    "%load_ext autoreload\n",
    "%autoreload 2\n",
    "import sys\n",
    "sys.path.append('..')\n",
    "import dvu\n",
    "import seaborn as sns\n",
    "import os\n",
    "import pandas as pd\n",
    "from copy import deepcopy\n",
    "from matplotlib import pyplot as plt\n",
    "from os.path import join\n",
    "import numpy as np\n",
    "# import imodelsx.process_results\n",
    "# import ridge_utils.features.qa_questions\n",
    "import neuro.features.feature_utils\n",
    "import joblib\n",
    "from tqdm import tqdm\n",
    "# import analyze_helper\n",
    "# fit_encoding = __import__('02_fit_encoding')\n",
    "dvu.set_style()\n",
    "\n",
    "# results_dir = analyze_helper.best_results_dir\n",
    "# r, cols_varied, mets = analyze_helper.load_clean_results(results_dir)\n",
    "data = joblib.load('results.pkl')\n",
    "r, cols_varied, mets = data['r'], data['cols_varied'], data['mets']"
   ]
  },
  {
   "cell_type": "code",
   "execution_count": null,
   "metadata": {},
   "outputs": [],
   "source": [
    "for subject in ['UTS01', 'UTS02', 'UTS03']:\n",
    "    story_names = get_story_names(\n",
    "        subject, train_or_test=\"train\", use_huge=True)\n",
    "    resps = load_response_huge(story_names, subject=subject)\n",
    "    # resps = joblib.load(join(config.root_dir, 'data',\n",
    "    #  'huge_data', f'{subject}_responses  .jbl'))\n",
    "    # return np.vstack([resps[story] for story in stories])\n",
    "    chunks = []\n",
    "    n = 1\n",
    "    for i in np.arange(0, resps.shape[0], n):\n",
    "        chunk = resps[i:i + n].mean(axis=0)\n",
    "        chunks.append(chunk)\n",
    "        if len(chunks) >= 2000:\n",
    "            break\n",
    "    joblib.dump(chunks, join(PROCESSED_DIR, subject.replace(\n",
    "        'UT', ''), f'resp_chunks_{n}trs.pkl'))"
   ]
  }
 ],
 "metadata": {
  "kernelspec": {
   "display_name": ".env",
   "language": "python",
   "name": "python3"
  },
  "language_info": {
   "codemirror_mode": {
    "name": "ipython",
    "version": 3
   },
   "file_extension": ".py",
   "mimetype": "text/x-python",
   "name": "python",
   "nbconvert_exporter": "python",
   "pygments_lexer": "ipython3",
   "version": "3.11.10"
  },
  "orig_nbformat": 4
 },
 "nbformat": 4,
 "nbformat_minor": 2
}
