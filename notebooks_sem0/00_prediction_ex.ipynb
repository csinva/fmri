{
 "cells": [
  {
   "cell_type": "code",
   "execution_count": null,
   "metadata": {},
   "outputs": [
    {
     "name": "stdout",
     "output_type": "stream",
     "text": [
      "The autoreload extension is already loaded. To reload it, use:\n",
      "  %reload_ext autoreload\n"
     ]
    }
   ],
   "source": [
    "%load_ext autoreload\n",
    "%autoreload 2\n",
    "import sys\n",
    "sys.path.append('..')\n",
    "import dvu\n",
    "import seaborn as sns\n",
    "import os\n",
    "import pandas as pd\n",
    "from copy import deepcopy\n",
    "from matplotlib import pyplot as plt\n",
    "from os.path import join\n",
    "import numpy as np\n",
    "import neuro.features.feature_utils\n",
    "import joblib\n",
    "import neuro.data.story_names\n",
    "import neuro.data.response_utils\n",
    "from tqdm import tqdm\n",
    "import neuro.features.feature_spaces\n",
    "from himalaya.ridge import RidgeCV"
   ]
  },
  {
   "cell_type": "markdown",
   "metadata": {},
   "source": [
    "### set up basic regression problem"
   ]
  },
  {
   "cell_type": "code",
   "execution_count": 56,
   "metadata": {},
   "outputs": [],
   "source": [
    "subject = 'UTS03'\n",
    "n_train_stories = 30\n",
    "n_voxels = 100\n",
    "n_feats = 1000"
   ]
  },
  {
   "cell_type": "code",
   "execution_count": null,
   "metadata": {},
   "outputs": [],
   "source": [
    "story_names_train = neuro.data.story_names.get_story_names(\n",
    "    subject=subject, train_or_test='train')[:n_train_stories]\n",
    "story_names_test = neuro.data.story_names.get_story_names(\n",
    "    subject=subject, train_or_test='test')\n",
    "resps_train = neuro.data.response_utils.load_response(\n",
    "    story_names_train, subject=subject)\n",
    "resps_test = neuro.data.response_utils.load_response(\n",
    "    story_names_test, subject=subject)"
   ]
  },
  {
   "cell_type": "code",
   "execution_count": null,
   "metadata": {},
   "outputs": [
    {
     "name": "stdout",
     "output_type": "stream",
     "text": [
      "feat shapes (864, 985) (639, 985)\n",
      "resp shapes (864, 95556) (639, 95556)\n"
     ]
    }
   ],
   "source": [
    "class A:\n",
    "    feature_space = 'eng1000'\n",
    "\n",
    "\n",
    "args = A()\n",
    "feats_train = neuro.features.feature_utils.get_features_full(\n",
    "    args=args,\n",
    "    feature_space=args.feature_space,\n",
    "    qa_embedding_model=None,\n",
    "    story_names=story_names_train,\n",
    "    use_added_delays=False,\n",
    ")\n",
    "feats_test = neuro.features.feature_utils.get_features_full(\n",
    "    args=args,\n",
    "    feature_space=args.feature_space,\n",
    "    qa_embedding_model=None,\n",
    "    story_names=story_names_test,\n",
    "    use_added_delays=False,\n",
    ")\n",
    "\n",
    "print('feat shapes', feats_train.shape, feats_test.shape)\n",
    "print('resp shapes', resps_train.shape, resps_test.shape)"
   ]
  },
  {
   "cell_type": "code",
   "execution_count": null,
   "metadata": {},
   "outputs": [],
   "source": [
    "# subsample output voxels and feature inputs\n",
    "rng = np.random.default_rng(0)\n",
    "random_voxels = rng.choice(\n",
    "    np.arange(resps_train.shape[1]), size=100, replace=False\n",
    ")\n",
    "resps_train_subsampled_voxels = resps_train[:, random_voxels]\n",
    "resps_test_subsampled_voxels = resps_test[:, random_voxels]\n",
    "\n",
    "feats_train_subsampled = feats_train[:, :n_feats]\n",
    "feats_test_subsampled = feats_test[:, :n_feats]"
   ]
  },
  {
   "cell_type": "code",
   "execution_count": null,
   "metadata": {},
   "outputs": [
    {
     "name": "stderr",
     "output_type": "stream",
     "text": [
      "/home/chansingh/.env/lib/python3.11/site-packages/himalaya/ridge/_random_search.py:491: UserWarning: Solving ridge is slower than solving kernel ridge when n_samples < n_features (here 864 < 985). Using a linear kernel in himalaya.kernel_ridge.KernelRidgeCV or himalaya.kernel_ridge.solve_kernel_ridge_cv_eigenvalues would be faster. Use warn=False to silence this warning.\n",
      "  warnings.warn(\n"
     ]
    },
    {
     "name": "stdout",
     "output_type": "stream",
     "text": [
      "train 0.7258420510695542\n",
      "test 0.009865030391749975\n"
     ]
    }
   ],
   "source": [
    "model = RidgeCV(alphas=[1, 10, 100])\n",
    "model.fit(feats_train_subsampled, resps_train_subsampled_voxels)\n",
    "preds_train = model.predict(feats_train_subsampled)\n",
    "preds_test = model.predict(feats_test_subsampled)\n",
    "\n",
    "\n",
    "def get_mean_corr(preds, resps):\n",
    "    return np.mean([np.corrcoef(preds[:, i], resps[:, i])[0, 1] for i in range(preds.shape[1])])\n",
    "\n",
    "\n",
    "print('train', get_mean_corr(preds_train, resps_train_subsampled_voxels))\n",
    "print('test', get_mean_corr(preds_test, resps_test_subsampled_voxels))"
   ]
  },
  {
   "cell_type": "code",
   "execution_count": null,
   "metadata": {},
   "outputs": [],
   "source": []
  }
 ],
 "metadata": {
  "kernelspec": {
   "display_name": ".env",
   "language": "python",
   "name": "python3"
  },
  "language_info": {
   "codemirror_mode": {
    "name": "ipython",
    "version": 3
   },
   "file_extension": ".py",
   "mimetype": "text/x-python",
   "name": "python",
   "nbconvert_exporter": "python",
   "pygments_lexer": "ipython3",
   "version": "3.11.11"
  },
  "orig_nbformat": 4
 },
 "nbformat": 4,
 "nbformat_minor": 2
}
