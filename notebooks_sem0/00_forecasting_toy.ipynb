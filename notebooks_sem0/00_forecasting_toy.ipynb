{
 "cells": [
  {
   "cell_type": "code",
   "execution_count": 1,
   "metadata": {},
   "outputs": [],
   "source": [
    "%load_ext autoreload\n",
    "%autoreload 2\n",
    "import sys\n",
    "sys.path.append('..')\n",
    "import dvu\n",
    "import seaborn as sns\n",
    "import os\n",
    "import pandas as pd\n",
    "from copy import deepcopy\n",
    "from matplotlib import pyplot as plt\n",
    "from os.path import join\n",
    "import numpy as np\n",
    "import neuro.features.feature_utils\n",
    "import joblib\n",
    "import neuro.data.story_names\n",
    "import neuro.data.response_utils\n",
    "from tqdm import tqdm\n",
    "import neuro.features.feature_spaces\n",
    "from himalaya.ridge import RidgeCV\n",
    "from utils import generate_leave_one_run_out\n",
    "from sklearn.model_selection import check_cv\n",
    "from himalaya.backend import set_backend\n",
    "import neuro.config\n",
    "from tabpfn import TabPFNRegressor\n",
    "from collections import defaultdict"
   ]
  },
  {
   "cell_type": "code",
   "execution_count": null,
   "metadata": {},
   "outputs": [],
   "source": [
    "X = np.arange(100).reshape(-1, 1)"
   ]
  },
  {
   "cell_type": "code",
   "execution_count": null,
   "metadata": {},
   "outputs": [],
   "source": [
    "def get_time_cols(n):\n",
    "\n",
    "    t = np.arange(n) / n\n",
    "    vals = [t]\n",
    "    for period in np.logspace(0, 3, 5):\n",
    "        vals.append(np.sin(t * period * 2 * np.pi))\n",
    "        vals.append(np.cos(t * period * 2 * np.pi))\n",
    "    return np.stack(vals, axis=1)\n",
    "\n",
    "\n",
    "time_cols = get_time_cols(\n",
    "    feats_train_subsampled.shape[0] + feats_test_subsampled.shape[0])\n",
    "feats_train_subsampled_with_time = np.concatenate(\n",
    "    [feats_train_subsampled, time_cols[:feats_train_subsampled.shape[0]]], axis=1)\n",
    "feats_test_subsampled_with_time = np.concatenate(\n",
    "    [feats_test_subsampled, time_cols[feats_train_subsampled.shape[0]:]], axis=1)"
   ]
  },
  {
   "cell_type": "code",
   "execution_count": null,
   "metadata": {},
   "outputs": [],
   "source": [
    "for i in tqdm(range(preds_train.shape[1])):\n",
    "    model = TabPFNRegressor(device='cuda:1')\n",
    "    model.fit(feats_train_subsampled, preds_train[:, i])\n",
    "    preds_test = model.predict(feats_test_subsampled)\n",
    "    r['corrs_test_tabpfn'].append(np.corrcoef(\n",
    "        preds_test, resps_test_subsampled_voxels[:, i])[0, 1])\n",
    "\n",
    "    # redo with time feats\n",
    "    model = TabPFNRegressor(device='cuda:1')\n",
    "    model.fit(feats_train_subsampled_with_time, preds_train[:, i])\n",
    "    preds_test = model.predict(feats_test_subsampled_with_time)\n",
    "    r['corrs_test_tabpfn_time'].append(np.corrcoef(\n",
    "        preds_test, resps_test_subsampled_voxels[:, i])[0, 1])\n",
    "\n",
    "    print(\n",
    "        f'voxel {i} test {r[\"corrs_test_ridge\"][i]:.3f} -> {r[\"corrs_test_tabpfn\"][-1]:.3f} -> {r[\"corrs_test_tabpfn_time\"][-1]:.3f}')\n",
    "    print(\n",
    "        '\\tavg cum. improvement',\n",
    "        np.mean(r['corrs_test_tabpfn'] -\n",
    "                np.mean(r['corrs_test_ridge'][:len(r['corrs_test_tabpfn'])])),\n",
    "        np.mean(r['corrs_test_tabpfn_time'] -\n",
    "                np.mean(r['corrs_test_ridge'][:len(r['corrs_test_tabpfn_time'])]))\n",
    "    )"
   ]
  }
 ],
 "metadata": {
  "kernelspec": {
   "display_name": ".env",
   "language": "python",
   "name": "python3"
  },
  "language_info": {
   "codemirror_mode": {
    "name": "ipython",
    "version": 3
   },
   "file_extension": ".py",
   "mimetype": "text/x-python",
   "name": "python",
   "nbconvert_exporter": "python",
   "pygments_lexer": "ipython3",
   "version": "3.11.11"
  },
  "orig_nbformat": 4
 },
 "nbformat": 4,
 "nbformat_minor": 2
}
