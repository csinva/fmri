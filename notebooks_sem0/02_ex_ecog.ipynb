{
 "cells": [
  {
   "cell_type": "code",
   "execution_count": null,
   "metadata": {},
   "outputs": [],
   "source": [
    "%load_ext autoreload\n",
    "%autoreload 2\n",
    "import sys\n",
    "sys.path.append('..')\n",
    "import dvu\n",
    "import seaborn as sns\n",
    "import os\n",
    "import pandas as pd\n",
    "from copy import deepcopy\n",
    "from matplotlib import pyplot as plt\n",
    "from os.path import join\n",
    "import numpy as np\n",
    "import neuro.features.feature_utils\n",
    "import joblib\n",
    "import neuro.data.story_names\n",
    "import neuro.data.response_utils\n",
    "from tqdm import tqdm\n",
    "import neuro.features.feature_spaces\n",
    "from himalaya.ridge import RidgeCV\n",
    "from utils import generate_leave_one_run_out\n",
    "from sklearn.model_selection import check_cv\n",
    "from himalaya.backend import set_backend\n",
    "import neuro.config\n",
    "from tabpfn import TabPFNRegressor\n",
    "from collections import defaultdict"
   ]
  },
  {
   "cell_type": "code",
   "execution_count": null,
   "metadata": {},
   "outputs": [],
   "source": [
    "file_path = BIDSPath(root=\"derivatives/ecogprep\",\n",
    "                     subject=\"02\",\n",
    "                     task=\"podcast\",\n",
    "                     datatype=\"ieeg\",\n",
    "                     description=\"highgamma\",\n",
    "                     suffix=\"ieeg\",\n",
    "                     extension=\"fif\")\n",
    "print(f\"File path within the dataset: {file_path}\")"
   ]
  },
  {
   "cell_type": "code",
   "execution_count": null,
   "metadata": {},
   "outputs": [],
   "source": []
  }
 ],
 "metadata": {
  "kernelspec": {
   "display_name": ".env",
   "language": "python",
   "name": "python3"
  },
  "language_info": {
   "codemirror_mode": {
    "name": "ipython",
    "version": 3
   },
   "file_extension": ".py",
   "mimetype": "text/x-python",
   "name": "python",
   "nbconvert_exporter": "python",
   "pygments_lexer": "ipython3",
   "version": "3.11.11"
  },
  "orig_nbformat": 4
 },
 "nbformat": 4,
 "nbformat_minor": 2
}
