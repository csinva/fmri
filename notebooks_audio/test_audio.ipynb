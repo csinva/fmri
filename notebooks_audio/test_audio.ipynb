{
 "cells": [
  {
   "cell_type": "code",
   "execution_count": null,
   "metadata": {},
   "outputs": [],
   "source": [
    "%load_ext autoreload\n",
    "%autoreload 2\n",
    "\n",
    "import base64\n",
    "from imodelsx.llm import LLM_Chat_Audio\n",
    "import os.path"
   ]
  },
  {
   "cell_type": "code",
   "execution_count": 2,
   "metadata": {},
   "outputs": [],
   "source": [
    "question = 'Does the recording have a rising pitch contour?'\n",
    "question = 'Is the recording spoken clearly without mumbling?'\n",
    "\n",
    "# read in audio file\n",
    "wav_file = \"fklc1_si2308.wav\"\n",
    "with open(wav_file, \"rb\") as wav_file:\n",
    "    wav_data = wav_file.read()\n",
    "encoded_string = base64.b64encode(wav_data).decode('utf-8')"
   ]
  },
  {
   "cell_type": "code",
   "execution_count": 4,
   "metadata": {},
   "outputs": [],
   "source": [
    "lm = LLM_Chat_Audio(checkpoint=\"gpt-4o-audio-preview\",\n",
    "                    CACHE_DIR=os.path.expanduser('~/.cache_audio'))"
   ]
  },
  {
   "cell_type": "code",
   "execution_count": 7,
   "metadata": {},
   "outputs": [
    {
     "name": "stdout",
     "output_type": "stream",
     "text": [
      "not cached\n"
     ]
    },
    {
     "data": {
      "text/plain": [
       "'No, the recording is not spoken clearly. The speaker mumbles, making it difficult to understand the words.'"
      ]
     },
     "execution_count": 7,
     "metadata": {},
     "output_type": "execute_result"
    }
   ],
   "source": [
    "lm(\n",
    "    prompt_str=f\"{question} Answer yes or no then give an explanation\",\n",
    "    audio_str=encoded_string,\n",
    ")"
   ]
  }
 ],
 "metadata": {
  "kernelspec": {
   "display_name": ".env",
   "language": "python",
   "name": "python3"
  },
  "language_info": {
   "codemirror_mode": {
    "name": "ipython",
    "version": 3
   },
   "file_extension": ".py",
   "mimetype": "text/x-python",
   "name": "python",
   "nbconvert_exporter": "python",
   "pygments_lexer": "ipython3",
   "version": "3.11.11"
  }
 },
 "nbformat": 4,
 "nbformat_minor": 2
}
