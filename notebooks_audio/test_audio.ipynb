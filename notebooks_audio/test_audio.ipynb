{
 "cells": [
  {
   "cell_type": "code",
   "execution_count": null,
   "metadata": {},
   "outputs": [],
   "source": [
    "%load_ext autoreload\n",
    "%autoreload 2\n",
    "\n",
    "import base64\n",
    "from imodelsx.llm import LLM_Chat_Audio\n",
    "import os.path\n",
    "from os.path import join\n",
    "from collections import defaultdict\n",
    "import pandas as pd"
   ]
  },
  {
   "cell_type": "code",
   "execution_count": null,
   "metadata": {},
   "outputs": [
    {
     "name": "stdout",
     "output_type": "stream",
     "text": [
      "defaultdict(<class 'list'>, {'What is the text in the recording?': ['Yes, the text in the recording is \"May I get some more cookies?\" This is a request for additional cookies.', 'No, I cannot directly identify or confirm the presence of specific text in a recording. However, I can provide summaries, discuss possible interpretations, or answer questions about the content based on text you provide.', 'Yes, the text in the recording is \"Broil or toast as usual.\" This is determined by listening to the content and understanding the words spoken.', \"No, I cannot provide text from a recording. If you'd like, you can describe the context or content, and I can help with information or discussion based on that.\", 'Yes, the text in the recording is \"I\\'m sorry, but I shall have to search his house.\" I identified it by listening to the content of the recording and then transcribing what was said.'], 'Does the recording have a rising pitch contour?': [\"Yes, the recording has a rising pitch contour. The speaker's pitch rises towards the end of the sentence, which is typical in questions, indicating a request or seeking confirmation.\", \"Yes, the recording has a rising pitch contour. The speaker's intonation rises towards the end, which typically indicates a rising pitch.\", 'No, the recording does not have a rising pitch contour. The pitch remains relatively flat throughout the sentence, rather than rising at the end, which is typical of a yes-no question in English.', 'No, the recording does not have a rising pitch contour. The statement \"Soon, said the half-man\" has a relatively flat pitch contour, indicating a statement rather than a question which would typically have a rising pitch contour.', 'No, the recording does not have a rising pitch contour. The pitch remains fairly level, indicating a statement rather than a question or emphasis.'], 'Is the recording spoken clearly without mumbling?': ['No, the recording is not spoken clearly. The speaker mumbles, making it difficult to understand the words.', 'Yes, the recording is spoken clearly without mumbling. The words are articulated distinctly, making it easy to understand the speaker.', 'Yes, the recording is spoken clearly without mumbling. The words are enunciated properly, making it easy to understand the content.', 'Yes, the recording is spoken clearly without mumbling. The words are enunciated in a way that makes them easy to understand.', \"Yes, the recording is spoken clearly without mumbling. The words are enunciated distinctly, making it easy to understand the speaker's message.\"], 'Does the speaker’s voice sound breathy?': [\"No, the speaker's voice does not sound breathy. A breathy voice would typically have a soft, airy quality with more audible exhalation, while this voice sounds more clear and direct.\", \"No, the speaker's voice does not sound breathy. It has a clear and direct quality without the breathiness that typically comes from a soft, airy tone. The delivery is more firm and grounded.\", \"I'm unable to determine whether the speaker's voice sounds breathy or not based on this information.\", \"I'm sorry, but I can't determine if a voice sounds breathy based solely on the text provided.\", \"Yes, the speaker's voice sounds breathy. This is characterized by a soft, airy quality in the voice, often due to a higher flow of air or less closure in the vocal cords while speaking.\"], 'Does the speaker have a happy tone?': ['No, the speaker does not have a happy tone. The request for more cookies is posed in a straightforward manner, without any evident enthusiasm or joy in the tone.', 'No, the speaker does not have a happy tone. The phrase \"sank lower to the rock\" suggests a negative or somber situation, indicating that the mood is more likely to be serious or sad rather than happy.', 'No, the tone does not appear to be happy. The statement about \"broil or toast\" is delivered in a neutral manner, lacking emotional expression or any accompanying indicators of happiness.', 'No, the speaker does not have a happy tone. The word choice and context suggest a more neutral or matter-of-fact expression, rather than exhibiting emotions associated with happiness.']})\n",
      "not cached\n",
      "defaultdict(<class 'list'>, {'What is the text in the recording?': ['Yes, the text in the recording is \"May I get some more cookies?\" This is a request for additional cookies.', 'No, I cannot directly identify or confirm the presence of specific text in a recording. However, I can provide summaries, discuss possible interpretations, or answer questions about the content based on text you provide.', 'Yes, the text in the recording is \"Broil or toast as usual.\" This is determined by listening to the content and understanding the words spoken.', \"No, I cannot provide text from a recording. If you'd like, you can describe the context or content, and I can help with information or discussion based on that.\", 'Yes, the text in the recording is \"I\\'m sorry, but I shall have to search his house.\" I identified it by listening to the content of the recording and then transcribing what was said.'], 'Does the recording have a rising pitch contour?': [\"Yes, the recording has a rising pitch contour. The speaker's pitch rises towards the end of the sentence, which is typical in questions, indicating a request or seeking confirmation.\", \"Yes, the recording has a rising pitch contour. The speaker's intonation rises towards the end, which typically indicates a rising pitch.\", 'No, the recording does not have a rising pitch contour. The pitch remains relatively flat throughout the sentence, rather than rising at the end, which is typical of a yes-no question in English.', 'No, the recording does not have a rising pitch contour. The statement \"Soon, said the half-man\" has a relatively flat pitch contour, indicating a statement rather than a question which would typically have a rising pitch contour.', 'No, the recording does not have a rising pitch contour. The pitch remains fairly level, indicating a statement rather than a question or emphasis.'], 'Is the recording spoken clearly without mumbling?': ['No, the recording is not spoken clearly. The speaker mumbles, making it difficult to understand the words.', 'Yes, the recording is spoken clearly without mumbling. The words are articulated distinctly, making it easy to understand the speaker.', 'Yes, the recording is spoken clearly without mumbling. The words are enunciated properly, making it easy to understand the content.', 'Yes, the recording is spoken clearly without mumbling. The words are enunciated in a way that makes them easy to understand.', \"Yes, the recording is spoken clearly without mumbling. The words are enunciated distinctly, making it easy to understand the speaker's message.\"], 'Does the speaker’s voice sound breathy?': [\"No, the speaker's voice does not sound breathy. A breathy voice would typically have a soft, airy quality with more audible exhalation, while this voice sounds more clear and direct.\", \"No, the speaker's voice does not sound breathy. It has a clear and direct quality without the breathiness that typically comes from a soft, airy tone. The delivery is more firm and grounded.\", \"I'm unable to determine whether the speaker's voice sounds breathy or not based on this information.\", \"I'm sorry, but I can't determine if a voice sounds breathy based solely on the text provided.\", \"Yes, the speaker's voice sounds breathy. This is characterized by a soft, airy quality in the voice, often due to a higher flow of air or less closure in the vocal cords while speaking.\"], 'Does the speaker have a happy tone?': ['No, the speaker does not have a happy tone. The request for more cookies is posed in a straightforward manner, without any evident enthusiasm or joy in the tone.', 'No, the speaker does not have a happy tone. The phrase \"sank lower to the rock\" suggests a negative or somber situation, indicating that the mood is more likely to be serious or sad rather than happy.', 'No, the tone does not appear to be happy. The statement about \"broil or toast\" is delivered in a neutral manner, lacking emotional expression or any accompanying indicators of happiness.', 'No, the speaker does not have a happy tone. The word choice and context suggest a more neutral or matter-of-fact expression, rather than exhibiting emotions associated with happiness.', 'No, the speaker does not have a happy tone. The phrase \"I\\'m sorry, but I shall have to search his house\" suggests a tone of reluctance or necessity, rather than happiness.']})\n"
     ]
    }
   ],
   "source": [
    "questions = [\n",
    "    'What is the text in the recording?',\n",
    "    'Does the recording have a rising pitch contour?',\n",
    "    'Is the recording spoken clearly without mumbling?',\n",
    "    # 'Is there an echo present in the audio?',\n",
    "    'Does the speaker’s voice sound breathy?',\n",
    "    'Does the speaker have a happy tone?',\n",
    "    # 'Does the the speaker sound relaxed?',\n",
    "]\n",
    "\n",
    "wav_files = [join('samples', f)\n",
    "             for f in os.listdir('samples') if f.endswith('.wav')]\n",
    "lm = LLM_Chat_Audio(\n",
    "    # checkpoint=\"gpt-4o-audio-preview\",\n",
    "    checkpoint=\"gpt-4o-mini-audio-preview\",\n",
    "    CACHE_DIR=os.path.expanduser('~/.cache_audio'))\n",
    "\n",
    "\n",
    "d = defaultdict(list)\n",
    "for wav_file in wav_files:\n",
    "    with open(wav_file, \"rb\") as wav_file:\n",
    "        wav_data = wav_file.read()\n",
    "    encoded_string = base64.b64encode(wav_data).decode('utf-8')\n",
    "\n",
    "    for question in questions:\n",
    "        d[question].append(\n",
    "            lm(\n",
    "                prompt_str=f\"{question} Answer yes or no then give an explanation\",\n",
    "                audio_str=encoded_string,\n",
    "            )\n",
    "        )\n",
    "        print(d)\n",
    "pd.DataFrame(d, index=wav_files).T.to_csv('annots.csv')"
   ]
  }
 ],
 "metadata": {
  "kernelspec": {
   "display_name": ".env",
   "language": "python",
   "name": "python3"
  },
  "language_info": {
   "codemirror_mode": {
    "name": "ipython",
    "version": 3
   },
   "file_extension": ".py",
   "mimetype": "text/x-python",
   "name": "python",
   "nbconvert_exporter": "python",
   "pygments_lexer": "ipython3",
   "version": "3.11.11"
  }
 },
 "nbformat": 4,
 "nbformat_minor": 2
}
