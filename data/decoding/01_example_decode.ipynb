{
 "cells": [
  {
   "cell_type": "code",
   "execution_count": null,
   "metadata": {},
   "outputs": [],
   "source": [
    "%load_ext autoreload\n",
    "%autoreload 2\n",
    "from ridge_utils.DataSequence import DataSequence\n",
    "import pandas as pd\n",
    "import matplotlib.pyplot as plt\n",
    "from os.path import dirname\n",
    "import os\n",
    "from tqdm import tqdm\n",
    "from neuro.features import qa_questions, feature_spaces\n",
    "from neuro.data import story_names, response_utils\n",
    "from neuro.features.stim_utils import load_story_wordseqs, load_story_wordseqs_huge\n",
    "import neuro.config\n",
    "import seaborn as sns\n",
    "import numpy as np\n",
    "import joblib\n",
    "from collections import defaultdict\n",
    "from os.path import join"
   ]
  },
  {
   "cell_type": "code",
   "execution_count": null,
   "metadata": {},
   "outputs": [],
   "source": [
    "def get_fmri_and_labs(story_name='onapproachtopluto', train_or_test='test', subject='uts03'):\n",
    "    '''\n",
    "    Returns\n",
    "    -------\n",
    "    df : pd.DataFrame\n",
    "        The fMRI features, with columns corresponding to the principal components\n",
    "        of the fMRI data.\n",
    "    labs : pd.DataFrame\n",
    "        Binary labeled annotations for each of the texts\n",
    "    texts: \n",
    "        The texts corresponding to the rows of df\n",
    "    '''\n",
    "    df = joblib.load(f'{subject}/{train_or_test}/{story_name}.pkl')\n",
    "    dfs = []\n",
    "    for offset in [1, 2, 3, 4]:\n",
    "        df_offset = df.shift(-offset)\n",
    "        df_offset.columns = [col + f'_{offset}' for col in df.columns]\n",
    "        dfs.append(df_offset)\n",
    "    df = pd.concat(dfs, axis=1)  # .dropna()  # would want to dropna here\n",
    "\n",
    "    # load labels\n",
    "    labs = joblib.load(f'labels/{train_or_test}/{story_name}_labels.pkl')\n",
    "\n",
    "    # drop rows with nans\n",
    "    idxs_na = df.isna().sum(axis=1).values > 0\n",
    "    df = df[~idxs_na]\n",
    "    labs = labs[~idxs_na]\n",
    "    texts = pd.Series(df.index)\n",
    "    return df, labs, texts"
   ]
  },
  {
   "cell_type": "code",
   "execution_count": null,
   "metadata": {},
   "outputs": [],
   "source": [
    "# load a single story\n",
    "from imblearn.under_sampling import RandomUnderSampler\n",
    "from sklearn.linear_model import LogisticRegressionCV\n",
    "df, labs, texts = get_fmri_and_labs()\n",
    "\n",
    "# load all the data for a single subject\n",
    "subject = 'uts02'\n",
    "data = defaultdict(list)\n",
    "for train_or_test in ['test', 'train']:\n",
    "    story_names_list = os.listdir(f'{subject}/{train_or_test}')\n",
    "    for story_name in story_names_list:\n",
    "        df, labs, texts = get_fmri_and_labs(\n",
    "            story_name.replace('.pkl', ''), train_or_test, subject)\n",
    "        data['df_' + train_or_test].append(df)\n",
    "        data['labs_' + train_or_test].append(labs)\n",
    "        data['texts_' + train_or_test].append(texts)\n",
    "for k in data:\n",
    "    data[k] = pd.concat(data[k], axis=0)\n",
    "\n",
    "# example fit linear decoder\n",
    "r = defaultdict(list)\n",
    "for label_num in tqdm(range(data['labs_train'].shape[1])):\n",
    "    X_train, y_train = data['df_train'].values, data['labs_train'].values[:, label_num]\n",
    "    X_test, y_test = data['df_test'].values, data['labs_test'].values[:, label_num]\n",
    "\n",
    "    # balance the binary class imbalance\n",
    "    try:\n",
    "        rus = RandomUnderSampler(random_state=42)\n",
    "        X_train, y_train = rus.fit_resample(X_train, y_train)\n",
    "        X_test, y_test = rus.fit_resample(X_test, y_test)\n",
    "\n",
    "        if len(y_test) < 30:\n",
    "            print('too few positive labels', label_num)\n",
    "            continue\n",
    "\n",
    "        print('label', label_num,\n",
    "              data['labs_train'].columns[label_num], X_train.shape, X_test.shape)\n",
    "        m = LogisticRegressionCV(random_state=42)\n",
    "        m.fit(X_train, y_train)\n",
    "        print(\n",
    "            f\"\"\"\\ttest acc {m.score(X_test, y_test):.3f}\\n\\tnaive acc {1 -y_test.mean():.3f}\"\"\")\n",
    "        r['label'].append(data['labs_train'].columns[label_num])\n",
    "        r['test_acc'].append(m.score(X_test, y_test))\n",
    "        r['num_test'].append(len(y_test))\n",
    "        r['coef'].append(m.coef_.copy())\n",
    "    except:\n",
    "        print('error for', label_num)\n",
    "        continue"
   ]
  },
  {
   "cell_type": "code",
   "execution_count": null,
   "metadata": {},
   "outputs": [],
   "source": [
    "r_df = pd.DataFrame(r).sort_values('test_acc', ascending=False).reset_index()\n",
    "plt.figure(figsize=(15, 13))\n",
    "# sns.barplot(x='test_acc', y='label', data=r_df)\n",
    "# plot accuracy with binomial error bars\n",
    "plt.errorbar(\n",
    "    r_df['test_acc'],\n",
    "    range(len(r_df)),\n",
    "    xerr=(r_df['test_acc']*(1-r_df['test_acc'])/np.sqrt(r_df['num_test'])),\n",
    "    fmt='o')\n",
    "# add horizontal bars\n",
    "plt.axvline(0.5, color='red', linestyle='--')\n",
    "plt.yticks(range(len(r_df)), r_df['label'])\n",
    "plt.xlabel('Test accuracy when decoding with linear model (after balancing train/test set with undersampling)')\n",
    "plt.grid()\n",
    "\n",
    "# annotate with baseline and text label\n",
    "plt.axvline(0.5, color='red', linestyle='--')\n",
    "plt.text(0.5, 0, 'chance', color='red', fontsize=12, ha='right')\n",
    "\n",
    "# annotate with mean and text label\n",
    "plt.axvline(r_df['test_acc'].mean(), color='C0', linestyle='--')\n",
    "plt.text(r_df['test_acc'].mean(), 0, 'mean', color='C0',\n",
    "         fontsize=12, ha='right')\n",
    "plt.tight_layout()\n",
    "plt.savefig('linear_decoding.png', dpi=300)\n",
    "\n",
    "print('mean acc', r_df['test_acc'].mean())"
   ]
  },
  {
   "cell_type": "markdown",
   "metadata": {},
   "source": [
    "# Visualize learned coefs on cortex map"
   ]
  },
  {
   "cell_type": "code",
   "execution_count": null,
   "metadata": {},
   "outputs": [],
   "source": [
    "subject = 'uts03'"
   ]
  },
  {
   "cell_type": "code",
   "execution_count": null,
   "metadata": {},
   "outputs": [],
   "source": [
    "pca_comps = joblib.load(f'{subject}/pca_components.pkl')\n",
    "# vertically stack pca_comps 4 times\n",
    "pca_comps = np.vstack([pca_comps]*4)"
   ]
  },
  {
   "cell_type": "code",
   "execution_count": null,
   "metadata": {},
   "outputs": [],
   "source": [
    "def quickshow(X: np.ndarray, subject=\"UTS03\", fname_save=None, title=None):\n",
    "    import cortex\n",
    "\n",
    "    \"\"\"\n",
    "    Actual visualizations\n",
    "    Note: for this to work, need to point the cortex config filestore to the `ds003020/derivative/pycortex-db` directory.\n",
    "    This might look something like `/home/chansingh/mntv1/deep-fMRI/data/ds003020/derivative/pycortex-db/UTS03/anatomicals/`\n",
    "    \"\"\"\n",
    "    vol = cortex.Volume(X, subject, xfmname=f\"{subject}_auto\")\n",
    "    # , with_curvature=True, with_sulci=True)\n",
    "    vabs = max(abs(vol.data.min()), abs(vol.data.max()))\n",
    "    vol.vmin = -vabs\n",
    "    vol.vmax = vabs\n",
    "    # fig = plt.figure()\n",
    "    # , vmin=-vabs, vmax=vabs)\n",
    "    cortex.quickshow(vol, with_rois=True, cmap=\"PuBu\")\n",
    "    # fig = plt.gcf()\n",
    "    # add title\n",
    "    # fig.axes[0].set_title(title, fontsize='xx-small')\n",
    "    if fname_save is not None:\n",
    "        plt.savefig(fname_save)\n",
    "        # plt.savefig(fname_save.replace(\".pdf\", \".png\"))\n",
    "        plt.close()"
   ]
  },
  {
   "cell_type": "code",
   "execution_count": null,
   "metadata": {},
   "outputs": [],
   "source": [
    "for i in range(len(r_df)):\n",
    "    pc_coef = r_df.iloc[i]['coef']\n",
    "    voxel_coefs = (pc_coef @ pca_comps).squeeze()\n",
    "    quickshow(voxel_coefs, fname_save=join(\n",
    "        'flatmaps_decoding', f'{r_df.iloc[i][\"label\"]}.pdf'))"
   ]
  },
  {
   "cell_type": "code",
   "execution_count": null,
   "metadata": {},
   "outputs": [],
   "source": []
  }
 ],
 "metadata": {
  "kernelspec": {
   "display_name": "Python 3.8.10 ('.embgam')",
   "language": "python",
   "name": "python3"
  },
  "language_info": {
   "codemirror_mode": {
    "name": "ipython",
    "version": 3
   },
   "file_extension": ".py",
   "mimetype": "text/x-python",
   "name": "python",
   "nbconvert_exporter": "python",
   "pygments_lexer": "ipython3",
   "version": "3.11.9"
  },
  "orig_nbformat": 4,
  "vscode": {
   "interpreter": {
    "hash": "559535f78d940c882783b39501b2581b5193373045707e5f8a51d046029cfd38"
   }
  }
 },
 "nbformat": 4,
 "nbformat_minor": 2
}
