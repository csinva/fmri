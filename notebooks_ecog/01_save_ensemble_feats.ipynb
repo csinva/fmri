{
 "cells": [
  {
   "cell_type": "code",
   "execution_count": null,
   "metadata": {},
   "outputs": [],
   "source": [
    "%load_ext autoreload\n",
    "%autoreload 2\n",
    "import os\n",
    "import matplotlib.pyplot as plt\n",
    "from os.path import join\n",
    "from tqdm import tqdm\n",
    "import pandas as pd\n",
    "from os.path import expanduser\n",
    "import sys\n",
    "from typing import List\n",
    "import numpy as np\n",
    "import joblib\n",
    "from pprint import pprint\n",
    "import imodelsx.util\n",
    "from os.path import dirname\n",
    "import pickle as pkl\n",
    "import json\n",
    "from copy import deepcopy\n",
    "from numpy.linalg import norm\n",
    "from math import ceil\n",
    "# from imodelsx.qaemb.qaemb import QAEmb, get_sample_questions_and_examples\n",
    "from neuro.ecog.config import STORIES_POPULAR, STORIES_UNPOPULAR, ECOG_DIR"
   ]
  },
  {
   "cell_type": "markdown",
   "metadata": {},
   "source": [
    "### Save ensemble features"
   ]
  },
  {
   "cell_type": "code",
   "execution_count": null,
   "metadata": {},
   "outputs": [],
   "source": [
    "# suffix_qs = ''\n",
    "suffix_qs = '___qs_35_stable'\n",
    "\n",
    "# save ensemble feats\n",
    "settings = ['words', 'sec_1.5', 'sec_3', 'sec_6']\n",
    "# settings = ['sec_1.5', 'sec_6']\n",
    "# settings = ['words', 'sec_3']\n",
    "# out_checkpoint = 'ensemble1'\n",
    "ensemble1 = [\n",
    "    'mistralai/Mistral-7B-Instruct-v0.2',\n",
    "    'meta-llama/Meta-Llama-3-8B-Instruct',\n",
    "    'google/gemma-7b-it',\n",
    "]\n",
    "\n",
    "for setting in settings:\n",
    "    print(setting)\n",
    "    output_dir_ensemble = join(\n",
    "        ECOG_DIR, f'features{suffix_qs}', out_checkpoint, setting)\n",
    "    os.makedirs(output_dir_ensemble, exist_ok=True)\n",
    "\n",
    "    # read in ensemble feats\n",
    "    ensemble_checkpoint_story_dict = {}\n",
    "    for checkpoint in tqdm(ensemble1):\n",
    "        checkpoint_clean = checkpoint.replace('/', '___')\n",
    "        output_dir_clean = join(ECOG_DIR, f'features{suffix_qs}',\n",
    "                                checkpoint_clean, setting)\n",
    "        story_fnames = os.listdir(output_dir_clean)\n",
    "        checkpoint_story_dict = {}\n",
    "        for story_fname in story_fnames:\n",
    "            if story_fname.endswith('.pkl'):\n",
    "                checkpoint_story_dict[story_fname] = joblib.load(\n",
    "                    join(output_dir_clean, story_fname))\n",
    "        ensemble_checkpoint_story_dict[checkpoint] = deepcopy(\n",
    "            checkpoint_story_dict)\n",
    "\n",
    "    # save avg feats\n",
    "    common_stories = set.intersection(\n",
    "        *[set(ensemble_checkpoint_story_dict[checkpoint].keys())\n",
    "            for checkpoint in ensemble1]\n",
    "    )\n",
    "    print('\\tsaving avg feats for', len(common_stories), 'stories')\n",
    "    for story_fname in tqdm(common_stories):\n",
    "        out_fname_pkl = join(output_dir_ensemble, story_fname)\n",
    "        if not os.path.exists(out_fname_pkl):\n",
    "            # avg over all checkpoints\n",
    "            story1_df = ensemble_checkpoint_story_dict[ensemble1[0]][story_fname]\n",
    "            story2_df = ensemble_checkpoint_story_dict[ensemble1[1]][story_fname]\n",
    "            story3_df = ensemble_checkpoint_story_dict[ensemble1[2]][story_fname]\n",
    "\n",
    "            # align the dfs to have same cols and index\n",
    "            story1_df = story1_df[story2_df.columns]\n",
    "            assert story1_df.columns.equals(story2_df.columns)\n",
    "            assert story1_df.index.equals(story2_df.index)\n",
    "\n",
    "            story2_df = story2_df[story1_df.columns]\n",
    "            assert story2_df.columns.equals(story1_df.columns)\n",
    "            assert story2_df.index.equals(story1_df.index)\n",
    "\n",
    "            # average values\n",
    "            # avg_df = (story1_df.astype(float) + story2_df.astype(float)) / 2\n",
    "            avg_df = (story1_df.astype(float) + story2_df.astype(float) +\n",
    "                      story3_df.astype(float)) / 3\n",
    "\n",
    "            # save\n",
    "            avg_df.to_csv(join(output_dir_ensemble,\n",
    "                               story_fname.replace('.pkl', '.csv')))\n",
    "            avg_df.to_pickle(out_fname_pkl)\n",
    "\n",
    "    print('\\tavg feats', output_dir_ensemble, os.listdir(output_dir_ensemble))"
   ]
  },
  {
   "cell_type": "code",
   "execution_count": null,
   "metadata": {},
   "outputs": [],
   "source": [
    "# !ls /home/chansingh/mntv1/ecog/features/ensemble1/\n",
    "# !ls /home/chansingh/mntv1/ecog/features___qs_35_stable/ensemble1/\n",
    "!ls /home/chansingh/mntv1/ecog/features___qs_35_stable/gpt-4o-mini/sec_3"
   ]
  },
  {
   "cell_type": "code",
   "execution_count": null,
   "metadata": {},
   "outputs": [],
   "source": [
    "d = '/home/chansingh/mntv1/ecog/features___qs_35_stable/ensemble1/words'\n",
    "n = 0\n",
    "for k in os.listdir(d):\n",
    "    if not k.endswith('.pkl'):\n",
    "        continue\n",
    "    df = pd.read_pickle(join(d, k))\n",
    "    n += df.shape[0]\n",
    "    # print(df.head())\n",
    "n"
   ]
  },
  {
   "cell_type": "code",
   "execution_count": null,
   "metadata": {},
   "outputs": [],
   "source": [
    "# !rclone copy /home/chansingh/mntv1/ecog/features/ensemble1/ box:DeepTune/QA/cached_qa_tree_ensemble1 --progress\n",
    "# !rclone copy /home/chansingh/mntv1/ecog/features___qs_35_stable/ensemble1/ box:DeepTune/QA/cached_qa_tree___qs_35_stable_ensemble1 --progress\n",
    "!rclone copy /home/chansingh/mntv1/ecog/features___qs_35_stable/gpt-4o-mini/ box:DeepTune/QA/cached_qa_tree___qs_35_stable_gpt-4o-mini --progress"
   ]
  },
  {
   "cell_type": "markdown",
   "metadata": {},
   "source": [
    "# Look at question answers"
   ]
  },
  {
   "cell_type": "code",
   "execution_count": null,
   "metadata": {},
   "outputs": [],
   "source": [
    "suffix_qs = '___qs_35_stable'\n",
    "\n",
    "# save ensemble feats\n",
    "settings = ['sec_1.5']\n",
    "# settings = ['words']\n",
    "# settings = ['sec_6']\n",
    "ensemble1 = [\n",
    "    # 'mistralai/Mistral-7B-Instruct-v0.2',\n",
    "    # 'meta-llama/Meta-Llama-3-8B-Instruct',\n",
    "    # 'google/gemma-7b-it',\n",
    "    'gpt-4o-mini',\n",
    "]\n",
    "# story_fnames = ['ant-man.pkl']\n",
    "# story_fnames = ['lotr-1.pkl']\n",
    "story_fnames = ['___podcasts-story___.pkl']\n",
    "\n",
    "for setting in settings:\n",
    "    print(setting)\n",
    "\n",
    "    # read in ensemble feats\n",
    "    ensemble_checkpoint_story_dict = {}\n",
    "    for checkpoint in tqdm(ensemble1):\n",
    "        checkpoint_clean = checkpoint.replace('/', '___')\n",
    "        output_dir_clean = join(ECOG_DIR, f'features{suffix_qs}',\n",
    "                                checkpoint_clean, setting)\n",
    "        checkpoint_story_dict = {}\n",
    "        for story_fname in story_fnames:\n",
    "            if story_fname.endswith('.pkl'):\n",
    "                checkpoint_story_dict[story_fname] = joblib.load(\n",
    "                    join(output_dir_clean, story_fname))\n",
    "        ensemble_checkpoint_story_dict[checkpoint] = deepcopy(\n",
    "            checkpoint_story_dict)"
   ]
  },
  {
   "cell_type": "code",
   "execution_count": null,
   "metadata": {},
   "outputs": [],
   "source": [
    "easy_qs = ['Is time mentioned in the input?',\n",
    "           'Does the input contain a measurement?', 'Does the input contain a number?']\n",
    "for checkpoint in ensemble1:\n",
    "    print(checkpoint)\n",
    "    df = ensemble_checkpoint_story_dict[checkpoint][story_fnames[0]][easy_qs]\n",
    "    for k in df.columns:\n",
    "        print(k, df[k][df[k] > 0].index.tolist())\n",
    "    print()"
   ]
  },
  {
   "cell_type": "code",
   "execution_count": null,
   "metadata": {},
   "outputs": [],
   "source": [
    "df.head(500)"
   ]
  },
  {
   "cell_type": "code",
   "execution_count": null,
   "metadata": {},
   "outputs": [],
   "source": [
    "df.shape"
   ]
  },
  {
   "cell_type": "code",
   "execution_count": null,
   "metadata": {},
   "outputs": [],
   "source": [
    "10_000 * 35"
   ]
  },
  {
   "cell_type": "code",
   "execution_count": null,
   "metadata": {},
   "outputs": [],
   "source": []
  }
 ],
 "metadata": {
  "kernelspec": {
   "display_name": ".env",
   "language": "python",
   "name": "python3"
  },
  "language_info": {
   "codemirror_mode": {
    "name": "ipython",
    "version": 3
   },
   "file_extension": ".py",
   "mimetype": "text/x-python",
   "name": "python",
   "nbconvert_exporter": "python",
   "pygments_lexer": "ipython3",
   "version": "3.11.11"
  }
 },
 "nbformat": 4,
 "nbformat_minor": 2
}
