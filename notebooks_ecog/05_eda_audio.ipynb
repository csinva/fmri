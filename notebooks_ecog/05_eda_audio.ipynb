{
 "cells": [
  {
   "cell_type": "code",
   "execution_count": null,
   "metadata": {},
   "outputs": [],
   "source": [
    "%load_ext autoreload\n",
    "%autoreload 2\n",
    "\n",
    "import base64\n",
    "from imodelsx.llm import LLM_Chat_Audio\n",
    "import os.path\n",
    "import numpy as np\n",
    "from os.path import join\n",
    "from collections import defaultdict\n",
    "import pandas as pd\n",
    "from tqdm import tqdm"
   ]
  },
  {
   "cell_type": "code",
   "execution_count": null,
   "metadata": {},
   "outputs": [],
   "source": [
    "questions = [\n",
    "    # 'What is the text in the recording?',\n",
    "    # 'Does the recording have a rising pitch contour?',\n",
    "    # 'Is the recording spoken clearly without mumbling?',\n",
    "    # 'Is there an echo present in the audio?',\n",
    "    # 'Does the speaker’s voice sound breathy?',\n",
    "    # 'Does the speaker have a happy tone?',\n",
    "    # 'Does the the speaker sound relaxed?',\n",
    "\n",
    "\n",
    "\n",
    "    'Does the recording have a male voice?',\n",
    "    'Does the audio contain background music?',\n",
    "]\n",
    "\n",
    "# wav_folder = 'segments_1.5sec'\n",
    "wav_folder = 'segments_3sec'\n",
    "# wav_files = [join(wav_folder, f)\n",
    "#  for f in os.listdir(wav_folder) if f.endswith('.wav')]\n",
    "\n",
    "wav_files = [\n",
    "    join(wav_folder, f)\n",
    "    # for i in np.arange(5, 60, 2)\n",
    "    for f in sorted(os.listdir(wav_folder)) if f.endswith('.wav')\n",
    "]\n",
    "\n",
    "# sort in numeric order\n",
    "wav_files = sorted(wav_files, key=lambda x: int(\n",
    "    x.split('_')[-1].split('.')[0]))\n",
    "# wav_files"
   ]
  },
  {
   "cell_type": "code",
   "execution_count": null,
   "metadata": {},
   "outputs": [],
   "source": [
    "lm = LLM_Chat_Audio(\n",
    "    checkpoint=\"gpt-4o-audio-preview\",\n",
    "    # checkpoint=\"gpt-4o-mini-audio-preview\",\n",
    "    CACHE_DIR=os.path.expanduser('~/.cache_audio'))\n",
    "\n",
    "\n",
    "d = defaultdict(list)\n",
    "for wav_file in tqdm(wav_files):\n",
    "    with open(wav_file, \"rb\") as wav_file:\n",
    "        wav_data = wav_file.read()\n",
    "    encoded_string = base64.b64encode(wav_data).decode('utf-8')\n",
    "\n",
    "    for question in questions:\n",
    "        d[question].append(\n",
    "            lm(\n",
    "                prompt_str=f\"{question} Answer yes or no. Don't say anything else.\",\n",
    "                # prompt_str=f\"Transcribe the text in the recording.\",\n",
    "                audio_str=encoded_string,\n",
    "            )\n",
    "        )\n",
    "        print(d)\n",
    "pd.DataFrame(d, index=wav_files).T.to_csv(f'annots_{question}.csv')"
   ]
  },
  {
   "cell_type": "code",
   "execution_count": null,
   "metadata": {},
   "outputs": [],
   "source": []
  }
 ],
 "metadata": {
  "kernelspec": {
   "display_name": ".env",
   "language": "python",
   "name": "python3"
  },
  "language_info": {
   "codemirror_mode": {
    "name": "ipython",
    "version": 3
   },
   "file_extension": ".py",
   "mimetype": "text/x-python",
   "name": "python",
   "nbconvert_exporter": "python",
   "pygments_lexer": "ipython3",
   "version": "3.11.10"
  }
 },
 "nbformat": 4,
 "nbformat_minor": 2
}
