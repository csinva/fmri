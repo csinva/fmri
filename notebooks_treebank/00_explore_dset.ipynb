{
 "cells": [
  {
   "cell_type": "code",
   "execution_count": null,
   "metadata": {},
   "outputs": [],
   "source": [
    "%load_ext autoreload\n",
    "%autoreload 2\n",
    "import os\n",
    "import matplotlib.pyplot as plt\n",
    "from os.path import join\n",
    "from tqdm import tqdm\n",
    "import pandas as pd\n",
    "from os.path import expanduser\n",
    "import sys\n",
    "from typing import List\n",
    "import numpy as np\n",
    "import joblib\n",
    "from pprint import pprint\n",
    "import imodelsx.util\n",
    "from os.path import dirname\n",
    "import pickle as pkl\n",
    "import json\n",
    "from copy import deepcopy\n",
    "from numpy.linalg import norm\n",
    "from math import ceil\n",
    "import questions\n",
    "from imodelsx.qaemb.qaemb import QAEmb, get_sample_questions_and_examples\n",
    "\n",
    "from questions import QS_O1_DEC26\n",
    "from treebank import STORIES_POPULAR, STORIES_UNPOPULAR, ECOG_DIR\n"
   ]
  },
  {
   "cell_type": "markdown",
   "metadata": {},
   "source": [
    "### Get popular stories"
   ]
  },
  {
   "cell_type": "code",
   "execution_count": null,
   "metadata": {},
   "outputs": [],
   "source": [
    "subject_metadata_files = os.listdir(join(ECOG_DIR, 'data', 'subject_metadata'))\n",
    "jsons = {f: json.load(open(join(ECOG_DIR, 'data', 'subject_metadata', f)))\n",
    "         ['title'] for f in subject_metadata_files}\n",
    "df = pd.DataFrame(jsons.values(), index=jsons.keys()).reset_index()\n",
    "df.rename(columns={'index': 'filename', 0: 'title'}, inplace=True)\n",
    "df['subject'] = df['filename'].apply(lambda x: x.split('_trial')[\n",
    "                                     0].split('_')[-1]).astype(int)\n",
    "# df = df.sort_values(by='subject')\n",
    "df = df.sort_values(by='title')\n",
    "\n",
    "common_subjs = {3, 4, 6, 7, 10}\n",
    "stories_popular = df[df.subject.isin(common_subjs)].title.unique()\n",
    "stories_unpopular = df[~df.subject.isin(common_subjs)].title.unique()\n",
    "print(f'{len(stories_popular)=} {len(stories_unpopular)=}')\n",
    "stories_popular, stories_unpopular"
   ]
  },
  {
   "cell_type": "markdown",
   "metadata": {},
   "source": [
    "# Extract features"
   ]
  },
  {
   "cell_type": "code",
   "execution_count": 193,
   "metadata": {},
   "outputs": [],
   "source": [
    "stories_to_run = STORIES_POPULAR\n",
    "qs_to_run = QS_O1_DEC26\n",
    "checkpoint = 'meta-llama/Meta-Llama-3-8B-Instruct'\n",
    "checkpoint_clean = checkpoint.replace('/', '___')\n",
    "setting = 'words'\n",
    "\n",
    "transcript_folders = os.listdir(join(ECOG_DIR, 'data', 'transcripts'))\n",
    "output_dir_clean = join(ECOG_DIR, 'features', checkpoint_clean, setting)\n",
    "output_dir_raw = join(ECOG_DIR, 'features_raw', checkpoint_clean, setting)\n",
    "os.makedirs(output_dir_clean, exist_ok=True)\n",
    "os.makedirs(output_dir_raw, exist_ok=True)"
   ]
  },
  {
   "cell_type": "code",
   "execution_count": null,
   "metadata": {},
   "outputs": [],
   "source": [
    "qa_embedder = QAEmb(\n",
    "    questions=[QS_O1_DEC26[0]],\n",
    "    checkpoint=checkpoint,\n",
    "    batch_size=512,\n",
    "    # CACHE_DIR=expanduser(\"~/cache_qa_ecog\"),\n",
    "    CACHE_DIR=None,\n",
    ")"
   ]
  },
  {
   "cell_type": "code",
   "execution_count": null,
   "metadata": {},
   "outputs": [],
   "source": [
    "def get_texts(features_df, setting='words', replace_nan_with_empty_string=True):\n",
    "    if setting == 'words':\n",
    "        texts = features_df['text'].values.flatten()\n",
    "    if replace_nan_with_empty_string:\n",
    "        texts = [t if isinstance(t, str) else '\"\"' for t in texts]\n",
    "    return texts\n",
    "\n",
    "\n",
    "for story in tqdm(stories_popular, desc='stories'):\n",
    "    # for story in stories_unpopular:\n",
    "    story_fname = (\n",
    "        story.replace(' ', '-').lower()\n",
    "        .replace('lord-of-the-rings', 'lotr')\n",
    "        .replace('spiderman', 'spider-man')\n",
    "        .replace('the-incredibles', 'incredibles')\n",
    "        .replace('antman', 'ant-man')\n",
    "        .replace('mr.', 'mr')\n",
    "        .replace('spider-man-homecoming', 'spider-man-3-homecoming')\n",
    "    )\n",
    "    assert story_fname in transcript_folders, f'{story_fname} not found'\n",
    "    features_df = pd.read_csv(\n",
    "        join(ECOG_DIR, 'data', 'transcripts', story_fname, 'features.csv'))\n",
    "\n",
    "    answers_dict = {}\n",
    "    for q in tqdm(qs_to_run, desc='question', leave=False):\n",
    "        output_file_q = join(output_dir_raw, f'{story_fname}___{q}.pkl')\n",
    "\n",
    "        if os.path.exists(output_file_q):\n",
    "            answers_dict[q] = joblib.load(output_file_q)\n",
    "            print(f'Loaded {output_file_q}')\n",
    "        else:\n",
    "            texts = get_texts(features_df, setting='words')\n",
    "            assert len(texts) == len(\n",
    "                features_df), f'{len(texts)=} {len(features_df)=}'\n",
    "            qa_embedder.questions = [q]\n",
    "            answers = qa_embedder(\n",
    "                texts, speed_up_with_unique_calls=True).flatten()\n",
    "            joblib.dump(answers, output_file_q)\n",
    "            answers_dict[q] = answers\n",
    "    answers_df = pd.DataFrame(answers_dict, index=texts)\n",
    "    answers_df.to_pickle(join(output_dir_clean, f'{story_fname}.pkl'))\n",
    "    answers_df.to_csv(join(output_dir_clean, f'{story_fname}.csv'))\n",
    "\n",
    "    # spot check\n",
    "    q = 'Does the text reference a person’s name?'\n",
    "    print('these should be names', list(df[df[q] > 0][q].index))"
   ]
  }
 ],
 "metadata": {
  "kernelspec": {
   "display_name": ".env",
   "language": "python",
   "name": "python3"
  },
  "language_info": {
   "codemirror_mode": {
    "name": "ipython",
    "version": 3
   },
   "file_extension": ".py",
   "mimetype": "text/x-python",
   "name": "python",
   "nbconvert_exporter": "python",
   "pygments_lexer": "ipython3",
   "version": "3.11.11"
  }
 },
 "nbformat": 4,
 "nbformat_minor": 2
}
