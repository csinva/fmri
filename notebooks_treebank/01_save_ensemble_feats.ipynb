{
 "cells": [
  {
   "cell_type": "code",
   "execution_count": 1,
   "metadata": {},
   "outputs": [],
   "source": [
    "%load_ext autoreload\n",
    "%autoreload 2\n",
    "import os\n",
    "import matplotlib.pyplot as plt\n",
    "from os.path import join\n",
    "from tqdm import tqdm\n",
    "import pandas as pd\n",
    "from os.path import expanduser\n",
    "import sys\n",
    "from typing import List\n",
    "import numpy as np\n",
    "import joblib\n",
    "from pprint import pprint\n",
    "import imodelsx.util\n",
    "from os.path import dirname\n",
    "import pickle as pkl\n",
    "import json\n",
    "from copy import deepcopy\n",
    "from numpy.linalg import norm\n",
    "from math import ceil\n",
    "from imodelsx.qaemb.qaemb import QAEmb, get_sample_questions_and_examples\n",
    "from neuro.treebank.config import STORIES_POPULAR, STORIES_UNPOPULAR, ECOG_DIR"
   ]
  },
  {
   "cell_type": "markdown",
   "metadata": {},
   "source": [
    "### Save ensemble features"
   ]
  },
  {
   "cell_type": "code",
   "execution_count": null,
   "metadata": {},
   "outputs": [],
   "source": [
    "# suffix_qs = ''\n",
    "suffix_qs = '___qs_35_stable'\n",
    "\n",
    "# save ensemble feats\n",
    "settings = ['words', 'sec_1.5', 'sec_3', 'sec_6']\n",
    "# settings = ['sec_1.5', 'sec_6']\n",
    "# settings = ['words', 'sec_3']\n",
    "out_checkpoint = 'ensemble1'\n",
    "ensemble1 = [\n",
    "    'mistralai/Mistral-7B-Instruct-v0.2',\n",
    "    'meta-llama/Meta-Llama-3-8B-Instruct',\n",
    "    'google/gemma-7b-it',\n",
    "]\n",
    "\n",
    "for setting in settings:\n",
    "    print(setting)\n",
    "    output_dir_ensemble = join(\n",
    "        ECOG_DIR, f'features{suffix_qs}', out_checkpoint, setting)\n",
    "    os.makedirs(output_dir_ensemble, exist_ok=True)\n",
    "\n",
    "    # read in ensemble feats\n",
    "    ensemble_checkpoint_story_dict = {}\n",
    "    for checkpoint in tqdm(ensemble1):\n",
    "        checkpoint_clean = checkpoint.replace('/', '___')\n",
    "        output_dir_clean = join(ECOG_DIR, f'features{suffix_qs}',\n",
    "                                checkpoint_clean, setting)\n",
    "        story_fnames = os.listdir(output_dir_clean)\n",
    "        checkpoint_story_dict = {}\n",
    "        for story_fname in story_fnames:\n",
    "            if story_fname.endswith('.pkl'):\n",
    "                checkpoint_story_dict[story_fname] = joblib.load(\n",
    "                    join(output_dir_clean, story_fname))\n",
    "        ensemble_checkpoint_story_dict[checkpoint] = deepcopy(\n",
    "            checkpoint_story_dict)\n",
    "\n",
    "    # save avg feats\n",
    "    common_stories = set.intersection(\n",
    "        *[set(ensemble_checkpoint_story_dict[checkpoint].keys())\n",
    "            for checkpoint in ensemble1]\n",
    "    )\n",
    "    print('\\tsaving avg feats for', len(common_stories), 'stories')\n",
    "    for story_fname in tqdm(common_stories):\n",
    "        out_fname_pkl = join(output_dir_ensemble, story_fname)\n",
    "        if not os.path.exists(out_fname_pkl):\n",
    "            # avg over all checkpoints\n",
    "            story1_df = ensemble_checkpoint_story_dict[ensemble1[0]][story_fname]\n",
    "            story2_df = ensemble_checkpoint_story_dict[ensemble1[1]][story_fname]\n",
    "            story3_df = ensemble_checkpoint_story_dict[ensemble1[2]][story_fname]\n",
    "\n",
    "            # align the dfs to have same cols and index\n",
    "            story1_df = story1_df[story2_df.columns]\n",
    "            assert story1_df.columns.equals(story2_df.columns)\n",
    "            assert story1_df.index.equals(story2_df.index)\n",
    "\n",
    "            story2_df = story2_df[story1_df.columns]\n",
    "            assert story2_df.columns.equals(story1_df.columns)\n",
    "            assert story2_df.index.equals(story1_df.index)\n",
    "\n",
    "            # average values\n",
    "            # avg_df = (story1_df.astype(float) + story2_df.astype(float)) / 2\n",
    "            avg_df = (story1_df.astype(float) + story2_df.astype(float) +\n",
    "                      story3_df.astype(float)) / 3\n",
    "\n",
    "            # save\n",
    "            avg_df.to_csv(join(output_dir_ensemble,\n",
    "                               story_fname.replace('.pkl', '.csv')))\n",
    "            avg_df.to_pickle(out_fname_pkl)\n",
    "\n",
    "    print('\\tavg feats', output_dir_ensemble, os.listdir(output_dir_ensemble))"
   ]
  },
  {
   "cell_type": "code",
   "execution_count": null,
   "metadata": {},
   "outputs": [],
   "source": [
    "# !ls /home/chansingh/mntv1/ecog/features/ensemble1/\n",
    "!ls /home/chansingh/mntv1/ecog/features___qs_35_stable/ensemble1/"
   ]
  },
  {
   "cell_type": "code",
   "execution_count": null,
   "metadata": {},
   "outputs": [],
   "source": [
    "d = '/home/chansingh/mntv1/ecog/features___qs_35_stable/ensemble1/words'\n",
    "n = 0\n",
    "for k in os.listdir(d):\n",
    "    if not k.endswith('.pkl'):\n",
    "        continue\n",
    "    df = pd.read_pickle(join(d, k))\n",
    "    n += df.shape[0]\n",
    "    # print(df.head())\n",
    "n"
   ]
  },
  {
   "cell_type": "code",
   "execution_count": null,
   "metadata": {},
   "outputs": [],
   "source": [
    "# !rclone copy /home/chansingh/mntv1/ecog/features/ensemble1/ box:DeepTune/QA/cached_qa_tree --progress\n",
    "!rclone copy /home/chansingh/mntv1/ecog/features___qs_35_stable/ensemble1/ box:DeepTune/QA/cached_qa_tree___qs_35_stable --progress"
   ]
  },
  {
   "cell_type": "markdown",
   "metadata": {},
   "source": [
    "# Look at question answers"
   ]
  },
  {
   "cell_type": "code",
   "execution_count": 14,
   "metadata": {},
   "outputs": [
    {
     "name": "stdout",
     "output_type": "stream",
     "text": [
      "     32     274    2180\n"
     ]
    }
   ],
   "source": [
    "!ls /home/chansingh/mntv1/ecog/features_raw___qs_35_stable/gpt-4o-mini/sec_6 | wc"
   ]
  },
  {
   "cell_type": "code",
   "execution_count": 6,
   "metadata": {},
   "outputs": [
    {
     "name": "stdout",
     "output_type": "stream",
     "text": [
      "sec_1.5\n"
     ]
    },
    {
     "name": "stderr",
     "output_type": "stream",
     "text": [
      "  0%|          | 0/1 [00:00<?, ?it/s]"
     ]
    },
    {
     "name": "stderr",
     "output_type": "stream",
     "text": [
      "100%|██████████| 1/1 [00:00<00:00,  1.07it/s]\n"
     ]
    }
   ],
   "source": [
    "suffix_qs = '___qs_35_stable'\n",
    "\n",
    "# save ensemble feats\n",
    "settings = ['sec_1.5']\n",
    "# settings = ['words']\n",
    "# settings = ['sec_6']\n",
    "ensemble1 = [\n",
    "    # 'mistralai/Mistral-7B-Instruct-v0.2',\n",
    "    # 'meta-llama/Meta-Llama-3-8B-Instruct',\n",
    "    # 'google/gemma-7b-it',\n",
    "    'gpt-4o-mini',\n",
    "]\n",
    "# story_fnames = ['ant-man.pkl']\n",
    "story_fnames = ['lotr-1.pkl']\n",
    "\n",
    "for setting in settings:\n",
    "    print(setting)\n",
    "\n",
    "    # read in ensemble feats\n",
    "    ensemble_checkpoint_story_dict = {}\n",
    "    for checkpoint in tqdm(ensemble1):\n",
    "        checkpoint_clean = checkpoint.replace('/', '___')\n",
    "        output_dir_clean = join(ECOG_DIR, f'features{suffix_qs}',\n",
    "                                checkpoint_clean, setting)\n",
    "        checkpoint_story_dict = {}\n",
    "        for story_fname in story_fnames:\n",
    "            if story_fname.endswith('.pkl'):\n",
    "                checkpoint_story_dict[story_fname] = joblib.load(\n",
    "                    join(output_dir_clean, story_fname))\n",
    "        ensemble_checkpoint_story_dict[checkpoint] = deepcopy(\n",
    "            checkpoint_story_dict)"
   ]
  },
  {
   "cell_type": "code",
   "execution_count": 7,
   "metadata": {},
   "outputs": [
    {
     "name": "stdout",
     "output_type": "stream",
     "text": [
      "gpt-4o-mini\n",
      "Is time mentioned in the input? ['It began', 'seven to', 'It was in this moment', 'moment when', 'forever But', 'History', 'and for two and a half', 'half thousand years', 'thousand years the', 'thousand years the ring', 'years the ring passed', 'until', 'until when', 'until when chance', 'For five hundred years', 'five hundred years it', 'hundred years it poisoned', 'hundred years it poisoned his', 'it s time', 'it s time had', 's time had now', 'time had now come', 'something happened then', 'For the time', 'For the time will', 'For the time will soon', 'time will soon come', 'Twenty second', 'September in', 'September in the', 'September in the year', 'in the year fourteen', 'year fourteen hundred', 'The Third Age', 'The Third Age of', 'The Third Age of this', 'Third Age of this world', 'Now', 'but today', 'today of all days', 'days it', 'days it is', 'Now', \"You 're late\", 'A wizard is never late', 'He arrives precisely', 'arrives precisely when', 'arrives precisely when he', 'arrives precisely when he means', 'precisely when he means to', 'it has this past age', 'passing from one generation', 'passing from one generation to', 'from one generation to the', 'generation to the next', 'He spends hours', 'He spends hours and', 'He spends hours and hours', 'spends hours and hours poring', 'hours and hours poring over', 'hours and hours poring over old', 'and hours poring over old maps', 'hours poring over old maps when', 'hours poring over old maps when he', 'And what about very old', 'ninety six very good year', 'very good year Almost', 'year Almost as old as', 'year Almost as old as I', 'please Always have done always will', 'forgiven me for living this long', \"give me a moment 's peace\", 'a very long holiday', 'They spent so much time', 'They spent so much time arguing', 'spent so much time arguing the', 'much time arguing the whether', 'time arguing the whether tos', 'dragon in these parts for a thousand', 'parts for a thousand years', 'Today', 'and eleventh birthday', 'eleventy one years', 'eleventy one years is', 'eleventy one years is far', 'eleventy one years is far too', 'eleventy one years is far too short', 'eleventy one years is far too short a', 'years is far too short a time', 'years is far too short a time to', 'is far too short a time to live', 'short a time to live among', 'time to live among such', 'as often as I can spare', 'as often as I can spare them', 'wait', 'Now', 'Now it comes to', 'Now it comes to it', \"think you 've had that ring quite long\", \"'ve had that ring quite long enough\", 'All your long years', 'your long years we', \"long years we 've\", \"long years we 've been\", \"years we 've been friends\", \"It 's late\", \"It 's late the road\", \"It 's late the road is\", 'Yes it is time', 'to the end', 'to the end of his days', 'end of his days And', \"days And I 'm\", \"days And I 'm sure\", \"days And I 'm sure you\", 'He talked for so long', 'He talked for so long about', \"But you 've only just arrived\", 'The year', 'The year thirty four', 'The year thirty four', 'The year thirty four thirty four', 'The year thirty four thirty four', 'The year thirty four thirty four of', 'Second Age Here', 'Wait', 'cave Yes for sixty', 'Yes for sixty years', 'Yes for sixty years the', 'sixty years the ring', 'sixty years the ring lay', 'years the ring lay quiet', 'prolonging his life', 'to cover all the lands in a second', \"I do n't know how long\", \"I do n't know how long they tortured\", 'how long they tortured him', 'Travel only by day', 'to know about their ways in a month', 'their ways in a month and', 'their ways in a month and yet', 'ways in a month and yet after', 'month and yet after 100', 'and yet after 100 years', 'years they', 'years they can', 'years they can still', 'follow me A little late', 'me A little late for', 'A little late for trimming', 'A little late for trimming the', 'of Doom The hour', 'The hour grows', 'hour grows late', 'grows late and', 'late and Gandalf', 'found All these long years', 'All these long years it', 'All these long years it was', 'these long years it was in', 'these long years it was in the', 'years it was in the Shire', 'But we still have time', 'we still have time time', 'still have time time enough', 'have time time enough to', 'time time enough to counter', 'time enough to counter Sauron', 'time enough to counter Sauron if', 'Sauron if we act quickly', 'if we act quickly Time', 'What time', 'What time do', 'What time do you', 'What time do you think', 'What time do you think we', 'time do you think we have', 'Very soon he will', 'Very soon he will have', 'Very soon he will have summoned an', 'river Isen on Midsummer', \"Isen on Midsummer 's eve\", 'friend when', 'when did', 'when did Saruman', 'when did Saruman the wise', 'of potatoes that we lifted last week', 'of potatoes that we lifted last week here', 'lifted last week here and', 'lifted last week here and then', 'lifted last week here and then the', 'and then the mushrooms the week before', 'then the mushrooms the week before Yes', 'mushrooms the week before Yes Pippin', 'What was', 'ask questions after nightfall', 'after nightfall There', \"after nightfall There 's\", 'Good evening', 'Good evening little', 'evening little masters', 'Not seen him for six', 'Not seen him for six months', 'You can no longer wait for the', 'You can no longer wait for the wizard', 'They were once', 'At all times', 'At all times they', 'At all times they feel', 'all times they feel the', 'times they feel the presence', 'times they feel the presence of', 'we do not stop til nightfall', 'not stop til nightfall What', 'til nightfall What about', 'luncheon afternoon', 'luncheon afternoon tea', 'afternoon tea dinner', 'What do they eat when', \"'T\", 'Hurry', \"Hurry We 're six days\", \"We 're six days from\", \"We 're six days from Rivendell\", 'days from Rivendell He', 'last We', \"I 've been looking for you for two\", \"I 've been looking for you for two days\", \"'ve been looking for you for two days Where\", 'been looking for you for two days Where are', 'looking for you for two days Where are you', 'you for two days Where are you taking', 'you for two days Where are you taking him', 'not now', 'and it is ten', \"and it is ten o'clock\", \"and it is ten o'clock in\", \"and it is ten o'clock in the\", \"it is ten o'clock in the morning\", 'in the morning on', 'morning on October', 'on October the', 'on October the 24th', 'the 24th if you want to', 'A few more hours', 'few more hours and', 'few more hours and you', 'more hours and you would', \"more hours and you would 've\", \"more hours and you would 've been\", \"hours and you would 've been beyond\", \"hours and you would 've been beyond our\", 'But age', 'But age it seems', 'I spent all my childhood', 'it the rest of his life', 'rest of his life And', 'They must decide now', 'They must decide now how', 'must decide now how to', 'decide now how to end', 'decide now how to end it', 'The time', 'The time of', 'The time of the', 'The time of the elves', 'The time of the elves is', 'time of the elves is over', 'time of the elves is over My', \"will you look to when we 've\", \"you look to when we 've gone\", 'there three thousand years', 'thousand years ago', 'when', 'turned from that path a long time', 'that path a long time ago', 'Your time', 'Your time will', 'Your time will come', 'rather share one lifetime', 'share one lifetime with', 'one lifetime with you', 'the ages of this world', 'ages of this world alone', 'Never before', 'Long has my father the Steward', 'dead before I see the Ring', 'so long', \"close and it 's times\", \"close and it 's times like\", \"and it 's times like that\", \"and it 's times like that my\", \"it 's times like that my lad\", 'one last time', 'the Misty Mountains for forty', 'Mountains for forty days', 'days If', 'days If our', 'Faster', 'Soon', 'Now', 'We now', \"Quietly now It 's a four day\", \"It 's a four day journey\", \"It 's a four day journey to\", \"It 's a four day journey to the\", \"It 's a four day journey to the other\", 'four day journey to the other side', 'following us for three days', 'days He', 'before', 'before it', 'do all who live to see', 'live to see such times', 'to see such times but', 'see such times but that', 'such times but that is', 'such times but that is not', 'times but that is not for', 'times but that is not for them', 'times but that is not for them to', 'what to do with the time', 'what to do with the time that', 'what to do with the time that is', 'to do with the time that is given', 'do with the time that is given to', 'with the time that is given to us', 'Throw yourself in next time', 'Throw yourself in next time and', 'Throw yourself in next time and rid', 'yourself in next time and rid us', 'yourself in next time and rid us of', 'yourself in next time and rid us of your', 'Give them a moment', 'Give them a moment for', 'Give them a moment for pity', \"pity 's sake By nightfall\", \"'s sake By nightfall these\", \"'s sake By nightfall these hills\", 'sake By nightfall these hills with', 'sake By nightfall these hills with be', 'dealings with the dwarves since', 'days And you know what this', 'Go now and', 'Tonight', 'Tonight you', 'Tonight you will', 'or after', 'Even now', 'Even now there', 'Even now there is', 'It is long since', 'It is long since we', 'It is long since we had', 'It is long since we had any', 'its banners caught high in the morning', 'caught high in the morning breeze', 'long ago', 'One day', 'things that were', 'that have not yet come', 'not yet come to pass', 'change the course of the future', 'Never before', 'May', 'Galadhrim one last time', 'last time for', 'time for she', 'time for she is', 'That choice is yet before her', 'your fathers since the days', 'your fathers since the days of', 'since the days of Elendil', 'May', 'when', 'not this time', 'You were quick enough to', 'All your life', 'Long have I desired to look', 'We cross the lake at nightfall', 'We must wait for cover of darkness', 'It has taken', 'now Forgive', 'do all who live to see', 'live to see such times', 'see such times but', 'such times but that', 'such times but that is', 'times but that is not for', 'times but that is not for them', 'times but that is not for them to', 'what to do with the time', 'do with the time that', 'with the time that is', 'with the time that is given', 'the time that is given to', 'Hurry']\n",
      "Does the input contain a measurement? ['Rings Three', 'nine rings were gifted', 'nine rings were gifted to the', 'and for two and a half', 'two and a half thousand', 'half thousand years', 'thousand years the', 'thousand years the ring', 'years the ring passed', 'For five hundred years', 'five hundred years it', 'hundred years it poisoned', 'hundred years it poisoned his', 'days it is', 'please him Half the', 'Half the Shire', \"Half the Shire 's\", \"Half the Shire 's been\", \"Half the Shire 's been invited\", 'He spends hours', 'He spends hours and', 'He spends hours and hours', 'hours and hours poring over', 'hours and hours poring over old', 'and hours poring over old maps', 'hours poring over old maps when', 'hours poring over old maps when he', \"I 've got a few bottles in the Old\", 'a few bottles in the Old Vineyard', 'bottles in the Old Vineyard left', 'dragon in these parts for a thousand', 'parts for a thousand years', 'eleventy one years', 'eleventy one years is', 'eleventy one years is far', 'eleventy one years is far too', 'eleventy one years is far too short', 'eleventy one years is far too short a', 'years is far too short a time', 'years is far too short a time to', 'is far too short a time to live', 'know half of you half as well as I', 'like and I like less than half', 'and I like less than half of you', 'like less than half of you half as well', \"years we 've been friends\", 'cave Yes for sixty', 'Yes for sixty years', 'Yes for sixty years the', 'sixty years the ring', 'sixty years the ring lay', 'years the ring lay quiet', 'to know about their ways in a month', 'their ways in a month and', 'their ways in a month and yet', 'and yet after 100 years', 'years they can still', \"feet there 's\", 'years it was in the Shire', 'What time', \"It 's only a couple of carrots\", 'Twenty miles', 'hobbit sized rooms', 'Not seen him for six months', 'friend is a pint', 'a pint It', 'pint It comes', 'pint It comes in', 'It comes in pints', 'pints I', 'getting one You got a whole half', 'You got a whole half already', \"Hurry We 're six days\", \"We 're six days from\", \"We 're six days from Rivendell\", 'days from Rivendell He', \"I 've been looking for you for two days\", \"'ve been looking for you for two days Where\", 'you for two days Where are you taking', 'you for two days Where are you taking him', 'There are five wraiths', 'and it is ten', \"and it is ten o'clock\", \"and it is ten o'clock in\", \"and it is ten o'clock in the\", \"it is ten o'clock in the morning\", 'the 24th if you want to', 'A few more hours', 'few more hours and', 'few more hours and you', 'more hours and you would', \"hours and you would 've been beyond\", \"hours and you would 've been beyond our\", 'The time', 'was there three thousand', 'there three thousand years', 'thousand years ago', 'the ages of this world', 'ring Long', 'Not with ten thousand', 'Not with ten thousand', 'Not with ten thousand men', 'Not with ten thousand men could', 'with ten thousand men could you', 'ten thousand men could you do', 'ten thousand men could you do this', 'the Misty Mountains for forty', 'Mountains for forty days', 'days If', \"Quietly now It 's a four day\", \"It 's a four day journey\", \"It 's a four day journey to\", \"It 's a four day journey to the\", \"It 's a four day journey to the other\", 'four day journey to the other side', 'following us for three days', 'One day', 'One small', 'One small bite', 'One small bite is', 'One small bite is enough', 'One small bite is enough to', 'she is more fair than all', 'height of all your fathers', 'She gave me three', 'lead the Ring within a hundred', 'the Ring within a hundred leagues', 'Ring within a hundred leagues of', 'Ring within a hundred leagues of your', 'within a hundred leagues of your city', '', 'with the time that is given']\n",
      "Does the input contain a number? ['Rings Three', 'Three were given', 'Three were given to the', 'Three were given to the elves', 'seven to', 'seven to the', 'seven to the dwarf', 'seven to the dwarf lords', 'and nine', 'nine nine', 'nine rings', 'nine rings were', 'nine rings were gifted', 'nine rings were gifted to', 'nine rings were gifted to the', 'myth and for two', 'and for two and a half', 'two and a half thousand', 'half thousand years', 'thousand years the', 'thousand years the ring', 'years the ring passed', 'life For five', 'For five hundred', 'For five hundred years', 'five hundred years it', 'hundred years it poisoned', 'hundred years it poisoned his', 'Twenty second day', 'Twenty second day of', 'in the year fourteen', 'year fourteen hundred', 'The Third', 'Third Age of this world', \"Half the Shire 's been invited\", 'incident with the dragon I', 'Gandalf I', 'Old Vineyard left twelve', 'left twelve ninety six', 'left twelve ninety six', 'ninety six very', 'ninety six very good', 'ninety six very good year', 'Bilbo Baggins I', \"Bilbo Baggins I 'm not\", \"Baggins I 'm not at\", 'dragon in these parts for a thousand', 'parts for a thousand years', 'one hundred and eleventh', 'and eleventh birthday', 'Alas eleventy one', 'Alas eleventy one', 'eleventy one years', 'eleventy one years is', 'eleventy one years is far', 'eleventy one years is far too', 'eleventy one years is far too short', 'eleventy one years is far too short a', 'The year', 'The year thirty four', 'The year thirty four', 'The year thirty four thirty four', 'The year thirty four thirty four', 'The year thirty four thirty four of', 'year thirty four thirty four of the', 'thirty four thirty four of the Second', 'thirty four of the Second Age', 'There are', 'form of Elvish I', 'cave Yes for sixty', 'Yes for sixty years', 'Yes for sixty years the', 'sixty years the ring', 'sixty years the ring lay', 'There is one', 'to know about their ways in a month', 'month and yet after 100', 'and yet after 100 years', 'The nine', 'The nine have', 'nine have left', 'nine have left Minas', 'Morgul The nine', 'The nine They', 'The nine They crossed', 'The nine They crossed the', 'The nine They crossed the river', 'There are', 'three bags of potatoes that we lifted', 'Anything', 'Brandywine Bridge Twenty', 'Twenty miles', 'Hobbits Four', 'Four hobbits', 'Not seen him for six', 'Not seen him for six months', \"I 'm getting one\", 'getting one You got a whole half', 'You got a whole half already', 'deceiver gave to them nine', 'deceiver gave to them nine rings', 'deceiver gave to them nine rings of', 'to them nine rings of power', 'One They', 'Gandalf I', 'What about elevensies', \"Hurry We 're six\", \"Hurry We 're six days\", \"We 're six days from\", \"We 're six days from Rivendell\", \"I 've been looking for you for two\", \"I 've been looking for you for two days\", \"'ve been looking for you for two days Where\", 'been looking for you for two days Where are', 'you for two days Where are you taking him', 'taking him There are five', 'There are five wraiths', 'There are five wraiths behind', 'There are five wraiths behind you', 'and it is ten', \"and it is ten o'clock\", \"and it is ten o'clock in\", \"and it is ten o'clock in the\", \"it is ten o'clock in the morning\", 'on October the', 'on October the 24th', 'October the 24th if', 'October the 24th if you', 'October the 24th if you want', 'the 24th if you want to', '24th if you want to know', 'Gandalf I', 'I was there three', 'was there three thousand', 'there three thousand years', 'thousand years ago', 'here in Imladris I', 'You have only one', 'Not with ten thousand', 'Not with ten thousand', 'Not with ten thousand men', 'Not with ten thousand men could', 'with ten thousand men could you', 'ten thousand men could you do', 'ten thousand men could you do this', 'Nine companions', 'hold it again one', 'the Misty Mountains for forty', 'Mountains for forty days', 'to Mordor Two', 'Mordor Two one', 'Mordor Two one five', 'one five Good', 'five Good very', 'five Good very good', 'There are', \"Quietly now It 's a four\", \"Quietly now It 's a four day\", \"It 's a four day journey\", \"It 's a four day journey to\", \"It 's a four day journey to the\", \"It 's a four day journey to the other\", 'four day journey to the other side', \"'s been following us for three\", 'following us for three days', 'There are', 'There is one dwarf', 'There is one dwarf yet', 'one dwarf yet in Moria', 'Eight there', 'Eight there are', 'Eight there are here', 'Eight there are here yet', 'there are here yet nine', 'are here yet nine there', 'here yet nine there were', 'yet nine there were set', 'nine there were set out', 'nine there were set out from', 'One day', 'speak One', 'one it will destroy', 'She gave me three', 'Frodo I', 'lead the Ring within a hundred', 'the Ring within a hundred leagues', 'Ring within a hundred leagues of', 'Ring within a hundred leagues of your', 'within a hundred leagues of your city', 'Pay no', '', 'Give No', 'Frodo I', 'with the time that is given']\n",
      "\n"
     ]
    }
   ],
   "source": [
    "easy_qs = ['Is time mentioned in the input?',\n",
    "           'Does the input contain a measurement?', 'Does the input contain a number?']\n",
    "for checkpoint in ensemble1:\n",
    "    print(checkpoint)\n",
    "    df = ensemble_checkpoint_story_dict[checkpoint][story_fnames[0]][easy_qs]\n",
    "    for k in df.columns:\n",
    "        print(k, df[k][df[k] > 0].index.tolist())\n",
    "    print()"
   ]
  },
  {
   "cell_type": "code",
   "execution_count": 5,
   "metadata": {},
   "outputs": [
    {
     "data": {
      "text/html": [
       "<div>\n",
       "<style scoped>\n",
       "    .dataframe tbody tr th:only-of-type {\n",
       "        vertical-align: middle;\n",
       "    }\n",
       "\n",
       "    .dataframe tbody tr th {\n",
       "        vertical-align: top;\n",
       "    }\n",
       "\n",
       "    .dataframe thead th {\n",
       "        text-align: right;\n",
       "    }\n",
       "</style>\n",
       "<table border=\"1\" class=\"dataframe\">\n",
       "  <thead>\n",
       "    <tr style=\"text-align: right;\">\n",
       "      <th></th>\n",
       "      <th>Is time mentioned in the input?</th>\n",
       "      <th>Does the input contain a measurement?</th>\n",
       "      <th>Does the input contain a number?</th>\n",
       "    </tr>\n",
       "  </thead>\n",
       "  <tbody>\n",
       "    <tr>\n",
       "      <th>The</th>\n",
       "      <td>False</td>\n",
       "      <td>False</td>\n",
       "      <td>False</td>\n",
       "    </tr>\n",
       "    <tr>\n",
       "      <th>world</th>\n",
       "      <td>False</td>\n",
       "      <td>False</td>\n",
       "      <td>False</td>\n",
       "    </tr>\n",
       "    <tr>\n",
       "      <th>is</th>\n",
       "      <td>False</td>\n",
       "      <td>False</td>\n",
       "      <td>False</td>\n",
       "    </tr>\n",
       "    <tr>\n",
       "      <th>changed</th>\n",
       "      <td>False</td>\n",
       "      <td>False</td>\n",
       "      <td>False</td>\n",
       "    </tr>\n",
       "    <tr>\n",
       "      <th>I</th>\n",
       "      <td>False</td>\n",
       "      <td>False</td>\n",
       "      <td>False</td>\n",
       "    </tr>\n",
       "    <tr>\n",
       "      <th>...</th>\n",
       "      <td>...</td>\n",
       "      <td>...</td>\n",
       "      <td>...</td>\n",
       "    </tr>\n",
       "    <tr>\n",
       "      <th>fourteen</th>\n",
       "      <td>False</td>\n",
       "      <td>False</td>\n",
       "      <td>False</td>\n",
       "    </tr>\n",
       "    <tr>\n",
       "      <th>hundred</th>\n",
       "      <td>False</td>\n",
       "      <td>True</td>\n",
       "      <td>False</td>\n",
       "    </tr>\n",
       "    <tr>\n",
       "      <th>by</th>\n",
       "      <td>False</td>\n",
       "      <td>False</td>\n",
       "      <td>False</td>\n",
       "    </tr>\n",
       "    <tr>\n",
       "      <th>Shire</th>\n",
       "      <td>False</td>\n",
       "      <td>False</td>\n",
       "      <td>False</td>\n",
       "    </tr>\n",
       "    <tr>\n",
       "      <th>reckoning</th>\n",
       "      <td>False</td>\n",
       "      <td>False</td>\n",
       "      <td>False</td>\n",
       "    </tr>\n",
       "  </tbody>\n",
       "</table>\n",
       "<p>500 rows × 3 columns</p>\n",
       "</div>"
      ],
      "text/plain": [
       "           Is time mentioned in the input?  \\\n",
       "The                                  False   \n",
       "world                                False   \n",
       "is                                   False   \n",
       "changed                              False   \n",
       "I                                    False   \n",
       "...                                    ...   \n",
       "fourteen                             False   \n",
       "hundred                              False   \n",
       "by                                   False   \n",
       "Shire                                False   \n",
       "reckoning                            False   \n",
       "\n",
       "           Does the input contain a measurement?  \\\n",
       "The                                        False   \n",
       "world                                      False   \n",
       "is                                         False   \n",
       "changed                                    False   \n",
       "I                                          False   \n",
       "...                                          ...   \n",
       "fourteen                                   False   \n",
       "hundred                                     True   \n",
       "by                                         False   \n",
       "Shire                                      False   \n",
       "reckoning                                  False   \n",
       "\n",
       "           Does the input contain a number?  \n",
       "The                                   False  \n",
       "world                                 False  \n",
       "is                                    False  \n",
       "changed                               False  \n",
       "I                                     False  \n",
       "...                                     ...  \n",
       "fourteen                              False  \n",
       "hundred                               False  \n",
       "by                                    False  \n",
       "Shire                                 False  \n",
       "reckoning                             False  \n",
       "\n",
       "[500 rows x 3 columns]"
      ]
     },
     "execution_count": 5,
     "metadata": {},
     "output_type": "execute_result"
    }
   ],
   "source": [
    "df.head(500)"
   ]
  },
  {
   "cell_type": "code",
   "execution_count": 20,
   "metadata": {},
   "outputs": [
    {
     "data": {
      "text/plain": [
       "(9869, 3)"
      ]
     },
     "execution_count": 20,
     "metadata": {},
     "output_type": "execute_result"
    }
   ],
   "source": [
    "df.shape"
   ]
  },
  {
   "cell_type": "code",
   "execution_count": null,
   "metadata": {},
   "outputs": [
    {
     "data": {
      "text/plain": [
       "350000"
      ]
     },
     "execution_count": 21,
     "metadata": {},
     "output_type": "execute_result"
    }
   ],
   "source": [
    "10_000 * 35"
   ]
  },
  {
   "cell_type": "code",
   "execution_count": null,
   "metadata": {},
   "outputs": [],
   "source": []
  }
 ],
 "metadata": {
  "kernelspec": {
   "display_name": ".env",
   "language": "python",
   "name": "python3"
  },
  "language_info": {
   "codemirror_mode": {
    "name": "ipython",
    "version": 3
   },
   "file_extension": ".py",
   "mimetype": "text/x-python",
   "name": "python",
   "nbconvert_exporter": "python",
   "pygments_lexer": "ipython3",
   "version": "3.11.11"
  }
 },
 "nbformat": 4,
 "nbformat_minor": 2
}
