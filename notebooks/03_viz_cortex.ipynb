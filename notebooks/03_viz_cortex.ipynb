{
 "cells": [
  {
   "cell_type": "code",
   "execution_count": 2,
   "metadata": {},
   "outputs": [],
   "source": [
    "import cortex\n",
    "import numpy as np\n",
    "from os.path import join\n",
    "from cortex.options import config\n",
    "import h5py\n",
    "import pickle as pkl\n",
    "from copy import deepcopy\n",
    "import matplotlib.pyplot as plt"
   ]
  },
  {
   "cell_type": "code",
   "execution_count": 3,
   "metadata": {},
   "outputs": [
    {
     "data": {
      "text/plain": [
       "(95556,)"
      ]
     },
     "execution_count": 3,
     "metadata": {},
     "output_type": "execute_result"
    }
   ],
   "source": [
    "# load test corrs\n",
    "results_dir = '/home/chansingh/mntv1/deep-fMRI/results/encoding/bert-10__ndel=4/UTS03/'\n",
    "corrs = np.load(join(results_dir, 'corrs.npz'))['arr_0']\n",
    "corrs.shape"
   ]
  },
  {
   "cell_type": "code",
   "execution_count": 4,
   "metadata": {},
   "outputs": [],
   "source": [
    "# test corrs for percentile model\n",
    "perc_threshold = 98\n",
    "perc = np.percentile(corrs, perc_threshold)\n",
    "idxs = (corrs > perc)\n",
    "corrs_thresh = deepcopy(corrs)\n",
    "corrs_thresh[~idxs] = np.nan"
   ]
  },
  {
   "cell_type": "code",
   "execution_count": 6,
   "metadata": {},
   "outputs": [
    {
     "name": "stdout",
     "output_type": "stream",
     "text": [
      "'coef_emotion_bert-10__ndel=4fmri_seed=1.pkl'\n",
      "'coef_emotion_bert-sst2-10__ndel=4fmri_seed=1.pkl'\n",
      "'coef_go_emotions_glove__ndel=4fmri_seed=1.pkl'\n",
      "'coef_rotten_tomatoes_glove__ndel=4fmri_seed=1.pkl'\n",
      "'coef_sst2_bert-10__ndel=4fmri_seed=1.pkl'\n",
      "'coef_sst2_glove__ndel=4fmri_seed=1.pkl'\n",
      "'coef_trec_glove__ndel=4fmri_seed=1.pkl'\n",
      "'emotion_bert-10__ndel=4fmri_seed=1.pkl'\n",
      "'emotion_bert-sst2-10__ndel=4fmri_seed=1.pkl'\n",
      "'go_emotions_glove__ndel=4fmri_seed=1.pkl'\n",
      "'rotten_tomatoes_glove__ndel=4fmri_seed=1.pkl'\n",
      "'sst2_bert-10__ndel=4fmri_seed=1.pkl'\n",
      "'sst2_glove__ndel=4fmri_seed=1.pkl'\n",
      "'trec_glove__ndel=4fmri_seed=1.pkl'\n"
     ]
    }
   ],
   "source": [
    "!ls /home/chansingh/mntv1/deep-fMRI/results/linear_models/oct25"
   ]
  },
  {
   "cell_type": "code",
   "execution_count": 5,
   "metadata": {},
   "outputs": [
    {
     "ename": "FileNotFoundError",
     "evalue": "[Errno 2] No such file or directory: '/home/chansingh/mntv1/deep-fMRI/results/linear_models/oct24/coef_moral_stories_bert-10__ndel=4fmri_seed=3.pkl'",
     "output_type": "error",
     "traceback": [
      "\u001b[0;31m---------------------------------------------------------------------------\u001b[0m",
      "\u001b[0;31mFileNotFoundError\u001b[0m                         Traceback (most recent call last)",
      "Cell \u001b[0;32mIn [5], line 6\u001b[0m\n\u001b[1;32m      4\u001b[0m \u001b[39m# fname = 'coef_moral_stories_bert-10__ndel=4fmri_seed=3.pkl\u001b[39;00m\n\u001b[1;32m      5\u001b[0m coef_fname \u001b[39m=\u001b[39m join(save_dir, fname)\n\u001b[0;32m----> 6\u001b[0m model \u001b[39m=\u001b[39m pkl\u001b[39m.\u001b[39mload(\u001b[39mopen\u001b[39m(coef_fname, \u001b[39m'\u001b[39m\u001b[39mrb\u001b[39m\u001b[39m'\u001b[39m))\n",
      "\u001b[0;31mFileNotFoundError\u001b[0m: [Errno 2] No such file or directory: '/home/chansingh/mntv1/deep-fMRI/results/linear_models/oct24/coef_moral_stories_bert-10__ndel=4fmri_seed=3.pkl'"
     ]
    }
   ],
   "source": [
    "# linear coefs for model\n",
    "save_dir = '/home/chansingh/mntv1/deep-fMRI/results/linear_models/oct24'\n",
    "# fname = 'coef_moral_stories_bert-10__ndel=4fmri_seed=3.pkl'\n",
    "fname = 'coef_sst2_bert-10__ndel=4fmri_seed=1.pkl'\n",
    "# fname = 'coef_moral_stories_bert-10__ndel=4fmri_seed=3.pkl\n",
    "coef_fname = join(save_dir, fname)\n",
    "model = pkl.load(open(coef_fname, 'rb'))\n",
    "coefs_learned = model.best_estimator_.coef_.squeeze()[0]\n",
    "coefs = deepcopy(corrs)\n",
    "coefs[idxs] = coefs_learned\n",
    "coefs[~idxs] = np.nan"
   ]
  },
  {
   "cell_type": "markdown",
   "metadata": {},
   "source": [
    "# Actual visualizations\n",
    "Note: for this to work, need to point the cortex config filestore to the `ds003020/derivative/pycortex-db` directory.\n",
    "This might look something like `/home/chansingh/mntv1/deep-fMRI/data/ds003020/derivative/pycortex-db/UTS03/anatomicals/`"
   ]
  },
  {
   "cell_type": "code",
   "execution_count": null,
   "metadata": {},
   "outputs": [],
   "source": [
    "def quickshow(X: np.ndarray, subject='UTS03', fname_save=None):\n",
    "    vol = cortex.Volume(X, 'UTS03', xfmname='UTS03_auto')\n",
    "    cortex.quickshow(vol, with_rois=True, cmap='PuBu') #, with_curvature=True, with_sulci=True)\n",
    "    if fname_save is not None:\n",
    "        plt.savefig(fname_save)\n",
    "        plt.close()\n",
    "quickshow(corrs, fname_save='../figs/flatmap_corrs.pdf')\n",
    "quickshow(corrs_thresh, fname_save='../figs/flatmap_corrs_thresh.pdf')\n",
    "quickshow(coefs, fname_save='../figs/flatmap_coefs.pdf')"
   ]
  }
 ],
 "metadata": {
  "kernelspec": {
   "display_name": "Python 3.8.10 ('.embgam')",
   "language": "python",
   "name": "python3"
  },
  "language_info": {
   "codemirror_mode": {
    "name": "ipython",
    "version": 3
   },
   "file_extension": ".py",
   "mimetype": "text/x-python",
   "name": "python",
   "nbconvert_exporter": "python",
   "pygments_lexer": "ipython3",
   "version": "3.8.10"
  },
  "orig_nbformat": 4,
  "vscode": {
   "interpreter": {
    "hash": "559535f78d940c882783b39501b2581b5193373045707e5f8a51d046029cfd38"
   }
  }
 },
 "nbformat": 4,
 "nbformat_minor": 2
}
