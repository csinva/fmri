{
 "cells": [
  {
   "cell_type": "code",
   "execution_count": 1,
   "metadata": {},
   "outputs": [],
   "source": [
    "%load_ext autoreload\n",
    "%autoreload 2\n",
    "import sys\n",
    "sys.path.append('..')\n",
    "sys.path.append('../experiments')\n",
    "import seaborn as sns\n",
    "import os\n",
    "import pandas as pd\n",
    "from copy import deepcopy\n",
    "from matplotlib import pyplot as plt\n",
    "from os.path import join\n",
    "import numpy as np\n",
    "import imodelsx.process_results\n",
    "from neuro.features import qa_questions, feature_spaces\n",
    "from neuro.data import story_names\n",
    "from neuro.features.stim_utils import load_story_wordseqs, load_story_wordseqs_huge\n",
    "import random\n",
    "import json\n",
    "import joblib\n",
    "from tqdm import tqdm\n",
    "from collections import defaultdict\n",
    "fit_encoding = __import__('02_fit_encoding')"
   ]
  },
  {
   "cell_type": "markdown",
   "metadata": {},
   "source": [
    "### Get data"
   ]
  },
  {
   "cell_type": "code",
   "execution_count": 2,
   "metadata": {},
   "outputs": [
    {
     "name": "stderr",
     "output_type": "stream",
     "text": [
      "/home/chansingh/fmri/neuro/data/story_names.py:72: UserWarning: Loading all stories, ignoring subject / train_or_test\n",
      "  warnings.warn('Loading all stories, ignoring subject / train_or_test')\n"
     ]
    },
    {
     "name": "stdout",
     "output_type": "stream",
     "text": [
      "loaded 103 stories\n",
      "Read the input then answer a question about the input.\n",
      "Input: and tetris has all of them your job is to fit\n",
      "Question: Does the sentence include a metaphor? Answer yes or no.\n"
     ]
    }
   ],
   "source": [
    "# story_names_list = story_names.get_story_names(\n",
    "# 'shared', 'train', use_huge=True)\n",
    "story_names_list = story_names.get_story_names(\n",
    "    all=True)\n",
    "print('loaded', len(story_names_list), 'stories')\n",
    "# wordseqs = feature_spaces.get_story_wordseqs(story_names_train)\n",
    "wordseqs = load_story_wordseqs_huge(story_names_list)\n",
    "\n",
    "ngrams_list_total = []\n",
    "for story in story_names_list:\n",
    "    ngrams_list = feature_spaces.get_ngrams_list_main(\n",
    "        wordseqs[story], num_ngrams_context=10)\n",
    "    # print(ngrams_list[:10])\n",
    "    ngrams_list_total.extend(ngrams_list)\n",
    "\n",
    "questions = qa_questions.get_questions('v3_boostexamples', full=True)\n",
    "\n",
    "prompt_template = 'Read the input then answer a question about the input.\\nInput: {example}\\nQuestion: {question} Answer yes or no.'\n",
    "prompt = prompt_template.format(\n",
    "    example=ngrams_list[100], question='Does the sentence include a metaphor?')\n",
    "# print(prompt_template.format(example=ngrams_list[100], question=questions[0]))\n",
    "print(prompt)"
   ]
  },
  {
   "cell_type": "code",
   "execution_count": 4,
   "metadata": {},
   "outputs": [
    {
     "data": {
      "text/plain": [
       "195190"
      ]
     },
     "execution_count": 4,
     "metadata": {},
     "output_type": "execute_result"
    }
   ],
   "source": [
    "len(ngrams_list_total)"
   ]
  },
  {
   "cell_type": "code",
   "execution_count": null,
   "metadata": {},
   "outputs": [],
   "source": [
    "len(questions)"
   ]
  },
  {
   "cell_type": "code",
   "execution_count": null,
   "metadata": {},
   "outputs": [],
   "source": [
    "rng = np.random.RandomState(42)\n",
    "# select 100 random examples\n",
    "ngrams_list_sample = rng.choice(ngrams_list_total, 100, replace=False)"
   ]
  },
  {
   "cell_type": "code",
   "execution_count": null,
   "metadata": {},
   "outputs": [],
   "source": [
    "ngrams_list_sample"
   ]
  },
  {
   "cell_type": "markdown",
   "metadata": {},
   "source": [
    "# Estimate cost for running gpt-4 on all of these..."
   ]
  },
  {
   "cell_type": "code",
   "execution_count": null,
   "metadata": {},
   "outputs": [],
   "source": [
    "# lm = imodelsx.llm.get_llm('gpt-4')\n",
    "lm = imodelsx.llm.get_llm('gpt-4-turbo-0125-spot')"
   ]
  },
  {
   "cell_type": "code",
   "execution_count": null,
   "metadata": {},
   "outputs": [],
   "source": [
    "messages = [\n",
    "    {\"role\": \"system\", \"content\": \"You are a helpful assistant.\"},\n",
    "    {\"role\": \"user\", \"content\": prompt}\n",
    "]"
   ]
  },
  {
   "cell_type": "code",
   "execution_count": null,
   "metadata": {},
   "outputs": [],
   "source": [
    "resp = lm(messages, max_new_tokens=1, temperature=0, return_str=False)"
   ]
  },
  {
   "cell_type": "code",
   "execution_count": null,
   "metadata": {},
   "outputs": [],
   "source": [
    "input_tokens = len(ngrams_list_total) * 56\n",
    "print(len(ngrams_list_total), 'inputs per question')\n",
    "print(f'{input_tokens:,} tokens per question')\n",
    "print(f'{100 * input_tokens:,} tokens for 100 questions')"
   ]
  },
  {
   "cell_type": "code",
   "execution_count": 54,
   "metadata": {},
   "outputs": [
    {
     "name": "stderr",
     "output_type": "stream",
     "text": [
      " 58%|█████▊    | 394/674 [01:12<01:06,  4.20it/s]"
     ]
    }
   ],
   "source": [
    "from ratelimit import limits, sleep_and_retry\n",
    "import requests\n",
    "\n",
    "\n",
    "@sleep_and_retry\n",
    "@limits(calls=50, period=10)  # in secs\n",
    "def call_api_limited(messages):\n",
    "    resp = lm(messages, max_new_tokens=1, temperature=0,\n",
    "              return_str=False, verbose=False)\n",
    "    return resp\n",
    "\n",
    "\n",
    "def call_api(messages):\n",
    "    resp = lm(messages, max_new_tokens=1, temperature=0,\n",
    "              return_str=False, verbose=False)\n",
    "    return resp\n",
    "\n",
    "\n",
    "answers = []\n",
    "for i, ngrams in enumerate(ngrams_list_sample[:3]):\n",
    "    out_file = f'/home/chansingh/mntv1/deep-fMRI/qa/cache_gpt/ngram_{i}.pkl'\n",
    "    answers = []\n",
    "    if not os.path.exists(out_file):\n",
    "        for question in tqdm(questions):\n",
    "            prompt = prompt_template.format(\n",
    "                example=ngrams, question=question)\n",
    "            messages = [\n",
    "                {\"role\": \"system\", \"content\": \"You are a helpful assistant.\"},\n",
    "                {\"role\": \"user\", \"content\": prompt}\n",
    "            ]\n",
    "            # print(messages)\n",
    "            already_cached = lm(messages, max_new_tokens=1, temperature=0,\n",
    "                                return_str=False, return_false_if_not_cached=True, verbose=False)\n",
    "            if already_cached:\n",
    "                resp = call_api(messages)\n",
    "            else:\n",
    "                resp = call_api_limited(messages)\n",
    "            # print(i, resp.choices[0].message.content)\n",
    "            answers.append(resp.choices[0].message.content)\n",
    "\n",
    "        answers = pd.Series(answers).str.lower()\n",
    "        assert set(answers.values) == {'yes', 'no'}\n",
    "        joblib.dump((answers.values == 'yes').astype(bool), out_file)"
   ]
  }
 ],
 "metadata": {
  "kernelspec": {
   "display_name": "Python 3.8.10 ('.embgam')",
   "language": "python",
   "name": "python3"
  },
  "language_info": {
   "codemirror_mode": {
    "name": "ipython",
    "version": 3
   },
   "file_extension": ".py",
   "mimetype": "text/x-python",
   "name": "python",
   "nbconvert_exporter": "python",
   "pygments_lexer": "ipython3",
   "version": "3.11.9"
  },
  "orig_nbformat": 4,
  "vscode": {
   "interpreter": {
    "hash": "559535f78d940c882783b39501b2581b5193373045707e5f8a51d046029cfd38"
   }
  }
 },
 "nbformat": 4,
 "nbformat_minor": 2
}
