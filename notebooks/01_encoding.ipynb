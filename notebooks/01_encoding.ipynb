{
 "cells": [
  {
   "cell_type": "code",
   "execution_count": 31,
   "metadata": {},
   "outputs": [
    {
     "name": "stdout",
     "output_type": "stream",
     "text": [
      "The autoreload extension is already loaded. To reload it, use:\n",
      "  %reload_ext autoreload\n"
     ]
    },
    {
     "name": "stderr",
     "output_type": "stream",
     "text": [
      "100%|██████████| 6/6 [00:00<00:00, 682.76it/s]"
     ]
    },
    {
     "name": "stdout",
     "output_type": "stream",
     "text": [
      "experiment varied these params: ['feature_space', 'ndelays', 'nboots']\n"
     ]
    },
    {
     "name": "stderr",
     "output_type": "stream",
     "text": [
      "\n"
     ]
    }
   ],
   "source": [
    "%load_ext autoreload\n",
    "%autoreload 2\n",
    "import sys\n",
    "sys.path.append('..')\n",
    "import dvu\n",
    "import seaborn as sns\n",
    "import os\n",
    "import pandas as pd\n",
    "from matplotlib import pyplot as plt\n",
    "from os.path import join\n",
    "import numpy as np\n",
    "import imodelsx.process_results\n",
    "import joblib\n",
    "dvu.set_style()\n",
    "\n",
    "# results_dir = '../results_mar25'\n",
    "results_dir = '../results'\n",
    "experiment_filename = '../experiments/01_fit_encoding.py'\n",
    "\n",
    "# load the results in to a pandas dataframe\n",
    "r = imodelsx.process_results.get_results_df(results_dir)\n",
    "cols_varied = imodelsx.process_results.get_experiment_keys(\n",
    "    r, experiment_filename)\n",
    "print('experiment varied these params:', cols_varied)\n",
    "# r = imodelsx.process_results.fill_missing_args_with_default(\n",
    "    # r, experiment_filename)"
   ]
  },
  {
   "cell_type": "code",
   "execution_count": 32,
   "metadata": {},
   "outputs": [],
   "source": [
    "mets = [c for c in r.columns if 'corrs_test_' in c] + \\\n",
    "    [c for c in r.columns if 'corrs_tune_' in c]"
   ]
  },
  {
   "cell_type": "code",
   "execution_count": 33,
   "metadata": {},
   "outputs": [],
   "source": [
    "d = r.groupby(cols_varied)[mets].mean().round(4)"
   ]
  },
  {
   "cell_type": "code",
   "execution_count": 34,
   "metadata": {},
   "outputs": [
    {
     "data": {
      "text/html": [
       "<style type=\"text/css\">\n",
       "#T_94ea8_row0_col0, #T_94ea8_row5_col0, #T_94ea8_row5_col4 {\n",
       "  background-color: #46085c;\n",
       "  color: #f1f1f1;\n",
       "}\n",
       "#T_94ea8_row0_col1 {\n",
       "  background-color: #460b5e;\n",
       "  color: #f1f1f1;\n",
       "}\n",
       "#T_94ea8_row0_col2 {\n",
       "  background-color: #481769;\n",
       "  color: #f1f1f1;\n",
       "}\n",
       "#T_94ea8_row0_col3 {\n",
       "  background-color: #481c6e;\n",
       "  color: #f1f1f1;\n",
       "}\n",
       "#T_94ea8_row0_col4 {\n",
       "  background-color: #471365;\n",
       "  color: #f1f1f1;\n",
       "}\n",
       "#T_94ea8_row0_col5, #T_94ea8_row0_col6, #T_94ea8_row0_col7, #T_94ea8_row0_col9, #T_94ea8_row2_col8, #T_94ea8_row2_col9, #T_94ea8_row4_col0, #T_94ea8_row4_col1, #T_94ea8_row4_col2, #T_94ea8_row4_col3, #T_94ea8_row4_col4, #T_94ea8_row4_col8, #T_94ea8_row4_col9 {\n",
       "  background-color: #440154;\n",
       "  color: #f1f1f1;\n",
       "}\n",
       "#T_94ea8_row0_col8, #T_94ea8_row4_col5, #T_94ea8_row5_col5, #T_94ea8_row5_col6, #T_94ea8_row5_col9 {\n",
       "  background-color: #440256;\n",
       "  color: #f1f1f1;\n",
       "}\n",
       "#T_94ea8_row1_col0, #T_94ea8_row1_col1, #T_94ea8_row1_col2, #T_94ea8_row1_col3, #T_94ea8_row1_col4, #T_94ea8_row1_col5, #T_94ea8_row1_col6, #T_94ea8_row1_col7, #T_94ea8_row1_col8, #T_94ea8_row1_col9 {\n",
       "  background-color: #fde725;\n",
       "  color: #000000;\n",
       "}\n",
       "#T_94ea8_row2_col0 {\n",
       "  background-color: #470d60;\n",
       "  color: #f1f1f1;\n",
       "}\n",
       "#T_94ea8_row2_col1, #T_94ea8_row5_col1 {\n",
       "  background-color: #460a5d;\n",
       "  color: #f1f1f1;\n",
       "}\n",
       "#T_94ea8_row2_col2 {\n",
       "  background-color: #481668;\n",
       "  color: #f1f1f1;\n",
       "}\n",
       "#T_94ea8_row2_col3 {\n",
       "  background-color: #472d7b;\n",
       "  color: #f1f1f1;\n",
       "}\n",
       "#T_94ea8_row2_col4 {\n",
       "  background-color: #481a6c;\n",
       "  color: #f1f1f1;\n",
       "}\n",
       "#T_94ea8_row2_col5, #T_94ea8_row4_col6, #T_94ea8_row5_col8 {\n",
       "  background-color: #450457;\n",
       "  color: #f1f1f1;\n",
       "}\n",
       "#T_94ea8_row2_col6 {\n",
       "  background-color: #450559;\n",
       "  color: #f1f1f1;\n",
       "}\n",
       "#T_94ea8_row2_col7 {\n",
       "  background-color: #443b84;\n",
       "  color: #f1f1f1;\n",
       "}\n",
       "#T_94ea8_row3_col0 {\n",
       "  background-color: #7cd250;\n",
       "  color: #000000;\n",
       "}\n",
       "#T_94ea8_row3_col1 {\n",
       "  background-color: #67cc5c;\n",
       "  color: #000000;\n",
       "}\n",
       "#T_94ea8_row3_col2 {\n",
       "  background-color: #c5e021;\n",
       "  color: #000000;\n",
       "}\n",
       "#T_94ea8_row3_col3 {\n",
       "  background-color: #a0da39;\n",
       "  color: #000000;\n",
       "}\n",
       "#T_94ea8_row3_col4 {\n",
       "  background-color: #98d83e;\n",
       "  color: #000000;\n",
       "}\n",
       "#T_94ea8_row3_col5 {\n",
       "  background-color: #58c765;\n",
       "  color: #000000;\n",
       "}\n",
       "#T_94ea8_row3_col6 {\n",
       "  background-color: #2eb37c;\n",
       "  color: #f1f1f1;\n",
       "}\n",
       "#T_94ea8_row3_col7 {\n",
       "  background-color: #e5e419;\n",
       "  color: #000000;\n",
       "}\n",
       "#T_94ea8_row3_col8 {\n",
       "  background-color: #8ed645;\n",
       "  color: #000000;\n",
       "}\n",
       "#T_94ea8_row3_col9 {\n",
       "  background-color: #81d34d;\n",
       "  color: #000000;\n",
       "}\n",
       "#T_94ea8_row4_col7 {\n",
       "  background-color: #46307e;\n",
       "  color: #f1f1f1;\n",
       "}\n",
       "#T_94ea8_row5_col2 {\n",
       "  background-color: #481467;\n",
       "  color: #f1f1f1;\n",
       "}\n",
       "#T_94ea8_row5_col3 {\n",
       "  background-color: #46075a;\n",
       "  color: #f1f1f1;\n",
       "}\n",
       "#T_94ea8_row5_col7 {\n",
       "  background-color: #482979;\n",
       "  color: #f1f1f1;\n",
       "}\n",
       "</style>\n",
       "<table id=\"T_94ea8\">\n",
       "  <thead>\n",
       "    <tr>\n",
       "      <th class=\"blank\" >&nbsp;</th>\n",
       "      <th class=\"blank\" >&nbsp;</th>\n",
       "      <th class=\"blank level0\" >&nbsp;</th>\n",
       "      <th id=\"T_94ea8_level0_col0\" class=\"col_heading level0 col0\" >corrs_test_mean</th>\n",
       "      <th id=\"T_94ea8_level0_col1\" class=\"col_heading level0 col1\" >corrs_test_median</th>\n",
       "      <th id=\"T_94ea8_level0_col2\" class=\"col_heading level0 col2\" >corrs_test_frac>0</th>\n",
       "      <th id=\"T_94ea8_level0_col3\" class=\"col_heading level0 col3\" >corrs_test_mean_top1_percentile</th>\n",
       "      <th id=\"T_94ea8_level0_col4\" class=\"col_heading level0 col4\" >corrs_test_mean_top5_percentile</th>\n",
       "      <th id=\"T_94ea8_level0_col5\" class=\"col_heading level0 col5\" >corrs_tune_mean</th>\n",
       "      <th id=\"T_94ea8_level0_col6\" class=\"col_heading level0 col6\" >corrs_tune_median</th>\n",
       "      <th id=\"T_94ea8_level0_col7\" class=\"col_heading level0 col7\" >corrs_tune_frac>0</th>\n",
       "      <th id=\"T_94ea8_level0_col8\" class=\"col_heading level0 col8\" >corrs_tune_mean_top1_percentile</th>\n",
       "      <th id=\"T_94ea8_level0_col9\" class=\"col_heading level0 col9\" >corrs_tune_mean_top5_percentile</th>\n",
       "    </tr>\n",
       "    <tr>\n",
       "      <th class=\"index_name level0\" >feature_space</th>\n",
       "      <th class=\"index_name level1\" >ndelays</th>\n",
       "      <th class=\"index_name level2\" >nboots</th>\n",
       "      <th class=\"blank col0\" >&nbsp;</th>\n",
       "      <th class=\"blank col1\" >&nbsp;</th>\n",
       "      <th class=\"blank col2\" >&nbsp;</th>\n",
       "      <th class=\"blank col3\" >&nbsp;</th>\n",
       "      <th class=\"blank col4\" >&nbsp;</th>\n",
       "      <th class=\"blank col5\" >&nbsp;</th>\n",
       "      <th class=\"blank col6\" >&nbsp;</th>\n",
       "      <th class=\"blank col7\" >&nbsp;</th>\n",
       "      <th class=\"blank col8\" >&nbsp;</th>\n",
       "      <th class=\"blank col9\" >&nbsp;</th>\n",
       "    </tr>\n",
       "  </thead>\n",
       "  <tbody>\n",
       "    <tr>\n",
       "      <th id=\"T_94ea8_level0_row0\" class=\"row_heading level0 row0\" rowspan=\"2\">bert-10</th>\n",
       "      <th id=\"T_94ea8_level1_row0\" class=\"row_heading level1 row0\" rowspan=\"2\">4</th>\n",
       "      <th id=\"T_94ea8_level2_row0\" class=\"row_heading level2 row0\" >10</th>\n",
       "      <td id=\"T_94ea8_row0_col0\" class=\"data row0 col0\" >0.0032</td>\n",
       "      <td id=\"T_94ea8_row0_col1\" class=\"data row0 col1\" >0.0029</td>\n",
       "      <td id=\"T_94ea8_row0_col2\" class=\"data row0 col2\" >0.5229</td>\n",
       "      <td id=\"T_94ea8_row0_col3\" class=\"data row0 col3\" >0.1874</td>\n",
       "      <td id=\"T_94ea8_row0_col4\" class=\"data row0 col4\" >0.1282</td>\n",
       "      <td id=\"T_94ea8_row0_col5\" class=\"data row0 col5\" >0.0063</td>\n",
       "      <td id=\"T_94ea8_row0_col6\" class=\"data row0 col6\" >0.0062</td>\n",
       "      <td id=\"T_94ea8_row0_col7\" class=\"data row0 col7\" >0.7582</td>\n",
       "      <td id=\"T_94ea8_row0_col8\" class=\"data row0 col8\" >0.0322</td>\n",
       "      <td id=\"T_94ea8_row0_col9\" class=\"data row0 col9\" >0.0259</td>\n",
       "    </tr>\n",
       "    <tr>\n",
       "      <th id=\"T_94ea8_level2_row1\" class=\"row_heading level2 row1\" >50</th>\n",
       "      <td id=\"T_94ea8_row1_col0\" class=\"data row1 col0\" >0.1312</td>\n",
       "      <td id=\"T_94ea8_row1_col1\" class=\"data row1 col1\" >0.0936</td>\n",
       "      <td id=\"T_94ea8_row1_col2\" class=\"data row1 col2\" >0.8633</td>\n",
       "      <td id=\"T_94ea8_row1_col3\" class=\"data row1 col3\" >0.5806</td>\n",
       "      <td id=\"T_94ea8_row1_col4\" class=\"data row1 col4\" >0.4904</td>\n",
       "      <td id=\"T_94ea8_row1_col5\" class=\"data row1 col5\" >0.0714</td>\n",
       "      <td id=\"T_94ea8_row1_col6\" class=\"data row1 col6\" >0.0457</td>\n",
       "      <td id=\"T_94ea8_row1_col7\" class=\"data row1 col7\" >0.9739</td>\n",
       "      <td id=\"T_94ea8_row1_col8\" class=\"data row1 col8\" >0.3551</td>\n",
       "      <td id=\"T_94ea8_row1_col9\" class=\"data row1 col9\" >0.2827</td>\n",
       "    </tr>\n",
       "    <tr>\n",
       "      <th id=\"T_94ea8_level0_row2\" class=\"row_heading level0 row2\" rowspan=\"2\">eng1000</th>\n",
       "      <th id=\"T_94ea8_level1_row2\" class=\"row_heading level1 row2\" rowspan=\"2\">4</th>\n",
       "      <th id=\"T_94ea8_level2_row2\" class=\"row_heading level2 row2\" >10</th>\n",
       "      <td id=\"T_94ea8_row2_col0\" class=\"data row2 col0\" >0.0044</td>\n",
       "      <td id=\"T_94ea8_row2_col1\" class=\"data row2 col1\" >0.0026</td>\n",
       "      <td id=\"T_94ea8_row2_col2\" class=\"data row2 col2\" >0.5213</td>\n",
       "      <td id=\"T_94ea8_row2_col3\" class=\"data row2 col3\" >0.2092</td>\n",
       "      <td id=\"T_94ea8_row2_col4\" class=\"data row2 col4\" >0.1351</td>\n",
       "      <td id=\"T_94ea8_row2_col5\" class=\"data row2 col5\" >0.0069</td>\n",
       "      <td id=\"T_94ea8_row2_col6\" class=\"data row2 col6\" >0.0067</td>\n",
       "      <td id=\"T_94ea8_row2_col7\" class=\"data row2 col7\" >0.7961</td>\n",
       "      <td id=\"T_94ea8_row2_col8\" class=\"data row2 col8\" >0.0309</td>\n",
       "      <td id=\"T_94ea8_row2_col9\" class=\"data row2 col9\" >0.0249</td>\n",
       "    </tr>\n",
       "    <tr>\n",
       "      <th id=\"T_94ea8_level2_row3\" class=\"row_heading level2 row3\" >50</th>\n",
       "      <td id=\"T_94ea8_row3_col0\" class=\"data row3 col0\" >0.1052</td>\n",
       "      <td id=\"T_94ea8_row3_col1\" class=\"data row3 col1\" >0.0719</td>\n",
       "      <td id=\"T_94ea8_row3_col2\" class=\"data row3 col2\" >0.8318</td>\n",
       "      <td id=\"T_94ea8_row3_col3\" class=\"data row3 col3\" >0.5206</td>\n",
       "      <td id=\"T_94ea8_row3_col4\" class=\"data row3 col4\" >0.4311</td>\n",
       "      <td id=\"T_94ea8_row3_col5\" class=\"data row3 col5\" >0.0544</td>\n",
       "      <td id=\"T_94ea8_row3_col6\" class=\"data row3 col6\" >0.0317</td>\n",
       "      <td id=\"T_94ea8_row3_col7\" class=\"data row3 col7\" >0.9654</td>\n",
       "      <td id=\"T_94ea8_row3_col8\" class=\"data row3 col8\" >0.3006</td>\n",
       "      <td id=\"T_94ea8_row3_col9\" class=\"data row3 col9\" >0.2335</td>\n",
       "    </tr>\n",
       "    <tr>\n",
       "      <th id=\"T_94ea8_level0_row4\" class=\"row_heading level0 row4\" rowspan=\"2\">qa_embedder-5</th>\n",
       "      <th id=\"T_94ea8_level1_row4\" class=\"row_heading level1 row4\" >4</th>\n",
       "      <th id=\"T_94ea8_level2_row4\" class=\"row_heading level2 row4\" >10</th>\n",
       "      <td id=\"T_94ea8_row4_col0\" class=\"data row4 col0\" >0.0002</td>\n",
       "      <td id=\"T_94ea8_row4_col1\" class=\"data row4 col1\" >0.0002</td>\n",
       "      <td id=\"T_94ea8_row4_col2\" class=\"data row4 col2\" >0.5014</td>\n",
       "      <td id=\"T_94ea8_row4_col3\" class=\"data row4 col3\" >0.1543</td>\n",
       "      <td id=\"T_94ea8_row4_col4\" class=\"data row4 col4\" >0.1092</td>\n",
       "      <td id=\"T_94ea8_row4_col5\" class=\"data row4 col5\" >0.0068</td>\n",
       "      <td id=\"T_94ea8_row4_col6\" class=\"data row4 col6\" >0.0066</td>\n",
       "      <td id=\"T_94ea8_row4_col7\" class=\"data row4 col7\" >0.7880</td>\n",
       "      <td id=\"T_94ea8_row4_col8\" class=\"data row4 col8\" >0.0316</td>\n",
       "      <td id=\"T_94ea8_row4_col9\" class=\"data row4 col9\" >0.0253</td>\n",
       "    </tr>\n",
       "    <tr>\n",
       "      <th id=\"T_94ea8_level1_row5\" class=\"row_heading level1 row5\" >8</th>\n",
       "      <th id=\"T_94ea8_level2_row5\" class=\"row_heading level2 row5\" >10</th>\n",
       "      <td id=\"T_94ea8_row5_col0\" class=\"data row5 col0\" >0.0032</td>\n",
       "      <td id=\"T_94ea8_row5_col1\" class=\"data row5 col1\" >0.0026</td>\n",
       "      <td id=\"T_94ea8_row5_col2\" class=\"data row5 col2\" >0.5208</td>\n",
       "      <td id=\"T_94ea8_row5_col3\" class=\"data row5 col3\" >0.1621</td>\n",
       "      <td id=\"T_94ea8_row5_col4\" class=\"data row5 col4\" >0.1180</td>\n",
       "      <td id=\"T_94ea8_row5_col5\" class=\"data row5 col5\" >0.0068</td>\n",
       "      <td id=\"T_94ea8_row5_col6\" class=\"data row5 col6\" >0.0065</td>\n",
       "      <td id=\"T_94ea8_row5_col7\" class=\"data row5 col7\" >0.7832</td>\n",
       "      <td id=\"T_94ea8_row5_col8\" class=\"data row5 col8\" >0.0336</td>\n",
       "      <td id=\"T_94ea8_row5_col9\" class=\"data row5 col9\" >0.0263</td>\n",
       "    </tr>\n",
       "  </tbody>\n",
       "</table>\n"
      ],
      "text/plain": [
       "<pandas.io.formats.style.Styler at 0x7f1f3f383050>"
      ]
     },
     "execution_count": 34,
     "metadata": {},
     "output_type": "execute_result"
    }
   ],
   "source": [
    "(\n",
    "    d\n",
    "    .style\n",
    "    .background_gradient(cmap='viridis', axis=0)\n",
    "    .format(precision=4)\n",
    ")"
   ]
  },
  {
   "cell_type": "code",
   "execution_count": 4,
   "metadata": {},
   "outputs": [
    {
     "data": {
      "text/plain": [
       "['corrs_tune',\n",
       " 'corrs_tune_mean',\n",
       " 'corrs_tune_median',\n",
       " 'corrs_tune_frac>0',\n",
       " 'corrs_tune_mean_top1_percentile',\n",
       " 'corrs_tune_mean_top5_percentile']"
      ]
     },
     "execution_count": 4,
     "metadata": {},
     "output_type": "execute_result"
    }
   ],
   "source": [
    "mets"
   ]
  },
  {
   "cell_type": "code",
   "execution_count": 9,
   "metadata": {},
   "outputs": [],
   "source": [
    "row = r.iloc[0]\n",
    "model_params = joblib.load(join(row.save_dir_unique, 'model_params.pkl'))"
   ]
  },
  {
   "cell_type": "code",
   "execution_count": 12,
   "metadata": {},
   "outputs": [
    {
     "data": {
      "text/plain": [
       "(95556,)"
      ]
     },
     "execution_count": 12,
     "metadata": {},
     "output_type": "execute_result"
    }
   ],
   "source": [
    "model_params['alphas_best'].shape"
   ]
  },
  {
   "cell_type": "code",
   "execution_count": 7,
   "metadata": {},
   "outputs": [
    {
     "data": {
      "text/plain": [
       "'/home/chansingh/fmri/results/367581222e71c5f54e885907e6016319a6127a52ec28ff74bb34c4d388e63b91'"
      ]
     },
     "execution_count": 7,
     "metadata": {},
     "output_type": "execute_result"
    }
   ],
   "source": []
  },
  {
   "cell_type": "code",
   "execution_count": null,
   "metadata": {},
   "outputs": [],
   "source": [
    "mets = []\n",
    "for k in corrs:\n",
    "    c = corrs[k]\n",
    "    met = get_mets(c)\n",
    "    met['model'] = k\n",
    "    mets.append(met)\n",
    "mets = pd.DataFrame.from_dict(mets).round(3)  # .set_index('model')"
   ]
  },
  {
   "cell_type": "code",
   "execution_count": null,
   "metadata": {},
   "outputs": [],
   "source": [
    "mets.style.set_precision(3).background_gradient(axis='index', cmap='plasma')"
   ]
  },
  {
   "cell_type": "code",
   "execution_count": null,
   "metadata": {},
   "outputs": [],
   "source": [
    "# keys_compare = ['eng1000__ndel=4', 'glove__ndel=4', 'bert-10__ndel=4']\n",
    "m = mets[\n",
    "    mets.model.str.contains('__ndel=4') & ~mets.model.str.contains(\n",
    "        '-5') & ~mets.model.str.contains('-20') & ~mets.model.str.contains('-3')\n",
    "]\n",
    "m = m.set_index('model').sort_values('mean-top1%', ascending=False)\n",
    "m.style.set_precision(3).background_gradient(axis='index', cmap='plasma')"
   ]
  },
  {
   "cell_type": "code",
   "execution_count": null,
   "metadata": {},
   "outputs": [],
   "source": [
    "met = 'mean-top98'\n",
    "ndels = [1, 2, 3, 4, 5, 6]\n",
    "ngram_sizes = [3, 5, 10, 20]\n",
    "vals = np.zeros((len(ndels), len(ngram_sizes)))\n",
    "for i, ndel in enumerate(ndels):\n",
    "    for j, ngram_size in enumerate(ngram_sizes):\n",
    "        s = f'bert-{ngram_size}__ndel={ndel}'\n",
    "        if s in mets.model.values:\n",
    "            vals[i, j] = mets[mets.model == s][met].values"
   ]
  },
  {
   "cell_type": "code",
   "execution_count": null,
   "metadata": {},
   "outputs": [],
   "source": [
    "sns.heatmap(vals, xticklabels=ngram_sizes,\n",
    "            yticklabels=ndels, cbar_kws={'label': met})\n",
    "plt.xlabel('Ngram sizes')\n",
    "plt.ylabel('Num delays')\n",
    "plt.show()"
   ]
  },
  {
   "cell_type": "code",
   "execution_count": null,
   "metadata": {},
   "outputs": [],
   "source": [
    "R, C = 1, 3\n",
    "glove = 'glove__ndel=4'\n",
    "bert = 'bert-10__ndel=4'\n",
    "bert_long = 'bert-20__ndel=4'\n",
    "eng1000 = 'eng1000__ndel=4'\n",
    "\n",
    "\n",
    "def set_axes():\n",
    "    plt.plot([-.4, .6], [-.4, .6])\n",
    "    plt.xlim([0.2, .7])\n",
    "    plt.ylim([0.2, 0.7])\n",
    "    plt.ylabel('BERT corr test')\n",
    "\n",
    "\n",
    "plt.figure(figsize=(C * 3, R * 3))\n",
    "plt.subplot(R, C, 1)\n",
    "plt.plot(corrs[bert_long], corrs[bert], '.', alpha=0.4, ms=1)\n",
    "plt.xlabel('GloVE corr test')\n",
    "set_axes()\n",
    "\n",
    "plt.subplot(R, C, 2)\n",
    "plt.plot(corrs[bert_long], corrs[bert], '.', alpha=0.4, ms=1)\n",
    "plt.xlabel('Eng1000 corr test')\n",
    "set_axes()\n",
    "\n",
    "plt.subplot(R, C, 3)\n",
    "plt.plot(corrs[bert_long], corrs[bert], '.', alpha=0.4, ms=1)\n",
    "plt.xlabel('BERT-long corr test')\n",
    "set_axes()\n",
    "\n",
    "plt.show()"
   ]
  },
  {
   "cell_type": "code",
   "execution_count": null,
   "metadata": {},
   "outputs": [],
   "source": [
    "plt.hist(corrs[glove])\n",
    "plt.hist(corrs[bert], alpha=0.8)"
   ]
  },
  {
   "cell_type": "code",
   "execution_count": null,
   "metadata": {},
   "outputs": [],
   "source": [
    "# compare two subjects\n",
    "corrs_glove_01 = np.load(\n",
    "    join(results_dir, 'glove', 'UTS01', 'corrs.npz'))['arr_0']\n",
    "print('01', np.mean(corrs_glove_01), '03', np.mean(corrs_glove))"
   ]
  }
 ],
 "metadata": {
  "kernelspec": {
   "display_name": "Python 3.8.10 ('.embgam')",
   "language": "python",
   "name": "python3"
  },
  "language_info": {
   "codemirror_mode": {
    "name": "ipython",
    "version": 3
   },
   "file_extension": ".py",
   "mimetype": "text/x-python",
   "name": "python",
   "nbconvert_exporter": "python",
   "pygments_lexer": "ipython3",
   "version": "3.11.8"
  },
  "orig_nbformat": 4,
  "vscode": {
   "interpreter": {
    "hash": "559535f78d940c882783b39501b2581b5193373045707e5f8a51d046029cfd38"
   }
  }
 },
 "nbformat": 4,
 "nbformat_minor": 2
}
