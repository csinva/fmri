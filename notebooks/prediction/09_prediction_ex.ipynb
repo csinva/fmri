{
 "cells": [
  {
   "cell_type": "code",
   "execution_count": 2,
   "metadata": {},
   "outputs": [],
   "source": [
    "%load_ext autoreload\n",
    "%autoreload 2\n",
    "import sys\n",
    "sys.path.append('..')\n",
    "import dvu\n",
    "import seaborn as sns\n",
    "import os\n",
    "import pandas as pd\n",
    "from copy import deepcopy\n",
    "from matplotlib import pyplot as plt\n",
    "from os.path import join\n",
    "import numpy as np\n",
    "# import imodelsx.process_results\n",
    "# import ridge_utils.features.qa_questions\n",
    "import neuro.features.feature_utils\n",
    "import joblib\n",
    "from tqdm import tqdm\n",
    "# import analyze_helper\n",
    "# fit_encoding = __import__('02_fit_encoding')\n",
    "dvu.set_style()\n",
    "\n",
    "# results_dir = analyze_helper.best_results_dir\n",
    "# r, cols_varied, mets = analyze_helper.load_clean_results(results_dir)\n",
    "data = joblib.load('results.pkl')\n",
    "r, cols_varied, mets = data['r'], data['cols_varied'], data['mets']"
   ]
  },
  {
   "cell_type": "markdown",
   "metadata": {},
   "source": [
    "### Validate model weights usage"
   ]
  },
  {
   "cell_type": "code",
   "execution_count": 3,
   "metadata": {},
   "outputs": [],
   "source": [
    "args = r[(r.pc_components == 100) * (r.ndelays == 8) * (r.feature_space.str.contains('qa_emb')) * (r.feature_selection_alpha < 0)\n",
    "         ].sort_values(by='corrs_test_mean').iloc[-1]"
   ]
  },
  {
   "cell_type": "code",
   "execution_count": 4,
   "metadata": {},
   "outputs": [],
   "source": [
    "stim_test_delayed = neuro.features.feature_utils.get_features_full(\n",
    "    args, feature_space='qa_embedder',\n",
    "    qa_embedding_model='meta-llama/Meta-Llama-3-8B-Instruct', story_names=['sloth'])"
   ]
  },
  {
   "cell_type": "code",
   "execution_count": 5,
   "metadata": {},
   "outputs": [],
   "source": [
    "import neuro.data.response_utils"
   ]
  },
  {
   "cell_type": "code",
   "execution_count": 6,
   "metadata": {},
   "outputs": [],
   "source": [
    "args.pc_components = 0\n",
    "args.use_huge = False\n",
    "resp_train, resp_test = neuro.data.response_utils.get_resps_full(\n",
    "    args, 'UTS03', ['sloth'], ['sloth'])"
   ]
  },
  {
   "cell_type": "code",
   "execution_count": 7,
   "metadata": {},
   "outputs": [
    {
     "name": "stdout",
     "output_type": "stream",
     "text": [
      "qa_embedder 0 8\n"
     ]
    },
    {
     "name": "stderr",
     "output_type": "stream",
     "text": [
      "/home/chansingh/.env/lib/python3.11/site-packages/sklearn/base.py:376: InconsistentVersionWarning: Trying to unpickle estimator StandardScaler from version 1.4.2 when using version 1.5.2. This might lead to breaking code or invalid results. Use at your own risk. For more info please refer to:\n",
      "https://scikit-learn.org/stable/model_persistence.html#security-maintainability-limitations\n",
      "  warnings.warn(\n"
     ]
    }
   ],
   "source": [
    "model_params = joblib.load(\n",
    "    join(args.save_dir_unique, 'model_params.pkl'))\n",
    "print(args.feature_space, args.pc_components, args.ndelays)"
   ]
  },
  {
   "cell_type": "code",
   "execution_count": 8,
   "metadata": {},
   "outputs": [],
   "source": [
    "wt = model_params['weights']\n",
    "preds_test = stim_test_delayed @ wt"
   ]
  },
  {
   "cell_type": "code",
   "execution_count": 9,
   "metadata": {},
   "outputs": [
    {
     "data": {
      "text/plain": [
       "subject                                                                             S03\n",
       "pc_components                                                                         0\n",
       "num_stories                                                                          -1\n",
       "distill_model_path                                                                  NaN\n",
       "feature_space                                                               qa_embedder\n",
       "embedding_layer                                                                      -1\n",
       "input_chunking_type                                                               ngram\n",
       "input_chunking_size                                                                  10\n",
       "feature_selection_alpha                                                            -1.0\n",
       "feature_selection_frac                                                              0.5\n",
       "feature_selection_stability_seeds                                                  -1.0\n",
       "qa_embedding_model                                                            ensemble1\n",
       "qa_questions_version                                                   v3_boostexamples\n",
       "encoding_model                                                                    ridge\n",
       "ndelays                                                                               8\n",
       "nboots                                                                                5\n",
       "chunklen                                                                             40\n",
       "nchunks                                                                             125\n",
       "singcutoff                                                                          0.0\n",
       "single_alpha                                                                      False\n",
       "seed                                                                                  1\n",
       "use_test_setup                                                                        0\n",
       "save_dir                                  /home/chansingh/mntv1/deep-fMRI/encoding/may7\n",
       "use_cache                                                                             1\n",
       "use_save_features                                                                     1\n",
       "use_extract_only                                                                      0\n",
       "seed_stories                                                                     619004\n",
       "save_dir_unique                       /home/chansingh/mntv1/deep-fMRI/encoding/may7/...\n",
       "corrs_tune_pc                         [0.11209755510912134, 0.3332123210869318, 0.12...\n",
       "corrs_test_pc                         [0.2515004070049682, 0.3946497134647576, 0.228...\n",
       "corrs_test                            [0.02000460587720556, 0.05136281712325122, 0.0...\n",
       "corrs_tune_pc_weighted_mean                                                    0.157799\n",
       "corrs_test_mean                                                                0.133804\n",
       "corrs_test_median                                                              0.102086\n",
       "corrs_test_frac>0                                                              0.918226\n",
       "corrs_test_mean_top1_percentile                                                0.521815\n",
       "corrs_test_mean_top5_percentile                                                 0.44392\n",
       "r2_test_mean                                                                   0.032616\n",
       "r2_test_median                                                                 0.010421\n",
       "corrs_tune_pc_mean                                                              0.13615\n",
       "corrs_tune_pc_median                                                           0.122388\n",
       "corrs_tune_pc_frac>0                                                                1.0\n",
       "corrs_tune_pc_mean_top1_percentile                                             0.397937\n",
       "corrs_tune_pc_mean_top5_percentile                                             0.328946\n",
       "r2_tune_pc_mean                                                                0.023284\n",
       "r2_tune_pc_median                                                              0.014979\n",
       "corrs_test_pc_mean                                                             0.245557\n",
       "corrs_test_pc_median                                                           0.243387\n",
       "corrs_test_pc_frac>0                                                                1.0\n",
       "corrs_test_pc_mean_top1_percentile                                             0.582201\n",
       "corrs_test_pc_mean_top5_percentile                                             0.491326\n",
       "r2_test_pc_mean                                                                0.071258\n",
       "r2_test_pc_median                                                              0.059237\n",
       "use_shared_feature_selection                                                        NaN\n",
       "feature_selection_alpha_index                                                       NaN\n",
       "weight_enet_mask                                                                    NaN\n",
       "weight_enet_mask_num_nonzero                                                        NaN\n",
       "use_eval_brain_drive                                                                0.0\n",
       "use_added_wordrate_feature                                                            0\n",
       "use_random_subset_features                                                            0\n",
       "single_question_idx                                                                  -1\n",
       "corrs_test_mean_sem                                                            0.000394\n",
       "feature_space_simplified                                                    qa_embedder\n",
       "Name: 953, dtype: object"
      ]
     },
     "metadata": {},
     "output_type": "display_data"
    }
   ],
   "source": [
    "# display full\n",
    "with pd.option_context('display.max_rows', None, 'display.max_columns', None):\n",
    "    display(args)"
   ]
  },
  {
   "cell_type": "markdown",
   "metadata": {},
   "source": [
    "### Validate corrs"
   ]
  },
  {
   "cell_type": "code",
   "execution_count": 11,
   "metadata": {},
   "outputs": [
    {
     "name": "stderr",
     "output_type": "stream",
     "text": [
      "100%|██████████| 95556/95556 [00:17<00:00, 5490.01it/s]\n"
     ]
    },
    {
     "name": "stdout",
     "output_type": "stream",
     "text": [
      "0.11996419844218449\n",
      "0.13380407146651993\n"
     ]
    },
    {
     "ename": "AssertionError",
     "evalue": "",
     "output_type": "error",
     "traceback": [
      "\u001b[0;31m---------------------------------------------------------------------------\u001b[0m",
      "\u001b[0;31mAssertionError\u001b[0m                            Traceback (most recent call last)",
      "Cell \u001b[0;32mIn[11], line 14\u001b[0m\n\u001b[1;32m     12\u001b[0m \u001b[38;5;28mprint\u001b[39m(np\u001b[38;5;241m.\u001b[39mmean(corrs_test))\n\u001b[1;32m     13\u001b[0m \u001b[38;5;28mprint\u001b[39m(args\u001b[38;5;241m.\u001b[39mcorrs_test_mean)\n\u001b[0;32m---> 14\u001b[0m \u001b[38;5;28;01massert\u001b[39;00m np\u001b[38;5;241m.\u001b[39mallclose(corrs_test, args[\u001b[38;5;124m'\u001b[39m\u001b[38;5;124mcorrs_test\u001b[39m\u001b[38;5;124m'\u001b[39m])\n",
      "\u001b[0;31mAssertionError\u001b[0m: "
     ]
    }
   ],
   "source": [
    "def _calc_corrs(preds, resp):\n",
    "    corrs = []\n",
    "    for i in tqdm(range(preds.shape[1])):\n",
    "        corrs.append(np.corrcoef(\n",
    "            preds[:, i], resp[:, i])[0, 1])\n",
    "    return np.array(corrs)\n",
    "\n",
    "\n",
    "wt = model_params['weights']\n",
    "preds_test = stim_test_delayed @ wt\n",
    "corrs_test = _calc_corrs(preds_test, resp_test)\n",
    "print(np.mean(corrs_test))\n",
    "print(args.corrs_test_mean)\n",
    "assert np.allclose(corrs_test, args['corrs_test'])"
   ]
  },
  {
   "cell_type": "code",
   "execution_count": 12,
   "metadata": {},
   "outputs": [
    {
     "data": {
      "image/png": "[encoded data removed]",
      "text/plain": [
       "<Figure size 400x300 with 1 Axes>"
      ]
     },
     "metadata": {},
     "output_type": "display_data"
    }
   ],
   "source": [
    "a = np.argmax(corrs_test)\n",
    "preds_voxel_best = preds_test[:, a]\n",
    "resp_voxel_best = resp_test[:, a]\n",
    "plt.figure(figsize=(4, 3))\n",
    "plt.plot(resp_voxel_best / np.std(resp_voxel_best), color='gray', lw=4)\n",
    "plt.plot(preds_voxel_best / np.std(preds_voxel_best) /\n",
    "         1.2, color='C0', lw=3)  # , resp_voxel_best, 'o')\n",
    "plt.xlim((250, 350))\n",
    "plt.ylim((-6, 5))\n",
    "plt.xticks([])\n",
    "plt.yticks([])\n",
    "# remove all splines\n",
    "for spine in plt.gca().spines.values():\n",
    "    spine.set_visible(False)\n",
    "plt.savefig('../figs/ex_curve.pdf', bbox_inches='tight')\n",
    "plt.savefig('../figs/ex_curve.png', bbox_inches='tight', dpi=300)"
   ]
  },
  {
   "cell_type": "code",
   "execution_count": null,
   "metadata": {},
   "outputs": [],
   "source": [
    "wt = model_params['weights']\n",
    "# + model_params_to_save['bias'] (not needed for just calculating corr, but needed for predictions)\n",
    "preds_test = stim_test_delayed @ wt\n",
    "\n",
    "corrs_test = _calc_corrs(preds_test, resp_test)\n",
    "print(np.mean(corrs_test))\n",
    "print(args.corrs_test_mean)\n",
    "assert np.allclose(corrs_test, args['corrs_test'])"
   ]
  },
  {
   "cell_type": "markdown",
   "metadata": {},
   "source": [
    "### Original setup, before we had unpacked weights"
   ]
  },
  {
   "cell_type": "code",
   "execution_count": null,
   "metadata": {},
   "outputs": [],
   "source": [
    "import ridge_utils.data.story_names\n",
    "story_names_train = ridge_utils.data.story_names.get_story_names(\n",
    "    subject='UTS03', train_or_test='train')\n",
    "story_names_test = ridge_utils.data.story_names.get_story_names(\n",
    "    subject='UTS03', train_or_test='test')"
   ]
  },
  {
   "cell_type": "code",
   "execution_count": null,
   "metadata": {},
   "outputs": [],
   "source": [
    "args.pc_components = 0\n",
    "resp_train, resp_test = fit_encoding.get_resps_full(\n",
    "    args, args.subject, story_names_train, story_names_test)"
   ]
  },
  {
   "cell_type": "code",
   "execution_count": null,
   "metadata": {},
   "outputs": [],
   "source": [
    "wt_pc = model_params['weights_pc']\n",
    "pca = model_params['pca']\n",
    "scaler_test = model_params['scaler_test']\n",
    "preds_pc = stim_test_delayed @ wt_pc\n",
    "preds_pc_scaled = scaler_test.inverse_transform(preds_pc)\n",
    "preds_voxels = pca.inverse_transform(preds_pc_scaled)\n",
    "corrs_test = _calc_corrs(preds_voxels, resp_test)\n",
    "assert np.allclose(corrs_test, args['corrs_test'])"
   ]
  },
  {
   "cell_type": "code",
   "execution_count": null,
   "metadata": {},
   "outputs": [],
   "source": [
    "# Vary number of pcs included\n",
    "num_pcs = [5, 25, 50, 100, 200, 500, 1000]\n",
    "corrs = []\n",
    "for num_pc in num_pcs:\n",
    "    wt_pc = model_params['weights_pc']\n",
    "    pca = fit_encoding.get_pca('UTS03')\n",
    "    scaler_test = model_params['scaler_test']\n",
    "    preds_pc = stim_test_delayed @ wt_pc\n",
    "    preds_pc_scaled = scaler_test.inverse_transform(preds_pc)\n",
    "\n",
    "    pca_subset = deepcopy(pca)\n",
    "    pca_subset.components_[num_pc:] = 0\n",
    "    preds_voxels = pca_subset.inverse_transform(preds_pc_scaled)\n",
    "\n",
    "    corrs_test = _calc_corrs(preds_voxels, resp_test)\n",
    "    # assert np.allclose(corrs_test, args['corrs_test'])\n",
    "    print(num_pc, np.mean(corrs_test))\n",
    "    corrs.append(np.mean(corrs_test))\n",
    "plt.plot(num_pcs, corrs)"
   ]
  },
  {
   "cell_type": "code",
   "execution_count": null,
   "metadata": {},
   "outputs": [],
   "source": [
    "corrs_test = fit_encoding.evaluate_pc_model_on_each_voxel(\n",
    "    args, stim_test_delayed, resp_test,\n",
    "    model_params, pca, scaler_test)"
   ]
  },
  {
   "cell_type": "code",
   "execution_count": null,
   "metadata": {},
   "outputs": [],
   "source": [
    "wt = model_params['weights']\n",
    "\n",
    "# multiply\n",
    "preds_pc = stim_test_delayed @ wt\n",
    "preds_pc_unscaled = preds_pc * scaler_test.scale_ + scaler_test.mean_\n",
    "preds_voxels2 = preds_pc_unscaled @ pca.components_ + pca.mean_\n",
    "\n",
    "# rewrite the above as a multiplication of a single weight matrix\n",
    "preds_voxels2 = (stim_test_delayed @ wt * scaler_test.scale_ +\n",
    "                 scaler_test.mean_) @ pca.components_ + pca.mean_\n",
    "weight_full = wt * scaler_test.scale_ @ pca.components_\n",
    "bias_full = scaler_test.mean_ @ pca.components_ + pca.mean_\n",
    "preds_voxels2 = stim_test_delayed @ weight_full + bias_full\n",
    "\n",
    "assert np.allclose(preds_voxels, preds_voxels2)"
   ]
  },
  {
   "cell_type": "code",
   "execution_count": null,
   "metadata": {},
   "outputs": [],
   "source": [
    "assert corrs_test.mean() == args.corrs_test_mean"
   ]
  }
 ],
 "metadata": {
  "kernelspec": {
   "display_name": ".env",
   "language": "python",
   "name": "python3"
  },
  "language_info": {
   "codemirror_mode": {
    "name": "ipython",
    "version": 3
   },
   "file_extension": ".py",
   "mimetype": "text/x-python",
   "name": "python",
   "nbconvert_exporter": "python",
   "pygments_lexer": "ipython3",
   "version": "3.11.10"
  },
  "orig_nbformat": 4
 },
 "nbformat": 4,
 "nbformat_minor": 2
}
