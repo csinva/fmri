{
 "cells": [
  {
   "cell_type": "code",
   "execution_count": 2,
   "metadata": {},
   "outputs": [],
   "source": [
    "%load_ext autoreload\n",
    "%autoreload 2\n",
    "import os\n",
    "from os.path import join, expanduser\n",
    "from tqdm import tqdm\n",
    "import pandas as pd\n",
    "import joblib\n",
    "import sys\n",
    "import numpy as np\n",
    "from copy import deepcopy\n",
    "from neuro.features.feat_select import get_alphas\n",
    "from neuro.features.qa_questions import get_questions, get_merged_questions_v3_boostexamples"
   ]
  },
  {
   "cell_type": "code",
   "execution_count": 3,
   "metadata": {},
   "outputs": [],
   "source": [
    "sparse_feats_dir = expanduser('~/mntv1/deep-fMRI/qa/sparse_feats_shared/')\n",
    "os.listdir(sparse_feats_dir)\n",
    "qa_sparse_feats_dir = join(\n",
    "    sparse_feats_dir,\n",
    "    # 'qa_embedder___qa_questions_version=v3_boostexamples___ensemble1')\n",
    "    'qa_embedder___qa_questions_version=v3_boostexamples_merged___ensemble2')\n",
    "# 'eng1000___qa_questions_version=v1___mistralai-Mistral-7B-Instruct-v0.2')\n",
    "# alphas = np.logspace(0, -3, 20)\n",
    "alphas = get_alphas('qa_embedder')\n",
    "# alphas = get_alphas('eng1000')"
   ]
  },
  {
   "cell_type": "code",
   "execution_count": null,
   "metadata": {},
   "outputs": [],
   "source": [
    "seeds = range(5)\n",
    "nonzeros = pd.DataFrame(index=seeds, columns=alphas).astype(float)\n",
    "enets = pd.DataFrame(index=seeds, columns=alphas)\n",
    "fnames = os.listdir(qa_sparse_feats_dir)\n",
    "for seed in tqdm(seeds):\n",
    "    for alpha in tqdm(alphas):\n",
    "        template = f'seed={seed}___feature_selection_frac=0.50___feature_selection_alpha={alpha:.2e}.joblib'\n",
    "        if template in fnames:\n",
    "            coef_enet = joblib.load(join(qa_sparse_feats_dir, template))\n",
    "            coef_enet_selected = deepcopy(\n",
    "                np.any(np.abs(coef_enet) > 0, axis=0).squeeze())\n",
    "            enets.loc[seed, alpha] = coef_enet_selected\n",
    "            nonzeros.loc[seed, alpha] = coef_enet_selected.sum()\n",
    "# template = f'seed={seed}___feature_selection_frac=0.50___feature_selection_alpha={feature_selection_alpha:.2e}.joblib'\n",
    "# os.listdir(qa_sparse_feats_dir)"
   ]
  },
  {
   "cell_type": "code",
   "execution_count": null,
   "metadata": {},
   "outputs": [],
   "source": [
    "# v3_boost_examples has 674, eng1000 has 985\n",
    "nonzeros.columns.name = 'alpha'\n",
    "nonzeros.index.name = 'seed'\n",
    "# nonzeros.columns = np.arange(len(nonzeros.columns))\n",
    "# enets.columns = nonzeros.columns\n",
    "# nonzeros.columns = nonzeros.columns.round(4)\n",
    "\n",
    "coefs_stable_dict = {}\n",
    "coefs_all_dict = {}\n",
    "# add row for fracs\n",
    "for col in nonzeros.columns:\n",
    "    coefs_list = enets[col]\n",
    "    coefs_list = coefs_list[coefs_list.notna()]\n",
    "\n",
    "    if len(coefs_list) > 0:\n",
    "        # get fraction of times each element is True\n",
    "        coefs_arr = np.vstack(coefs_list.values)\n",
    "        coefs_all = coefs_arr.max(axis=0)\n",
    "        coefs_arr = coefs_arr.min(axis=0)\n",
    "        nonzeros_stable = np.sum(coefs_arr)\n",
    "    else:\n",
    "        nonzeros_stable = np.nan\n",
    "    nonzeros.loc['stable', col] = nonzeros_stable\n",
    "    coefs_all_dict[col] = deepcopy(coefs_all)\n",
    "    coefs_stable_dict[col] = deepcopy(coefs_arr)\n",
    "\n",
    "display(\n",
    "    nonzeros\n",
    "    .style\n",
    "    .background_gradient(cmap='viridis', axis=None)\n",
    "    .format('{:.0f}')\n",
    ")"
   ]
  },
  {
   "cell_type": "markdown",
   "metadata": {},
   "source": [
    "### Detailed breakdown"
   ]
  },
  {
   "cell_type": "code",
   "execution_count": null,
   "metadata": {},
   "outputs": [],
   "source": [
    "# questions = np.array(get_questions('v3_boostexamples', full=True))\n",
    "questions = np.array(get_merged_questions_v3_boostexamples())\n",
    "# print(len(questions))\n",
    "qs_prev = []\n",
    "for i in range(5):\n",
    "    print(i, 'num questions:', len(\n",
    "        questions[list(coefs_stable_dict.values())[i]]))\n",
    "\n",
    "    print('----STABLE---')\n",
    "    qs = sorted(questions[list(coefs_stable_dict.values())[i]].tolist())\n",
    "    qs_unstable = sorted(questions[list(coefs_all_dict.values())[i]].tolist())\n",
    "    display([q for q in qs if q not in qs_prev])\n",
    "    for q in qs_prev:\n",
    "        if not q in qs:\n",
    "            print('[DROPPED]', q)\n",
    "\n",
    "    # print('----UNSTABLE---')\n",
    "    # display([q for q in qs_unstable if not q in qs])\n",
    "\n",
    "    qs_prev = qs"
   ]
  },
  {
   "cell_type": "markdown",
   "metadata": {},
   "source": [
    "### Inspect top questions"
   ]
  },
  {
   "cell_type": "code",
   "execution_count": null,
   "metadata": {},
   "outputs": [],
   "source": [
    "questions = np.array(get_merged_questions_v3_boostexamples())\n",
    "i_best = 3\n",
    "# qs_best = sorted(questions[list(coefs_stable_dict.values())[i_best]].tolist())\n",
    "# len(qs_best), qs_best\n",
    "\n",
    "df = pd.DataFrame(questions)\n",
    "df.index.name = 'question_num'\n",
    "df.rename(columns={0: 'question'}, inplace=True)\n",
    "df['stable_idx'] = 10\n",
    "coefs_stable_vals = list(coefs_stable_dict.values())\n",
    "for i in range(len(coefs_stable_vals) - 1, -1, -1):\n",
    "    df.loc[coefs_stable_vals[i], 'stable_idx'] = i\n",
    "df = df.sort_values(by='stable_idx')\n",
    "d_stable = df[df.stable_idx <= i_best]\n",
    "print('n_stable', len(d_stable))\n",
    "\n",
    "# display full questions no truncation\n",
    "with pd.option_context('display.max_rows', None, 'display.max_columns', None, 'display.max_colwidth', None):\n",
    "    display(d_stable)\n",
    "\n",
    "d_stable_list = d_stable.question.values.tolist()\n",
    "# print as numbered list\n",
    "for i, q in enumerate(d_stable_list):\n",
    "    print(f'{i + 1}. {q}')"
   ]
  },
  {
   "cell_type": "code",
   "execution_count": null,
   "metadata": {},
   "outputs": [],
   "source": []
  },
  {
   "cell_type": "code",
   "execution_count": null,
   "metadata": {},
   "outputs": [],
   "source": [
    "# export as string\n",
    "s = ''\n",
    "for i in range(len(df)):\n",
    "    s += f'{i}. {questions[i]}\\n'\n",
    "s"
   ]
  },
  {
   "cell_type": "code",
   "execution_count": null,
   "metadata": {},
   "outputs": [],
   "source": []
  }
 ],
 "metadata": {
  "kernelspec": {
   "display_name": ".env",
   "language": "python",
   "name": "python3"
  },
  "language_info": {
   "codemirror_mode": {
    "name": "ipython",
    "version": 3
   },
   "file_extension": ".py",
   "mimetype": "text/x-python",
   "name": "python",
   "nbconvert_exporter": "python",
   "pygments_lexer": "ipython3",
   "version": "3.11.10"
  },
  "orig_nbformat": 4
 },
 "nbformat": 4,
 "nbformat_minor": 2
}
