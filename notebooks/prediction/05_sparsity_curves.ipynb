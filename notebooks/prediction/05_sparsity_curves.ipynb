{
 "cells": [
  {
   "cell_type": "code",
   "execution_count": 1,
   "metadata": {},
   "outputs": [],
   "source": [
    "%load_ext autoreload\n",
    "%autoreload 2\n",
    "import sys\n",
    "sys.path.append('..')\n",
    "from os.path import join\n",
    "import numpy as np\n",
    "import joblib\n",
    "import seaborn as sns\n",
    "import matplotlib.pyplot as plt\n",
    "from neuro import analyze_helper, viz\n",
    "from neuro.features import qa_questions\n",
    "import pandas as pd\n",
    "import dvu\n",
    "dvu.set_style()"
   ]
  },
  {
   "cell_type": "code",
   "execution_count": 2,
   "metadata": {},
   "outputs": [],
   "source": [
    "results_dir = analyze_helper.best_results_dir\n",
    "# rr, cols_varied, mets = analyze_helper.load_clean_results(results_dir)\n",
    "data = joblib.load('results.pkl')\n",
    "rr, cols_varied, mets = data['r'], data['cols_varied'], data['mets']"
   ]
  },
  {
   "cell_type": "code",
   "execution_count": 3,
   "metadata": {},
   "outputs": [],
   "source": [
    "r = rr[rr.qa_questions_version.isin(['', 'v3_boostexamples_merged'])]\n",
    "r = r[r.num_stories == -1]\n",
    "cols_varied = [c for c in cols_varied if not c in ['num_stories']]"
   ]
  },
  {
   "cell_type": "markdown",
   "metadata": {},
   "source": [
    "# Check results"
   ]
  },
  {
   "cell_type": "code",
   "execution_count": 5,
   "metadata": {},
   "outputs": [],
   "source": [
    "d = r\n",
    "d = d[d.feature_selection_alpha >= 0]\n",
    "d = d[d.feature_selection_stability_seeds > 0]"
   ]
  },
  {
   "cell_type": "code",
   "execution_count": 6,
   "metadata": {},
   "outputs": [
    {
     "name": "stdout",
     "output_type": "stream",
     "text": [
      "make sure everything ran both ndelays!\n"
     ]
    },
    {
     "data": {
      "text/plain": [
       "ndelays\n",
       "8    59\n",
       "4    27\n",
       "Name: count, dtype: int64"
      ]
     },
     "metadata": {},
     "output_type": "display_data"
    }
   ],
   "source": [
    "print('make sure everything ran both ndelays!')\n",
    "display(d.ndelays.value_counts())\n",
    "# d = d[r.distill_model_path.isna()]\n",
    "# cols_varied = [c for c in cols_varied if not c in [\n",
    "# 'distill_model_path']]\n",
    "# d = d[(d.qa_questions_version == 'v1') *\n",
    "#   (d.qa_embedding_model == 'mistral 7B')]\n",
    "if len(cols_varied) > 0:\n",
    "    d = d.groupby(cols_varied)[mets + ['weight_enet_mask_num_nonzero']].mean()\n",
    "else:\n",
    "    d = d[mets]\n",
    "\n",
    "(\n",
    "    d\n",
    "    # .sort_values(by='corrs_test_mean', ascending=False)\n",
    "    .sort_values(by='corrs_tune_pc_mean', ascending=False)\n",
    "    .rename(columns=lambda x: x.replace('_', ' ').replace('corrs', ''))\n",
    "    .style\n",
    "    .background_gradient(cmap='magma', axis=0)\n",
    "    .format(precision=3)\n",
    ")\n",
    "d = d.reset_index()\n",
    "d = d[~(d.weight_enet_mask_num_nonzero == 54)]"
   ]
  },
  {
   "cell_type": "code",
   "execution_count": 7,
   "metadata": {},
   "outputs": [
    {
     "data": {
      "image/png": "[encoded data removed]",
      "text/plain": [
       "<Figure size 500x250 with 1 Axes>"
      ]
     },
     "metadata": {},
     "output_type": "display_data"
    }
   ],
   "source": [
    "d = d[d.ndelays == 8]\n",
    "d = d[d.subject.isin({'S01', 'S02', 'S03'})]\n",
    "\n",
    "d['(feature_space, ndelays)'] = list(\n",
    "    zip(d.feature_space, d.ndelays))\n",
    "d['feature_space'] = d['feature_space'].map(\n",
    "    lambda x: {'eng1000': 'Eng1000', 'qa_embedder': 'QA'}.get(x, x))\n",
    "plt.figure(figsize=(5, 2.5))\n",
    "\n",
    "ax = sns.lineplot(\n",
    "    data=d,\n",
    "    x='weight_enet_mask_num_nonzero',\n",
    "    y='corrs_test_mean',\n",
    "    #  hue='(qa_questions_version, ndelays)',\n",
    "    # hue='(feature_space, ndelays)',\n",
    "      hue_order=['QA', 'Eng1000'],\n",
    "    hue='feature_space',\n",
    "    # hue='subject',\n",
    "    palette=['C0', 'tomato'],\n",
    "    linewidth=2.5,\n",
    "    markersize=6,\n",
    "    markeredgewidth=0,\n",
    "    marker='o',\n",
    "    err_style=None,\n",
    ")\n",
    "\n",
    "# dvu.line_legend()\n",
    "# plt.title('B', loc=, fontweight='bold')\n",
    "plt.xlabel('Number of features')\n",
    "plt.ylabel('Test correlation')\n",
    "\n",
    "legend = ax.legend()\n",
    "ax.legend().set_title('')\n",
    "\n",
    "\n",
    "# get the x,y coords of the first plotted curve\n",
    "x, y = ax.lines[0].get_data()\n",
    "plt.plot(x[3], y[3], marker='*', markersize=12, color='C0',\n",
    "         markeredgewidth=1, markeredgecolor='black')\n",
    "\n",
    "\n",
    "# logscale x axis\n",
    "# plt.xscale('log')\n",
    "\n",
    "# set ylim bottom to 0.1\n",
    "# plt.ylim(bottom=0.1)\n",
    "plt.grid()\n",
    "plt.tight_layout()\n",
    "plt.savefig('../figs/sparsity.pdf', bbox_inches='tight')\n",
    "plt.savefig('../figs/sparsity.png', bbox_inches='tight', dpi=300)\n",
    "plt.show()"
   ]
  },
  {
   "cell_type": "code",
   "execution_count": null,
   "metadata": {},
   "outputs": [
    {
     "name": "stdout",
     "output_type": "stream",
     "text": [
      "qa curve (array([  7.,  15.,  22.,  35., 117., 246., 380., 515.]), array([0.07136867, 0.08460042, 0.09326523, 0.09731536, 0.0999802 ,\n",
      "       0.10178912, 0.1034993 , 0.10370771]))\n",
      "eng1000 curve (array([  5.,  20.,  53.,  83., 171., 290., 501., 729., 882.]), array([0.05622761, 0.06957903, 0.07620104, 0.07815423, 0.08183426,\n",
      "       0.08453765, 0.08540548, 0.08457102, 0.08519332]))\n",
      "percent improvement 1.1394510125152786\n"
     ]
    }
   ],
   "source": [
    "print('qa curve', ax.lines[0].get_data())\n",
    "print('eng1000 curve', ax.lines[1].get_data())\n",
    "print('percent improvement', ax.lines[0].get_data()[\n",
    "      1][3] / ax.lines[1].get_data()[1].max())"
   ]
  },
  {
   "cell_type": "code",
   "execution_count": 41,
   "metadata": {},
   "outputs": [
    {
     "data": {
      "text/html": [
       "<div>\n",
       "<style scoped>\n",
       "    .dataframe tbody tr th:only-of-type {\n",
       "        vertical-align: middle;\n",
       "    }\n",
       "\n",
       "    .dataframe tbody tr th {\n",
       "        vertical-align: top;\n",
       "    }\n",
       "\n",
       "    .dataframe thead th {\n",
       "        text-align: right;\n",
       "    }\n",
       "</style>\n",
       "<table border=\"1\" class=\"dataframe\">\n",
       "  <thead>\n",
       "    <tr style=\"text-align: right;\">\n",
       "      <th></th>\n",
       "      <th>feature_space</th>\n",
       "      <th>weight_enet_mask_num_nonzero</th>\n",
       "    </tr>\n",
       "  </thead>\n",
       "  <tbody>\n",
       "    <tr>\n",
       "      <th>0</th>\n",
       "      <td>Eng1000</td>\n",
       "      <td>[882.0, 729.0, 501.0, 290.0, 171.0, 83.0, 53.0, 20.0, 5.0]</td>\n",
       "    </tr>\n",
       "    <tr>\n",
       "      <th>1</th>\n",
       "      <td>QA</td>\n",
       "      <td>[515.0, 380.0, 246.0, 117.0, 35.0, 22.0, 15.0, 7.0]</td>\n",
       "    </tr>\n",
       "  </tbody>\n",
       "</table>\n",
       "</div>"
      ],
      "text/plain": [
       "  feature_space                                weight_enet_mask_num_nonzero\n",
       "0       Eng1000  [882.0, 729.0, 501.0, 290.0, 171.0, 83.0, 53.0, 20.0, 5.0]\n",
       "1            QA         [515.0, 380.0, 246.0, 117.0, 35.0, 22.0, 15.0, 7.0]"
      ]
     },
     "metadata": {},
     "output_type": "display_data"
    }
   ],
   "source": [
    "# display full width\n",
    "with pd.option_context('display.max_colwidth', None):\n",
    "    display(\n",
    "        d[d.subject == 'S01']\n",
    "        .groupby(['feature_space'])\n",
    "        ['weight_enet_mask_num_nonzero'].unique().reset_index()\n",
    "    )"
   ]
  },
  {
   "cell_type": "markdown",
   "metadata": {},
   "source": [
    "# Check sparsity levels"
   ]
  },
  {
   "cell_type": "code",
   "execution_count": null,
   "metadata": {},
   "outputs": [],
   "source": [
    "sparse_feats_dir = join(config.repo_dir, 'sparse_feats')"
   ]
  },
  {
   "cell_type": "code",
   "execution_count": null,
   "metadata": {},
   "outputs": [],
   "source": [
    "!ls {sparse_feats_dir}"
   ]
  },
  {
   "cell_type": "code",
   "execution_count": null,
   "metadata": {},
   "outputs": [],
   "source": [
    "alphas_enet, coefs_enet = joblib.load(\n",
    "    # join(sparse_feats_dir, 'v1_(0, -3, 15).joblib'))\n",
    "    join(sparse_feats_dir, 'v3_boostexamples_(0, -3, 15).joblib'))"
   ]
  },
  {
   "cell_type": "code",
   "execution_count": null,
   "metadata": {},
   "outputs": [],
   "source": [
    "for i in range(len(alphas_enet)):\n",
    "    coef_enet = coefs_enet[:, :, i]\n",
    "    coef_nonzero = np.any(np.abs(coef_enet) > 0, axis=0)\n",
    "    print(f'{i=} alpha={alphas_enet[i]:.2e}, n_nonzero={coef_nonzero.sum()}')"
   ]
  },
  {
   "cell_type": "markdown",
   "metadata": {},
   "source": [
    "### Top questions"
   ]
  },
  {
   "cell_type": "code",
   "execution_count": null,
   "metadata": {},
   "outputs": [],
   "source": [
    "d = r[r.ndelays == 8]\n",
    "row = d[(d.feature_selection_alpha_index == 3) *\n",
    "        d.feature_space == 'qa_embedder-10'].iloc[0]"
   ]
  },
  {
   "cell_type": "code",
   "execution_count": null,
   "metadata": {},
   "outputs": [],
   "source": [
    "row[['weights_enet', 'weight_enet_mask', 'weight_enet_mask_num_nonzero']]"
   ]
  },
  {
   "cell_type": "code",
   "execution_count": null,
   "metadata": {},
   "outputs": [],
   "source": [
    "model_params = joblib.load(\n",
    "    join(row.save_dir_unique, 'model_params.pkl'))"
   ]
  },
  {
   "cell_type": "code",
   "execution_count": null,
   "metadata": {},
   "outputs": [],
   "source": [
    "model_params['weights'].shape"
   ]
  },
  {
   "cell_type": "code",
   "execution_count": null,
   "metadata": {},
   "outputs": [],
   "source": [
    "ndelays = row.ndelays\n",
    "# weights = model_params['weights']\n",
    "weights = model_params['weights_pc']\n",
    "assert weights.shape[0] % ndelays == 0\n",
    "emb_size = weights.shape[0] / ndelays\n",
    "weights = weights.reshape(ndelays, int(emb_size), -1)"
   ]
  },
  {
   "cell_type": "code",
   "execution_count": null,
   "metadata": {},
   "outputs": [],
   "source": [
    "weights.shape"
   ]
  },
  {
   "cell_type": "code",
   "execution_count": null,
   "metadata": {},
   "outputs": [],
   "source": [
    "for i in range(29):\n",
    "    plt.plot(weights[:, i, 4])"
   ]
  },
  {
   "cell_type": "code",
   "execution_count": null,
   "metadata": {},
   "outputs": [],
   "source": [
    "for i in range(29):\n",
    "    plt.plot(np.abs(weights).mean(axis=-1)[:, i])\n",
    "plt.xlabel('Delay offset (TRs-1)')\n",
    "plt.show()"
   ]
  },
  {
   "cell_type": "code",
   "execution_count": null,
   "metadata": {},
   "outputs": [],
   "source": [
    "qs = np.array(qa_questions.get_questions(row.qa_questions_version, full=True))"
   ]
  },
  {
   "cell_type": "code",
   "execution_count": null,
   "metadata": {},
   "outputs": [],
   "source": [
    "mask = row.weight_enet_mask"
   ]
  },
  {
   "cell_type": "code",
   "execution_count": null,
   "metadata": {},
   "outputs": [],
   "source": [
    "qs[mask]"
   ]
  },
  {
   "cell_type": "code",
   "execution_count": null,
   "metadata": {},
   "outputs": [],
   "source": [
    "r['weight_enet_mask']"
   ]
  },
  {
   "cell_type": "code",
   "execution_count": null,
   "metadata": {},
   "outputs": [],
   "source": []
  }
 ],
 "metadata": {
  "kernelspec": {
   "display_name": ".env",
   "language": "python",
   "name": "python3"
  },
  "language_info": {
   "codemirror_mode": {
    "name": "ipython",
    "version": 3
   },
   "file_extension": ".py",
   "mimetype": "text/x-python",
   "name": "python",
   "nbconvert_exporter": "python",
   "pygments_lexer": "ipython3",
   "version": "3.11.11"
  },
  "orig_nbformat": 4
 },
 "nbformat": 4,
 "nbformat_minor": 2
}
