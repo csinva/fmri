{
 "cells": [
  {
   "cell_type": "code",
   "execution_count": 4,
   "metadata": {},
   "outputs": [
    {
     "name": "stdout",
     "output_type": "stream",
     "text": [
      "The autoreload extension is already loaded. To reload it, use:\n",
      "  %reload_ext autoreload\n"
     ]
    },
    {
     "name": "stderr",
     "output_type": "stream",
     "text": [
      "100%|██████████| 9/9 [00:12<00:00,  1.40s/it]"
     ]
    },
    {
     "name": "stdout",
     "output_type": "stream",
     "text": [
      "experiment varied these params: ['qa_embedding_model', 'qa_questions_version']\n"
     ]
    },
    {
     "name": "stderr",
     "output_type": "stream",
     "text": [
      "\n"
     ]
    },
    {
     "data": {
      "text/plain": [
       "qa_embedding_model                   qa_questions_version\n",
       "ensemble1                            v1                      1\n",
       "                                     v2                      1\n",
       "                                     v3_boostexamples        1\n",
       "meta-llama/Meta-Llama-3-8B-Instruct  v1                      1\n",
       "                                     v2                      1\n",
       "                                     v3_boostexamples        1\n",
       "mistralai/Mistral-7B-Instruct-v0.2   v1                      1\n",
       "                                     v2                      1\n",
       "                                     v3_boostexamples        1\n",
       "dtype: int64"
      ]
     },
     "execution_count": 4,
     "metadata": {},
     "output_type": "execute_result"
    }
   ],
   "source": [
    "%load_ext autoreload\n",
    "%autoreload 2\n",
    "import os\n",
    "import matplotlib.pyplot as plt\n",
    "import seaborn as sns\n",
    "from os.path import join\n",
    "from tqdm import tqdm\n",
    "import pandas as pd\n",
    "import joblib\n",
    "import imodelsx.process_results\n",
    "import sys\n",
    "from ridge_utils.features import qa_questions\n",
    "sys.path.append('../experiments/')\n",
    "results_dir = '/home/chansingh/mntv1/deep-fMRI/encoding/single_question_may6'\n",
    "experiment_filename = '../experiments/04_fit_single_question.py'\n",
    "\n",
    "# load the results in to a pandas dataframe\n",
    "r = imodelsx.process_results.get_results_df(results_dir)\n",
    "cols_varied = imodelsx.process_results.get_experiment_keys(\n",
    "    r, experiment_filename)\n",
    "print('experiment varied these params:', cols_varied)\n",
    "r = imodelsx.process_results.fill_missing_args_with_default(\n",
    "    r, experiment_filename)\n",
    "\n",
    "# get the breakdown of data in these groups\n",
    "r.groupby(cols_varied).size()"
   ]
  },
  {
   "cell_type": "code",
   "execution_count": 6,
   "metadata": {},
   "outputs": [],
   "source": [
    "mets = [c for c in r.columns if 'corrs' in c and (\n",
    "        'mean' in c or 'frac' in c)]"
   ]
  },
  {
   "cell_type": "code",
   "execution_count": 15,
   "metadata": {},
   "outputs": [
    {
     "data": {
      "text/html": [
       "<style type=\"text/css\">\n",
       "#T_12022_row0_col0, #T_12022_row0_col1 {\n",
       "  background-color: #306a8e;\n",
       "  color: #f1f1f1;\n",
       "}\n",
       "#T_12022_row0_col2 {\n",
       "  background-color: #32b67a;\n",
       "  color: #f1f1f1;\n",
       "}\n",
       "#T_12022_row1_col0, #T_12022_row1_col1, #T_12022_row1_col2 {\n",
       "  background-color: #60ca60;\n",
       "  color: #000000;\n",
       "}\n",
       "#T_12022_row2_col0, #T_12022_row2_col1, #T_12022_row2_col2 {\n",
       "  background-color: #fde725;\n",
       "  color: #000000;\n",
       "}\n",
       "#T_12022_row3_col0, #T_12022_row3_col1 {\n",
       "  background-color: #450457;\n",
       "  color: #f1f1f1;\n",
       "}\n",
       "#T_12022_row3_col2 {\n",
       "  background-color: #414287;\n",
       "  color: #f1f1f1;\n",
       "}\n",
       "#T_12022_row4_col0, #T_12022_row4_col1 {\n",
       "  background-color: #38588c;\n",
       "  color: #f1f1f1;\n",
       "}\n",
       "#T_12022_row4_col2 {\n",
       "  background-color: #404688;\n",
       "  color: #f1f1f1;\n",
       "}\n",
       "#T_12022_row5_col0, #T_12022_row5_col1 {\n",
       "  background-color: #228d8d;\n",
       "  color: #f1f1f1;\n",
       "}\n",
       "#T_12022_row5_col2 {\n",
       "  background-color: #277f8e;\n",
       "  color: #f1f1f1;\n",
       "}\n",
       "#T_12022_row6_col0, #T_12022_row6_col1, #T_12022_row6_col2 {\n",
       "  background-color: #440154;\n",
       "  color: #f1f1f1;\n",
       "}\n",
       "#T_12022_row7_col0, #T_12022_row7_col1 {\n",
       "  background-color: #218e8d;\n",
       "  color: #f1f1f1;\n",
       "}\n",
       "#T_12022_row7_col2 {\n",
       "  background-color: #482979;\n",
       "  color: #f1f1f1;\n",
       "}\n",
       "#T_12022_row8_col0, #T_12022_row8_col1 {\n",
       "  background-color: #25ab82;\n",
       "  color: #f1f1f1;\n",
       "}\n",
       "#T_12022_row8_col2 {\n",
       "  background-color: #32658e;\n",
       "  color: #f1f1f1;\n",
       "}\n",
       "</style>\n",
       "<table id=\"T_12022\">\n",
       "  <thead>\n",
       "    <tr>\n",
       "      <th class=\"blank\" >&nbsp;</th>\n",
       "      <th class=\"blank level0\" >&nbsp;</th>\n",
       "      <th id=\"T_12022_level0_col0\" class=\"col_heading level0 col0\" >corrs_train_selected_mean_abs</th>\n",
       "      <th id=\"T_12022_level0_col1\" class=\"col_heading level0 col1\" >corrs_test_selected_mean_abs</th>\n",
       "      <th id=\"T_12022_level0_col2\" class=\"col_heading level0 col2\" >corrs_test_mean_abs_baseline</th>\n",
       "    </tr>\n",
       "    <tr>\n",
       "      <th class=\"index_name level0\" >qa_embedding_model</th>\n",
       "      <th class=\"index_name level1\" >qa_questions_version</th>\n",
       "      <th class=\"blank col0\" >&nbsp;</th>\n",
       "      <th class=\"blank col1\" >&nbsp;</th>\n",
       "      <th class=\"blank col2\" >&nbsp;</th>\n",
       "    </tr>\n",
       "  </thead>\n",
       "  <tbody>\n",
       "    <tr>\n",
       "      <th id=\"T_12022_level0_row0\" class=\"row_heading level0 row0\" rowspan=\"3\">ensemble1</th>\n",
       "      <th id=\"T_12022_level1_row0\" class=\"row_heading level1 row0\" >v1</th>\n",
       "      <td id=\"T_12022_row0_col0\" class=\"data row0 col0\" >0.0602</td>\n",
       "      <td id=\"T_12022_row0_col1\" class=\"data row0 col1\" >0.0602</td>\n",
       "      <td id=\"T_12022_row0_col2\" class=\"data row0 col2\" >0.0400</td>\n",
       "    </tr>\n",
       "    <tr>\n",
       "      <th id=\"T_12022_level1_row1\" class=\"row_heading level1 row1\" >v2</th>\n",
       "      <td id=\"T_12022_row1_col0\" class=\"data row1 col0\" >0.0625</td>\n",
       "      <td id=\"T_12022_row1_col1\" class=\"data row1 col1\" >0.0625</td>\n",
       "      <td id=\"T_12022_row1_col2\" class=\"data row1 col2\" >0.0402</td>\n",
       "    </tr>\n",
       "    <tr>\n",
       "      <th id=\"T_12022_level1_row2\" class=\"row_heading level1 row2\" >v3_boostexamples</th>\n",
       "      <td id=\"T_12022_row2_col0\" class=\"data row2 col0\" >0.0638</td>\n",
       "      <td id=\"T_12022_row2_col1\" class=\"data row2 col1\" >0.0638</td>\n",
       "      <td id=\"T_12022_row2_col2\" class=\"data row2 col2\" >0.0408</td>\n",
       "    </tr>\n",
       "    <tr>\n",
       "      <th id=\"T_12022_level0_row3\" class=\"row_heading level0 row3\" rowspan=\"3\">meta-llama/Meta-Llama-3-8B-Instruct</th>\n",
       "      <th id=\"T_12022_level1_row3\" class=\"row_heading level1 row3\" >v1</th>\n",
       "      <td id=\"T_12022_row3_col0\" class=\"data row3 col0\" >0.0584</td>\n",
       "      <td id=\"T_12022_row3_col1\" class=\"data row3 col1\" >0.0584</td>\n",
       "      <td id=\"T_12022_row3_col2\" class=\"data row3 col2\" >0.0390</td>\n",
       "    </tr>\n",
       "    <tr>\n",
       "      <th id=\"T_12022_level1_row4\" class=\"row_heading level1 row4\" >v2</th>\n",
       "      <td id=\"T_12022_row4_col0\" class=\"data row4 col0\" >0.0599</td>\n",
       "      <td id=\"T_12022_row4_col1\" class=\"data row4 col1\" >0.0599</td>\n",
       "      <td id=\"T_12022_row4_col2\" class=\"data row4 col2\" >0.0390</td>\n",
       "    </tr>\n",
       "    <tr>\n",
       "      <th id=\"T_12022_level1_row5\" class=\"row_heading level1 row5\" >v3_boostexamples</th>\n",
       "      <td id=\"T_12022_row5_col0\" class=\"data row5 col0\" >0.0610</td>\n",
       "      <td id=\"T_12022_row5_col1\" class=\"data row5 col1\" >0.0610</td>\n",
       "      <td id=\"T_12022_row5_col2\" class=\"data row5 col2\" >0.0395</td>\n",
       "    </tr>\n",
       "    <tr>\n",
       "      <th id=\"T_12022_level0_row6\" class=\"row_heading level0 row6\" rowspan=\"3\">mistralai/Mistral-7B-Instruct-v0.2</th>\n",
       "      <th id=\"T_12022_level1_row6\" class=\"row_heading level1 row6\" >v1</th>\n",
       "      <td id=\"T_12022_row6_col0\" class=\"data row6 col0\" >0.0584</td>\n",
       "      <td id=\"T_12022_row6_col1\" class=\"data row6 col1\" >0.0584</td>\n",
       "      <td id=\"T_12022_row6_col2\" class=\"data row6 col2\" >0.0385</td>\n",
       "    </tr>\n",
       "    <tr>\n",
       "      <th id=\"T_12022_level1_row7\" class=\"row_heading level1 row7\" >v2</th>\n",
       "      <td id=\"T_12022_row7_col0\" class=\"data row7 col0\" >0.0610</td>\n",
       "      <td id=\"T_12022_row7_col1\" class=\"data row7 col1\" >0.0610</td>\n",
       "      <td id=\"T_12022_row7_col2\" class=\"data row7 col2\" >0.0388</td>\n",
       "    </tr>\n",
       "    <tr>\n",
       "      <th id=\"T_12022_level1_row8\" class=\"row_heading level1 row8\" >v3_boostexamples</th>\n",
       "      <td id=\"T_12022_row8_col0\" class=\"data row8 col0\" >0.0617</td>\n",
       "      <td id=\"T_12022_row8_col1\" class=\"data row8 col1\" >0.0617</td>\n",
       "      <td id=\"T_12022_row8_col2\" class=\"data row8 col2\" >0.0393</td>\n",
       "    </tr>\n",
       "  </tbody>\n",
       "</table>\n"
      ],
      "text/plain": [
       "<pandas.io.formats.style.Styler at 0x7f8611370e10>"
      ]
     },
     "execution_count": 15,
     "metadata": {},
     "output_type": "execute_result"
    }
   ],
   "source": [
    "(\n",
    "    r.groupby(cols_varied)[mets].mean()\n",
    "    .style\n",
    "    .background_gradient(\n",
    "        cmap='viridis', axis=0)\n",
    "    .format(\"{:.4f}\")\n",
    ")"
   ]
  },
  {
   "cell_type": "code",
   "execution_count": null,
   "metadata": {},
   "outputs": [],
   "source": [
    "qs = qa_questions.get_questions(version='v1', full=True)"
   ]
  },
  {
   "cell_type": "code",
   "execution_count": null,
   "metadata": {},
   "outputs": [],
   "source": [
    "r"
   ]
  },
  {
   "cell_type": "code",
   "execution_count": null,
   "metadata": {},
   "outputs": [],
   "source": []
  }
 ],
 "metadata": {
  "kernelspec": {
   "display_name": "Python 3.8.10 ('.embgam')",
   "language": "python",
   "name": "python3"
  },
  "language_info": {
   "codemirror_mode": {
    "name": "ipython",
    "version": 3
   },
   "file_extension": ".py",
   "mimetype": "text/x-python",
   "name": "python",
   "nbconvert_exporter": "python",
   "pygments_lexer": "ipython3",
   "version": "3.11.9"
  },
  "orig_nbformat": 4,
  "vscode": {
   "interpreter": {
    "hash": "559535f78d940c882783b39501b2581b5193373045707e5f8a51d046029cfd38"
   }
  }
 },
 "nbformat": 4,
 "nbformat_minor": 2
}
