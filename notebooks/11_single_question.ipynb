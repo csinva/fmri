{
 "cells": [
  {
   "cell_type": "code",
   "execution_count": null,
   "metadata": {},
   "outputs": [],
   "source": [
    "%load_ext autoreload\n",
    "%autoreload 2\n",
    "import os\n",
    "import matplotlib.pyplot as plt\n",
    "import seaborn as sns\n",
    "from os.path import join\n",
    "from tqdm import tqdm\n",
    "import pandas as pd\n",
    "import joblib\n",
    "import imodelsx.process_results\n",
    "import sys\n",
    "from ridge_utils.features import qa_questions\n",
    "import numpy as np\n",
    "sys.path.append('../experiments/')\n",
    "results_dir = '/home/chansingh/mntv1/deep-fMRI/encoding/single_question_may6'\n",
    "experiment_filename = '../experiments/04_fit_single_question.py'\n",
    "\n",
    "# load the results in to a pandas dataframe\n",
    "r = imodelsx.process_results.get_results_df(results_dir)\n",
    "cols_varied = imodelsx.process_results.get_experiment_keys(\n",
    "    r, experiment_filename)\n",
    "print('experiment varied these params:', cols_varied)\n",
    "r = imodelsx.process_results.fill_missing_args_with_default(\n",
    "    r, experiment_filename)\n",
    "\n",
    "# get the breakdown of data in these groups\n",
    "r.groupby(cols_varied).size()"
   ]
  },
  {
   "cell_type": "code",
   "execution_count": null,
   "metadata": {},
   "outputs": [],
   "source": [
    "mets = [c for c in r.columns if 'corrs' in c and (\n",
    "        'mean' in c or 'frac' in c)]\n",
    "(\n",
    "    r.groupby(cols_varied)[mets].mean()\n",
    "    .style\n",
    "    .background_gradient(\n",
    "        cmap='viridis', axis=0)\n",
    "    .format(\"{:.4f}\")\n",
    ")"
   ]
  },
  {
   "cell_type": "code",
   "execution_count": null,
   "metadata": {},
   "outputs": [],
   "source": [
    "row = r.sort_values(by='corrs_test_selected_mean', ascending=False).iloc[0]"
   ]
  },
  {
   "cell_type": "code",
   "execution_count": null,
   "metadata": {},
   "outputs": [],
   "source": [
    "qs = qa_questions.get_questions(version='v3_boostexamples', full=True)\n",
    "qs_selected = row['qs_selected']\n",
    "qs_selected = qs_selected % len(qs)\n",
    "qs_selected_counts = pd.Series(qs_selected).value_counts()\n",
    "qs_selected_frac = qs_selected_counts / qs_selected_counts.sum()"
   ]
  },
  {
   "cell_type": "code",
   "execution_count": null,
   "metadata": {},
   "outputs": [],
   "source": [
    "plt.figure(figsize=(12, 3))\n",
    "plt.bar(np.arange(len(qs_selected_frac)), np.cumsum(qs_selected_frac.values))"
   ]
  },
  {
   "cell_type": "code",
   "execution_count": null,
   "metadata": {},
   "outputs": [],
   "source": [
    "# most popular questions\n",
    "np.array(qs)[qs_selected_frac.index[:10]]"
   ]
  },
  {
   "cell_type": "code",
   "execution_count": null,
   "metadata": {},
   "outputs": [],
   "source": [
    "plt.hist(row['corrs_test_selected'], bins=100)\n",
    "plt.show()"
   ]
  },
  {
   "cell_type": "markdown",
   "metadata": {},
   "source": [
    "### Only look at well-predicted voxels"
   ]
  },
  {
   "cell_type": "code",
   "execution_count": null,
   "metadata": {},
   "outputs": [],
   "source": [
    "voxels_top = row['corrs_test_selected'] > np.percentile(\n",
    "    row['corrs_test_selected'], 90)\n",
    "qs_selected_top = np.array(qs)[qs_selected][voxels_top]\n",
    "qs_selected_top_counts = pd.Series(qs_selected_top).value_counts()\n",
    "qs_selected_top_frac = qs_selected_top_counts / qs_selected_top_counts.sum()"
   ]
  },
  {
   "cell_type": "code",
   "execution_count": null,
   "metadata": {},
   "outputs": [],
   "source": [
    "# most popular questions\n",
    "np.array(qs)[qs_selected_frac.index[:10]]"
   ]
  },
  {
   "cell_type": "code",
   "execution_count": null,
   "metadata": {},
   "outputs": [],
   "source": []
  },
  {
   "cell_type": "code",
   "execution_count": null,
   "metadata": {},
   "outputs": [],
   "source": []
  }
 ],
 "metadata": {
  "kernelspec": {
   "display_name": "Python 3.8.10 ('.embgam')",
   "language": "python",
   "name": "python3"
  },
  "language_info": {
   "codemirror_mode": {
    "name": "ipython",
    "version": 3
   },
   "file_extension": ".py",
   "mimetype": "text/x-python",
   "name": "python",
   "nbconvert_exporter": "python",
   "pygments_lexer": "ipython3",
   "version": "3.11.9"
  },
  "orig_nbformat": 4,
  "vscode": {
   "interpreter": {
    "hash": "559535f78d940c882783b39501b2581b5193373045707e5f8a51d046029cfd38"
   }
  }
 },
 "nbformat": 4,
 "nbformat_minor": 2
}
