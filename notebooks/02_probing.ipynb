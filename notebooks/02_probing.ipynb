{
 "cells": [
  {
   "cell_type": "code",
   "execution_count": 1,
   "metadata": {},
   "outputs": [],
   "source": [
    "%load_ext autoreload\n",
    "%autoreload 2\n",
    "import numpy as np\n",
    "import sys\n",
    "sys.path.append('..')\n",
    "from os.path import join\n",
    "from matplotlib import pyplot as plt\n",
    "from collections import defaultdict\n",
    "import pandas as pd\n",
    "import os\n",
    "import seaborn as sns\n",
    "from tqdm import tqdm"
   ]
  },
  {
   "cell_type": "code",
   "execution_count": 2,
   "metadata": {},
   "outputs": [
    {
     "name": "stderr",
     "output_type": "stream",
     "text": [
      "100%|██████████| 5/5 [00:04<00:00,  1.08it/s]\n"
     ]
    },
    {
     "data": {
      "text/html": [
       "<div>\n",
       "<style scoped>\n",
       "    .dataframe tbody tr th:only-of-type {\n",
       "        vertical-align: middle;\n",
       "    }\n",
       "\n",
       "    .dataframe tbody tr th {\n",
       "        vertical-align: top;\n",
       "    }\n",
       "\n",
       "    .dataframe thead th {\n",
       "        text-align: right;\n",
       "    }\n",
       "</style>\n",
       "<table border=\"1\" class=\"dataframe\">\n",
       "  <thead>\n",
       "    <tr style=\"text-align: right;\">\n",
       "      <th></th>\n",
       "      <th>model</th>\n",
       "      <th>subject</th>\n",
       "      <th>seed</th>\n",
       "      <th>perc_threshold_fmri</th>\n",
       "      <th>save_dir</th>\n",
       "      <th>dset</th>\n",
       "      <th>subsample_frac</th>\n",
       "      <th>use_cache</th>\n",
       "      <th>acc_cv</th>\n",
       "      <th>acc</th>\n",
       "      <th>feats_dim</th>\n",
       "    </tr>\n",
       "  </thead>\n",
       "  <tbody>\n",
       "    <tr>\n",
       "      <th>0</th>\n",
       "      <td>bert-base-uncased</td>\n",
       "      <td>UTS03</td>\n",
       "      <td>1</td>\n",
       "      <td>0</td>\n",
       "      <td>/home/chansingh/mntv1/deep-fMRI/results/linear...</td>\n",
       "      <td>probing-word_content</td>\n",
       "      <td>-1.0</td>\n",
       "      <td>True</td>\n",
       "      <td>0.493965</td>\n",
       "      <td>0.544693</td>\n",
       "      <td>768</td>\n",
       "    </tr>\n",
       "    <tr>\n",
       "      <th>0</th>\n",
       "      <td>bert-base-uncased</td>\n",
       "      <td>UTS03</td>\n",
       "      <td>1</td>\n",
       "      <td>0</td>\n",
       "      <td>/home/chansingh/mntv1/deep-fMRI/results/linear...</td>\n",
       "      <td>probing-subj_number</td>\n",
       "      <td>-1.0</td>\n",
       "      <td>True</td>\n",
       "      <td>0.862198</td>\n",
       "      <td>0.833210</td>\n",
       "      <td>768</td>\n",
       "    </tr>\n",
       "    <tr>\n",
       "      <th>0</th>\n",
       "      <td>bert-base-uncased</td>\n",
       "      <td>UTS03</td>\n",
       "      <td>1</td>\n",
       "      <td>0</td>\n",
       "      <td>/home/chansingh/mntv1/deep-fMRI/results/linear...</td>\n",
       "      <td>probing-sentence_length</td>\n",
       "      <td>-1.0</td>\n",
       "      <td>True</td>\n",
       "      <td>0.728603</td>\n",
       "      <td>0.721599</td>\n",
       "      <td>768</td>\n",
       "    </tr>\n",
       "    <tr>\n",
       "      <th>0</th>\n",
       "      <td>bert-base-uncased</td>\n",
       "      <td>UTS03</td>\n",
       "      <td>1</td>\n",
       "      <td>0</td>\n",
       "      <td>/home/chansingh/mntv1/deep-fMRI/results/linear...</td>\n",
       "      <td>probing-past_present</td>\n",
       "      <td>-1.0</td>\n",
       "      <td>True</td>\n",
       "      <td>0.898846</td>\n",
       "      <td>0.895580</td>\n",
       "      <td>768</td>\n",
       "    </tr>\n",
       "    <tr>\n",
       "      <th>0</th>\n",
       "      <td>bert-base-uncased</td>\n",
       "      <td>UTS03</td>\n",
       "      <td>1</td>\n",
       "      <td>0</td>\n",
       "      <td>/home/chansingh/mntv1/deep-fMRI/results/linear...</td>\n",
       "      <td>probing-obj_number</td>\n",
       "      <td>-1.0</td>\n",
       "      <td>True</td>\n",
       "      <td>0.823328</td>\n",
       "      <td>0.785376</td>\n",
       "      <td>768</td>\n",
       "    </tr>\n",
       "  </tbody>\n",
       "</table>\n",
       "</div>"
      ],
      "text/plain": [
       "               model subject  seed  perc_threshold_fmri  \\\n",
       "0  bert-base-uncased   UTS03     1                    0   \n",
       "0  bert-base-uncased   UTS03     1                    0   \n",
       "0  bert-base-uncased   UTS03     1                    0   \n",
       "0  bert-base-uncased   UTS03     1                    0   \n",
       "0  bert-base-uncased   UTS03     1                    0   \n",
       "\n",
       "                                            save_dir                     dset  \\\n",
       "0  /home/chansingh/mntv1/deep-fMRI/results/linear...     probing-word_content   \n",
       "0  /home/chansingh/mntv1/deep-fMRI/results/linear...      probing-subj_number   \n",
       "0  /home/chansingh/mntv1/deep-fMRI/results/linear...  probing-sentence_length   \n",
       "0  /home/chansingh/mntv1/deep-fMRI/results/linear...     probing-past_present   \n",
       "0  /home/chansingh/mntv1/deep-fMRI/results/linear...       probing-obj_number   \n",
       "\n",
       "   subsample_frac  use_cache    acc_cv       acc  feats_dim  \n",
       "0            -1.0       True  0.493965  0.544693        768  \n",
       "0            -1.0       True  0.862198  0.833210        768  \n",
       "0            -1.0       True  0.728603  0.721599        768  \n",
       "0            -1.0       True  0.898846  0.895580        768  \n",
       "0            -1.0       True  0.823328  0.785376        768  "
      ]
     },
     "execution_count": 2,
     "metadata": {},
     "output_type": "execute_result"
    }
   ],
   "source": [
    "# note: current best results are in oct17\n",
    "save_dir = '/home/chansingh/mntv1/deep-fMRI/results/linear_models/probing_oct25'\n",
    "# save_dir = '/home/chansingh/mntv1/deep-fMRI/results/linear_models/subsamp_oct17'\n",
    "dfs = []\n",
    "fnames = [\n",
    "    fname for fname in os.listdir(save_dir)[::-1]\n",
    "    if not fname.startswith('coef')\n",
    "]\n",
    "for fname in tqdm(fnames):\n",
    "    df = pd.read_pickle(join(save_dir, fname))\n",
    "    # print(fname)\n",
    "    # display(df)\n",
    "    dfs.append(df.reset_index())\n",
    "d = pd.concat(dfs)\n",
    "# d = d.drop(columns='coef_')\n",
    "# .round(2)\n",
    "# d.set_index(['feats', 'dset'], inplace=True)\n",
    "d"
   ]
  },
  {
   "cell_type": "markdown",
   "metadata": {},
   "source": [
    "**CV over perc_threshold_fmri**"
   ]
  },
  {
   "cell_type": "code",
   "execution_count": 3,
   "metadata": {},
   "outputs": [
    {
     "data": {
      "image/png": "[encoded data removed]",
      "text/plain": [
       "<Figure size 640x480 with 1 Axes>"
      ]
     },
     "metadata": {},
     "output_type": "display_data"
    }
   ],
   "source": [
    "# note, if sweeping over more params need to include them in the groupby\n",
    "sns.barplot(data=d, y='dset', x='acc', hue='model', orient='h')\n",
    "plt.legend(bbox_to_anchor=(1.02, 0.55), loc='upper left', borderaxespad=0)\n",
    "# plt.savefig('decoding_accs.pdf', bbox_inches='tight')\n",
    "plt.show()"
   ]
  },
  {
   "cell_type": "code",
   "execution_count": null,
   "metadata": {},
   "outputs": [],
   "source": []
  }
 ],
 "metadata": {
  "kernelspec": {
   "display_name": "Python 3.8.10 ('.embgam')",
   "language": "python",
   "name": "python3"
  },
  "language_info": {
   "codemirror_mode": {
    "name": "ipython",
    "version": 3
   },
   "file_extension": ".py",
   "mimetype": "text/x-python",
   "name": "python",
   "nbconvert_exporter": "python",
   "pygments_lexer": "ipython3",
   "version": "3.8.10"
  },
  "orig_nbformat": 4,
  "vscode": {
   "interpreter": {
    "hash": "559535f78d940c882783b39501b2581b5193373045707e5f8a51d046029cfd38"
   }
  }
 },
 "nbformat": 4,
 "nbformat_minor": 2
}
