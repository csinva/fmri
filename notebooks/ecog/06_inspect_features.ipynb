{
 "cells": [
  {
   "cell_type": "code",
   "execution_count": null,
   "metadata": {},
   "outputs": [],
   "source": [
    "%load_ext autoreload\n",
    "%autoreload 2\n",
    "import os\n",
    "import matplotlib.pyplot as plt\n",
    "from os.path import join\n",
    "from tqdm import tqdm\n",
    "import pandas as pd\n",
    "from os.path import expanduser\n",
    "import sys\n",
    "from typing import List\n",
    "import numpy as np\n",
    "import joblib\n",
    "from pprint import pprint\n",
    "import imodelsx.util\n",
    "from os.path import dirname\n",
    "import pickle as pkl\n",
    "import json\n",
    "from copy import deepcopy\n",
    "from numpy.linalg import norm\n",
    "from math import ceil\n",
    "# from imodelsx.qaemb.qaemb import QAEmb, get_sample_questions_and_examples\n",
    "from neuro.ecog.config import STORIES_POPULAR, STORIES_UNPOPULAR, ECOG_DIR"
   ]
  },
  {
   "cell_type": "markdown",
   "metadata": {},
   "source": [
    "# Look at question answers"
   ]
  },
  {
   "cell_type": "code",
   "execution_count": null,
   "metadata": {},
   "outputs": [],
   "source": [
    "suffix_qs = '___qs_35_stable'\n",
    "\n",
    "# save ensemble feats\n",
    "# settings = ['sec_1.5']\n",
    "settings = ['sec_3']\n",
    "# settings = ['words']\n",
    "# settings = ['sec_6']\n",
    "ensemble1 = [\n",
    "    # 'mistralai/Mistral-7B-Instruct-v0.2',\n",
    "    # 'meta-llama/Meta-Llama-3-8B-Instruct',\n",
    "    # 'google/gemma-7b-it',\n",
    "    'gpt-4o-mini',\n",
    "]\n",
    "# story_fnames = ['ant-man.pkl']\n",
    "# story_fnames = ['lotr-1.pkl']\n",
    "story_fnames = ['___podcasts-story___.pkl']\n",
    "\n",
    "for setting in settings:\n",
    "    print(setting)\n",
    "\n",
    "    # read in ensemble feats\n",
    "    ensemble_checkpoint_story_dict = {}\n",
    "    for checkpoint in tqdm(ensemble1):\n",
    "        checkpoint_clean = checkpoint.replace('/', '___')\n",
    "        output_dir_clean = join(ECOG_DIR, f'features{suffix_qs}',\n",
    "                                checkpoint_clean, setting)\n",
    "        checkpoint_story_dict = {}\n",
    "        for story_fname in story_fnames:\n",
    "            if story_fname.endswith('.pkl'):\n",
    "                checkpoint_story_dict[story_fname] = joblib.load(\n",
    "                    join(output_dir_clean, story_fname))\n",
    "        ensemble_checkpoint_story_dict[checkpoint] = deepcopy(\n",
    "            checkpoint_story_dict)"
   ]
  },
  {
   "cell_type": "code",
   "execution_count": null,
   "metadata": {},
   "outputs": [],
   "source": [
    "easy_qs = ['Is time mentioned in the input?',\n",
    "           'Does the input contain a measurement?', 'Does the input contain a number?']\n",
    "for checkpoint in ensemble1:\n",
    "    print(checkpoint)\n",
    "    # [easy_qs]\n",
    "    df = ensemble_checkpoint_story_dict[checkpoint][story_fnames[0]]\n",
    "    for k in df.columns:\n",
    "        print(k, df[k][df[k] > 0].index.tolist())\n",
    "    print(df.shape)"
   ]
  },
  {
   "cell_type": "code",
   "execution_count": null,
   "metadata": {},
   "outputs": [],
   "source": [
    "df.head(500)"
   ]
  },
  {
   "cell_type": "code",
   "execution_count": null,
   "metadata": {},
   "outputs": [],
   "source": [
    "df_audio = joblib.load(join(\n",
    "    ECOG_DIR, 'features_audio/gpt-4o-audio-preview/sec_3', '___podcasts-story___.pkl'))\n",
    "\n",
    "# df = df_word.merge(df_audio, on='word_idx', how='left')\n",
    "# /home/chansingh/mntv1/ecog/features_audio/gpt-4o-audio-preview/sec_3"
   ]
  },
  {
   "cell_type": "code",
   "execution_count": null,
   "metadata": {},
   "outputs": [],
   "source": [
    "!rclone copy /home/chansingh/mntv1/ecog/features_audio/gpt-4o-audio-preview/ box:DeepTune/QA/ecog_cached_qa_features/gpt-4o-audio-preview --progress"
   ]
  }
 ],
 "metadata": {
  "kernelspec": {
   "display_name": ".env",
   "language": "python",
   "name": "python3"
  },
  "language_info": {
   "codemirror_mode": {
    "name": "ipython",
    "version": 3
   },
   "file_extension": ".py",
   "mimetype": "text/x-python",
   "name": "python",
   "nbconvert_exporter": "python",
   "pygments_lexer": "ipython3",
   "version": "3.11.11"
  }
 },
 "nbformat": 4,
 "nbformat_minor": 2
}
