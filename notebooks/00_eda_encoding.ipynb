{
 "cells": [
  {
   "cell_type": "markdown",
   "metadata": {},
   "source": [
    "This notebook analyzes data from https://github.com/HuthLab/deep-fMRI-dataset. To set up, see instructions in the `deep-fMRI-dataset` folder."
   ]
  },
  {
   "cell_type": "code",
   "execution_count": 1,
   "metadata": {},
   "outputs": [],
   "source": [
    "import sys\n",
    "sys.path.append('..')\n",
    "import encoding_utils, feature_spaces\n",
    "viz_cortex = __import__('03_viz_cortex')\n",
    "calc_resp_PCs = __import__('00_calc_resp_decomp')\n",
    "from os.path import join\n",
    "import pickle as pkl\n",
    "import matplotlib.pyplot as plt\n",
    "import numpy as np"
   ]
  },
  {
   "cell_type": "markdown",
   "metadata": {},
   "source": [
    "# Look at text of input stories"
   ]
  },
  {
   "cell_type": "code",
   "execution_count": null,
   "metadata": {},
   "outputs": [],
   "source": [
    "# Look at narrative stories\n",
    "train_stories, test_stories, allstories = encoding_utils.get_allstories([1, 2, 3, 4, 5])\n",
    "wordseqs = feature_spaces.get_story_wordseqs(allstories)\n",
    "' '.join(wordseqs['sloth'].data)"
   ]
  },
  {
   "cell_type": "markdown",
   "metadata": {},
   "source": [
    "# Look at responses"
   ]
  },
  {
   "cell_type": "code",
   "execution_count": 5,
   "metadata": {},
   "outputs": [],
   "source": [
    "train_stories, test_stories, allstories = encoding_utils.get_allstories([1, 2, 3, 4, 5])\n",
    "subject = 'UTS03'\n",
    "zRresp = encoding_utils.get_response(train_stories, subject)"
   ]
  },
  {
   "cell_type": "code",
   "execution_count": 6,
   "metadata": {},
   "outputs": [
    {
     "data": {
      "text/plain": [
       "(9461, 95556)"
      ]
     },
     "execution_count": 6,
     "metadata": {},
     "output_type": "execute_result"
    }
   ],
   "source": [
    "zRresp.shape"
   ]
  },
  {
   "cell_type": "code",
   "execution_count": null,
   "metadata": {},
   "outputs": [],
   "source": [
    "viz_cortex.quickshow(zRresp[100])"
   ]
  },
  {
   "cell_type": "markdown",
   "metadata": {},
   "source": [
    "**Look at PCA stuff**"
   ]
  },
  {
   "cell_type": "code",
   "execution_count": 6,
   "metadata": {},
   "outputs": [],
   "source": [
    "pca = pkl.load(open(join(calc_resp_PCs.out_dir, 'resps_pca.pkl'), 'rb'))['pca']"
   ]
  },
  {
   "cell_type": "code",
   "execution_count": 10,
   "metadata": {},
   "outputs": [
    {
     "data": {
      "image/png": "[encoded data removed]",
      "text/plain": [
       "<Figure size 640x480 with 1 Axes>"
      ]
     },
     "metadata": {},
     "output_type": "display_data"
    }
   ],
   "source": [
    "exp_var_pca = pca.explained_variance_ratio_\n",
    "cum_sum_eigenvalues = np.cumsum(exp_var_pca)\n",
    "n = 200\n",
    "plt.bar(range(0, n), exp_var_pca[:n], alpha=0.5, align='center', label='Individual explained variance')\n",
    "plt.step(range(0, n), cum_sum_eigenvalues[:n], where='mid',label='Cumulative explained variance')\n",
    "plt.ylabel('Explained variance ratio')\n",
    "plt.xlabel('Principal component index')\n",
    "plt.legend(loc='best')\n",
    "plt.tight_layout()\n",
    "plt.yscale('log')\n",
    "plt.show()"
   ]
  },
  {
   "cell_type": "markdown",
   "metadata": {},
   "source": [
    "# Skorch setup"
   ]
  },
  {
   "cell_type": "code",
   "execution_count": 5,
   "metadata": {},
   "outputs": [
    {
     "name": "stdout",
     "output_type": "stream",
     "text": [
      "shapes (10000, 2) (10000, 2)\n",
      "  epoch    train_loss    valid_loss     dur\n",
      "-------  ------------  ------------  ------\n",
      "      1     \u001b[36m4152.1887\u001b[0m     \u001b[32m1149.8873\u001b[0m  0.1777\n",
      "      2      \u001b[36m295.3387\u001b[0m       \u001b[32m69.2502\u001b[0m  0.1614\n",
      "      3       \u001b[36m60.7532\u001b[0m       \u001b[32m50.4420\u001b[0m  0.1712\n",
      "      4       \u001b[36m44.2820\u001b[0m       \u001b[32m35.8905\u001b[0m  0.1643\n",
      "      5       \u001b[36m31.0207\u001b[0m       \u001b[32m24.4773\u001b[0m  0.1608\n",
      "      6       \u001b[36m20.7560\u001b[0m       \u001b[32m16.0009\u001b[0m  0.1650\n",
      "      7       \u001b[36m13.2094\u001b[0m        \u001b[32m9.6235\u001b[0m  0.1632\n",
      "      8        \u001b[36m8.1146\u001b[0m        \u001b[32m5.7260\u001b[0m  0.1629\n",
      "      9        \u001b[36m4.9479\u001b[0m        \u001b[32m3.4680\u001b[0m  0.1654\n",
      "     10        \u001b[36m3.1389\u001b[0m        \u001b[32m2.2030\u001b[0m  0.1662\n",
      "     11        \u001b[36m2.1362\u001b[0m        \u001b[32m1.5308\u001b[0m  0.1682\n",
      "     12        \u001b[36m1.5852\u001b[0m        \u001b[32m1.1749\u001b[0m  0.1650\n",
      "     13        \u001b[36m1.2601\u001b[0m        \u001b[32m0.9024\u001b[0m  0.1654\n",
      "     14        \u001b[36m1.0304\u001b[0m        \u001b[32m0.7374\u001b[0m  0.1665\n",
      "     15        \u001b[36m0.8833\u001b[0m        \u001b[32m0.6320\u001b[0m  0.1627\n",
      "     16        \u001b[36m0.7576\u001b[0m        \u001b[32m0.5135\u001b[0m  0.1644\n",
      "     17        \u001b[36m0.6600\u001b[0m        \u001b[32m0.4328\u001b[0m  0.1658\n",
      "     18        \u001b[36m0.5700\u001b[0m        \u001b[32m0.3620\u001b[0m  0.1670\n",
      "     19        \u001b[36m0.5042\u001b[0m        \u001b[32m0.3011\u001b[0m  0.1607\n",
      "     20        \u001b[36m0.4375\u001b[0m        \u001b[32m0.2566\u001b[0m  0.1652\n",
      "     21        \u001b[36m0.3841\u001b[0m        \u001b[32m0.2306\u001b[0m  0.1677\n",
      "     22        \u001b[36m0.3581\u001b[0m        \u001b[32m0.1842\u001b[0m  0.1650\n",
      "     23        \u001b[36m0.3005\u001b[0m        \u001b[32m0.1521\u001b[0m  0.1593\n",
      "     24        \u001b[36m0.2709\u001b[0m        \u001b[32m0.1386\u001b[0m  0.1604\n",
      "     25        \u001b[36m0.2439\u001b[0m        \u001b[32m0.1123\u001b[0m  0.1694\n",
      "     26        \u001b[36m0.2157\u001b[0m        \u001b[32m0.1066\u001b[0m  0.1617\n",
      "     27        \u001b[36m0.1999\u001b[0m        \u001b[32m0.0831\u001b[0m  0.1646\n",
      "     28        \u001b[36m0.1802\u001b[0m        0.0876  0.1678\n",
      "     29        \u001b[36m0.1719\u001b[0m        \u001b[32m0.0670\u001b[0m  0.1675\n",
      "     30        \u001b[36m0.1517\u001b[0m        \u001b[32m0.0569\u001b[0m  0.1633\n",
      "     31        \u001b[36m0.1376\u001b[0m        \u001b[32m0.0475\u001b[0m  0.1651\n",
      "     32        \u001b[36m0.1312\u001b[0m        \u001b[32m0.0421\u001b[0m  0.1597\n",
      "     33        \u001b[36m0.1187\u001b[0m        \u001b[32m0.0387\u001b[0m  0.1601\n",
      "     34        \u001b[36m0.1116\u001b[0m        \u001b[32m0.0316\u001b[0m  0.1652\n",
      "     35        \u001b[36m0.1033\u001b[0m        \u001b[32m0.0284\u001b[0m  0.1604\n",
      "     36        \u001b[36m0.0954\u001b[0m        0.0293  0.1649\n",
      "     37        \u001b[36m0.0852\u001b[0m        0.0325  0.1606\n",
      "     38        \u001b[36m0.0815\u001b[0m        0.0329  0.1651\n",
      "Stopping since valid_loss has not improved in the last 4 epochs.\n"
     ]
    }
   ],
   "source": [
    "import numpy as np\n",
    "from sklearn.datasets import make_regression\n",
    "from torch import nn\n",
    "from skorch.callbacks import EarlyStopping\n",
    "import torch\n",
    "from skorch import NeuralNetRegressor\n",
    "\n",
    "n_features = 2\n",
    "n_targets = 2\n",
    "X, y = make_regression(n_samples=10000, n_features=n_features,\n",
    "                       n_informative=1, random_state=0, n_targets=n_targets)\n",
    "X = X.astype(np.float32)\n",
    "y = y.astype(np.float32)\n",
    "print('shapes', X.shape, y.shape)\n",
    "\n",
    "\n",
    "class MLP(nn.Module):\n",
    "    def __init__(self, dim_inputs=n_features, dim_hidden=100, dim_outputs=2, nonlin=nn.ReLU()):\n",
    "        super(MLP, self).__init__()\n",
    "\n",
    "        self.dense0 = nn.Linear(dim_inputs, dim_hidden)\n",
    "        self.nonlin = nonlin\n",
    "        self.dense1 = nn.Linear(dim_hidden, dim_outputs)\n",
    "        # self.output = nn.Linear(n_outputs, n_outputs)\n",
    "\n",
    "    def forward(self, X, **kwargs):\n",
    "        X = self.nonlin(self.dense0(X))\n",
    "        # X = self.dropout(X)\n",
    "        X = self.dense1(X)\n",
    "        return X\n",
    "\n",
    "\n",
    "net = NeuralNetRegressor(\n",
    "    MLP(dim_inputs=X.shape[1], dim_hidden=100, dim_outputs=y.shape[1]),\n",
    "    max_epochs=100,\n",
    "    lr=1e-2,\n",
    "    callbacks=[EarlyStopping(patience=4)],\n",
    "    # Shuffle training data on each epoch\n",
    "    iterator_train__shuffle=True,\n",
    "    optimizer=torch.optim.Adam,\n",
    "    device='cuda',\n",
    ")\n",
    "\n",
    "net.fit(X, y)\n",
    "y_proba = net.predict_proba(X)\n"
   ]
  },
  {
   "cell_type": "code",
   "execution_count": 8,
   "metadata": {},
   "outputs": [
    {
     "data": {
      "text/plain": [
       "OrderedDict([('dense0.weight',\n",
       "              tensor([[-7.1479e-01, -1.1367e+00],\n",
       "                      [-3.0662e-01,  3.6305e-02],\n",
       "                      [-3.2846e-01, -1.4182e+00],\n",
       "                      [ 4.4656e-01,  7.4274e-01],\n",
       "                      [ 6.6130e-01, -1.0274e-01],\n",
       "                      [-5.3013e-01, -1.4208e+00],\n",
       "                      [ 1.3862e-01, -1.8134e+00],\n",
       "                      [ 5.2083e-01,  4.9876e-01],\n",
       "                      [-4.3094e-01, -9.2892e-01],\n",
       "                      [ 6.5275e-01,  2.2765e+00],\n",
       "                      [-1.8948e-01, -3.9848e-01],\n",
       "                      [ 5.6448e-01,  5.9268e-01],\n",
       "                      [-6.3156e-01, -3.9197e-01],\n",
       "                      [-5.4049e-01,  1.1864e+00],\n",
       "                      [-1.9406e-01, -1.3344e+00],\n",
       "                      [-4.1825e-01, -1.5454e+00],\n",
       "                      [-3.9052e-01, -1.5454e-02],\n",
       "                      [-4.7606e-01,  6.5392e-01],\n",
       "                      [-8.7014e-01, -2.1636e+00],\n",
       "                      [ 7.6079e-01,  1.8245e+00],\n",
       "                      [-5.4545e-01, -6.3829e-01],\n",
       "                      [ 6.2843e-01, -2.2920e+00],\n",
       "                      [-7.0368e-01,  2.2520e+00],\n",
       "                      [-7.0013e-02, -2.0614e+00],\n",
       "                      [ 2.9624e-01, -2.6417e+00],\n",
       "                      [ 6.9800e-01, -1.1708e+00],\n",
       "                      [-3.3256e-01,  8.7224e-01],\n",
       "                      [-2.0486e-01, -1.2436e+00],\n",
       "                      [ 2.5823e-01, -3.6711e-01],\n",
       "                      [ 4.9044e-01, -1.2618e+00],\n",
       "                      [-4.3003e-02,  1.1279e-01],\n",
       "                      [ 4.6751e-01, -1.0982e+00],\n",
       "                      [ 4.8449e-01, -6.9934e-01],\n",
       "                      [ 8.4339e-01, -1.3374e+00],\n",
       "                      [ 5.8827e-01, -1.5012e+00],\n",
       "                      [ 5.2012e-01, -2.2887e+00],\n",
       "                      [-7.9587e-01, -1.5260e+00],\n",
       "                      [ 7.3724e-02, -4.5353e-01],\n",
       "                      [ 6.9852e-01, -2.2230e+00],\n",
       "                      [-6.4705e-01,  1.8123e+00],\n",
       "                      [-6.0856e-01,  1.0565e+00],\n",
       "                      [-9.0938e-02, -1.4294e+00],\n",
       "                      [ 5.6242e-01, -2.3377e-01],\n",
       "                      [-9.9042e-02, -6.9566e-01],\n",
       "                      [ 2.4465e-01, -7.2309e-02],\n",
       "                      [ 6.3974e-01, -1.8873e+00],\n",
       "                      [ 3.0717e-01,  6.2258e-01],\n",
       "                      [ 4.0197e-01,  6.2212e-01],\n",
       "                      [-4.4645e-01, -1.8563e-02],\n",
       "                      [-1.6025e-01, -1.3567e+00],\n",
       "                      [ 1.4050e-01, -7.2650e-01],\n",
       "                      [ 4.3443e-01,  9.4185e-02],\n",
       "                      [ 1.8537e-01, -1.3196e+00],\n",
       "                      [-3.7831e-01,  1.2843e+00],\n",
       "                      [-2.7581e-01,  2.7450e+00],\n",
       "                      [ 1.0457e+00,  3.1284e+00],\n",
       "                      [ 2.6015e-01,  1.5716e+00],\n",
       "                      [-6.4641e-01,  1.9223e+00],\n",
       "                      [-6.2940e-01,  9.9941e-01],\n",
       "                      [-2.7394e-01,  1.8047e+00],\n",
       "                      [ 2.1602e-01, -2.0003e+00],\n",
       "                      [ 7.0449e-01, -2.1057e+00],\n",
       "                      [-1.2907e-01,  1.3472e-01],\n",
       "                      [ 6.4568e-01,  1.3470e+00],\n",
       "                      [ 2.7066e-01,  1.9342e-02],\n",
       "                      [ 3.0413e-01, -1.6584e+00],\n",
       "                      [-7.4268e-01, -2.0931e+00],\n",
       "                      [ 6.1947e-01,  2.2440e-02],\n",
       "                      [ 3.4813e-01,  4.9310e-01],\n",
       "                      [ 2.3094e-02, -1.6946e-01],\n",
       "                      [-9.4529e-02,  1.1417e+00],\n",
       "                      [-5.9120e-01, -2.1229e+00],\n",
       "                      [-1.0225e-01, -1.2298e+00],\n",
       "                      [-7.5481e-01, -2.0931e+00],\n",
       "                      [-7.5674e-01,  2.0561e+00],\n",
       "                      [ 1.0089e+00,  2.5830e+00],\n",
       "                      [ 1.7484e-03,  2.5512e+00],\n",
       "                      [-6.0934e-01, -4.5927e-02],\n",
       "                      [-8.8391e-01,  1.7154e+00],\n",
       "                      [ 6.8681e-01,  5.5753e-01],\n",
       "                      [-2.1444e-02,  1.3591e+00],\n",
       "                      [ 2.9350e-01, -3.7397e-01],\n",
       "                      [ 9.0252e-03, -1.6471e-01],\n",
       "                      [ 1.0589e-01, -2.8632e-01],\n",
       "                      [ 6.0777e-01,  1.3573e+00],\n",
       "                      [-2.9935e-01,  5.4347e-01],\n",
       "                      [-3.2462e-01, -5.6154e-01],\n",
       "                      [ 2.7379e-01,  2.3688e+00],\n",
       "                      [ 1.3929e-01, -9.6953e-01],\n",
       "                      [-2.0011e-01, -6.9582e-01],\n",
       "                      [-1.3052e-01,  2.1056e+00],\n",
       "                      [-3.0503e-01,  3.0952e+00],\n",
       "                      [-1.5919e-02,  1.9806e+00],\n",
       "                      [-2.8954e-01, -2.4370e+00],\n",
       "                      [-1.9438e-01, -1.5029e+00],\n",
       "                      [-4.5653e-01,  9.3952e-01],\n",
       "                      [ 5.2833e-02, -1.8022e-01],\n",
       "                      [-1.5104e-02, -1.0010e+00],\n",
       "                      [-5.9828e-01, -1.5837e+00],\n",
       "                      [ 5.5288e-01,  1.3885e+00]])),\n",
       "             ('dense0.bias',\n",
       "              tensor([ 0.2384, -0.0582, -0.1865,  0.0044,  0.1089, -0.5697,  0.8810, -0.5908,\n",
       "                       0.1182, -0.6114, -0.0527, -0.4078,  0.0815, -0.6496, -0.6132,  0.4588,\n",
       "                      -0.5892, -0.4426,  0.1414, -0.5185, -0.4515,  0.4680,  0.4138,  0.9050,\n",
       "                       0.8578, -0.5901, -0.7409, -0.5071,  1.2653, -0.4649,  0.4136,  0.8574,\n",
       "                      -0.5873,  0.4309, -0.7759, -0.3126,  1.1053, -0.0144,  0.9331, -0.6018,\n",
       "                       0.7887, -0.8721, -0.5549, -0.5620, -0.3103, -0.4920, -0.4991, -0.4390,\n",
       "                      -0.3055, -0.6783, -0.6439, -0.0487, -0.6383, -0.5332, -0.6227,  0.8058,\n",
       "                       0.7058,  0.7636, -0.2766, -0.6885, -0.4336, -0.1251,  0.5184, -0.9078,\n",
       "                      -0.7023, -0.5762,  0.4026, -0.4098, -0.5398, -0.5906, -0.6559, -0.5405,\n",
       "                      -0.6638, -0.5385,  0.0054, -0.1609,  1.4645,  0.1653,  0.7288, -0.2232,\n",
       "                       0.5597, -0.0307, -0.4785, -0.7107, -0.2343,  1.2731, -0.1265, -0.2290,\n",
       "                      -0.6406, -0.3433, -0.8975,  0.6229, -0.8942,  0.2092,  0.2755, -0.2526,\n",
       "                      -0.1616, -0.4772,  0.4590,  0.7146])),\n",
       "             ('dense1.weight',\n",
       "              tensor([[-6.0998e-01,  8.7631e-02, -6.0417e-01,  3.9520e-01, -7.8306e-02,\n",
       "                       -5.0654e-01, -9.1710e-01,  1.4029e-01, -3.5828e-01,  1.0401e+00,\n",
       "                       -2.0673e-01,  1.6452e-01, -1.4165e-01,  4.5089e-01, -5.2021e-01,\n",
       "                       -6.7173e-01,  5.5202e-02,  2.2698e-01, -1.0039e+00,  9.0569e-01,\n",
       "                       -1.9803e-01, -1.0295e+00,  9.8133e-01, -9.9148e-01, -1.2463e+00,\n",
       "                       -4.9763e-01,  3.0684e-01, -5.2348e-01, -5.3077e-01, -6.7366e-01,\n",
       "                        1.4115e-02, -6.0998e-01, -2.3711e-01, -5.9196e-01, -6.9017e-01,\n",
       "                       -1.0073e+00, -8.4962e-01, -2.4049e-01, -1.0626e+00,  8.7449e-01,\n",
       "                        5.4728e-01, -6.1603e-01, -1.4087e-01, -2.3599e-01, -2.8959e-02,\n",
       "                       -8.0300e-01,  2.2417e-01,  8.9087e-02, -1.6328e-02, -6.5766e-01,\n",
       "                       -2.5272e-01,  9.5770e-02, -6.8259e-01,  6.3173e-01,  1.2683e+00,\n",
       "                        1.4377e+00,  7.0903e-01,  8.1606e-01,  4.7138e-01,  8.1445e-01,\n",
       "                       -9.4256e-01, -9.5059e-01,  1.8055e-01,  5.8325e-01,  4.2680e-02,\n",
       "                       -7.3033e-01, -9.6109e-01,  1.5743e-03,  1.6888e-01, -7.8274e-02,\n",
       "                        4.7035e-01, -9.4839e-01, -4.9551e-01, -9.5495e-01,  1.0002e+00,\n",
       "                        1.2032e+00,  1.3794e+00, -2.6505e-02,  8.8545e-01,  2.2179e-01,\n",
       "                        6.7922e-01, -1.8259e-01,  4.8845e-02, -7.6056e-02,  6.9012e-01,\n",
       "                        4.9706e-01, -2.5067e-01,  1.1086e+00, -4.2320e-01, -1.6861e-01,\n",
       "                        9.6353e-01,  1.4929e+00,  9.4422e-01, -1.1163e+00, -7.1176e-01,\n",
       "                        3.6617e-01, -8.3248e-02, -4.8961e-01, -7.6342e-01,  6.7704e-01],\n",
       "                      [-1.0528e+00,  1.8664e-04, -1.2674e+00,  6.9459e-01, -6.1570e-02,\n",
       "                       -1.1484e+00, -1.7420e+00,  2.3524e-01, -9.0166e-01,  2.1231e+00,\n",
       "                       -3.6336e-01,  2.9356e-01, -3.1257e-01,  1.0552e+00, -1.1695e+00,\n",
       "                       -1.4350e+00,  1.9385e-02,  5.7517e-01, -1.9621e+00,  1.7115e+00,\n",
       "                       -2.7055e-01, -2.0867e+00,  2.1427e+00, -1.9785e+00, -2.4265e+00,\n",
       "                       -1.0579e+00,  6.8211e-01, -1.1014e+00, -9.7888e-01, -1.1271e+00,\n",
       "                        1.1053e-01, -1.1580e+00, -6.7712e-01, -1.3160e+00, -1.3566e+00,\n",
       "                       -2.0017e+00, -1.6930e+00, -3.8368e-01, -2.1668e+00,  1.6542e+00,\n",
       "                        1.0759e+00, -1.2596e+00, -1.7132e-01, -3.8782e-01, -2.4233e-02,\n",
       "                       -1.7054e+00,  3.0562e-01,  3.7486e-01,  8.6178e-02, -1.1351e+00,\n",
       "                       -4.1949e-01,  5.9971e-02, -1.1617e+00,  1.1284e+00,  2.4847e+00,\n",
       "                        2.9772e+00,  1.5677e+00,  1.8350e+00,  9.2525e-01,  1.6131e+00,\n",
       "                       -1.6968e+00, -1.8544e+00,  1.5987e-01,  1.3288e+00, -7.1211e-02,\n",
       "                       -1.4666e+00, -1.9057e+00,  2.4332e-03,  2.0466e-01, -3.2330e-02,\n",
       "                        9.3641e-01, -1.9403e+00, -1.1106e+00, -1.8922e+00,  1.9140e+00,\n",
       "                        2.4054e+00,  2.5426e+00, -4.5392e-02,  1.5864e+00,  3.4502e-01,\n",
       "                        1.2723e+00, -3.5126e-01,  5.3768e-02,  2.2707e-02,  1.2278e+00,\n",
       "                        1.0886e+00, -3.6131e-01,  2.0857e+00, -7.1272e-01, -5.7443e-01,\n",
       "                        1.9205e+00,  2.7714e+00,  1.7992e+00, -2.1218e+00, -1.3242e+00,\n",
       "                        9.1716e-01, -1.5678e-01, -9.2490e-01, -1.4453e+00,  1.4753e+00]])),\n",
       "             ('dense1.bias', tensor([0.1111, 0.0722]))])"
      ]
     },
     "execution_count": 8,
     "metadata": {},
     "output_type": "execute_result"
    }
   ],
   "source": [
    "net.module_.state_dict()"
   ]
  },
  {
   "cell_type": "code",
   "execution_count": null,
   "metadata": {},
   "outputs": [],
   "source": []
  }
 ],
 "metadata": {
  "kernelspec": {
   "display_name": "Python 3.8.10 ('.embgam')",
   "language": "python",
   "name": "python3"
  },
  "language_info": {
   "codemirror_mode": {
    "name": "ipython",
    "version": 3
   },
   "file_extension": ".py",
   "mimetype": "text/x-python",
   "name": "python",
   "nbconvert_exporter": "python",
   "pygments_lexer": "ipython3",
   "version": "3.8.10"
  },
  "orig_nbformat": 4,
  "vscode": {
   "interpreter": {
    "hash": "559535f78d940c882783b39501b2581b5193373045707e5f8a51d046029cfd38"
   }
  }
 },
 "nbformat": 4,
 "nbformat_minor": 2
}
