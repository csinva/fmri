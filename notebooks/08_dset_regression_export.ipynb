{
 "cells": [
  {
   "cell_type": "code",
   "execution_count": 1,
   "metadata": {},
   "outputs": [],
   "source": [
    "%load_ext autoreload\n",
    "%autoreload 2\n",
    "import sys\n",
    "sys.path.append('..')\n",
    "import feature_spaces\n",
    "import pandas as pd\n",
    "from sklearn.preprocessing import StandardScaler\n",
    "from typing import List\n",
    "from matplotlib import pyplot as plt\n",
    "from os.path import join\n",
    "import numpy as np\n",
    "import encoding_utils, feature_spaces\n",
    "import pickle as pkl\n",
    "from collections import defaultdict\n",
    "from datasets import Dataset, DatasetDict\n",
    "from feature_spaces import *\n",
    "NUM_VOXELS = 250"
   ]
  },
  {
   "attachments": {},
   "cell_type": "markdown",
   "metadata": {},
   "source": [
    "# Save dataset in standard format (csv)\n",
    "- 'text': Last 20 words as input text\n",
    "- 'vox1'...'vox250': regression response for each voxel\n",
    "- 'corr_test': correlation between predicted and actual response"
   ]
  },
  {
   "cell_type": "code",
   "execution_count": 2,
   "metadata": {},
   "outputs": [],
   "source": [
    "# Look at narrative stories\n",
    "train_stories, test_stories, allstories = encoding_utils.get_allstories([1, 2, 3, 4, 5])\n",
    "wordseqs = feature_spaces.get_story_wordseqs(allstories)"
   ]
  },
  {
   "cell_type": "code",
   "execution_count": 77,
   "metadata": {},
   "outputs": [
    {
     "name": "stderr",
     "output_type": "stream",
     "text": [
      "100%|██████████| 26/26 [00:00<00:00, 170.47it/s]\n",
      "100%|██████████| 1/1 [00:00<00:00, 203.65it/s]\n"
     ]
    }
   ],
   "source": [
    "def get_words_for_story(wordseq, max_running_words=30) -> List[str]:\n",
    "    running_words = []\n",
    "    \n",
    "    words = np.array(wordseq.data)\n",
    "    TRIM = 5\n",
    "    tr_times = wordseq.tr_times[5+TRIM: -TRIM]\n",
    "    for i, tr_time in enumerate(tr_times):\n",
    "        valid_times = wordseq.data_times <= tr_time\n",
    "        # print(valid_times)\n",
    "        running_words.append(' '.join(words[valid_times][-max_running_words:]))\n",
    "    #     print(tr_time, running_words)\n",
    "    return running_words\n",
    "\n",
    "texts_list_train = []\n",
    "for story_name in tqdm(train_stories):\n",
    "    wordseq = wordseqs[story_name]\n",
    "    texts_list_train.append(get_words_for_story(wordseq))\n",
    "texts_train = sum(texts_list_train, [])\n",
    "\n",
    "texts_list_test = []\n",
    "for story_name in tqdm(test_stories):\n",
    "    wordseq = wordseqs[story_name]\n",
    "    texts_list_test.append(get_words_for_story(wordseq))\n",
    "texts_test = sum(texts_list_test, [])"
   ]
  },
  {
   "cell_type": "code",
   "execution_count": 4,
   "metadata": {},
   "outputs": [
    {
     "name": "stdout",
     "output_type": "stream",
     "text": [
      "[0.76296981 0.74258237 0.72107898 0.71616266 0.71508206]\n"
     ]
    }
   ],
   "source": [
    "subj = 'UTS03'\n",
    "\n",
    "# select top_idxs\n",
    "save_dir = '/home/chansingh/mntv1/deep-fMRI/results/encoding/bert-10__ndel=4/UTS03'\n",
    "corrs_val = np.load(join(save_dir, 'corrs.npz'))['arr_0']\n",
    "top_idxs = np.argsort(corrs_val)[::-1][:NUM_VOXELS]\n",
    "print(corrs_val[top_idxs][:5])"
   ]
  },
  {
   "cell_type": "code",
   "execution_count": null,
   "metadata": {},
   "outputs": [
    {
     "name": "stdout",
     "output_type": "stream",
     "text": [
      "[0.76296981 0.74258237 0.72107898 0.71616266 0.71508206]\n",
      "resp_train_voxel.shape=(9461, 250), resp_test_voxel.shape=(291, 250)\n"
     ]
    }
   ],
   "source": [
    "# load responses (n_time_points x n_voxels)\n",
    "resp_train = encoding_utils.get_response(train_stories, subj)\n",
    "resp_test = encoding_utils.get_response(test_stories, subj)\n",
    "print(f\"{resp_train.shape=}, {resp_test.shape=}\")\n",
    "\n",
    "# select top voxels\n",
    "resp_train_voxel = resp_train[:, top_idxs]\n",
    "resp_test_voxel = resp_test[:, top_idxs]\n",
    "print(f\"{resp_train_voxel.shape=}, {resp_test_voxel.shape=}\")"
   ]
  },
  {
   "cell_type": "code",
   "execution_count": 91,
   "metadata": {},
   "outputs": [],
   "source": [
    "resp_train_voxel = StandardScaler().fit_transform(resp_train_voxel)\n",
    "resp_test_voxel = StandardScaler().fit_transform(resp_test_voxel)"
   ]
  },
  {
   "cell_type": "code",
   "execution_count": 94,
   "metadata": {},
   "outputs": [],
   "source": [
    "df_train = {\n",
    "    'text': texts_train,\n",
    "}\n",
    "df_test = {\n",
    "    'text': texts_test,\n",
    "}\n",
    "for i in range(NUM_VOXELS):\n",
    "    df_train[f'voxel_{i}'] = resp_train_voxel[:, i]\n",
    "    df_test[f'voxel_{i}'] = resp_test_voxel[:, i]"
   ]
  },
  {
   "cell_type": "code",
   "execution_count": null,
   "metadata": {},
   "outputs": [],
   "source": [
    "dset_train = Dataset.from_pandas(pd.DataFrame.from_dict(df_train))\n",
    "dset_test = Dataset.from_pandas(pd.DataFrame.from_dict(df_test))\n",
    "ds = DatasetDict()\n",
    "ds['train'] = dset_train\n",
    "ds['test'] = dset_test\n",
    "print(ds)"
   ]
  },
  {
   "cell_type": "code",
   "execution_count": null,
   "metadata": {},
   "outputs": [],
   "source": [
    "ds.push_to_hub('csinva/fmri_language_responses')"
   ]
  },
  {
   "attachments": {},
   "cell_type": "markdown",
   "metadata": {},
   "source": [
    "# Visualize top voxels and which ROIs they are in"
   ]
  },
  {
   "cell_type": "code",
   "execution_count": 5,
   "metadata": {},
   "outputs": [],
   "source": [
    "import cortex\n",
    "viz_cortex = __import__('03_viz_cortex')"
   ]
  },
  {
   "cell_type": "code",
   "execution_count": null,
   "metadata": {},
   "outputs": [],
   "source": [
    "# visualize after masking anything that isn't in the top_idxs\n",
    "corrs = corrs_val\n",
    "\n",
    "for i in range(len(corrs)):\n",
    "    if i not in top_idxs:\n",
    "        corrs[i] = 0\n",
    "viz_cortex.quickshow(corrs)"
   ]
  },
  {
   "cell_type": "code",
   "execution_count": null,
   "metadata": {},
   "outputs": [],
   "source": [
    "subject = \"UTS03\"\n",
    "xfm = \"UTS03_auto\"\n",
    "\n",
    "# Get the map of which voxels are inside of our ROI\n",
    "index_volume, index_keys = cortex.utils.get_roi_masks(\n",
    "    subject, xfm,\n",
    "    roi_list=None, # Default (None) gives all available ROIs in overlays.svg\n",
    "    gm_sampler='cortical-conservative', # Select only voxels mostly within cortex\n",
    "    split_lr=True, # Separate left/right ROIs (this occurs anyway with index volumes)\n",
    "    threshold=0.9, # convert probability values to boolean mask for each ROI\n",
    "    return_dict=False # return index volume, not dict of masks\n",
    ")\n",
    "\n",
    "# Count how many of the top_voxels are in each ROI\n",
    "roi_counter = defaultdict(list)\n",
    "for k in tqdm(index_keys):\n",
    "    roi_verts = cortex.get_roi_verts('UTS03', k)\n",
    "    for val in roi_verts.values():\n",
    "        for top_idx in top_idxs:\n",
    "            if top_idx in val:\n",
    "                roi_counter[k].append(top_idx)\n",
    "counts = {k: len(v) for k, v in roi_counter.items()}\n",
    "sorted(counts.items(), key=lambda s: s[1], reverse=True)"
   ]
  }
 ],
 "metadata": {
  "kernelspec": {
   "display_name": "Python 3.8.10 ('.embgam')",
   "language": "python",
   "name": "python3"
  },
  "language_info": {
   "codemirror_mode": {
    "name": "ipython",
    "version": 3
   },
   "file_extension": ".py",
   "mimetype": "text/x-python",
   "name": "python",
   "nbconvert_exporter": "python",
   "pygments_lexer": "ipython3",
   "version": "3.8.10"
  },
  "orig_nbformat": 4,
  "vscode": {
   "interpreter": {
    "hash": "559535f78d940c882783b39501b2581b5193373045707e5f8a51d046029cfd38"
   }
  }
 },
 "nbformat": 4,
 "nbformat_minor": 2
}
