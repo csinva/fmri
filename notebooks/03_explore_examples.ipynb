{
 "cells": [
  {
   "cell_type": "code",
   "execution_count": null,
   "metadata": {},
   "outputs": [],
   "source": [
    "%load_ext autoreload\n",
    "%autoreload 2\n",
    "import sys\n",
    "sys.path.append('..')\n",
    "import seaborn as sns\n",
    "import os\n",
    "import pandas as pd\n",
    "from copy import deepcopy\n",
    "from matplotlib import pyplot as plt\n",
    "from os.path import join\n",
    "import numpy as np\n",
    "import imodelsx.process_results\n",
    "import qa_questions\n",
    "import random\n",
    "import joblib\n",
    "from tqdm import tqdm\n",
    "import feature_spaces\n",
    "fit_encoding = __import__('01_fit_encoding')"
   ]
  },
  {
   "cell_type": "markdown",
   "metadata": {},
   "source": [
    "### Look at examples"
   ]
  },
  {
   "cell_type": "code",
   "execution_count": null,
   "metadata": {},
   "outputs": [],
   "source": [
    "class A:\n",
    "    use_test_setup = False\n",
    "    subject = 'UTS03'\n",
    "\n",
    "\n",
    "args = A()"
   ]
  },
  {
   "cell_type": "code",
   "execution_count": null,
   "metadata": {},
   "outputs": [],
   "source": [
    "story_names_train, story_names_test = fit_encoding.get_story_names(args)"
   ]
  },
  {
   "cell_type": "code",
   "execution_count": null,
   "metadata": {},
   "outputs": [],
   "source": [
    "wordseqs = feature_spaces.get_story_wordseqs(story_names_train)\n",
    "# chunks = wordseqs['theclosetthatateeverything'].chunks()\n",
    "# chunk_lens = [len(chunk) for chunk in chunks]"
   ]
  },
  {
   "cell_type": "code",
   "execution_count": 41,
   "metadata": {},
   "outputs": [],
   "source": [
    "seed = 43  # 42\n",
    "ngrams_examples = []\n",
    "ngram_size = 10\n",
    "num_examples_per_story = 1\n",
    "random.seed(seed)\n",
    "np.random.seed(seed)\n",
    "for story_name in story_names_train:\n",
    "    words_list = wordseqs[story_name].data\n",
    "    ngrams_list = feature_spaces.get_ngrams_list_from_words_list(\n",
    "        words_list, ngram_size=ngram_size)[ngram_size + 2:]\n",
    "    ngrams_examples += np.random.choice(ngrams_list,\n",
    "                                        num_examples_per_story).tolist()"
   ]
  },
  {
   "cell_type": "code",
   "execution_count": 42,
   "metadata": {},
   "outputs": [
    {
     "name": "stdout",
     "output_type": "stream",
     "text": [
      "- of them we took them to the recycling bin and the\n",
      "- a helpless victim of a sickness defined by a condition and\n",
      "- you sure you're gonna just add lesbian to that list like\n",
      "- them said i'm going to shoot the dog and the other\n",
      "- take all our kids and go cross country and on the\n",
      "- boyfriend and he answers so i put a pound coin in\n",
      "- had blood running down my arms and all over my little\n",
      "- hours thanks in part to the addition of some lighter fluid\n",
      "- doing the doctor's advice i enrolled to do actuarial science at\n",
      "- subject is in school and tell him you know why i\n",
      "- to the movies i pick them up from school in the\n",
      "- voicemail on my phone from a man who identifies himself as\n",
      "- wasn't good but somehow i managed to get through high school\n",
      "- of leukemia in october of nineteen fifty five there is a\n",
      "- didn't wanna be so logical i actually wanted something more magic\n",
      "- gifts and clothes because that usually means going somewhere new and\n",
      "- him if i had a cat scan he said no and\n",
      "- by now it's around five o'clock but my brother is in\n",
      "- and the minister from the church where the service was was\n",
      "- taken your time you've done the things you wanted to do\n",
      "- realized that i might have some options after all i picked\n",
      "- apartment um and in that place we lived like two twenty\n",
      "- clown troupe alright i knew that one wasn't cool um fifth\n",
      "- so that's the oregon trail but i have to tell you\n",
      "- crazy um it's crazy i'm naked with my shoes on like\n",
      "- catch it bam you know and it this this went on\n",
      "- that were that were written in response to the very adult\n",
      "- time conservative evangelical christians but then there was our unofficial faith\n",
      "- to georgia's death row during which she insisted on feeding me\n",
      "- i knew it was dirty i waited a moment and then\n",
      "- road trip with my family as we hit the expanse of\n",
      "- i understand it's a dry town the president's brought a bottle\n",
      "- surrounded by water my entire life i didn't like swimming and\n",
      "- love it we are gonna love her good cause she's ivy\n",
      "- with those very naughty nicholson boys but uh their mother knew\n",
      "- sunday my one of my sisters said how can you do\n",
      "- was rejected by a sandwich i ended an eight year relationship\n",
      "- wave of loneliness hit things seemed to be going well in\n",
      "- was they were not scared anymore and uh they were sort\n",
      "- remember just looking at all the other kids' looks on their\n",
      "- for a suitable day hike our mistake was continuing past the\n",
      "- just want you to know that i'm gay and she looked\n",
      "- one of my benson and hedges menthol light one twenties so\n",
      "- became a college professor i wouldn't be halfway completed with my\n",
      "- with him because he's a good conversationalist and i'm a good\n",
      "- staring right at me and so i scream and i drop\n",
      "- i to become best friends and now now i'm not saying\n",
      "- drift and i'm getting a feel what he's saying you can\n",
      "- ink work this is prison ink he has a prison guard\n",
      "- a notice on the board asking for those scientists who wished\n",
      "- another frozen moment i could see the lights peeking over the\n",
      "- have a body jt was an avatar so let me take\n",
      "- invitation she said and i see this thing about bringing a\n",
      "- was bubbling and i was like i love you i love\n",
      "- my life and know that i will never forget you and\n",
      "- smiling i get the photo we step you know out of\n",
      "- my husband's gay so you know it's oklahoma the the runner\n",
      "- we possibly come back to england if we don't do the\n",
      "- am i gonna see another day am i gonna see my\n",
      "- said let's ca let's call the local newspaper let them take\n",
      "- that sort of dumped out into a beautiful little brick patio\n",
      "- i think their spiritual leader is my father who i haven't\n",
      "- of power completely out of sync so class continues for the\n",
      "- discussed the possibility of comfort care a euphemism for pulling the\n",
      "- back in the car and he goes over and conferences with\n",
      "- border and you know across the border different man you know\n",
      "- protect himself like i was gonna take a swing but i\n",
      "- and cover years because as elementary kids we went through regular\n",
      "- clothes you know i gave them a gift of my child\n",
      "- and negotiations in england we finally became an independent republic called\n",
      "- squares go i can rewrite their memory and they're not afraid\n",
      "- want to do with it i explain to him of course\n",
      "- not not til you're sixteen okay and i was crushed like\n",
      "- it was from igor he told of his escape just ahead\n",
      "- and the woman and everybody began to undress the soldiers were\n",
      "- staying he goes well last night i slept on a park\n",
      "- i guess she felt sort of mismatched there too so there\n",
      "- nine thirty or so they called mama and um {cg} i\n",
      "- detaches from the rocket and then the tofu did four somersaults\n",
      "- care of me i was still really sick i could barely\n",
      "- lousy nobody else wants to watch them play so in the\n",
      "- were treated to tap and ballet lessons by their parents uh\n"
     ]
    }
   ],
   "source": [
    "print('\\n'.join(['- ' + ngram for ngram in ngrams_examples]))"
   ]
  },
  {
   "cell_type": "code",
   "execution_count": null,
   "metadata": {},
   "outputs": [],
   "source": [
    "ngrams_list[:10]"
   ]
  },
  {
   "cell_type": "code",
   "execution_count": null,
   "metadata": {},
   "outputs": [],
   "source": []
  },
  {
   "cell_type": "code",
   "execution_count": null,
   "metadata": {},
   "outputs": [],
   "source": [
    "args"
   ]
  },
  {
   "cell_type": "markdown",
   "metadata": {},
   "source": [
    "### Load fitted models"
   ]
  },
  {
   "cell_type": "code",
   "execution_count": null,
   "metadata": {},
   "outputs": [],
   "source": [
    "results_dir = '/home/chansingh/mntv1/deep-fMRI/encoding/results_mar30'\n",
    "experiment_filename = '../experiments/01_fit_encoding.py'\n",
    "\n",
    "# load the results in to a pandas dataframe\n",
    "r = imodelsx.process_results.get_results_df(results_dir)\n",
    "r = imodelsx.process_results.fill_missing_args_with_default(\n",
    "    r, experiment_filename)\n",
    "# imodelsx.process_results.delete_runs_in_dataframe(\n",
    "# r[r.feature_space == 'qa_embedder-10'], actually_delete=True)\n",
    "cols_varied = imodelsx.process_results.get_experiment_keys(\n",
    "    r, experiment_filename)\n",
    "print('experiment varied these params:', cols_varied)"
   ]
  },
  {
   "cell_type": "code",
   "execution_count": null,
   "metadata": {},
   "outputs": [],
   "source": [
    "args = r[(r.feature_space == 'qa_embedder-5') * (r.pc_components == 100) * (r.ndelays == 4)\n",
    "         ].sort_values(by='corrs_tune_mean', ascending=False).iloc[0]"
   ]
  },
  {
   "cell_type": "code",
   "execution_count": null,
   "metadata": {},
   "outputs": [],
   "source": [
    "args['corrs_test_pc']"
   ]
  },
  {
   "cell_type": "code",
   "execution_count": null,
   "metadata": {},
   "outputs": [],
   "source": [
    "story_names_train, story_names_test = fit_encoding.get_story_names(args)\n",
    "stim_test_delayed, resp_test = fit_encoding.get_data(args, story_names_test)\n",
    "stim_train_delayed, resp_train = fit_encoding.get_data(args, story_names_train)"
   ]
  }
 ],
 "metadata": {
  "kernelspec": {
   "display_name": "Python 3.8.10 ('.embgam')",
   "language": "python",
   "name": "python3"
  },
  "language_info": {
   "codemirror_mode": {
    "name": "ipython",
    "version": 3
   },
   "file_extension": ".py",
   "mimetype": "text/x-python",
   "name": "python",
   "nbconvert_exporter": "python",
   "pygments_lexer": "ipython3",
   "version": "3.11.8"
  },
  "orig_nbformat": 4,
  "vscode": {
   "interpreter": {
    "hash": "559535f78d940c882783b39501b2581b5193373045707e5f8a51d046029cfd38"
   }
  }
 },
 "nbformat": 4,
 "nbformat_minor": 2
}
