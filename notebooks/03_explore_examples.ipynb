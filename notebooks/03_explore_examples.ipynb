{
 "cells": [
  {
   "cell_type": "code",
   "execution_count": null,
   "metadata": {},
   "outputs": [],
   "source": [
    "%load_ext autoreload\n",
    "%autoreload 2\n",
    "import sys\n",
    "sys.path.append('..')\n",
    "import seaborn as sns\n",
    "import os\n",
    "import pandas as pd\n",
    "from copy import deepcopy\n",
    "from matplotlib import pyplot as plt\n",
    "from os.path import join\n",
    "import numpy as np\n",
    "import imodelsx.process_results\n",
    "import qa_questions\n",
    "import random\n",
    "import joblib\n",
    "from tqdm import tqdm\n",
    "import feature_spaces\n",
    "fit_encoding = __import__('01_fit_encoding')\n",
    "import encoding_utils"
   ]
  },
  {
   "cell_type": "markdown",
   "metadata": {},
   "source": [
    "### Look at examples"
   ]
  },
  {
   "cell_type": "code",
   "execution_count": null,
   "metadata": {},
   "outputs": [],
   "source": [
    "class A:\n",
    "    use_test_setup = False\n",
    "    subject = 'UTS03'\n",
    "\n",
    "\n",
    "args = A()"
   ]
  },
  {
   "cell_type": "code",
   "execution_count": null,
   "metadata": {},
   "outputs": [],
   "source": [
    "story_names_train, story_names_test = fit_encoding.get_story_names(args)"
   ]
  },
  {
   "cell_type": "code",
   "execution_count": null,
   "metadata": {},
   "outputs": [],
   "source": [
    "wordseqs = feature_spaces.get_story_wordseqs(story_names_train)\n",
    "# chunks = wordseqs['theclosetthatateeverything'].chunks()\n",
    "# chunk_lens = [len(chunk) for chunk in chunks]"
   ]
  },
  {
   "cell_type": "code",
   "execution_count": null,
   "metadata": {},
   "outputs": [],
   "source": [
    "seed = 43  # 42\n",
    "ngrams_examples = []\n",
    "ngram_size = 10\n",
    "num_examples_per_story = 1\n",
    "random.seed(seed)\n",
    "np.random.seed(seed)\n",
    "for story_name in story_names_train:\n",
    "    words_list = wordseqs[story_name].data\n",
    "    ngrams_list = feature_spaces.get_ngrams_list_from_words_list(\n",
    "        words_list, ngram_size=ngram_size)[ngram_size + 2:]\n",
    "    ngrams_examples += np.random.choice(ngrams_list,\n",
    "                                        num_examples_per_story).tolist()"
   ]
  },
  {
   "cell_type": "code",
   "execution_count": null,
   "metadata": {},
   "outputs": [],
   "source": [
    "print('\\n'.join(['- ' + ngram for ngram in ngrams_examples]))"
   ]
  },
  {
   "cell_type": "markdown",
   "metadata": {},
   "source": [
    "### Look at alignment"
   ]
  },
  {
   "cell_type": "code",
   "execution_count": 9,
   "metadata": {},
   "outputs": [
    {
     "data": {
      "text/plain": [
       "dict_keys(['wheretheressmoke', 'fromboyhoodtofatherhood'])"
      ]
     },
     "execution_count": 9,
     "metadata": {},
     "output_type": "execute_result"
    }
   ],
   "source": [
    "wordseqs.keys()"
   ]
  },
  {
   "cell_type": "code",
   "execution_count": 34,
   "metadata": {},
   "outputs": [],
   "source": [
    "wordseqs = feature_spaces.get_story_wordseqs(['sloth'])\n",
    "# chunks = wordseqs['theclosetthatateeverything'].chunks()\n",
    "# chunk_lens = [len(chunk) for chunk in chunks]"
   ]
  },
  {
   "cell_type": "code",
   "execution_count": 35,
   "metadata": {},
   "outputs": [],
   "source": [
    "ws = wordseqs['sloth']"
   ]
  },
  {
   "cell_type": "code",
   "execution_count": 36,
   "metadata": {},
   "outputs": [
    {
     "data": {
      "text/plain": [
       "452"
      ]
     },
     "execution_count": 36,
     "metadata": {},
     "output_type": "execute_result"
    }
   ],
   "source": [
    "len(ws.chunks())"
   ]
  },
  {
   "cell_type": "code",
   "execution_count": 40,
   "metadata": {},
   "outputs": [
    {
     "data": {
      "text/plain": [
       "452"
      ]
     },
     "execution_count": 40,
     "metadata": {},
     "output_type": "execute_result"
    }
   ],
   "source": [
    "len(feature_spaces._get_ngrams_list_from_chunks(ws.chunks()))"
   ]
  },
  {
   "cell_type": "code",
   "execution_count": 32,
   "metadata": {},
   "outputs": [],
   "source": [
    "resp = encoding_utils.get_response(['sloth'], args.subject)"
   ]
  },
  {
   "cell_type": "code",
   "execution_count": 33,
   "metadata": {},
   "outputs": [
    {
     "data": {
      "text/plain": [
       "(437, 95556)"
      ]
     },
     "execution_count": 33,
     "metadata": {},
     "output_type": "execute_result"
    }
   ],
   "source": [
    "resp.shape"
   ]
  },
  {
   "cell_type": "code",
   "execution_count": null,
   "metadata": {},
   "outputs": [],
   "source": [
    "ws = wo"
   ]
  },
  {
   "cell_type": "code",
   "execution_count": 17,
   "metadata": {},
   "outputs": [
    {
     "data": {
      "text/plain": [
       "1839"
      ]
     },
     "execution_count": 17,
     "metadata": {},
     "output_type": "execute_result"
    }
   ],
   "source": [
    "len(wordseqs['wheretheressmoke'].data)"
   ]
  },
  {
   "cell_type": "code",
   "execution_count": 20,
   "metadata": {},
   "outputs": [
    {
     "data": {
      "text/plain": [
       "291"
      ]
     },
     "execution_count": 20,
     "metadata": {},
     "output_type": "execute_result"
    }
   ],
   "source": [
    "len(wordseqs['wheretheressmoke'].chunks()[10:-5])"
   ]
  },
  {
   "cell_type": "code",
   "execution_count": 28,
   "metadata": {},
   "outputs": [],
   "source": [
    "wordseqs['wheretheressmoke'].chunks()\n",
    "\n",
    "\n",
    "def get_ngrams_list_from_chunks(chunks, num_trs=2):\n",
    "    ngrams_list = []\n",
    "    for i, chunk in enumerate(chunks):\n",
    "        # print(chunks[i - num_trs:i])\n",
    "        # sum(chunks[i - num_trs:i], [])\n",
    "        chunk_block = chunks[i - num_trs:i]\n",
    "        if len(chunk_block) == 0:\n",
    "            ngrams_list.append('')\n",
    "        else:\n",
    "            chunk_block = np.concatenate(chunk_block)\n",
    "            ngrams_list.append(' '.join(chunk_block))\n",
    "\n",
    "    return ngrams_list\n",
    "\n",
    "\n",
    "ngrams_list = get_ngrams_list_from_chunks(\n",
    "    wordseqs['wheretheressmoke'].chunks(), num_trs=2)"
   ]
  },
  {
   "cell_type": "code",
   "execution_count": 29,
   "metadata": {},
   "outputs": [
    {
     "data": {
      "text/plain": [
       "['',\n",
       " '',\n",
       " '',\n",
       " '',\n",
       " '',\n",
       " '',\n",
       " 'i reached over and secretly',\n",
       " 'i reached over and secretly undid my seatbelt',\n",
       " 'undid my seatbelt and when his foot hit the',\n",
       " 'and when his foot hit the brake at the red light i flung open',\n",
       " 'brake at the red light i flung open the door and i ran',\n",
       " 'the door and i ran i had no shoes',\n",
       " 'i had no shoes on i was crying',\n",
       " 'on i was crying i had no wallet',\n",
       " 'i had no wallet but i was ok because i had my cigarettes',\n",
       " 'but i was ok because i had my cigarettes',\n",
       " \"and i didn't want any part of freedom if i didn't\",\n",
       " \"and i didn't want any part of freedom if i didn't have my cigarettes\",\n",
       " 'have my cigarettes when you live with someone',\n",
       " 'when you live with someone who has a temper',\n",
       " 'who has a temper a very bad temper a very',\n",
       " 'a very bad temper a very very bad temper you learn',\n",
       " 'very bad temper you learn to play',\n",
       " 'to play around that you learn',\n",
       " \"around that you learn this time i'll play possum\",\n",
       " \"this time i'll play possum and next time i'll just\",\n",
       " \"and next time i'll just be real nice or i'll say yes\",\n",
       " \"be real nice or i'll say yes to everything or you make yourself scarce\",\n",
       " 'to everything or you make yourself scarce or you run and this',\n",
       " 'or you run and this was one of the times when you just run',\n",
       " 'was one of the times when you just run and as',\n",
       " 'and as i was running i thought this was a great',\n",
       " 'i was running i thought this was a great place to jump out because there were big lawns',\n",
       " 'place to jump out because there were big lawns and there were cul de sacs and sometimes he would',\n",
       " 'and there were cul de sacs and sometimes he would come after me and drive and yell stuff at',\n",
       " 'come after me and drive and yell stuff at me to get back in get back in',\n",
       " \"me to get back in get back in and i was like no i'm out of here\",\n",
       " \"and i was like no i'm out of here this is great and i went and hid behind a cabana\",\n",
       " 'this is great and i went and hid behind a cabana and he left and i had',\n",
       " 'and he left and i had my cigarettes and uh',\n",
       " 'my cigarettes and uh i started to walk in this beautiful',\n",
       " 'i started to walk in this beautiful neighborhood it was ten',\n",
       " 'neighborhood it was ten thirty at night and',\n",
       " 'thirty at night and it was silent',\n",
       " 'it was silent and lovely and',\n",
       " 'and lovely and there was no sound except',\n",
       " 'there was no sound except for sprinklers',\n",
       " 'for sprinklers ch ch ch ch',\n",
       " 'ch ch ch ch {ig} ch',\n",
       " '{ig} ch ch ch ch {ig}',\n",
       " 'ch ch ch {ig} and i was enjoying myself',\n",
       " 'and i was enjoying myself and enjoying the absence of anger and enjoying',\n",
       " \"and enjoying the absence of anger and enjoying these few hours i knew i'd have of\",\n",
       " \"these few hours i knew i'd have of freedom and just to perfect\",\n",
       " 'freedom and just to perfect it i',\n",
       " \"it i thought i'll have a smoke and then\",\n",
       " \"thought i'll have a smoke and then it occurred to me with horrifying\",\n",
       " \"it occurred to me with horrifying speed i don't have a light\",\n",
       " \"speed i don't have a light\",\n",
       " 'just then as if in',\n",
       " 'just then as if in answer i see a figure up ahead',\n",
       " \"answer i see a figure up ahead who is that it's not\",\n",
       " \"who is that it's not him ok they don't have a dog who\",\n",
       " \"him ok they don't have a dog who is that what uh what are they doing out on\",\n",
       " 'is that what uh what are they doing out on this suburban street and the person',\n",
       " \"this suburban street and the person comes closer and i could see it's a woman\",\n",
       " \"comes closer and i could see it's a woman and then i can see she has\",\n",
       " 'and then i can see she has her hands in her face oh',\n",
       " \"her hands in her face oh she's crying and then she sees me\",\n",
       " \"she's crying and then she sees me and she composes herself and she\",\n",
       " 'and she composes herself and she gets closer and i see she has no shoes',\n",
       " \"gets closer and i see she has no shoes on she has no shoes on and she's\",\n",
       " \"on she has no shoes on and she's crying and she's out on the street\",\n",
       " \"crying and she's out on the street street i recognize her\",\n",
       " \"street i recognize her though i've never met\",\n",
       " \"though i've never met her and just as she passes me she says\",\n",
       " 'her and just as she passes me she says you got a cigarette',\n",
       " 'you got a cigarette and i say you got a light',\n",
       " 'and i say you got a light and she says damn i',\n",
       " 'and she says damn i hope so and then',\n",
       " 'hope so and then sh first she digs into her cutoffs in the',\n",
       " 'sh first she digs into her cutoffs in the front nothing and then digs in the',\n",
       " 'front nothing and then digs in the back and then she has this vest on that has',\n",
       " \"back and then she has this vest on that has fifty million little pockets on it and she's checking\",\n",
       " \"fifty million little pockets on it and she's checking and checking and it's looking bad it's looking\",\n",
       " \"and checking and it's looking bad it's looking very bad\",\n",
       " 'very bad she digs back in the front again',\n",
       " 'she digs back in the front again deep deep and she pulls',\n",
       " 'deep deep and she pulls out a pack of matches that had been laundered',\n",
       " 'out a pack of matches that had been laundered at least once',\n",
       " 'at least once ukgh we open',\n",
       " 'ukgh we open it up and there is one match inside',\n",
       " 'it up and there is one match inside ok oh my',\n",
       " \"ok oh my god this takes on it's like nasa\",\n",
       " \"god this takes on it's like nasa now we got to like oh how are we gonna\",\n",
       " 'now we got to like oh how are we gonna do it ok and we we hunker down',\n",
       " 'do it ok and we we hunker down we crouch on the ground and',\n",
       " \"we crouch on the ground and where's the wind coming from\",\n",
       " \"where's the wind coming from we're stopping i take out my cigarettes\",\n",
       " \"we're stopping i take out my cigarettes let's get the cigarettes ready oh my brand she says\",\n",
       " \"let's get the cigarettes ready oh my brand she says not surprising and\",\n",
       " 'not surprising and we both have our cigarettes at the ready',\n",
       " 'we both have our cigarettes at the ready she strikes once nothing she',\n",
       " 'she strikes once nothing she strikes again yes fire',\n",
       " 'strikes again yes fire puff inhale mm',\n",
       " 'puff inhale mm sweet kiss of that cigarette',\n",
       " 'sweet kiss of that cigarette and we sit there and',\n",
       " \"and we sit there and we're loving the nicotine and we\",\n",
       " \"we're loving the nicotine and we both need this right now i\",\n",
       " \"both need this right now i can tell the night's been tough\",\n",
       " \"can tell the night's been tough immediately we start to reminisce about\",\n",
       " \"immediately we start to reminisce about our thirty second relationship i didn't\",\n",
       " \"our thirty second relationship i didn't think that was gonna happen me neither oh man\",\n",
       " \"think that was gonna happen me neither oh man that was close oh i'm so lucky\",\n",
       " \"that was close oh i'm so lucky i saw you yeah\",\n",
       " 'i saw you yeah then she surprises',\n",
       " 'then she surprises me by saying',\n",
       " 'me by saying what was the fight about',\n",
       " 'what was the fight about and i say wha what are they all',\n",
       " 'and i say wha what are they all about and she said i know what you mean',\n",
       " 'about and she said i know what you mean she said was it a bad one and and i said',\n",
       " 'she said was it a bad one and and i said you know like medium',\n",
       " 'you know like medium she said oh and we start to trade',\n",
       " 'she said oh and we start to trade stories about our lives',\n",
       " \"stories about our lives we're both from up north\",\n",
       " \"we're both from up north we're both kind of newish to\",\n",
       " \"we're both kind of newish to the neighborhood this is in florida\",\n",
       " 'the neighborhood this is in florida we both went to college not great',\n",
       " 'we both went to college not great colleges but man we graduated',\n",
       " \"colleges but man we graduated and i'm actually finding myself a little\",\n",
       " \"and i'm actually finding myself a little jealous of her because she has this really cool\",\n",
       " 'jealous of her because she has this really cool job washing dogs',\n",
       " 'job washing dogs',\n",
       " 'she had horses back home and she really loves',\n",
       " \"she had horses back home and she really loves animals and she wants to be a vet and i'm like man\",\n",
       " \"animals and she wants to be a vet and i'm like man you're halfway there\",\n",
       " \"you're halfway there i'm\",\n",
       " \"i'm a waitress at an ice cream parlor\",\n",
       " \"a waitress at an ice cream parlor so um that's not i don't know where i want\",\n",
       " \"so um that's not i don't know where i want to be but i know it's not that\",\n",
       " \"to be but i know it's not that and then it gets a little deeper {cg}\",\n",
       " 'and then it gets a little deeper {cg} and we share some other stuff',\n",
       " \"and we share some other stuff about what our lives are like things that i can't\",\n",
       " \"about what our lives are like things that i can't ever tell people at home\",\n",
       " 'ever tell people at home this girl i',\n",
       " 'this girl i can tell her the really ugly stuff and she still',\n",
       " 'can tell her the really ugly stuff and she still understands how it can still be pretty',\n",
       " 'understands how it can still be pretty she understands like',\n",
       " \"she understands like how nice he's gonna be when\",\n",
       " \"how nice he's gonna be when i get home and how sweet that'll\",\n",
       " \"i get home and how sweet that'll be\",\n",
       " 'be we are chain smoking off each',\n",
       " \"we are chain smoking off each other oh that's almost out come on and we\",\n",
       " \"other oh that's almost out come on and we we go through this entire pack until it's\",\n",
       " \"we go through this entire pack until it's gone and then i say you know what\",\n",
       " \"gone and then i say you know what uh this is a little funny but you're gonna\",\n",
       " \"uh this is a little funny but you're gonna have to show me the way to get home because\",\n",
       " \"have to show me the way to get home because although i'm twenty three years old i don't have my driver's license\",\n",
       " \"although i'm twenty three years old i don't have my driver's license yet and i just jumped out\",\n",
       " 'yet and i just jumped out right when i needed to and',\n",
       " \"right when i needed to and she says well why don't you come back to my house and i'll give you a\",\n",
       " \"she says well why don't you come back to my house and i'll give you a ride i say ok great\",\n",
       " 'ride i say ok great and we start walking',\n",
       " 'and we start walking and uh we get to this',\n",
       " 'and uh we get to this um lots of uh lights',\n",
       " 'um lots of uh lights and uh the roads are getting',\n",
       " \"and uh the roads are getting wider and wider and there's more cars\",\n",
       " \"wider and wider and there's more cars and i see um\",\n",
       " 'and i see um lots of stores you know laundromats',\n",
       " 'lots of stores you know laundromats and dollar stores and emergecenters',\n",
       " 'and dollar stores and emergecenters and',\n",
       " 'and then we cross over us',\n",
       " 'then we cross over us one and uh she',\n",
       " 'one and uh she leads me to some place and i think',\n",
       " 'leads me to some place and i think no but yes',\n",
       " \"no but yes carl's efficiency\",\n",
       " \"carl's efficiency apartments this girl lives there\",\n",
       " \"apartments this girl lives there and it's horrible and\",\n",
       " \"and it's horrible and it's lit up so bright just to illuminate\",\n",
       " \"it's lit up so bright just to illuminate the horribleness of it it's the kind\",\n",
       " \"the horribleness of it it's the kind of place where you drive your car right up and the door's\",\n",
       " \"of place where you drive your car right up and the door's right there and there's fifty million cigarette\",\n",
       " \"right there and there's fifty million cigarette butts outside and there's like doors\",\n",
       " \"butts outside and there's like doors one through seven and you know behind every single\",\n",
       " \"one through seven and you know behind every single door there's some horrible misery\",\n",
       " \"door there's some horrible misery going on there's someone crying or drunk\",\n",
       " \"going on there's someone crying or drunk or lonely or cruel and i\",\n",
       " 'or lonely or cruel and i think oh god she lives here how awful',\n",
       " 'think oh god she lives here how awful we go',\n",
       " 'we go to the door door number four',\n",
       " 'to the door door number four and she very very quietly',\n",
       " 'and she very very quietly keys in',\n",
       " 'keys in as soon as the door opens i hear the blare',\n",
       " 'as soon as the door opens i hear the blare of television come out and on the blue light',\n",
       " 'of television come out and on the blue light of the television the smoke of a hundred',\n",
       " 'of the television the smoke of a hundred cigarettes in that little crack of light',\n",
       " 'cigarettes in that little crack of light and i hear the man and he says',\n",
       " 'and i hear the man and he says where were you and she',\n",
       " \"where were you and she says never mind i'm back\",\n",
       " \"says never mind i'm back and he says you alright\",\n",
       " \"and he says you alright and she says yeah i'm alright\",\n",
       " \"and she says yeah i'm alright and then she turns to me and says you want a beer\",\n",
       " 'and then she turns to me and says you want a beer and he says who the fuck is that',\n",
       " 'and he says who the fuck is that and she pulls me over',\n",
       " 'and she pulls me over and he sees me and he says oh hey',\n",
       " \"and he sees me and he says oh hey i'm not a threat\",\n",
       " \"i'm not a threat just then he takes a drag\",\n",
       " 'just then he takes a drag of his cigarette a very hard',\n",
       " 'of his cigarette a very hard hard drag you know the kind that makes the end',\n",
       " 'hard drag you know the kind that makes the end of it really heat up hot hot hot',\n",
       " \"of it really heat up hot hot hot and long and it's a little scary and\",\n",
       " \"and long and it's a little scary and i follow the cigarette down\",\n",
       " \"i follow the cigarette down because i'm afraid of that head falling\",\n",
       " \"because i'm afraid of that head falling off and i'm surprised when i\",\n",
       " \"off and i'm surprised when i see in the crook of his arm\",\n",
       " 'see in the crook of his arm a little boy sleeping',\n",
       " 'a little boy sleeping a toddler',\n",
       " 'a toddler and i think and just then the girl',\n",
       " 'and i think and just then the girl reaches underneath the bed and takes out',\n",
       " 'reaches underneath the bed and takes out a carton and she taps out the last',\n",
       " 'a carton and she taps out the last s pack of cigarettes in there',\n",
       " 's pack of cigarettes in there and on the way up she kisses the little boy',\n",
       " 'and on the way up she kisses the little boy and then she kisses the man and the man',\n",
       " 'and then she kisses the man and the man says again you alright',\n",
       " \"says again you alright and she says yeah i'm just gonna go out and\",\n",
       " \"and she says yeah i'm just gonna go out and smoke with her and so we\",\n",
       " 'smoke with her and so we go outside and sit amongst the cigarette butts',\n",
       " 'go outside and sit amongst the cigarette butts and smoke and i',\n",
       " \"and smoke and i say wow that's your little boy\",\n",
       " \"say wow that's your little boy and she says yeah isn't he beautiful and i\",\n",
       " \"and she says yeah isn't he beautiful and i say yeah he is he is beautiful\",\n",
       " \"say yeah he is he is beautiful he's my light he keeps\",\n",
       " \"he's my light he keeps me going she says\",\n",
       " 'me going she says we finish our',\n",
       " 'we finish our cigarettes she finishes her beer',\n",
       " \"cigarettes she finishes her beer i don't have a beer cause i can't go home\",\n",
       " \"i don't have a beer cause i can't go home with beer on my breath\",\n",
       " 'with beer on my breath and',\n",
       " 'and she goes inside to get the keys',\n",
       " 'she goes inside to get the keys she takes too long',\n",
       " 'she takes too long in there getting the keys and i think',\n",
       " 'in there getting the keys and i think something must be wrong and she comes out and she says',\n",
       " \"something must be wrong and she comes out and she says look i'm really sorry\",\n",
       " \"look i'm really sorry but um like we don't have any\",\n",
       " \"but um like we don't have any gas in the car it's already on e and he needs\",\n",
       " \"gas in the car it's already on e and he needs to get to work in the morning and um\",\n",
       " \"to get to work in the morning and um i you know i i'm gonna be walk\",\n",
       " \"i you know i i'm gonna be walk to work as it is so what i did was though here look i drew\",\n",
       " \"to work as it is so what i did was though here look i drew out this map for you and you're really you're like a mile\",\n",
       " \"out this map for you and you're really you're like a mile and a half from home and um if you walk\",\n",
       " \"and a half from home and um if you walk three streets over you'll be back on that pretty street\",\n",
       " \"three streets over you'll be back on that pretty street and you just take that and you'll be fine and she\",\n",
       " \"and you just take that and you'll be fine and she also has wrapped up in\",\n",
       " 'also has wrapped up in toilet paper seven cigarettes for',\n",
       " 'toilet paper seven cigarettes for me a third of her pack',\n",
       " 'me a third of her pack i note and a new pack of matches',\n",
       " 'i note and a new pack of matches and',\n",
       " 'and she tells me good bye and',\n",
       " 'she tells me good bye and that was great to meet you and how lucky and that',\n",
       " 'that was great to meet you and how lucky and that was fun and you know',\n",
       " \"was fun and you know let's be friends\",\n",
       " \"let's be friends and i say yeah ok\",\n",
       " \"and i say yeah ok and i walk away but i kind of know we're\",\n",
       " \"and i walk away but i kind of know we're not gonna be friends\",\n",
       " 'not gonna be friends i might not ever see her again',\n",
       " 'i might not ever see her again and i kind of know',\n",
       " \"and i kind of know i don't think she's ever going to be a vet\",\n",
       " \"i don't think she's ever going to be a vet and i cross\",\n",
       " 'and i cross and i walk away and',\n",
       " \"and i walk away and maybe this would've seemed like a visit from my possible\",\n",
       " \"maybe this would've seemed like a visit from my possible future and scary but it\",\n",
       " \"future and scary but it kind of does the opposite on the walk home i'm like\",\n",
       " \"kind of does the opposite on the walk home i'm like man that was really\",\n",
       " \"man that was really grim over there and i'm\",\n",
       " \"grim over there and i'm going home now to\",\n",
       " 'going home now to my nice boyfriend',\n",
       " 'my nice boyfriend and he is gonna be so extra happy to see',\n",
       " 'and he is gonna be so extra happy to see me and we have',\n",
       " 'me and we have a one bedroom apartment and we have',\n",
       " \"a one bedroom apartment and we have two trees and there's\",\n",
       " \"two trees and there's a yard and we have this jar in\",\n",
       " \"a yard and we have this jar in the kitchen where there's like loose money that we can use\",\n",
       " \"the kitchen where there's like loose money that we can use for anything like we would never ever run out of gas\",\n",
       " \"for anything like we would never ever run out of gas and um i don't have a baby you\",\n",
       " \"and um i don't have a baby you know so i can leave\",\n",
       " 'know so i can leave whenever i want',\n",
       " 'whenever i want i smoked all seven',\n",
       " 'i smoked all seven cigarettes on the way home',\n",
       " 'cigarettes on the way home and people who have never smoked cigarettes',\n",
       " 'and people who have never smoked cigarettes just think ick',\n",
       " 'just think ick disgusting and poison',\n",
       " \"disgusting and poison but unless you've had\",\n",
       " \"but unless you've had them and held them dear\",\n",
       " \"them and held them dear you don't know how great they can be\",\n",
       " \"you don't know how great they can be and what friends and\",\n",
       " 'and what friends and comfort and kinship they can bring',\n",
       " 'comfort and kinship they can bring it took me',\n",
       " 'it took me a long time to quit',\n",
       " 'a long time to quit that boyfriend',\n",
       " 'that boyfriend and then to quit smoking',\n",
       " 'and then to quit smoking and uh sometimes',\n",
       " 'and uh sometimes i still miss the smoking',\n",
       " 'i still miss the smoking',\n",
       " '',\n",
       " '',\n",
       " '']"
      ]
     },
     "execution_count": 29,
     "metadata": {},
     "output_type": "execute_result"
    }
   ],
   "source": [
    "ngrams_list"
   ]
  },
  {
   "cell_type": "code",
   "execution_count": null,
   "metadata": {},
   "outputs": [],
   "source": []
  },
  {
   "cell_type": "code",
   "execution_count": null,
   "metadata": {},
   "outputs": [],
   "source": [
    "args"
   ]
  },
  {
   "cell_type": "markdown",
   "metadata": {},
   "source": [
    "### Load fitted models"
   ]
  },
  {
   "cell_type": "code",
   "execution_count": null,
   "metadata": {},
   "outputs": [],
   "source": [
    "results_dir = '/home/chansingh/mntv1/deep-fMRI/encoding/results_mar30'\n",
    "experiment_filename = '../experiments/01_fit_encoding.py'\n",
    "\n",
    "# load the results in to a pandas dataframe\n",
    "r = imodelsx.process_results.get_results_df(results_dir)\n",
    "r = imodelsx.process_results.fill_missing_args_with_default(\n",
    "    r, experiment_filename)\n",
    "# imodelsx.process_results.delete_runs_in_dataframe(\n",
    "# r[r.feature_space == 'qa_embedder-10'], actually_delete=True)\n",
    "cols_varied = imodelsx.process_results.get_experiment_keys(\n",
    "    r, experiment_filename)\n",
    "print('experiment varied these params:', cols_varied)"
   ]
  },
  {
   "cell_type": "code",
   "execution_count": null,
   "metadata": {},
   "outputs": [],
   "source": [
    "args = r[(r.feature_space == 'qa_embedder-5') * (r.pc_components == 100) * (r.ndelays == 4)\n",
    "         ].sort_values(by='corrs_tune_mean', ascending=False).iloc[0]"
   ]
  },
  {
   "cell_type": "code",
   "execution_count": null,
   "metadata": {},
   "outputs": [],
   "source": [
    "args['corrs_test_pc']"
   ]
  },
  {
   "cell_type": "code",
   "execution_count": null,
   "metadata": {},
   "outputs": [],
   "source": [
    "story_names_train, story_names_test = fit_encoding.get_story_names(args)\n",
    "stim_test_delayed, resp_test = fit_encoding.get_data(args, story_names_test)\n",
    "stim_train_delayed, resp_train = fit_encoding.get_data(args, story_names_train)"
   ]
  }
 ],
 "metadata": {
  "kernelspec": {
   "display_name": "Python 3.8.10 ('.embgam')",
   "language": "python",
   "name": "python3"
  },
  "language_info": {
   "codemirror_mode": {
    "name": "ipython",
    "version": 3
   },
   "file_extension": ".py",
   "mimetype": "text/x-python",
   "name": "python",
   "nbconvert_exporter": "python",
   "pygments_lexer": "ipython3",
   "version": "3.11.8"
  },
  "orig_nbformat": 4,
  "vscode": {
   "interpreter": {
    "hash": "559535f78d940c882783b39501b2581b5193373045707e5f8a51d046029cfd38"
   }
  }
 },
 "nbformat": 4,
 "nbformat_minor": 2
}
