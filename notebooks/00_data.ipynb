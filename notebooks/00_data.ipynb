{
 "cells": [
  {
   "cell_type": "markdown",
   "metadata": {},
   "source": [
    "This notebook analyzes data from https://github.com/HuthLab/deep-fMRI-dataset. To set up, see instructions in the `deep-fMRI-dataset` folder."
   ]
  },
  {
   "cell_type": "code",
   "execution_count": 1,
   "metadata": {},
   "outputs": [],
   "source": [
    "%load_ext autoreload\n",
    "%autoreload 2\n",
    "import datasets\n",
    "import numpy as np\n",
    "from os.path import join\n",
    "# from ridge_utils.SemanticModel import SemanticModel\n",
    "from matplotlib import pyplot as plt\n",
    "from typing import List\n",
    "from sklearn.linear_model import RidgeCV, LogisticRegressionCV\n",
    "from sklearn.feature_extraction.text import CountVectorizer\n",
    "# from feature_spaces import em_data_dir, data_dir, results_dir\n",
    "from collections import defaultdict\n",
    "import pandas as pd\n",
    "import os\n",
    "import seaborn as sns\n",
    "# from fit_linear_models import get_dsets\n",
    "# from ridge_utils.SemanticModel import SemanticModel\n",
    "# import encoding_utils, feature_spaces\n",
    "from transformers.pipelines.pt_utils import KeyDataset\n",
    "# from feature_spaces import *\n",
    "from transformers import pipeline\n",
    "import datasets\n",
    "import sys\n",
    "sys.path.append('..')\n",
    "import data\n",
    "from tqdm import tqdm"
   ]
  },
  {
   "cell_type": "code",
   "execution_count": 28,
   "metadata": {},
   "outputs": [
    {
     "name": "stderr",
     "output_type": "stream",
     "text": [
      "  0%|          | 0/15 [00:00<?, ?it/s]"
     ]
    },
    {
     "name": "stdout",
     "output_type": "stream",
     "text": [
      "emotion\n"
     ]
    },
    {
     "name": "stderr",
     "output_type": "stream",
     "text": [
      "Using custom data configuration default\n",
      "Reusing dataset emotion (/home/chansingh/.cache/huggingface/datasets/emotion/default/0.0.0/348f63ca8e27b3713b6c04d723efe6d824a56fb3d1449794716c0f0296072705)\n"
     ]
    },
    {
     "data": {
      "application/vnd.jupyter.widget-view+json": {
       "model_id": "ed61389785aa4b01b8ad7dd86d7292e2",
       "version_major": 2,
       "version_minor": 0
      },
      "text/plain": [
       "  0%|          | 0/3 [00:00<?, ?it/s]"
      ]
     },
     "metadata": {},
     "output_type": "display_data"
    },
    {
     "name": "stderr",
     "output_type": "stream",
     "text": [
      "Using custom data configuration default\n",
      "Reusing dataset emotion (/home/chansingh/.cache/huggingface/datasets/emotion/default/0.0.0/348f63ca8e27b3713b6c04d723efe6d824a56fb3d1449794716c0f0296072705)\n"
     ]
    },
    {
     "data": {
      "application/vnd.jupyter.widget-view+json": {
       "model_id": "2c8b6dd95b1b455c8041dc5c2f129754",
       "version_major": 2,
       "version_minor": 0
      },
      "text/plain": [
       "  0%|          | 0/3 [00:00<?, ?it/s]"
      ]
     },
     "metadata": {},
     "output_type": "display_data"
    },
    {
     "name": "stderr",
     "output_type": "stream",
     "text": [
      "  7%|▋         | 1/15 [00:01<00:15,  1.13s/it]"
     ]
    },
    {
     "name": "stdout",
     "output_type": "stream",
     "text": [
      "rotten_tomatoes\n"
     ]
    },
    {
     "name": "stderr",
     "output_type": "stream",
     "text": [
      "Using custom data configuration default\n",
      "Reusing dataset rotten_tomatoes (/home/chansingh/.cache/huggingface/datasets/rotten_tomatoes/default/1.0.0/40d411e45a6ce3484deed7cc15b82a53dad9a72aafd9f86f8f227134bec5ca46)\n"
     ]
    },
    {
     "data": {
      "application/vnd.jupyter.widget-view+json": {
       "model_id": "012505a1748341b299704781638eebcc",
       "version_major": 2,
       "version_minor": 0
      },
      "text/plain": [
       "  0%|          | 0/3 [00:00<?, ?it/s]"
      ]
     },
     "metadata": {},
     "output_type": "display_data"
    },
    {
     "name": "stderr",
     "output_type": "stream",
     "text": [
      "Using custom data configuration default\n",
      "Reusing dataset rotten_tomatoes (/home/chansingh/.cache/huggingface/datasets/rotten_tomatoes/default/1.0.0/40d411e45a6ce3484deed7cc15b82a53dad9a72aafd9f86f8f227134bec5ca46)\n"
     ]
    },
    {
     "data": {
      "application/vnd.jupyter.widget-view+json": {
       "model_id": "35a9b95ce1de4a11ab4d941a08216e4c",
       "version_major": 2,
       "version_minor": 0
      },
      "text/plain": [
       "  0%|          | 0/3 [00:00<?, ?it/s]"
      ]
     },
     "metadata": {},
     "output_type": "display_data"
    },
    {
     "name": "stderr",
     "output_type": "stream",
     "text": [
      " 13%|█▎        | 2/15 [00:02<00:14,  1.11s/it]"
     ]
    },
    {
     "name": "stdout",
     "output_type": "stream",
     "text": [
      "tweet_eval\n"
     ]
    },
    {
     "name": "stderr",
     "output_type": "stream",
     "text": [
      "Reusing dataset tweet_eval (/home/chansingh/.cache/huggingface/datasets/tweet_eval/hate/1.1.0/12aee5282b8784f3e95459466db4cdf45c6bf49719c25cdb0743d71ed0410343)\n"
     ]
    },
    {
     "data": {
      "application/vnd.jupyter.widget-view+json": {
       "model_id": "ed230ceda6134cba9ac4e5c7288c0f1b",
       "version_major": 2,
       "version_minor": 0
      },
      "text/plain": [
       "  0%|          | 0/3 [00:00<?, ?it/s]"
      ]
     },
     "metadata": {},
     "output_type": "display_data"
    },
    {
     "name": "stderr",
     "output_type": "stream",
     "text": [
      "Reusing dataset tweet_eval (/home/chansingh/.cache/huggingface/datasets/tweet_eval/hate/1.1.0/12aee5282b8784f3e95459466db4cdf45c6bf49719c25cdb0743d71ed0410343)\n"
     ]
    },
    {
     "data": {
      "application/vnd.jupyter.widget-view+json": {
       "model_id": "f5bd364a7aae4159b2ad499599cafa8a",
       "version_major": 2,
       "version_minor": 0
      },
      "text/plain": [
       "  0%|          | 0/3 [00:00<?, ?it/s]"
      ]
     },
     "metadata": {},
     "output_type": "display_data"
    },
    {
     "name": "stderr",
     "output_type": "stream",
     "text": [
      " 20%|██        | 3/15 [00:03<00:13,  1.10s/it]"
     ]
    },
    {
     "name": "stdout",
     "output_type": "stream",
     "text": [
      "sst2\n"
     ]
    },
    {
     "name": "stderr",
     "output_type": "stream",
     "text": [
      "Using custom data configuration default\n",
      "Reusing dataset sst2 (/home/chansingh/.cache/huggingface/datasets/sst2/default/2.0.0/9896208a8d85db057ac50c72282bcb8fe755accc671a57dd8059d4e130961ed5)\n"
     ]
    },
    {
     "data": {
      "application/vnd.jupyter.widget-view+json": {
       "model_id": "475a36f47a6246bc9fdb0ea5f59f3af9",
       "version_major": 2,
       "version_minor": 0
      },
      "text/plain": [
       "  0%|          | 0/3 [00:00<?, ?it/s]"
      ]
     },
     "metadata": {},
     "output_type": "display_data"
    }
   ],
   "source": [
    "r = defaultdict(list)\n",
    "for dset in tqdm([\n",
    "    # 'trec',\n",
    "    'emotion', 'rotten_tomatoes', 'tweet_eval', 'sst2',\n",
    "    # 'go_emotions', 'poem_sentiment', \n",
    "    # 'ethics-commonsense', 'ethics-deontology', 'ethics-justice', 'ethics-utilitarianism', 'ethics-virtue',\n",
    "    'probing-subj_number', 'probing-word_content', 'probing-obj_number',\n",
    "    'probing-past_present', 'probing-sentence_length', 'probing-top_constituents',\n",
    "    'probing-tree_depth', 'probing-coordination_inversion', 'probing-odd_man_out',\n",
    "    'probing-bigram_shift', 'moral_stories',\n",
    "]):\n",
    "    print(dset)\n",
    "    X, y, X_test, y_test = data.get_dsets(dataset=dset, seed=1)\n",
    "    values, counts = np.unique(y, return_counts=True)\n",
    "    y_majority_frac_train = counts.max() / len(y)\n",
    "    n_classes = values.size\n",
    "    values, counts = np.unique(y_test, return_counts=True)\n",
    "    y_majority_frac_test = counts.max() / len(y)\n",
    "    lens_train = [len(x) for x in X]\n",
    "\n",
    "    r['dset'].append(dset)\n",
    "    r['n_train'].append(len(X))\n",
    "    r['n_test'].append(len(X_test))\n",
    "    r['y_majority_frac_train'].append(y_majority_frac_train)\n",
    "    r['y_majority_frac_test'].append(y_majority_frac_test)\n",
    "    r['len_avg_train'].append(np.mean(lens_train))\n",
    "    r['len_std_train'].append(np.std(lens_train))\n",
    "    r['n_classes'].append(n_classes)\n",
    "    r['ex1'].append(X[0])\n"
   ]
  },
  {
   "cell_type": "code",
   "execution_count": null,
   "metadata": {},
   "outputs": [],
   "source": [
    "df = pd.DataFrame.from_dict(r)\n",
    "df.to_pickle('../processed/data_table.pkl')"
   ]
  },
  {
   "cell_type": "code",
   "execution_count": null,
   "metadata": {},
   "outputs": [
    {
     "data": {
      "text/html": [
       "<div>\n",
       "<style scoped>\n",
       "    .dataframe tbody tr th:only-of-type {\n",
       "        vertical-align: middle;\n",
       "    }\n",
       "\n",
       "    .dataframe tbody tr th {\n",
       "        vertical-align: top;\n",
       "    }\n",
       "\n",
       "    .dataframe thead th {\n",
       "        text-align: right;\n",
       "    }\n",
       "</style>\n",
       "<table border=\"1\" class=\"dataframe\">\n",
       "  <thead>\n",
       "    <tr style=\"text-align: right;\">\n",
       "      <th></th>\n",
       "      <th>dset</th>\n",
       "      <th>n_train</th>\n",
       "      <th>n_test</th>\n",
       "      <th>y_majority_frac_train</th>\n",
       "      <th>y_majority_frac_test</th>\n",
       "      <th>len_avg_train</th>\n",
       "      <th>len_std_train</th>\n",
       "      <th>n_classes</th>\n",
       "      <th>ex1</th>\n",
       "    </tr>\n",
       "  </thead>\n",
       "  <tbody>\n",
       "    <tr>\n",
       "      <th>0</th>\n",
       "      <td>emotion</td>\n",
       "      <td>16000</td>\n",
       "      <td>2000</td>\n",
       "      <td>0.34</td>\n",
       "      <td>0.34</td>\n",
       "      <td>96.85</td>\n",
       "      <td>55.90</td>\n",
       "      <td>6</td>\n",
       "      <td>i didnt feel humiliated</td>\n",
       "    </tr>\n",
       "    <tr>\n",
       "      <th>1</th>\n",
       "      <td>rotten_tomatoes</td>\n",
       "      <td>8530</td>\n",
       "      <td>1066</td>\n",
       "      <td>0.50</td>\n",
       "      <td>0.50</td>\n",
       "      <td>113.97</td>\n",
       "      <td>51.05</td>\n",
       "      <td>2</td>\n",
       "      <td>the rock is destined to be the 21st century's ...</td>\n",
       "    </tr>\n",
       "    <tr>\n",
       "      <th>2</th>\n",
       "      <td>tweet_eval</td>\n",
       "      <td>9000</td>\n",
       "      <td>1000</td>\n",
       "      <td>0.58</td>\n",
       "      <td>0.58</td>\n",
       "      <td>122.84</td>\n",
       "      <td>67.20</td>\n",
       "      <td>2</td>\n",
       "      <td>@user nice new signage. Are you not concerned ...</td>\n",
       "    </tr>\n",
       "    <tr>\n",
       "      <th>3</th>\n",
       "      <td>sst2</td>\n",
       "      <td>67349</td>\n",
       "      <td>872</td>\n",
       "      <td>0.56</td>\n",
       "      <td>0.56</td>\n",
       "      <td>53.51</td>\n",
       "      <td>43.41</td>\n",
       "      <td>2</td>\n",
       "      <td>hide new secretions from the parental units</td>\n",
       "    </tr>\n",
       "    <tr>\n",
       "      <th>4</th>\n",
       "      <td>probing-subj_number</td>\n",
       "      <td>82010</td>\n",
       "      <td>8088</td>\n",
       "      <td>0.50</td>\n",
       "      <td>0.50</td>\n",
       "      <td>84.63</td>\n",
       "      <td>114.20</td>\n",
       "      <td>2</td>\n",
       "      <td>Coming from a xenophobic race that possesses t...</td>\n",
       "    </tr>\n",
       "    <tr>\n",
       "      <th>5</th>\n",
       "      <td>probing-word_content</td>\n",
       "      <td>83868</td>\n",
       "      <td>8357</td>\n",
       "      <td>0.00</td>\n",
       "      <td>0.00</td>\n",
       "      <td>83.86</td>\n",
       "      <td>95.66</td>\n",
       "      <td>1000</td>\n",
       "      <td>It just hadn 't seemed important, and he didn ...</td>\n",
       "    </tr>\n",
       "    <tr>\n",
       "      <th>6</th>\n",
       "      <td>probing-obj_number</td>\n",
       "      <td>80124</td>\n",
       "      <td>8014</td>\n",
       "      <td>0.50</td>\n",
       "      <td>0.50</td>\n",
       "      <td>83.40</td>\n",
       "      <td>101.86</td>\n",
       "      <td>2</td>\n",
       "      <td>Money would replace the drugs in the bags, onc...</td>\n",
       "    </tr>\n",
       "    <tr>\n",
       "      <th>7</th>\n",
       "      <td>probing-past_present</td>\n",
       "      <td>85700</td>\n",
       "      <td>8552</td>\n",
       "      <td>0.50</td>\n",
       "      <td>0.50</td>\n",
       "      <td>71.20</td>\n",
       "      <td>75.14</td>\n",
       "      <td>2</td>\n",
       "      <td>She shone her light around the space, followin...</td>\n",
       "    </tr>\n",
       "    <tr>\n",
       "      <th>8</th>\n",
       "      <td>probing-sentence_length</td>\n",
       "      <td>87408</td>\n",
       "      <td>8653</td>\n",
       "      <td>0.17</td>\n",
       "      <td>0.17</td>\n",
       "      <td>87.04</td>\n",
       "      <td>165.93</td>\n",
       "      <td>6</td>\n",
       "      <td>But it was not here.</td>\n",
       "    </tr>\n",
       "    <tr>\n",
       "      <th>9</th>\n",
       "      <td>probing-top_constituents</td>\n",
       "      <td>70185</td>\n",
       "      <td>7451</td>\n",
       "      <td>0.05</td>\n",
       "      <td>0.05</td>\n",
       "      <td>88.59</td>\n",
       "      <td>508.29</td>\n",
       "      <td>20</td>\n",
       "      <td>I wanted to start asking questions now, but fo...</td>\n",
       "    </tr>\n",
       "    <tr>\n",
       "      <th>10</th>\n",
       "      <td>probing-tree_depth</td>\n",
       "      <td>85340</td>\n",
       "      <td>8675</td>\n",
       "      <td>0.18</td>\n",
       "      <td>0.18</td>\n",
       "      <td>70.75</td>\n",
       "      <td>65.54</td>\n",
       "      <td>7</td>\n",
       "      <td>Who knew who would be there?</td>\n",
       "    </tr>\n",
       "    <tr>\n",
       "      <th>11</th>\n",
       "      <td>probing-coordination_inversion</td>\n",
       "      <td>100002</td>\n",
       "      <td>10002</td>\n",
       "      <td>0.50</td>\n",
       "      <td>0.50</td>\n",
       "      <td>77.43</td>\n",
       "      <td>25.39</td>\n",
       "      <td>2</td>\n",
       "      <td>She was a regular at the Friday charity sessio...</td>\n",
       "    </tr>\n",
       "    <tr>\n",
       "      <th>12</th>\n",
       "      <td>probing-odd_man_out</td>\n",
       "      <td>83157</td>\n",
       "      <td>8402</td>\n",
       "      <td>0.50</td>\n",
       "      <td>0.50</td>\n",
       "      <td>93.98</td>\n",
       "      <td>105.46</td>\n",
       "      <td>2</td>\n",
       "      <td>Gideon brought his phone to his ear and resona...</td>\n",
       "    </tr>\n",
       "    <tr>\n",
       "      <th>13</th>\n",
       "      <td>probing-bigram_shift</td>\n",
       "      <td>100000</td>\n",
       "      <td>10000</td>\n",
       "      <td>0.50</td>\n",
       "      <td>0.50</td>\n",
       "      <td>63.40</td>\n",
       "      <td>30.39</td>\n",
       "      <td>2</td>\n",
       "      <td>A week she'd been with the man, just a week, a...</td>\n",
       "    </tr>\n",
       "    <tr>\n",
       "      <th>14</th>\n",
       "      <td>moral_stories</td>\n",
       "      <td>20000</td>\n",
       "      <td>2000</td>\n",
       "      <td>0.50</td>\n",
       "      <td>0.50</td>\n",
       "      <td>126.58</td>\n",
       "      <td>25.40</td>\n",
       "      <td>2</td>\n",
       "      <td>It's good to do activities together with your ...</td>\n",
       "    </tr>\n",
       "  </tbody>\n",
       "</table>\n",
       "</div>"
      ],
      "text/plain": [
       "                              dset  n_train  n_test  y_majority_frac_train  \\\n",
       "0                          emotion    16000    2000                   0.34   \n",
       "1                  rotten_tomatoes     8530    1066                   0.50   \n",
       "2                       tweet_eval     9000    1000                   0.58   \n",
       "3                             sst2    67349     872                   0.56   \n",
       "4              probing-subj_number    82010    8088                   0.50   \n",
       "5             probing-word_content    83868    8357                   0.00   \n",
       "6               probing-obj_number    80124    8014                   0.50   \n",
       "7             probing-past_present    85700    8552                   0.50   \n",
       "8          probing-sentence_length    87408    8653                   0.17   \n",
       "9         probing-top_constituents    70185    7451                   0.05   \n",
       "10              probing-tree_depth    85340    8675                   0.18   \n",
       "11  probing-coordination_inversion   100002   10002                   0.50   \n",
       "12             probing-odd_man_out    83157    8402                   0.50   \n",
       "13            probing-bigram_shift   100000   10000                   0.50   \n",
       "14                   moral_stories    20000    2000                   0.50   \n",
       "\n",
       "    y_majority_frac_test  len_avg_train  len_std_train  n_classes  \\\n",
       "0                   0.34          96.85          55.90          6   \n",
       "1                   0.50         113.97          51.05          2   \n",
       "2                   0.58         122.84          67.20          2   \n",
       "3                   0.56          53.51          43.41          2   \n",
       "4                   0.50          84.63         114.20          2   \n",
       "5                   0.00          83.86          95.66       1000   \n",
       "6                   0.50          83.40         101.86          2   \n",
       "7                   0.50          71.20          75.14          2   \n",
       "8                   0.17          87.04         165.93          6   \n",
       "9                   0.05          88.59         508.29         20   \n",
       "10                  0.18          70.75          65.54          7   \n",
       "11                  0.50          77.43          25.39          2   \n",
       "12                  0.50          93.98         105.46          2   \n",
       "13                  0.50          63.40          30.39          2   \n",
       "14                  0.50         126.58          25.40          2   \n",
       "\n",
       "                                                  ex1  \n",
       "0                             i didnt feel humiliated  \n",
       "1   the rock is destined to be the 21st century's ...  \n",
       "2   @user nice new signage. Are you not concerned ...  \n",
       "3        hide new secretions from the parental units   \n",
       "4   Coming from a xenophobic race that possesses t...  \n",
       "5   It just hadn 't seemed important, and he didn ...  \n",
       "6   Money would replace the drugs in the bags, onc...  \n",
       "7   She shone her light around the space, followin...  \n",
       "8                                But it was not here.  \n",
       "9   I wanted to start asking questions now, but fo...  \n",
       "10                       Who knew who would be there?  \n",
       "11  She was a regular at the Friday charity sessio...  \n",
       "12  Gideon brought his phone to his ear and resona...  \n",
       "13  A week she'd been with the man, just a week, a...  \n",
       "14  It's good to do activities together with your ...  "
      ]
     },
     "execution_count": 27,
     "metadata": {},
     "output_type": "execute_result"
    }
   ],
   "source": [
    "df = pd.read_pickle('../processed/data_table.pkl')\n",
    "df.round(2)"
   ]
  },
  {
   "cell_type": "markdown",
   "metadata": {},
   "source": [
    "# Look at narrative stories"
   ]
  },
  {
   "cell_type": "code",
   "execution_count": 5,
   "metadata": {},
   "outputs": [],
   "source": [
    "import encoding_utils, feature_spaces\n",
    "train_stories, test_stories, allstories = encoding_utils.get_allstories([1, 2, 3, 4, 5])"
   ]
  },
  {
   "cell_type": "code",
   "execution_count": 6,
   "metadata": {},
   "outputs": [],
   "source": [
    "wordseqs = feature_spaces.get_story_wordseqs(allstories)"
   ]
  },
  {
   "cell_type": "code",
   "execution_count": 12,
   "metadata": {},
   "outputs": [
    {
     "data": {
      "text/plain": [
       "\"so i'm sitting in my shrink's office this one time and he says to me how's it going and i say well to be honest doc i had a really really horrible experience the other day and he says tell me about it and i say well it all started when i was i was laying on my couch and he looks at me and he says really which if you know me is an incredibly funny thing for him to say because i i have probably spent more time lying on couches than any able bodied man under the age of say a hundred and ten living today uh if lying on couches was a martial art i would have a ninth level black belt ninja master status in it um i uh as a matter of fact when i i was originally asked by the moth to do this event and they explained about the seven deadly sins i was amazed that sloth was even still available uh i i i assumed that sloth would be the first sin picked because it is really the central thing about our culture isn't it it's which is all we live we live in a whole society based on consumer entertainment and sort of luxury effort reduction um but within that culture my own generation which they used to call gen x or slackers really distinguidich distinguished itself even among you know the the the general culture and within that elite group of of underachievers i distinguish myself as really a super achiever of underachievement um if if sloth is a sin i am i think it's fair to say i am i'm really guilty of like milosevic level crimes against humanity and um and if if the if the vatican conducted its affairs the way that governments do there there would be some sort of secret vatican sniper up in these windows ready to take me out right now um i lived for years and years and years in uh just bumming around this luh wonderful college town called madison wisconsin and um do people know madison great that's fantastic and we had a whole culture there that was essentially built around couches um everything was centered around the living room because what your life consisted of was every second that you weren't slaving away at your shitty mini minimum wage job and that's i'd like to dispel a myth about slackers right now which is that they don't work hard because in order to live this life of sloth you really have to work like a slave to do it because opting out of the career rat race essentially means opting into the working poor you know and and and um and so every second that you weren't at that job you were sitting in your living room sitting with your friends you're watching tv you're smoking pot you're listening to rock and roll and watching dvds and but but but mainly just engaging in conversation and you're trying to wring every last ounce of leisure of luxury effort reduction out of the remaining hours before your shift at the job you hate starts again um we had a wonderful tradition in madison because every year the s when the students would move the frat guys would leave their furniture aba abandoned by the side of the road and so every year you would take the cigarette hole burned beer stained vomit smelling couch that just stank like weed and cigarettes and you would pick it up and you'd march it out of the house and you'd set it down and then you'd go get a brand new couch from the frat kids and you'd move it into the empty space where you had the previous couch and you'd set it down and you'd have a wonderful new couch to abuse for the following year now one of the things i did during all these years of slacking in madison was i was writing jokes for the onion and to my great surprise that eventually turned into a career and i and no one could've been more surprised about it than me believe me and we i ended up moving to new york and for the first time i had money so i was incredibly excited because i was not only going to be able to live this life of slack but i was gonna be able to live it in style and i set up this wonder i got this a wonderful apartment in brooklyn this nice living room and i s filled it with with uh seating i bought a s i bought a surround sound home theater and i got a dvd player for it i got a big tv and and and i got a fantastic number for great connection with a just top notch weed delivery service and um and and the best thing is i bought this fantastic it was the couch of my dreams at this vintage store i spent five hundred dollars on it only couch i ever spent money on in my life and um and i was so looking forward to all the wonderful times i was gonna to have with all of these great new friends i was gonna make in new york but what i didn't understand was that new york is not like madison it's not a living room based town because all of the you know lower east side you know downtown bohemians that i was wanting to hang out with they don't have living rooms they they they have a box with a bed and a refrigerator and a toilet and a shower and a sink and that's what that's where they live and so in the lieu of hanging out in living rooms they hang out in bars and restaurants now and and and for that reason it's also not a marijuana town it's an alcohol town so i've had to learn to drink and i'm i'm getting pretty good at it to be honest but um but uh you know nuh none of those things really matter if like me you live in brooklyn but people from manhattan won't go to brooklyn because it's a twenty minute ride on the train and they're busy spending forty to eighty minutes waiting to get into the cool restaurant or bar so the upshot of all this is i spend about the next five years of my life in the ultimate slack pad i've created surrounded by empty seats alone playing video games watching dvds by myself surrounded by empty seating and what's worse is the is is that my my dvd player even mocks me because whenever you hit stop a screen saver comes on with their consumer entertainment you know home theater slogan that says everyone's invited everyone's invited every day everyone's invited but you're here by yourself aren't you over the years the combined effects of a gravity b time and c my ass on this couch literally destroy my dream couch the part of the couch where my ass is centered has collapsed completely there's like there's like springs and metal falling out the bottom stuffing is falling out the bottom i have to it's ch it's there's just a hole where my ass is i have to i have to fill it up with pillows and and blankets and put a board over it just to continue to lay on it now at this point in the story i'm sure that those of you in the audience with even a remote sense of insight into the human condition are probably thinking to yourself well you know these stories are all kinda cute anecdotes and they're a little bit funny but i have another interpretation of everything this man on stage is saying and it sounds kinda to me like he's describing the behavior of someone who is not to put too fine a point on it clinically depressed and you would be right i i happen to have been clinically depressed pretty much my entire adult life which brings us back to why i was sitting in my shrink's office in the first place telling him about this horrible experience so he says tell me about it i say i'm laying on the couch and it was one of those days when you've run out of all the distractions available in the living room like i had watched all the dvds i had finished all the video games i had masturbated to all of the available pornography uh the i smoked all the drugs there was nothing left and i had a moment of s zen stillness and clarity where i was face to face with myself and i looked in myself and i saw this horrific nightmarish void of nothingness it was just this swirling vortex of empty zero there was nothing there i felt like i had no future no past no options no hope like there was nothing to believe in and at this point my shrink cuts me off and he says todd todd wait wait hold on right now i'm hearing a lot of negativity from you i mean you're just describing a a horrible descent into nihilism and i give him this look like well duh you know and i say yeah the reason you're hearing that is cause that's what i'm telling you and he says well todd but that's very serious nihilism is a terrible place to end up bad things happen to people that go there you can drown in that shit so i say well let me tell you do i hear a cell phone is that what that is so i tell him maybe someone's just giving me a little hip hop background to this so eh i tell him well let me finish the story have you ever been so depressed that you just can't get out of bed or you just can't get out of your chair and you just end up relying on whatever's in arm's reach of you you know and so i'm sort of groping around the couch just for a just looking for something anything to distract me from this horrible emptiness that i'm experiencing and i reach under the couch and i find this old paperback book that has been kicked under there probably a couple of months earlier and i pull it out and it's the ultimate perfect book for lifting someone out of their own personal hell  happens to be swear to god this is true not making this up dante's inferno so so i'm like i obviously cannot handle reading dante's inferno right now but lacking anything else to do i decide i'm gonna read the foreword so the foreword is written by some scholar of medieval italian epic poetry or whatever and i start reading it and i say to my doc as as reading it i learned a new word he says what was it and i said well the word is acedia i'd never heard of this word before he says what does it mean i said well it was the medieval catholic's word for the profound sense of emptiness that comes from not believing in anything they saw it as a sin uh and s specifically uh the sin of the failure they defined it as the failure to pursue god in other words a a lack of making the effort necessary to seek out the joy of god or more generally of of creation and it was considered so dangerous that they actually numbered it among the seven deadly sins acedia and i by the way i don't know if it's actually pronounced acedia because i'm a college dropout i don't know how to pronounce ancient latin granted i knew i was gonna be speaking in front of a couple hundred people i probably could've googled it and figured out the pronunciation but i was too lazy so um and at this point i can tell you know i can tell that that my shrink is is is a little uncomfortable with how the conversation's going because he doesn't like talking about sin he doesn't like sin doctrine based modes of behavioral modification because he's a shrink and shrinks are always against thinking about things in terms of sin because sin is always about guilt and a shrink's job is to get people to get over guilt so he's kinda trying to change the subject but what i say to him is the amazing thing about this is that in modern times it's usually translated or mistranslated if you will as sloth because it involves a a lack of effort but the idea is you know when when when we hear sloth now i mean you it just seems like laziness it's not that big of a sin it's not deadly but they but they were talking about something far more serious they were talking about a deep existential despair thanks and and i realized as i was talking to them that if i'm guilty of acedia then so is our whole consumer entertainment prozac taking depressed out of their mind nation and i figured there's two ways of looking at it either we should be very grateful that ancient catholic doctrine doesn't still dominate the intellectual world because if so then me and the whole nation are all just guilty unredeemable sinners and can be written off but the second way of looking at it that's perhaps a little more productive is that this was a way of looking at my depression that didn't involve me being a helpless victim of a sickness defined by a condition and that i might have some degree of of personal responsibility for my own state of mind so my shrink looks at me and he doesn't say anything for a very long time because he doesn't like how the conversation's going but on the other hand he's a smart guy so he's thinking very very intently and finally he looks up at me and he says that's very interesting what are you gonna do about it and i look back at him and i say hmmmmmm thank you\""
      ]
     },
     "execution_count": 12,
     "metadata": {},
     "output_type": "execute_result"
    }
   ],
   "source": [
    "' '.join(wordseqs['sloth'].data)"
   ]
  },
  {
   "cell_type": "code",
   "execution_count": null,
   "metadata": {},
   "outputs": [],
   "source": []
  }
 ],
 "metadata": {
  "kernelspec": {
   "display_name": "Python 3.8.10 ('.embgam')",
   "language": "python",
   "name": "python3"
  },
  "language_info": {
   "codemirror_mode": {
    "name": "ipython",
    "version": 3
   },
   "file_extension": ".py",
   "mimetype": "text/x-python",
   "name": "python",
   "nbconvert_exporter": "python",
   "pygments_lexer": "ipython3",
   "version": "3.8.10"
  },
  "orig_nbformat": 4,
  "vscode": {
   "interpreter": {
    "hash": "559535f78d940c882783b39501b2581b5193373045707e5f8a51d046029cfd38"
   }
  }
 },
 "nbformat": 4,
 "nbformat_minor": 2
}
