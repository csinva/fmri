{
 "cells": [
  {
   "cell_type": "code",
   "execution_count": 9,
   "metadata": {},
   "outputs": [
    {
     "name": "stdout",
     "output_type": "stream",
     "text": [
      "The autoreload extension is already loaded. To reload it, use:\n",
      "  %reload_ext autoreload\n"
     ]
    }
   ],
   "source": [
    "%load_ext autoreload\n",
    "%autoreload 2\n",
    "import sys\n",
    "sys.path.append('..')\n",
    "import imodelsx.llm\n",
    "from transformers import AutoModel, AutoTokenizer, pipeline\n",
    "from tqdm import tqdm\n",
    "from os.path import join\n",
    "import config\n",
    "import numpy as np\n",
    "import joblib\n",
    "fit_encoding = __import__('01_fit_encoding')"
   ]
  },
  {
   "cell_type": "code",
   "execution_count": 5,
   "metadata": {},
   "outputs": [],
   "source": [
    "sparse_feats_dir = join(config.repo_dir, 'sparse_feats')"
   ]
  },
  {
   "cell_type": "code",
   "execution_count": 6,
   "metadata": {},
   "outputs": [
    {
     "name": "stdout",
     "output_type": "stream",
     "text": [
      "'v3_boostexamples_(0, -3, 15).joblib'\n"
     ]
    }
   ],
   "source": [
    "!ls {sparse_feats_dir}"
   ]
  },
  {
   "cell_type": "code",
   "execution_count": 8,
   "metadata": {},
   "outputs": [],
   "source": [
    "alphas_enet, coefs_enet = joblib.load(\n",
    "    join(sparse_feats_dir, 'v3_boostexamples_(0, -3, 15).joblib'))"
   ]
  },
  {
   "cell_type": "code",
   "execution_count": 12,
   "metadata": {},
   "outputs": [
    {
     "name": "stdout",
     "output_type": "stream",
     "text": [
      "i=0 alpha=1.00e+00, n_nonzero=0\n",
      "i=1 alpha=6.11e-01, n_nonzero=0\n",
      "i=2 alpha=3.73e-01, n_nonzero=1\n",
      "i=3 alpha=2.28e-01, n_nonzero=29\n",
      "i=4 alpha=1.39e-01, n_nonzero=102\n",
      "i=5 alpha=8.48e-02, n_nonzero=264\n",
      "i=6 alpha=5.18e-02, n_nonzero=473\n",
      "i=7 alpha=3.16e-02, n_nonzero=638\n",
      "i=8 alpha=1.93e-02, n_nonzero=669\n",
      "i=9 alpha=1.18e-02, n_nonzero=672\n",
      "i=10 alpha=7.20e-03, n_nonzero=674\n",
      "i=11 alpha=4.39e-03, n_nonzero=674\n",
      "i=12 alpha=2.68e-03, n_nonzero=674\n",
      "i=13 alpha=1.64e-03, n_nonzero=674\n",
      "i=14 alpha=1.00e-03, n_nonzero=674\n"
     ]
    }
   ],
   "source": [
    "for i in range(len(alphas_enet)):\n",
    "    coef_enet = coefs_enet[:, :, i]\n",
    "    coef_nonzero = np.any(np.abs(coef_enet) > 0, axis=0)\n",
    "    print(f'{i=} alpha={alphas_enet[i]:.2e}, n_nonzero={coef_nonzero.sum()}')"
   ]
  },
  {
   "cell_type": "code",
   "execution_count": null,
   "metadata": {},
   "outputs": [],
   "source": []
  }
 ],
 "metadata": {
  "kernelspec": {
   "display_name": "Python 3.8.10 ('.embgam')",
   "language": "python",
   "name": "python3"
  },
  "language_info": {
   "codemirror_mode": {
    "name": "ipython",
    "version": 3
   },
   "file_extension": ".py",
   "mimetype": "text/x-python",
   "name": "python",
   "nbconvert_exporter": "python",
   "pygments_lexer": "ipython3",
   "version": "3.11.9"
  },
  "orig_nbformat": 4,
  "vscode": {
   "interpreter": {
    "hash": "559535f78d940c882783b39501b2581b5193373045707e5f8a51d046029cfd38"
   }
  }
 },
 "nbformat": 4,
 "nbformat_minor": 2
}
