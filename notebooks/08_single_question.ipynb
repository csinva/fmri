{
 "cells": [
  {
   "cell_type": "code",
   "execution_count": 7,
   "metadata": {},
   "outputs": [
    {
     "name": "stdout",
     "output_type": "stream",
     "text": [
      "The autoreload extension is already loaded. To reload it, use:\n",
      "  %reload_ext autoreload\n"
     ]
    },
    {
     "name": "stderr",
     "output_type": "stream",
     "text": [
      "100%|██████████| 3/3 [00:00<00:00, 569.00it/s]"
     ]
    },
    {
     "name": "stdout",
     "output_type": "stream",
     "text": [
      "experiment varied these params: ['subject']\n"
     ]
    },
    {
     "name": "stderr",
     "output_type": "stream",
     "text": [
      "\n"
     ]
    },
    {
     "data": {
      "text/html": [
       "<style type=\"text/css\">\n",
       "#T_170f3_row0_col0, #T_170f3_row0_col1, #T_170f3_row1_col2 {\n",
       "  background-color: #440154;\n",
       "  color: #f1f1f1;\n",
       "}\n",
       "#T_170f3_row0_col2 {\n",
       "  background-color: #31688e;\n",
       "  color: #f1f1f1;\n",
       "}\n",
       "#T_170f3_row1_col0 {\n",
       "  background-color: #b8de29;\n",
       "  color: #000000;\n",
       "}\n",
       "#T_170f3_row1_col1 {\n",
       "  background-color: #d5e21a;\n",
       "  color: #000000;\n",
       "}\n",
       "#T_170f3_row2_col0, #T_170f3_row2_col1, #T_170f3_row2_col2 {\n",
       "  background-color: #fde725;\n",
       "  color: #000000;\n",
       "}\n",
       "</style>\n",
       "<table id=\"T_170f3\">\n",
       "  <thead>\n",
       "    <tr>\n",
       "      <th class=\"blank level0\" >&nbsp;</th>\n",
       "      <th id=\"T_170f3_level0_col0\" class=\"col_heading level0 col0\" >corrs_train_selected_mean</th>\n",
       "      <th id=\"T_170f3_level0_col1\" class=\"col_heading level0 col1\" >corrs_test_selected_mean</th>\n",
       "      <th id=\"T_170f3_level0_col2\" class=\"col_heading level0 col2\" >corrs_test_mean_baseline</th>\n",
       "    </tr>\n",
       "    <tr>\n",
       "      <th class=\"index_name level0\" >subject</th>\n",
       "      <th class=\"blank col0\" >&nbsp;</th>\n",
       "      <th class=\"blank col1\" >&nbsp;</th>\n",
       "      <th class=\"blank col2\" >&nbsp;</th>\n",
       "    </tr>\n",
       "  </thead>\n",
       "  <tbody>\n",
       "    <tr>\n",
       "      <th id=\"T_170f3_level0_row0\" class=\"row_heading level0 row0\" >UTS01</th>\n",
       "      <td id=\"T_170f3_row0_col0\" class=\"data row0 col0\" >0.0405</td>\n",
       "      <td id=\"T_170f3_row0_col1\" class=\"data row0 col1\" >0.0291</td>\n",
       "      <td id=\"T_170f3_row0_col2\" class=\"data row0 col2\" >-0.0000</td>\n",
       "    </tr>\n",
       "    <tr>\n",
       "      <th id=\"T_170f3_level0_row1\" class=\"row_heading level0 row1\" >UTS02</th>\n",
       "      <td id=\"T_170f3_row1_col0\" class=\"data row1 col0\" >0.0450</td>\n",
       "      <td id=\"T_170f3_row1_col1\" class=\"data row1 col1\" >0.0600</td>\n",
       "      <td id=\"T_170f3_row1_col2\" class=\"data row1 col2\" >-0.0000</td>\n",
       "    </tr>\n",
       "    <tr>\n",
       "      <th id=\"T_170f3_level0_row2\" class=\"row_heading level0 row2\" >UTS03</th>\n",
       "      <td id=\"T_170f3_row2_col0\" class=\"data row2 col0\" >0.0455</td>\n",
       "      <td id=\"T_170f3_row2_col1\" class=\"data row2 col1\" >0.0621</td>\n",
       "      <td id=\"T_170f3_row2_col2\" class=\"data row2 col2\" >0.0000</td>\n",
       "    </tr>\n",
       "  </tbody>\n",
       "</table>\n"
      ],
      "text/plain": [
       "<pandas.io.formats.style.Styler at 0x7fc0f01eaad0>"
      ]
     },
     "execution_count": 7,
     "metadata": {},
     "output_type": "execute_result"
    }
   ],
   "source": [
    "%load_ext autoreload\n",
    "%autoreload 2\n",
    "import os\n",
    "import matplotlib.pyplot as plt\n",
    "import seaborn as sns\n",
    "from os.path import join\n",
    "from tqdm import tqdm\n",
    "import pandas as pd\n",
    "import joblib\n",
    "import imodelsx.process_results\n",
    "import sys\n",
    "from neuro.features import qa_questions\n",
    "import numpy as np\n",
    "import neuro.config\n",
    "import dvu\n",
    "from PIL import Image\n",
    "import matplotlib.pyplot as plt\n",
    "import numpy as np\n",
    "import os\n",
    "import sasc.viz\n",
    "from neuro import analyze_helper\n",
    "dvu.set_style()\n",
    "sys.path.append('../experiments/')\n",
    "results_dir = '/home/chansingh/mntv1/deep-fMRI/encoding/may15_single_question'\n",
    "experiment_filename = '../experiments/04_fit_top_correlated_q.py'\n",
    "\n",
    "# load the results in to a pandas dataframe\n",
    "r = imodelsx.process_results.get_results_df(results_dir)\n",
    "cols_varied = imodelsx.process_results.get_experiment_keys(\n",
    "    r, experiment_filename)\n",
    "print('experiment varied these params:', cols_varied)\n",
    "r = imodelsx.process_results.fill_missing_args_with_default(\n",
    "    r, experiment_filename)\n",
    "\n",
    "# get the breakdown of data in these groups\n",
    "r.groupby(cols_varied).size()\n",
    "questions = qa_questions.get_questions(version='v3_boostexamples', full=True)\n",
    "\n",
    "\n",
    "# quick overview\n",
    "r['corrs_train_selected_mean'] = r['corrs_train_selected'].apply(np.nanmean)\n",
    "r['corrs_test_selected_mean'] = r['corrs_test_selected'].apply(np.nanmean)\n",
    "mets = [c for c in r.columns if 'corrs' in c and (\n",
    "        'mean' in c or 'frac' in c)]\n",
    "(\n",
    "    r.groupby(cols_varied)[mets].mean()\n",
    "    .style\n",
    "    .background_gradient(\n",
    "        cmap='viridis', axis=0)\n",
    "    .format(\"{:.4f}\")\n",
    ")"
   ]
  },
  {
   "cell_type": "markdown",
   "metadata": {},
   "source": [
    "### Set up data"
   ]
  },
  {
   "cell_type": "code",
   "execution_count": 8,
   "metadata": {},
   "outputs": [],
   "source": [
    "dfs = []\n",
    "\n",
    "for i, row in r.iterrows():\n",
    "    df = pd.DataFrame(row['corrs_test_selected'],\n",
    "                      columns=['corrs_test_selected'])\n",
    "    df['subject'] = row.subject\n",
    "    df['voxel_idx'] = df.index\n",
    "    df['question'] = list(\n",
    "        map(lambda x: questions[x % len(questions)], row.qs_selected))\n",
    "    dfs.append(pd.DataFrame(df))\n",
    "df = pd.concat(dfs)"
   ]
  },
  {
   "cell_type": "code",
   "execution_count": 9,
   "metadata": {},
   "outputs": [],
   "source": [
    "df.to_pickle('monosemantic_df.pkl')"
   ]
  },
  {
   "cell_type": "code",
   "execution_count": 5,
   "metadata": {},
   "outputs": [
    {
     "name": "stderr",
     "output_type": "stream",
     "text": [
      "/usr/lib/python3.11/pickle.py:329: DeprecationWarning: numpy.core.numeric is deprecated and has been renamed to numpy._core.numeric. The numpy._core namespace contains private NumPy internals and its use is discouraged, as NumPy internals can change without warning in any release. In practice, most real-world usage of numpy.core is to access functionality in the public NumPy API. If that is the case, use the public NumPy API. If not, you are using NumPy internals. If you would still like to access an internal attribute, use numpy._core.numeric._frombuffer.\n",
      "  obj = getattr(obj, subpath)\n"
     ]
    }
   ],
   "source": [
    "# add roi info\n",
    "rois_df = joblib.load(join(neuro.config.root_dir, 'qa',\n",
    "                      'roi_cache', f'voxel_roi_df.pkl'))\n",
    "rois_df_dict = {\n",
    "    (row.subject, row.voxel_num): row.roi for i, row in rois_df.iterrows()\n",
    "}\n",
    "df['roi'] = df.apply(lambda x: rois_df_dict.get(\n",
    "    (x.subject, x.voxel_idx), []), axis=1)"
   ]
  },
  {
   "cell_type": "markdown",
   "metadata": {},
   "source": [
    "### Format into table"
   ]
  },
  {
   "cell_type": "code",
   "execution_count": null,
   "metadata": {},
   "outputs": [],
   "source": [
    "num_rows = 20\n",
    "\n",
    "# take the first 20 entries of each group\n",
    "counts_mat = df.groupby('subject')[\n",
    "    'question'].value_counts().unstack().fillna(0).T\n",
    "counts_mat['Avg'] = counts_mat.mean(axis=1).round().astype(int)\n",
    "counts_mat.columns = pd.MultiIndex.from_product(\n",
    "    [['Voxel counts'], counts_mat.columns])\n",
    "\n",
    "corr_mat = df.groupby(['subject', 'question'])[\n",
    "    'corrs_test_selected'].mean().unstack().T\n",
    "corr_mat = corr_mat.loc[counts_mat.index]\n",
    "corr_mat['Avg'] = corr_mat.mean(axis=1)\n",
    "corr_mat.columns = pd.MultiIndex.from_product(\n",
    "    [['Test correlation'], corr_mat.columns])\n",
    "\n",
    "roi_mat = df.explode(['roi']).groupby(['question'])[\n",
    "    'roi'].value_counts().unstack().fillna(0).astype(int)\n",
    "topk_rois = roi_mat.head(num_rows).sum(\n",
    ").sort_values(ascending=False).index[:10]\n",
    "roi_mat = roi_mat.loc[counts_mat.index, topk_rois]\n",
    "roi_mat.columns = pd.MultiIndex.from_product(\n",
    "    [['ROI counts (across UTS01-UTS03)'], roi_mat.columns])\n",
    "\n",
    "\n",
    "full_mat = pd.concat([counts_mat, corr_mat, roi_mat], axis=1)\n",
    "full_mat = full_mat.sort_values(('Voxel counts', 'Avg'), ascending=False)\n",
    "# full_mat = full_mat.sort_values(('Corr', 'Avg'), ascending=False)\n",
    "\n",
    "\n",
    "# Add row with index 'All' to first position in full_mat\n",
    "full_mat.loc['All'] = full_mat.sum().astype(int)\n",
    "full_mat = full_mat.reindex(['All'] + list(full_mat.index[:-1]))\n",
    "full_mat = full_mat.head(num_rows)\n",
    "full_mat.loc[['All'] * 3, [('Test correlation', f'UTS0{k}') for k in [1, 2, 3]]] = df.groupby(\n",
    "    'subject')['corrs_test_selected'].mean().sort_index().values\n",
    "full_mat.loc['All', ('Test correlation', 'Avg')] = df.groupby(\n",
    "    'subject')['corrs_test_selected'].mean().mean()\n",
    "\n",
    "display(\n",
    "    full_mat.style.background_gradient(\n",
    "        cmap='viridis', axis=0,\n",
    "        subset=(full_mat.index[1:], full_mat.columns)).format(precision=2)\n",
    ")"
   ]
  },
  {
   "cell_type": "markdown",
   "metadata": {},
   "source": [
    "### Make flatmaps for top questions"
   ]
  },
  {
   "cell_type": "code",
   "execution_count": null,
   "metadata": {},
   "outputs": [],
   "source": [
    "flatmaps = __import__('06_flatmaps_diffs')\n",
    "vox_sizes = {\n",
    "    'UTS03': 95556,\n",
    "    'UTS02': 94251,\n",
    "    'UTS01': 81126,\n",
    "}\n",
    "for subject in vox_sizes.keys():\n",
    "    for i, q in tqdm(enumerate(full_mat.index[1:20])):\n",
    "        vals = np.zeros(vox_sizes[subject])\n",
    "        vals.fill(np.nan)\n",
    "        d = df[df.subject == subject]\n",
    "        d = d[d.question == q]\n",
    "        vals[d.voxel_idx.values] = d.corrs_test_selected\n",
    "        flatmaps._save_flatmap(\n",
    "            vals, subject[2:\n",
    "                          ], fname_save=f'../qa_results/single_question/{subject}_{i}_{q}.png',\n",
    "            with_rois=True, cmap='BuBkRd', with_borders=True)"
   ]
  },
  {
   "cell_type": "code",
   "execution_count": null,
   "metadata": {},
   "outputs": [],
   "source": [
    "flatmap_dir = '../qa_results/single_question'\n",
    "files = os.listdir(flatmap_dir)\n",
    "files = [f for f in files if f.endswith('.png')]\n",
    "keep_list = [\n",
    "    'involve spatial reasoning',\n",
    "    'contain repetition',\n",
    "]\n",
    "\n",
    "# filter only files that contain a substring in keep_list\n",
    "files = [f for f in files if any([k in f for k in keep_list])]\n",
    "\n",
    "files_dict = {\n",
    "    subj: sorted([f for f in files if subj in f]) for subj in ['UTS01', 'UTS02', 'UTS03']\n",
    "}\n",
    "\n",
    "# plot each subject in a different row in a grid\n",
    "nrows = 3\n",
    "ncols = len(files) // nrows\n",
    "fig, axs = plt.subplots(nrows, ncols, figsize=(ncols * 7, nrows * 4))\n",
    "for i, (subj, files) in enumerate(files_dict.items()):\n",
    "    for j, f in enumerate(files):\n",
    "        img = Image.open(join(flatmap_dir, f))\n",
    "        axs[i, j].imshow(img)\n",
    "        axs[i, j].axis('off')\n",
    "        if i == 0:\n",
    "            axs[i, j].set_title(\n",
    "                f'{analyze_helper.abbrev_question(f.split(\"_\")[2]).replace(\".png\", \"\")}')\n",
    "        if j == 0:\n",
    "            axs[i, j].set_ylabel(subj)\n",
    "# negative horizontal space between subplots\n",
    "plt.subplots_adjust(wspace=-0.1)\n",
    "plt.savefig('single_question_flatmaps.png', dpi=300, bbox_inches='tight')"
   ]
  },
  {
   "cell_type": "markdown",
   "metadata": {},
   "source": [
    "# Compare with 35-q model"
   ]
  },
  {
   "cell_type": "code",
   "execution_count": 3,
   "metadata": {},
   "outputs": [],
   "source": [
    "data = joblib.load('results.pkl')\n",
    "rr, cols_varied, mets = data['r'], data['cols_varied'], data['mets']\n",
    "metric_sort = 'corrs_tune_pc_weighted_mean'"
   ]
  },
  {
   "cell_type": "code",
   "execution_count": 4,
   "metadata": {},
   "outputs": [],
   "source": [
    "rr_best = rr[(rr.pc_components == 100) *\n",
    "             (rr.ndelays == 8) *\n",
    "             (rr.feature_space.str.contains('qa_emb')) *\n",
    "             (rr.feature_selection_alpha < 0) *\n",
    "             (rr.num_stories == -1) *\n",
    "             (rr.qa_embedding_model == 'ensemble2')\n",
    "             ]  # .sort_values(by='corrs_test_mean').iloc[-1]"
   ]
  },
  {
   "cell_type": "code",
   "execution_count": null,
   "metadata": {},
   "outputs": [],
   "source": [
    "plt.figure(figsize=(3, 3))\n",
    "for subj in ['UTS01', 'UTS02', 'UTS03']:\n",
    "    # subj = 'UTS01'\n",
    "    corrs_35 = rr_best[rr_best.subject ==\n",
    "                       subj.replace('UT', '')]['corrs_test'].iloc[0]\n",
    "    corrs_single = r[r.subject == subj]['corrs_test_selected'].iloc[0]\n",
    "    plt.plot(corrs_35, corrs_single, '.', alpha=1, ms=1, color='C0')\n",
    "    min_ = np.min([corrs_35, corrs_single])\n",
    "    max_ = np.max([corrs_35, corrs_single])\n",
    "\n",
    "    mask = corrs_single < 0.1\n",
    "    arr = corrs_35 - corrs_single\n",
    "    arr[mask] = np.nan\n",
    "    sasc.viz.quickshow(arr, subject=subj, kwargs={\n",
    "        # 'fig': fig})\n",
    "        'with_curvature': True}, fname_save=f'single_question_vs_35_diff_{subj}.png')\n",
    "\n",
    "plt.plot([min_, max_], [min_, max_], 'k--')\n",
    "plt.xlabel('Test correlation (35 questions)')\n",
    "plt.ylabel('Test correlation (single question)')\n",
    "plt.savefig('single_question_vs_35.png', dpi=300, bbox_inches='tight')\n",
    "plt.show()"
   ]
  },
  {
   "cell_type": "code",
   "execution_count": null,
   "metadata": {},
   "outputs": [],
   "source": [
    "df"
   ]
  }
 ],
 "metadata": {
  "kernelspec": {
   "display_name": ".env",
   "language": "python",
   "name": "python3"
  },
  "language_info": {
   "codemirror_mode": {
    "name": "ipython",
    "version": 3
   },
   "file_extension": ".py",
   "mimetype": "text/x-python",
   "name": "python",
   "nbconvert_exporter": "python",
   "pygments_lexer": "ipython3",
   "version": "3.11.10"
  },
  "orig_nbformat": 4
 },
 "nbformat": 4,
 "nbformat_minor": 2
}
