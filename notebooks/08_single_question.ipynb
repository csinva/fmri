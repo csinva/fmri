{
 "cells": [
  {
   "cell_type": "code",
   "execution_count": null,
   "metadata": {},
   "outputs": [],
   "source": [
    "%load_ext autoreload\n",
    "%autoreload 2\n",
    "import os\n",
    "import matplotlib.pyplot as plt\n",
    "import seaborn as sns\n",
    "from os.path import join\n",
    "from tqdm import tqdm\n",
    "import pandas as pd\n",
    "import joblib\n",
    "import imodelsx.process_results\n",
    "import sys\n",
    "from neuro.features import qa_questions\n",
    "import numpy as np\n",
    "import neuro.config\n",
    "sys.path.append('../experiments/')\n",
    "results_dir = '/home/chansingh/mntv1/deep-fMRI/encoding/may15_single_question'\n",
    "experiment_filename = '../experiments/04_fit_single_question.py'\n",
    "\n",
    "# load the results in to a pandas dataframe\n",
    "r = imodelsx.process_results.get_results_df(results_dir)\n",
    "cols_varied = imodelsx.process_results.get_experiment_keys(\n",
    "    r, experiment_filename)\n",
    "print('experiment varied these params:', cols_varied)\n",
    "r = imodelsx.process_results.fill_missing_args_with_default(\n",
    "    r, experiment_filename)\n",
    "\n",
    "# get the breakdown of data in these groups\n",
    "r.groupby(cols_varied).size()\n",
    "questions = qa_questions.get_questions(version='v3_boostexamples', full=True)\n",
    "\n",
    "\n",
    "# quick overview\n",
    "r['corrs_train_selected_mean'] = r['corrs_train_selected'].apply(np.nanmean)\n",
    "r['corrs_test_selected_mean'] = r['corrs_test_selected'].apply(np.nanmean)\n",
    "mets = [c for c in r.columns if 'corrs' in c and (\n",
    "        'mean' in c or 'frac' in c)]\n",
    "(\n",
    "    r.groupby(cols_varied)[mets].mean()\n",
    "    .style\n",
    "    .background_gradient(\n",
    "        cmap='viridis', axis=0)\n",
    "    .format(\"{:.4f}\")\n",
    ")"
   ]
  },
  {
   "cell_type": "markdown",
   "metadata": {},
   "source": [
    "### Set up data"
   ]
  },
  {
   "cell_type": "code",
   "execution_count": null,
   "metadata": {},
   "outputs": [],
   "source": [
    "dfs = []\n",
    "\n",
    "for i, row in r.iterrows():\n",
    "    df = pd.DataFrame(row['corrs_test_selected'],\n",
    "                      columns=['corrs_test_selected'])\n",
    "    df['subject'] = row.subject\n",
    "    df['voxel_idx'] = df.index\n",
    "    df['question'] = list(\n",
    "        map(lambda x: questions[x % len(questions)], row.qs_selected))\n",
    "    dfs.append(pd.DataFrame(df))\n",
    "df = pd.concat(dfs)\n",
    "\n",
    "# add roi info\n",
    "rois_df = joblib.load(join(neuro.config.root_dir, 'qa',\n",
    "                      'roi_cache', f'voxel_roi_df.pkl'))\n",
    "rois_df_dict = {\n",
    "    (row.subject, row.voxel_num): row.roi for i, row in rois_df.iterrows()\n",
    "}\n",
    "df['roi'] = df.apply(lambda x: rois_df_dict.get(\n",
    "    (x.subject, x.voxel_idx), []), axis=1)"
   ]
  },
  {
   "cell_type": "markdown",
   "metadata": {},
   "source": [
    "### Format into table"
   ]
  },
  {
   "cell_type": "code",
   "execution_count": null,
   "metadata": {},
   "outputs": [],
   "source": [
    "num_rows = 20\n",
    "\n",
    "# take the first 20 entries of each group\n",
    "counts_mat = df.groupby('subject')[\n",
    "    'question'].value_counts().unstack().fillna(0).T\n",
    "counts_mat['Avg'] = counts_mat.mean(axis=1).round().astype(int)\n",
    "counts_mat.columns = pd.MultiIndex.from_product(\n",
    "    [['Voxel counts'], counts_mat.columns])\n",
    "\n",
    "corr_mat = df.groupby(['subject', 'question'])[\n",
    "    'corrs_test_selected'].mean().unstack().T\n",
    "corr_mat = corr_mat.loc[counts_mat.index]\n",
    "corr_mat['Avg'] = corr_mat.mean(axis=1)\n",
    "corr_mat.columns = pd.MultiIndex.from_product(\n",
    "    [['Test correlation'], corr_mat.columns])\n",
    "\n",
    "roi_mat = df.explode(['roi']).groupby(['question'])[\n",
    "    'roi'].value_counts().unstack().fillna(0).astype(int)\n",
    "topk_rois = roi_mat.head(num_rows).sum(\n",
    ").sort_values(ascending=False).index[:10]\n",
    "roi_mat = roi_mat.loc[counts_mat.index, topk_rois]\n",
    "roi_mat.columns = pd.MultiIndex.from_product(\n",
    "    [['ROI counts (across UTS01-UTS03)'], roi_mat.columns])\n",
    "\n",
    "\n",
    "full_mat = pd.concat([counts_mat, corr_mat, roi_mat], axis=1)\n",
    "full_mat = full_mat.sort_values(('Voxel counts', 'Avg'), ascending=False)\n",
    "# full_mat = full_mat.sort_values(('Corr', 'Avg'), ascending=False)\n",
    "\n",
    "\n",
    "# Add row with index 'All' to first position in full_mat\n",
    "full_mat.loc['All'] = full_mat.sum().astype(int)\n",
    "full_mat = full_mat.reindex(['All'] + list(full_mat.index[:-1]))\n",
    "full_mat = full_mat.head(num_rows)\n",
    "full_mat.loc[['All'] * 3, [('Test correlation', f'UTS0{k}') for k in [1, 2, 3]]] = df.groupby(\n",
    "    'subject')['corrs_test_selected'].mean().sort_index().values\n",
    "full_mat.loc['All', ('Test correlation', 'Avg')] = df.groupby(\n",
    "    'subject')['corrs_test_selected'].mean().mean()\n",
    "\n",
    "display(\n",
    "    full_mat.style.background_gradient(\n",
    "        cmap='viridis', axis=0,\n",
    "        subset=(full_mat.index[1:], full_mat.columns)).format(precision=2)\n",
    ")"
   ]
  },
  {
   "cell_type": "markdown",
   "metadata": {},
   "source": [
    "### Make flatmaps for top questions"
   ]
  },
  {
   "cell_type": "code",
   "execution_count": 34,
   "metadata": {},
   "outputs": [
    {
     "name": "stderr",
     "output_type": "stream",
     "text": [
      "/home/chansingh/imodelsx/.venv/lib/python3.11/site-packages/cortex/svgoverlay.py:281: DeprecationWarning: distutils Version classes are deprecated. Use packaging.version instead.\n",
      "  if LooseVersion(INKSCAPE_VERSION) < LooseVersion('1.0'):\n",
      "/home/chansingh/imodelsx/.venv/lib/python3.11/site-packages/cortex/svgoverlay.py:281: DeprecationWarning: distutils Version classes are deprecated. Use packaging.version instead.\n",
      "  if LooseVersion(INKSCAPE_VERSION) < LooseVersion('1.0'):\n"
     ]
    }
   ],
   "source": [
    "flatmaps = __import__('06_flatmaps_diffs')\n",
    "vox_sizes = {\n",
    "    'UTS03': 95556,\n",
    "    'UTS02': 94251,\n",
    "    'UTS01': 81126,\n",
    "}\n",
    "for subject in vox_sizes.keys():\n",
    "    for i, q in tqdm(enumerate(full_mat.index[1:20])):\n",
    "        vals = np.zeros(vox_sizes[subject])\n",
    "        vals.fill(np.nan)\n",
    "        d = df[df.subject == subject]\n",
    "        d = d[d.question == q]\n",
    "        vals[d.voxel_idx.values] = d.corrs_test_selected\n",
    "        flatmaps._save_flatmap(\n",
    "            vals, subject[2:\n",
    "                          ], fname_save=f'../qa_results/single_question/{subject}_{i}_{q}.png',\n",
    "            with_rois=True, cmap='BuBkRd', with_borders=True)"
   ]
  },
  {
   "cell_type": "code",
   "execution_count": null,
   "metadata": {},
   "outputs": [],
   "source": []
  }
 ],
 "metadata": {
  "kernelspec": {
   "display_name": "Python 3.8.10 ('.embgam')",
   "language": "python",
   "name": "python3"
  },
  "language_info": {
   "codemirror_mode": {
    "name": "ipython",
    "version": 3
   },
   "file_extension": ".py",
   "mimetype": "text/x-python",
   "name": "python",
   "nbconvert_exporter": "python",
   "pygments_lexer": "ipython3",
   "version": "3.11.9"
  },
  "orig_nbformat": 4,
  "vscode": {
   "interpreter": {
    "hash": "559535f78d940c882783b39501b2581b5193373045707e5f8a51d046029cfd38"
   }
  }
 },
 "nbformat": 4,
 "nbformat_minor": 2
}
