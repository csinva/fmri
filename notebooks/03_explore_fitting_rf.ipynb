{
 "cells": [
  {
   "cell_type": "code",
   "execution_count": 1,
   "metadata": {},
   "outputs": [
    {
     "name": "stderr",
     "output_type": "stream",
     "text": [
      "/home/chansingh/imodelsx/.venv/lib/python3.11/site-packages/google/rpc/__init__.py:20: DeprecationWarning: Deprecated call to `pkg_resources.declare_namespace('google.rpc')`.\n",
      "Implementing implicit namespace packages (as specified in PEP 420) is preferred to `pkg_resources.declare_namespace`. See https://setuptools.pypa.io/en/latest/references/keywords.html#keyword-namespace-packages\n",
      "  pkg_resources.declare_namespace(__name__)\n",
      "/home/chansingh/imodelsx/.venv/lib/python3.11/site-packages/pkg_resources/__init__.py:2350: DeprecationWarning: Deprecated call to `pkg_resources.declare_namespace('google')`.\n",
      "Implementing implicit namespace packages (as specified in PEP 420) is preferred to `pkg_resources.declare_namespace`. See https://setuptools.pypa.io/en/latest/references/keywords.html#keyword-namespace-packages\n",
      "  declare_namespace(parent)\n",
      "/home/chansingh/imodelsx/.venv/lib/python3.11/site-packages/lightning/fabric/__init__.py:41: Deprecated call to `pkg_resources.declare_namespace('lightning.fabric')`.\n",
      "Implementing implicit namespace packages (as specified in PEP 420) is preferred to `pkg_resources.declare_namespace`. See https://setuptools.pypa.io/en/latest/references/keywords.html#keyword-namespace-packages\n",
      "/home/chansingh/imodelsx/.venv/lib/python3.11/site-packages/pkg_resources/__init__.py:2350: DeprecationWarning: Deprecated call to `pkg_resources.declare_namespace('lightning')`.\n",
      "Implementing implicit namespace packages (as specified in PEP 420) is preferred to `pkg_resources.declare_namespace`. See https://setuptools.pypa.io/en/latest/references/keywords.html#keyword-namespace-packages\n",
      "  declare_namespace(parent)\n",
      "/home/chansingh/imodelsx/.venv/lib/python3.11/site-packages/torchmetrics/utilities/imports.py:24: DeprecationWarning: distutils Version classes are deprecated. Use packaging.version instead.\n",
      "  _PYTHON_LOWER_3_8 = LooseVersion(_PYTHON_VERSION) < LooseVersion(\"3.8\")\n",
      "/home/chansingh/imodelsx/.venv/lib/python3.11/site-packages/torchmetrics/utilities/imports.py:24: DeprecationWarning: distutils Version classes are deprecated. Use packaging.version instead.\n",
      "  _PYTHON_LOWER_3_8 = LooseVersion(_PYTHON_VERSION) < LooseVersion(\"3.8\")\n",
      "/home/chansingh/imodelsx/.venv/lib/python3.11/site-packages/lightning/pytorch/__init__.py:37: Deprecated call to `pkg_resources.declare_namespace('lightning.pytorch')`.\n",
      "Implementing implicit namespace packages (as specified in PEP 420) is preferred to `pkg_resources.declare_namespace`. See https://setuptools.pypa.io/en/latest/references/keywords.html#keyword-namespace-packages\n",
      "/home/chansingh/imodelsx/.venv/lib/python3.11/site-packages/pkg_resources/__init__.py:2350: DeprecationWarning: Deprecated call to `pkg_resources.declare_namespace('lightning')`.\n",
      "Implementing implicit namespace packages (as specified in PEP 420) is preferred to `pkg_resources.declare_namespace`. See https://setuptools.pypa.io/en/latest/references/keywords.html#keyword-namespace-packages\n",
      "  declare_namespace(parent)\n",
      "100%|██████████| 19/19 [00:02<00:00,  7.83it/s]\n"
     ]
    },
    {
     "name": "stdout",
     "output_type": "stream",
     "text": [
      "experiment varied these params: ['feature_space', 'pc_components', 'ndelays']\n"
     ]
    }
   ],
   "source": [
    "%load_ext autoreload\n",
    "%autoreload 2\n",
    "import sys\n",
    "sys.path.append('..')\n",
    "import dvu\n",
    "import seaborn as sns\n",
    "import os\n",
    "import pandas as pd\n",
    "from copy import deepcopy\n",
    "from matplotlib import pyplot as plt\n",
    "from os.path import join\n",
    "import numpy as np\n",
    "import imodelsx.process_results\n",
    "import qa_questions\n",
    "import joblib\n",
    "from tqdm import tqdm\n",
    "fit_encoding = __import__('01_fit_encoding')\n",
    "dvu.set_style()\n",
    "\n",
    "# results_dir = '/home/chansingh/mntv1/deep-fMRI/encoding/results_mar28'\n",
    "results_dir = '/home/chansingh/mntv1/deep-fMRI/encoding/results_mar30'\n",
    "experiment_filename = '../experiments/01_fit_encoding.py'\n",
    "\n",
    "# load the results in to a pandas dataframe\n",
    "r = imodelsx.process_results.get_results_df(results_dir)\n",
    "r = imodelsx.process_results.fill_missing_args_with_default(\n",
    "    r, experiment_filename)\n",
    "# imodelsx.process_results.delete_runs_in_dataframe(\n",
    "    # r[r.feature_space == 'qa_embedder-10'], actually_delete=True)\n",
    "cols_varied = imodelsx.process_results.get_experiment_keys(\n",
    "    r, experiment_filename)\n",
    "print('experiment varied these params:', cols_varied)"
   ]
  },
  {
   "cell_type": "code",
   "execution_count": 5,
   "metadata": {},
   "outputs": [],
   "source": [
    "args = r[(r.feature_space == 'qa_embedder-5') * (r.pc_components == 100) * (r.ndelays == 4)\n",
    "         ].sort_values(by='corrs_tune_mean', ascending=False).iloc[0]"
   ]
  },
  {
   "cell_type": "code",
   "execution_count": 7,
   "metadata": {},
   "outputs": [
    {
     "data": {
      "text/plain": [
       "array([0.16324715, 0.39352724, 0.15891428, 0.02542256, 0.18722027,\n",
       "       0.04647178, 0.37331873, 0.56949788, 0.30995345, 0.17039046,\n",
       "       0.49491443, 0.21005079, 0.34666447, 0.35521323, 0.21323943,\n",
       "       0.1408058 , 0.11937863, 0.19207933, 0.35958506, 0.34594355,\n",
       "       0.1025908 , 0.17380687, 0.39703081, 0.15510626, 0.40216279,\n",
       "       0.14353452, 0.21110234, 0.02511365, 0.24280275, 0.26658301,\n",
       "       0.2354409 , 0.19909335, 0.2579138 , 0.08001339, 0.10697186,\n",
       "       0.00061066, 0.17483711, 0.11601882, 0.16744428, 0.28125073,\n",
       "       0.3094024 , 0.36161228, 0.1017473 , 0.20982689, 0.34856117,\n",
       "       0.11720562, 0.07146091, 0.14050139, 0.21840268, 0.18177662,\n",
       "       0.26117925, 0.17967265, 0.35353493, 0.08945723, 0.14269938,\n",
       "       0.21058354, 0.24516162, 0.32072106, 0.20530402, 0.20716614,\n",
       "       0.29300865, 0.24418012, 0.17262175, 0.23191049, 0.22373787,\n",
       "       0.26831637, 0.14489918, 0.04180274, 0.40392466, 0.30976918,\n",
       "       0.23776523, 0.26817254, 0.15634464, 0.16304612, 0.19675444,\n",
       "       0.1258    , 0.08966846, 0.1165096 , 0.07959465, 0.18695795,\n",
       "       0.18503564, 0.14608054, 0.41168059, 0.22210767, 0.220102  ,\n",
       "       0.21520198, 0.1939385 , 0.17623758, 0.27467446, 0.20857163,\n",
       "       0.20660257, 0.25215906, 0.23001104, 0.05305665, 0.14557685,\n",
       "       0.2139909 , 0.15373198, 0.22442061, 0.25069345, 0.07456375])"
      ]
     },
     "execution_count": 7,
     "metadata": {},
     "output_type": "execute_result"
    }
   ],
   "source": [
    "args['corrs_test_pc']"
   ]
  },
  {
   "cell_type": "code",
   "execution_count": null,
   "metadata": {},
   "outputs": [],
   "source": [
    "story_names_train, story_names_test = fit_encoding.get_story_names(args)\n",
    "stim_test_delayed, resp_test = fit_encoding.get_data(args, story_names_test)\n",
    "stim_train_delayed, resp_train = fit_encoding.get_data(args, story_names_train)"
   ]
  },
  {
   "cell_type": "code",
   "execution_count": null,
   "metadata": {},
   "outputs": [],
   "source": [
    "args"
   ]
  }
 ],
 "metadata": {
  "kernelspec": {
   "display_name": "Python 3.8.10 ('.embgam')",
   "language": "python",
   "name": "python3"
  },
  "language_info": {
   "codemirror_mode": {
    "name": "ipython",
    "version": 3
   },
   "file_extension": ".py",
   "mimetype": "text/x-python",
   "name": "python",
   "nbconvert_exporter": "python",
   "pygments_lexer": "ipython3",
   "version": "3.11.8"
  },
  "orig_nbformat": 4,
  "vscode": {
   "interpreter": {
    "hash": "559535f78d940c882783b39501b2581b5193373045707e5f8a51d046029cfd38"
   }
  }
 },
 "nbformat": 4,
 "nbformat_minor": 2
}
