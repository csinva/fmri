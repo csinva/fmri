{
 "cells": [
  {
   "cell_type": "code",
   "execution_count": 1,
   "metadata": {},
   "outputs": [],
   "source": [
    "%load_ext autoreload\n",
    "%autoreload 2\n",
    "from ridge_utils.DataSequence import DataSequence\n",
    "import pandas as pd\n",
    "import matplotlib.pyplot as plt\n",
    "from os.path import dirname\n",
    "import os\n",
    "from tqdm import tqdm\n",
    "from neuro.features import qa_questions, feature_spaces\n",
    "from neuro.data import story_names, response_utils\n",
    "from neuro.features.stim_utils import load_story_wordseqs, load_story_wordseqs_huge\n",
    "import neuro.config\n",
    "import seaborn as sns\n",
    "from neuro.features.questions.gpt4 import QS_35_STABLE\n",
    "import numpy as np\n",
    "import joblib\n",
    "from collections import defaultdict\n",
    "from os.path import join\n",
    "from sklearn.metrics import balanced_accuracy_score\n",
    "from imblearn.under_sampling import RandomUnderSampler\n",
    "from sklearn.linear_model import LogisticRegressionCV\n",
    "from neuro import analyze_helper\n",
    "import dvu\n",
    "from copy import deepcopy\n",
    "dvu.set_style()\n",
    "data_dir = join(neuro.config.repo_dir, 'data', 'decoding')"
   ]
  },
  {
   "cell_type": "code",
   "execution_count": 2,
   "metadata": {},
   "outputs": [],
   "source": [
    "def get_fmri_and_labs(data_dir, story_name='onapproachtopluto', train_or_test='test', subject='uts03'):\n",
    "    '''\n",
    "    Returns\n",
    "    -------\n",
    "    df : pd.DataFrame\n",
    "        The fMRI features, with columns corresponding to the principal components\n",
    "        of the fMRI data.\n",
    "    labs : pd.DataFrame\n",
    "        Binary labeled annotations for each of the texts\n",
    "    texts: \n",
    "        The texts corresponding to the rows of df\n",
    "    '''\n",
    "    df = joblib.load(\n",
    "        join(data_dir, subject, train_or_test, story_name + '.pkl'))\n",
    "    dfs = []\n",
    "    for offset in [1, 2, 3, 4]:\n",
    "        df_offset = df.shift(-offset)\n",
    "        df_offset.columns = [col + f'_{offset}' for col in df.columns]\n",
    "        dfs.append(df_offset)\n",
    "    df = pd.concat(dfs, axis=1)  # .dropna()  # would want to dropna here\n",
    "\n",
    "    # load labels\n",
    "    labs = joblib.load(\n",
    "        join(data_dir, 'labels', train_or_test, story_name + '_labels.pkl'))\n",
    "\n",
    "    # drop rows with nans\n",
    "    idxs_na = df.isna().sum(axis=1).values > 0\n",
    "    df = df[~idxs_na]\n",
    "    labs = labs[~idxs_na]\n",
    "    texts = pd.Series(df.index)\n",
    "    return df, labs, texts\n",
    "\n",
    "\n",
    "def concatenate_running_texts(texts, frac=1/2):\n",
    "    '''When decoding, you might want to concatenate \n",
    "    the text of the current and surrounding texts\n",
    "    to deal with the temporal imprecision of the fMRI signal.\n",
    "    '''\n",
    "    texts_before = (\n",
    "        texts.shift(1)\n",
    "        .str.split().apply(  # only keep second half of words\n",
    "            lambda l: ' '.join(l[int(-len(l) * frac):]) if l else '')\n",
    "    )\n",
    "\n",
    "    texts_after = (\n",
    "        texts.shift(-1)\n",
    "        .str.split().apply(  # only keep first half of words\n",
    "            lambda l: ' '.join(l[:int(len(l) * frac)]) if l else '')\n",
    "    )\n",
    "\n",
    "    return texts_before + ' ' + texts + ' ' + texts_after\n",
    "\n",
    "# example get data\n",
    "# df_orig, labs, texts = get_fmri_and_labs(data_dir)\n",
    "# texts = concatenate_running_texts(texts)"
   ]
  },
  {
   "cell_type": "markdown",
   "metadata": {},
   "source": [
    "# Run decode for all questions"
   ]
  },
  {
   "cell_type": "code",
   "execution_count": null,
   "metadata": {},
   "outputs": [],
   "source": [
    "# load all the data for a single subject\n",
    "data_by_subject = {}\n",
    "for subject in ['uts01', 'uts02', 'uts03']:\n",
    "    data = defaultdict(list)\n",
    "    for train_or_test in ['test', 'train']:\n",
    "        story_names_list = os.listdir(join(data_dir, subject, train_or_test))\n",
    "        for story_name in story_names_list:\n",
    "            df, labs, texts = get_fmri_and_labs(\n",
    "                data_dir, story_name.replace('.pkl', ''), train_or_test, subject)\n",
    "            data['df_' + train_or_test].append(df)\n",
    "            data['labs_' + train_or_test].append(labs)\n",
    "            data['texts_' + train_or_test].append(texts)\n",
    "\n",
    "    for k in data:\n",
    "        data[k] = pd.concat(data[k], axis=0)\n",
    "    data_by_subject[subject] = data"
   ]
  },
  {
   "cell_type": "code",
   "execution_count": 30,
   "metadata": {},
   "outputs": [
    {
     "name": "stderr",
     "output_type": "stream",
     "text": [
      " 72%|███████▏  | 62/86 [1:04:11<32:06, 80.27s/it]"
     ]
    },
    {
     "name": "stdout",
     "output_type": "stream",
     "text": [
      "\ttest acc 0.602\n",
      "\ttest acc ood 0.500\n",
      "(33484, 800) (33484,) (898, 800) (898,)\n",
      "label 62 Does the sentence involve a description of physical environment or setting? (9406, 800) (318, 800)\n"
     ]
    },
    {
     "name": "stderr",
     "output_type": "stream",
     "text": [
      " 73%|███████▎  | 63/86 [1:05:08<28:11, 73.56s/it]"
     ]
    },
    {
     "name": "stdout",
     "output_type": "stream",
     "text": [
      "\ttest acc 0.689\n",
      "\ttest acc ood 0.429\n",
      "(33484, 800) (33484,) (898, 800) (898,)\n",
      "label 63 Does the sentence involve a discussion about personal or social values? (6758, 800) (106, 800)\n"
     ]
    },
    {
     "name": "stderr",
     "output_type": "stream",
     "text": [
      " 74%|███████▍  | 64/86 [1:05:59<24:27, 66.71s/it]"
     ]
    },
    {
     "name": "stdout",
     "output_type": "stream",
     "text": [
      "\ttest acc 0.698\n",
      "\ttest acc ood 0.434\n",
      "(33484, 800) (33484,) (898, 800) (898,)\n",
      "label 64 Does the sentence involve a recount of a social or community event? (4302, 800) (100, 800)\n"
     ]
    },
    {
     "name": "stderr",
     "output_type": "stream",
     "text": [
      " 76%|███████▌  | 65/86 [1:07:09<23:38, 67.57s/it]"
     ]
    },
    {
     "name": "stdout",
     "output_type": "stream",
     "text": [
      "\ttest acc 0.720\n",
      "\ttest acc ood 0.460\n",
      "(33484, 800) (33484,) (898, 800) (898,)\n",
      "label 65 Does the sentence involve an expression of personal values or beliefs? (7888, 800) (162, 800)\n"
     ]
    },
    {
     "name": "stderr",
     "output_type": "stream",
     "text": [
      " 77%|███████▋  | 66/86 [1:07:58<20:41, 62.05s/it]"
     ]
    },
    {
     "name": "stdout",
     "output_type": "stream",
     "text": [
      "\ttest acc 0.673\n",
      "\ttest acc ood 0.451\n",
      "(33484, 800) (33484,) (898, 800) (898,)\n",
      "label 66 Does the sentence involve an unexpected incident or accident? (4580, 800) (148, 800)\n"
     ]
    },
    {
     "name": "stderr",
     "output_type": "stream",
     "text": [
      " 78%|███████▊  | 67/86 [1:09:01<19:44, 62.35s/it]"
     ]
    },
    {
     "name": "stdout",
     "output_type": "stream",
     "text": [
      "\ttest acc 0.561\n",
      "\ttest acc ood 0.436\n",
      "(33484, 800) (33484,) (898, 800) (898,)\n",
      "label 67 Does the sentence involve spatial reasoning? (9664, 800) (320, 800)\n"
     ]
    },
    {
     "name": "stderr",
     "output_type": "stream",
     "text": [
      " 79%|███████▉  | 68/86 [1:09:49<17:27, 58.17s/it]"
     ]
    },
    {
     "name": "stdout",
     "output_type": "stream",
     "text": [
      "\ttest acc 0.756\n",
      "\ttest acc ood 0.456\n",
      "(33484, 800) (33484,) (898, 800) (898,)\n",
      "label 68 Does the sentence involve the mention of a specific object or item? (11380, 800) (376, 800)\n"
     ]
    },
    {
     "name": "stderr",
     "output_type": "stream",
     "text": [
      " 80%|████████  | 69/86 [1:10:40<15:49, 55.83s/it]"
     ]
    },
    {
     "name": "stdout",
     "output_type": "stream",
     "text": [
      "\ttest acc 0.646\n",
      "\ttest acc ood 0.459\n",
      "(33484, 800) (33484,) (898, 800) (898,)\n",
      "label 69 Does the sentence mention a specific location? (7172, 800) (238, 800)\n"
     ]
    },
    {
     "name": "stderr",
     "output_type": "stream",
     "text": [
      " 81%|████████▏ | 70/86 [1:11:24<13:59, 52.44s/it]"
     ]
    },
    {
     "name": "stdout",
     "output_type": "stream",
     "text": [
      "\ttest acc 0.697\n",
      "\ttest acc ood 0.439\n",
      "(33484, 800) (33484,) (898, 800) (898,)\n",
      "label 70 Does the sentence reference a specific time or date? (4612, 800) (140, 800)\n"
     ]
    },
    {
     "name": "stderr",
     "output_type": "stream",
     "text": [
      " 83%|████████▎ | 71/86 [1:12:25<13:41, 54.77s/it]"
     ]
    },
    {
     "name": "stdout",
     "output_type": "stream",
     "text": [
      "\ttest acc 0.750\n",
      "\ttest acc ood 0.493\n",
      "(33484, 800) (33484,) (898, 800) (898,)\n",
      "label 71 Does the sentence use a unique or unusual word? (4158, 800) (82, 800)\n"
     ]
    },
    {
     "name": "stderr",
     "output_type": "stream",
     "text": [
      " 84%|████████▎ | 72/86 [1:13:28<13:25, 57.51s/it]"
     ]
    },
    {
     "name": "stdout",
     "output_type": "stream",
     "text": [
      "\ttest acc 0.610\n",
      "\ttest acc ood 0.451\n",
      "(33484, 800) (33484,) (898, 800) (898,)\n",
      "label 72 Does the story involve a personal project or creation? (7032, 800) (196, 800)\n"
     ]
    },
    {
     "name": "stderr",
     "output_type": "stream",
     "text": [
      " 85%|████████▍ | 73/86 [1:14:20<12:02, 55.61s/it]"
     ]
    },
    {
     "name": "stdout",
     "output_type": "stream",
     "text": [
      "\ttest acc 0.566\n",
      "\ttest acc ood 0.520\n",
      "(33484, 800) (33484,) (898, 800) (898,)\n",
      "label 73 Does the text describe a journey? (6890, 800) (262, 800)\n"
     ]
    },
    {
     "name": "stderr",
     "output_type": "stream",
     "text": [
      " 86%|████████▌ | 74/86 [1:15:07<10:36, 53.04s/it]"
     ]
    },
    {
     "name": "stdout",
     "output_type": "stream",
     "text": [
      "\ttest acc 0.691\n",
      "\ttest acc ood 0.502\n",
      "(33484, 800) (33484,) (898, 800) (898,)\n",
      "label 74 Does the text describe a mode of communication? (9430, 800) (248, 800)\n"
     ]
    },
    {
     "name": "stderr",
     "output_type": "stream",
     "text": [
      " 87%|████████▋ | 75/86 [1:15:50<09:11, 50.11s/it]"
     ]
    },
    {
     "name": "stdout",
     "output_type": "stream",
     "text": [
      "\ttest acc 0.726\n",
      "\ttest acc ood 0.478\n",
      "(33484, 800) (33484,) (898, 800) (898,)\n",
      "label 75 Does the text include a planning or decision-making process? (5686, 800) (206, 800)\n"
     ]
    },
    {
     "name": "stderr",
     "output_type": "stream",
     "text": [
      " 88%|████████▊ | 76/86 [1:16:36<08:09, 48.91s/it]"
     ]
    },
    {
     "name": "stdout",
     "output_type": "stream",
     "text": [
      "\ttest acc 0.699\n",
      "\ttest acc ood 0.515\n",
      "(33484, 800) (33484,) (898, 800) (898,)\n",
      "label 76 Does the text include a reference to a past era or time period? (9398, 800) (196, 800)\n"
     ]
    },
    {
     "name": "stderr",
     "output_type": "stream",
     "text": [
      " 90%|████████▉ | 77/86 [1:17:21<07:10, 47.85s/it]"
     ]
    },
    {
     "name": "stdout",
     "output_type": "stream",
     "text": [
      "\ttest acc 0.694\n",
      "\ttest acc ood 0.510\n",
      "(33484, 800) (33484,) (898, 800) (898,)\n",
      "label 77 Is the input about a discovery or realization? (10888, 800) (306, 800)\n"
     ]
    },
    {
     "name": "stderr",
     "output_type": "stream",
     "text": [
      " 91%|█████████ | 78/86 [1:18:04<06:09, 46.17s/it]"
     ]
    },
    {
     "name": "stdout",
     "output_type": "stream",
     "text": [
      "\ttest acc 0.634\n",
      "\ttest acc ood 0.469\n",
      "(33484, 800) (33484,) (898, 800) (898,)\n",
      "label 78 Is the input related to a specific industry or profession? (8246, 800) (254, 800)\n"
     ]
    },
    {
     "name": "stderr",
     "output_type": "stream",
     "text": [
      " 92%|█████████▏| 79/86 [1:18:53<05:30, 47.26s/it]"
     ]
    },
    {
     "name": "stdout",
     "output_type": "stream",
     "text": [
      "\ttest acc 0.614\n",
      "\ttest acc ood 0.524\n",
      "(33484, 800) (33484,) (898, 800) (898,)\n",
      "label 79 Is the sentence abstract rather than concrete? (11726, 800) (328, 800)\n"
     ]
    },
    {
     "name": "stderr",
     "output_type": "stream",
     "text": [
      " 93%|█████████▎| 80/86 [1:19:40<04:42, 47.16s/it]"
     ]
    },
    {
     "name": "stdout",
     "output_type": "stream",
     "text": [
      "\ttest acc 0.646\n",
      "\ttest acc ood 0.476\n",
      "(33484, 800) (33484,) (898, 800) (898,)\n",
      "label 80 Is the sentence conveying the narrator's physical movement or action in detail? (3768, 800) (110, 800)\n"
     ]
    },
    {
     "name": "stderr",
     "output_type": "stream",
     "text": [
      " 94%|█████████▍| 81/86 [1:20:30<03:59, 47.98s/it]"
     ]
    },
    {
     "name": "stdout",
     "output_type": "stream",
     "text": [
      "\ttest acc 0.636\n",
      "\ttest acc ood 0.514\n",
      "(33484, 800) (33484,) (898, 800) (898,)\n",
      "label 81 Is the sentence emotionally positive? (10584, 800) (332, 800)\n"
     ]
    },
    {
     "name": "stderr",
     "output_type": "stream",
     "text": [
      " 95%|█████████▌| 82/86 [1:21:00<02:50, 42.59s/it]"
     ]
    },
    {
     "name": "stdout",
     "output_type": "stream",
     "text": [
      "\ttest acc 0.596\n",
      "\ttest acc ood 0.491\n",
      "(33484, 800) (33484,) (898, 800) (898,)\n",
      "label 82 Is the sentence providing an explanation or rationale? (8886, 800) (272, 800)\n"
     ]
    },
    {
     "name": "stderr",
     "output_type": "stream",
     "text": [
      " 97%|█████████▋| 83/86 [1:21:26<01:52, 37.57s/it]"
     ]
    },
    {
     "name": "stdout",
     "output_type": "stream",
     "text": [
      "\ttest acc 0.665\n",
      "\ttest acc ood 0.506\n",
      "(33484, 800) (33484,) (898, 800) (898,)\n",
      "label 83 Is the sentence reflective, involving self-analysis or introspection? (8762, 800) (244, 800)\n"
     ]
    },
    {
     "name": "stderr",
     "output_type": "stream",
     "text": [
      " 98%|█████████▊| 84/86 [1:21:55<01:09, 34.88s/it]"
     ]
    },
    {
     "name": "stdout",
     "output_type": "stream",
     "text": [
      "\ttest acc 0.680\n",
      "\ttest acc ood 0.443\n",
      "(33484, 800) (33484,) (898, 800) (898,)\n",
      "label 84 Is there mention of a city, country, or geographic feature? (4666, 800) (142, 800)\n"
     ]
    },
    {
     "name": "stderr",
     "output_type": "stream",
     "text": [
      " 99%|█████████▉| 85/86 [1:22:32<00:35, 35.60s/it]"
     ]
    },
    {
     "name": "stdout",
     "output_type": "stream",
     "text": [
      "\ttest acc 0.725\n",
      "\ttest acc ood 0.430\n",
      "(33484, 800) (33484,) (898, 800) (898,)\n",
      "label 85 Is time mentioned in the input? (9770, 800) (300, 800)\n"
     ]
    },
    {
     "name": "stderr",
     "output_type": "stream",
     "text": [
      "100%|██████████| 86/86 [1:23:03<00:00, 57.95s/it]\n"
     ]
    },
    {
     "name": "stdout",
     "output_type": "stream",
     "text": [
      "\ttest acc 0.733\n",
      "\ttest acc ood 0.477\n"
     ]
    },
    {
     "name": "stderr",
     "output_type": "stream",
     "text": [
      "  0%|          | 0/86 [00:00<?, ?it/s]"
     ]
    },
    {
     "name": "stdout",
     "output_type": "stream",
     "text": [
      "(31715, 800) (31715,) (898, 800) (898,)\n",
      "label 0 Does the input contain a measurement? (5490, 800) (238, 800)\n"
     ]
    },
    {
     "name": "stderr",
     "output_type": "stream",
     "text": [
      "  1%|          | 1/86 [00:31<45:10, 31.88s/it]"
     ]
    },
    {
     "name": "stdout",
     "output_type": "stream",
     "text": [
      "\ttest acc 0.601\n",
      "\ttest acc ood 0.481\n",
      "(31715, 800) (31715,) (898, 800) (898,)\n",
      "label 1 Does the input contain a number? (7894, 800) (294, 800)\n"
     ]
    },
    {
     "name": "stderr",
     "output_type": "stream",
     "text": [
      "  2%|▏         | 2/86 [01:00<41:50, 29.88s/it]"
     ]
    },
    {
     "name": "stdout",
     "output_type": "stream",
     "text": [
      "\ttest acc 0.643\n",
      "\ttest acc ood 0.474\n",
      "(31715, 800) (31715,) (898, 800) (898,)\n",
      "label 2 Does the input contain a sense of ambiguity? (10322, 800) (274, 800)\n"
     ]
    },
    {
     "name": "stderr",
     "output_type": "stream",
     "text": [
      "  3%|▎         | 3/86 [01:27<39:26, 28.51s/it]"
     ]
    },
    {
     "name": "stdout",
     "output_type": "stream",
     "text": [
      "\ttest acc 0.606\n",
      "\ttest acc ood 0.507\n",
      "(31715, 800) (31715,) (898, 800) (898,)\n",
      "label 3 Does the input describe a specific texture or sensation? (2208, 800) (54, 800)\n"
     ]
    },
    {
     "name": "stderr",
     "output_type": "stream",
     "text": [
      "/home/chansingh/.env/lib/python3.11/site-packages/sklearn/linear_model/_logistic.py:469: ConvergenceWarning: lbfgs failed to converge (status=1):\n",
      "STOP: TOTAL NO. of ITERATIONS REACHED LIMIT.\n",
      "\n",
      "Increase the number of iterations (max_iter) or scale the data as shown in:\n",
      "    https://scikit-learn.org/stable/modules/preprocessing.html\n",
      "Please also refer to the documentation for alternative solver options:\n",
      "    https://scikit-learn.org/stable/modules/linear_model.html#logistic-regression\n",
      "  n_iter_i = _check_optimize_result(\n",
      "/home/chansingh/.env/lib/python3.11/site-packages/sklearn/linear_model/_logistic.py:469: ConvergenceWarning: lbfgs failed to converge (status=1):\n",
      "STOP: TOTAL NO. of ITERATIONS REACHED LIMIT.\n",
      "\n",
      "Increase the number of iterations (max_iter) or scale the data as shown in:\n",
      "    https://scikit-learn.org/stable/modules/preprocessing.html\n",
      "Please also refer to the documentation for alternative solver options:\n",
      "    https://scikit-learn.org/stable/modules/linear_model.html#logistic-regression\n",
      "  n_iter_i = _check_optimize_result(\n",
      "/home/chansingh/.env/lib/python3.11/site-packages/sklearn/linear_model/_logistic.py:469: ConvergenceWarning: lbfgs failed to converge (status=1):\n",
      "STOP: TOTAL NO. of ITERATIONS REACHED LIMIT.\n",
      "\n",
      "Increase the number of iterations (max_iter) or scale the data as shown in:\n",
      "    https://scikit-learn.org/stable/modules/preprocessing.html\n",
      "Please also refer to the documentation for alternative solver options:\n",
      "    https://scikit-learn.org/stable/modules/linear_model.html#logistic-regression\n",
      "  n_iter_i = _check_optimize_result(\n",
      "/home/chansingh/.env/lib/python3.11/site-packages/sklearn/linear_model/_logistic.py:469: ConvergenceWarning: lbfgs failed to converge (status=1):\n",
      "STOP: TOTAL NO. of ITERATIONS REACHED LIMIT.\n",
      "\n",
      "Increase the number of iterations (max_iter) or scale the data as shown in:\n",
      "    https://scikit-learn.org/stable/modules/preprocessing.html\n",
      "Please also refer to the documentation for alternative solver options:\n",
      "    https://scikit-learn.org/stable/modules/linear_model.html#logistic-regression\n",
      "  n_iter_i = _check_optimize_result(\n",
      "  5%|▍         | 4/86 [03:02<1:14:42, 54.67s/it]"
     ]
    },
    {
     "name": "stdout",
     "output_type": "stream",
     "text": [
      "\ttest acc 0.778\n",
      "\ttest acc ood 0.463\n",
      "(31715, 800) (31715,) (898, 800) (898,)\n",
      "label 4 Does the input discuss a societal issue or social justice topic? (4186, 800) (46, 800)\n"
     ]
    },
    {
     "name": "stderr",
     "output_type": "stream",
     "text": [
      "  6%|▌         | 5/86 [03:47<1:09:25, 51.42s/it]"
     ]
    },
    {
     "name": "stdout",
     "output_type": "stream",
     "text": [
      "\ttest acc 0.565\n",
      "\ttest acc ood 0.543\n",
      "(31715, 800) (31715,) (898, 800) (898,)\n",
      "label 5 Does the input include a comparison or metaphor? (5608, 800) (142, 800)\n"
     ]
    },
    {
     "name": "stderr",
     "output_type": "stream",
     "text": [
      "  7%|▋         | 6/86 [04:12<56:36, 42.46s/it]  "
     ]
    },
    {
     "name": "stdout",
     "output_type": "stream",
     "text": [
      "\ttest acc 0.570\n",
      "\ttest acc ood 0.535\n",
      "(31715, 800) (31715,) (898, 800) (898,)\n",
      "label 6 Does the input involve planning or organizing? (6502, 800) (212, 800)\n"
     ]
    },
    {
     "name": "stderr",
     "output_type": "stream",
     "text": [
      "  8%|▊         | 7/86 [04:57<56:50, 43.17s/it]"
     ]
    },
    {
     "name": "stdout",
     "output_type": "stream",
     "text": [
      "\ttest acc 0.651\n",
      "\ttest acc ood 0.465\n",
      "(31715, 800) (31715,) (898, 800) (898,)\n",
      "label 7 Does the input mention a number greater than 100? (1760, 800) (72, 800)\n"
     ]
    },
    {
     "name": "stderr",
     "output_type": "stream",
     "text": [
      "  9%|▉         | 8/86 [06:11<1:08:55, 53.01s/it]"
     ]
    },
    {
     "name": "stdout",
     "output_type": "stream",
     "text": [
      "\ttest acc 0.556\n",
      "\ttest acc ood 0.597\n",
      "(31715, 800) (31715,) (898, 800) (898,)\n",
      "label 8 Does the input mention a number less than 5? (6372, 800) (210, 800)\n"
     ]
    },
    {
     "name": "stderr",
     "output_type": "stream",
     "text": [
      " 10%|█         | 9/86 [06:49<1:01:55, 48.25s/it]"
     ]
    },
    {
     "name": "stdout",
     "output_type": "stream",
     "text": [
      "\ttest acc 0.586\n",
      "\ttest acc ood 0.498\n",
      "(31715, 800) (31715,) (898, 800) (898,)\n",
      "label 9 Does the input mention anything related to age? (4014, 800) (148, 800)\n"
     ]
    },
    {
     "name": "stderr",
     "output_type": "stream",
     "text": [
      " 12%|█▏        | 10/86 [07:24<56:00, 44.22s/it] "
     ]
    },
    {
     "name": "stdout",
     "output_type": "stream",
     "text": [
      "\ttest acc 0.608\n",
      "\ttest acc ood 0.497\n",
      "(31715, 800) (31715,) (898, 800) (898,)\n",
      "label 10 Does the input mention anything related to an action? (10362, 800) (274, 800)\n"
     ]
    },
    {
     "name": "stderr",
     "output_type": "stream",
     "text": [
      " 13%|█▎        | 11/86 [07:44<46:07, 36.89s/it]"
     ]
    },
    {
     "name": "stdout",
     "output_type": "stream",
     "text": [
      "\ttest acc 0.639\n",
      "\ttest acc ood 0.471\n",
      "(31715, 800) (31715,) (898, 800) (898,)\n",
      "label 11 Does the input mention anything related to anger? (1674, 800) (32, 800)\n"
     ]
    },
    {
     "name": "stderr",
     "output_type": "stream",
     "text": [
      " 15%|█▌        | 13/86 [08:41<36:32, 30.03s/it]"
     ]
    },
    {
     "name": "stdout",
     "output_type": "stream",
     "text": [
      "\ttest acc 0.719\n",
      "\ttest acc ood 0.656\n",
      "(31715, 800) (31715,) (898, 800) (898,)\n",
      "too few positive labels 12\n",
      "(31715, 800) (31715,) (898, 800) (898,)\n",
      "label 13 Does the input mention anything related to arithmetic? (1970, 800) (74, 800)\n"
     ]
    },
    {
     "name": "stderr",
     "output_type": "stream",
     "text": [
      "/home/chansingh/.env/lib/python3.11/site-packages/sklearn/linear_model/_logistic.py:469: ConvergenceWarning: lbfgs failed to converge (status=1):\n",
      "STOP: TOTAL NO. of ITERATIONS REACHED LIMIT.\n",
      "\n",
      "Increase the number of iterations (max_iter) or scale the data as shown in:\n",
      "    https://scikit-learn.org/stable/modules/preprocessing.html\n",
      "Please also refer to the documentation for alternative solver options:\n",
      "    https://scikit-learn.org/stable/modules/linear_model.html#logistic-regression\n",
      "  n_iter_i = _check_optimize_result(\n",
      " 16%|█▋        | 14/86 [09:45<48:02, 40.03s/it]"
     ]
    },
    {
     "name": "stdout",
     "output_type": "stream",
     "text": [
      "\ttest acc 0.662\n",
      "\ttest acc ood 0.588\n",
      "(31715, 800) (31715,) (898, 800) (898,)\n",
      "label 14 Does the input mention anything related to calculation? (1710, 800) (90, 800)\n"
     ]
    },
    {
     "name": "stderr",
     "output_type": "stream",
     "text": [
      " 17%|█▋        | 15/86 [10:27<48:07, 40.67s/it]"
     ]
    },
    {
     "name": "stdout",
     "output_type": "stream",
     "text": [
      "\ttest acc 0.467\n",
      "\ttest acc ood 0.556\n",
      "(31715, 800) (31715,) (898, 800) (898,)\n",
      "label 15 Does the input mention anything related to children? (4152, 800) (112, 800)\n"
     ]
    },
    {
     "name": "stderr",
     "output_type": "stream",
     "text": [
      " 19%|█▊        | 16/86 [11:05<46:45, 40.08s/it]"
     ]
    },
    {
     "name": "stdout",
     "output_type": "stream",
     "text": [
      "\ttest acc 0.643\n",
      "\ttest acc ood 0.527\n",
      "(31715, 800) (31715,) (898, 800) (898,)\n",
      "label 16 Does the input mention anything related to color? (2150, 800) (36, 800)\n"
     ]
    },
    {
     "name": "stderr",
     "output_type": "stream",
     "text": [
      "/home/chansingh/.env/lib/python3.11/site-packages/sklearn/linear_model/_logistic.py:469: ConvergenceWarning: lbfgs failed to converge (status=1):\n",
      "STOP: TOTAL NO. of ITERATIONS REACHED LIMIT.\n",
      "\n",
      "Increase the number of iterations (max_iter) or scale the data as shown in:\n",
      "    https://scikit-learn.org/stable/modules/preprocessing.html\n",
      "Please also refer to the documentation for alternative solver options:\n",
      "    https://scikit-learn.org/stable/modules/linear_model.html#logistic-regression\n",
      "  n_iter_i = _check_optimize_result(\n",
      "/home/chansingh/.env/lib/python3.11/site-packages/sklearn/linear_model/_logistic.py:469: ConvergenceWarning: lbfgs failed to converge (status=1):\n",
      "STOP: TOTAL NO. of ITERATIONS REACHED LIMIT.\n",
      "\n",
      "Increase the number of iterations (max_iter) or scale the data as shown in:\n",
      "    https://scikit-learn.org/stable/modules/preprocessing.html\n",
      "Please also refer to the documentation for alternative solver options:\n",
      "    https://scikit-learn.org/stable/modules/linear_model.html#logistic-regression\n",
      "  n_iter_i = _check_optimize_result(\n",
      "/home/chansingh/.env/lib/python3.11/site-packages/sklearn/linear_model/_logistic.py:469: ConvergenceWarning: lbfgs failed to converge (status=1):\n",
      "STOP: TOTAL NO. of ITERATIONS REACHED LIMIT.\n",
      "\n",
      "Increase the number of iterations (max_iter) or scale the data as shown in:\n",
      "    https://scikit-learn.org/stable/modules/preprocessing.html\n",
      "Please also refer to the documentation for alternative solver options:\n",
      "    https://scikit-learn.org/stable/modules/linear_model.html#logistic-regression\n",
      "  n_iter_i = _check_optimize_result(\n",
      "/home/chansingh/.env/lib/python3.11/site-packages/sklearn/linear_model/_logistic.py:469: ConvergenceWarning: lbfgs failed to converge (status=1):\n",
      "STOP: TOTAL NO. of ITERATIONS REACHED LIMIT.\n",
      "\n",
      "Increase the number of iterations (max_iter) or scale the data as shown in:\n",
      "    https://scikit-learn.org/stable/modules/preprocessing.html\n",
      "Please also refer to the documentation for alternative solver options:\n",
      "    https://scikit-learn.org/stable/modules/linear_model.html#logistic-regression\n",
      "  n_iter_i = _check_optimize_result(\n",
      "/home/chansingh/.env/lib/python3.11/site-packages/sklearn/linear_model/_logistic.py:469: ConvergenceWarning: lbfgs failed to converge (status=1):\n",
      "STOP: TOTAL NO. of ITERATIONS REACHED LIMIT.\n",
      "\n",
      "Increase the number of iterations (max_iter) or scale the data as shown in:\n",
      "    https://scikit-learn.org/stable/modules/preprocessing.html\n",
      "Please also refer to the documentation for alternative solver options:\n",
      "    https://scikit-learn.org/stable/modules/linear_model.html#logistic-regression\n",
      "  n_iter_i = _check_optimize_result(\n",
      " 20%|█▉        | 17/86 [13:08<1:14:46, 65.03s/it]"
     ]
    },
    {
     "name": "stdout",
     "output_type": "stream",
     "text": [
      "\ttest acc 0.611\n",
      "\ttest acc ood 0.542\n",
      "(31715, 800) (31715,) (898, 800) (898,)\n",
      "label 17 Does the input mention anything related to conflict? (7442, 800) (130, 800)\n"
     ]
    },
    {
     "name": "stderr",
     "output_type": "stream",
     "text": [
      " 22%|██▏       | 19/86 [13:35<41:49, 37.45s/it]  "
     ]
    },
    {
     "name": "stdout",
     "output_type": "stream",
     "text": [
      "\ttest acc 0.562\n",
      "\ttest acc ood 0.500\n",
      "(31715, 800) (31715,) (898, 800) (898,)\n",
      "The target 'y' needs to have more than 1 class. Got 1 class instead\n",
      "error for 18\n",
      "(31715, 800) (31715,) (898, 800) (898,)\n",
      "too few positive labels 19\n",
      "(31715, 800) (31715,) (898, 800) (898,)\n",
      "label 20 Does the input mention anything related to disgust? (1482, 800) (46, 800)\n"
     ]
    },
    {
     "name": "stderr",
     "output_type": "stream",
     "text": [
      " 24%|██▍       | 21/86 [14:22<33:30, 30.94s/it]"
     ]
    },
    {
     "name": "stdout",
     "output_type": "stream",
     "text": [
      "\ttest acc 0.522\n",
      "\ttest acc ood 0.446\n",
      "(31715, 800) (31715,) (898, 800) (898,)\n",
      "label 21 Does the input mention anything related to empathy? (3346, 800) (74, 800)\n"
     ]
    },
    {
     "name": "stderr",
     "output_type": "stream",
     "text": [
      " 26%|██▌       | 22/86 [14:59<34:37, 32.46s/it]"
     ]
    },
    {
     "name": "stdout",
     "output_type": "stream",
     "text": [
      "\ttest acc 0.608\n",
      "\ttest acc ood 0.507\n",
      "(31715, 800) (31715,) (898, 800) (898,)\n",
      "label 22 Does the input mention anything related to eyes? (2562, 800) (96, 800)\n"
     ]
    },
    {
     "name": "stderr",
     "output_type": "stream",
     "text": [
      " 27%|██▋       | 23/86 [15:50<39:15, 37.39s/it]"
     ]
    },
    {
     "name": "stdout",
     "output_type": "stream",
     "text": [
      "\ttest acc 0.604\n",
      "\ttest acc ood 0.521\n",
      "(31715, 800) (31715,) (898, 800) (898,)\n",
      "label 23 Does the input mention anything related to food? (3408, 800) (50, 800)\n"
     ]
    },
    {
     "name": "stderr",
     "output_type": "stream",
     "text": [
      " 28%|██▊       | 24/86 [16:30<39:13, 37.96s/it]"
     ]
    },
    {
     "name": "stdout",
     "output_type": "stream",
     "text": [
      "\ttest acc 0.780\n",
      "\ttest acc ood 0.380\n",
      "(31715, 800) (31715,) (898, 800) (898,)\n",
      "label 24 Does the input mention anything related to gender? (9538, 800) (260, 800)\n"
     ]
    },
    {
     "name": "stderr",
     "output_type": "stream",
     "text": [
      " 29%|██▉       | 25/86 [16:55<35:06, 34.54s/it]"
     ]
    },
    {
     "name": "stdout",
     "output_type": "stream",
     "text": [
      "\ttest acc 0.604\n",
      "\ttest acc ood 0.479\n",
      "(31715, 800) (31715,) (898, 800) (898,)\n",
      "label 25 Does the input mention anything related to knowledge? (5920, 800) (144, 800)\n"
     ]
    },
    {
     "name": "stderr",
     "output_type": "stream",
     "text": [
      " 30%|███       | 26/86 [17:24<32:54, 32.91s/it]"
     ]
    },
    {
     "name": "stdout",
     "output_type": "stream",
     "text": [
      "\ttest acc 0.639\n",
      "\ttest acc ood 0.507\n",
      "(31715, 800) (31715,) (898, 800) (898,)\n",
      "label 26 Does the input mention anything related to motor movements? (8890, 800) (250, 800)\n"
     ]
    },
    {
     "name": "stderr",
     "output_type": "stream",
     "text": [
      " 31%|███▏      | 27/86 [17:44<28:43, 29.21s/it]"
     ]
    },
    {
     "name": "stdout",
     "output_type": "stream",
     "text": [
      "\ttest acc 0.656\n",
      "\ttest acc ood 0.526\n",
      "(31715, 800) (31715,) (898, 800) (898,)\n",
      "label 27 Does the input mention anything related to navigation? (4338, 800) (190, 800)\n"
     ]
    },
    {
     "name": "stderr",
     "output_type": "stream",
     "text": [
      " 33%|███▎      | 28/86 [18:11<27:37, 28.57s/it]"
     ]
    },
    {
     "name": "stdout",
     "output_type": "stream",
     "text": [
      "\ttest acc 0.584\n",
      "\ttest acc ood 0.511\n",
      "(31715, 800) (31715,) (898, 800) (898,)\n",
      "too few positive labels 28\n",
      "(31715, 800) (31715,) (898, 800) (898,)\n",
      "label 29 Does the input mention or describe a sound? (3938, 800) (110, 800)\n"
     ]
    },
    {
     "name": "stderr",
     "output_type": "stream",
     "text": [
      " 35%|███▍      | 30/86 [18:44<21:27, 22.98s/it]"
     ]
    },
    {
     "name": "stdout",
     "output_type": "stream",
     "text": [
      "\ttest acc 0.609\n",
      "\ttest acc ood 0.541\n",
      "(31715, 800) (31715,) (898, 800) (898,)\n",
      "too few positive labels 30\n",
      "(31715, 800) (31715,) (898, 800) (898,)\n",
      "label 31 Does the input mention or describe a texture? (1412, 800) (30, 800)\n"
     ]
    },
    {
     "name": "stderr",
     "output_type": "stream",
     "text": [
      " 37%|███▋      | 32/86 [19:18<18:31, 20.58s/it]"
     ]
    },
    {
     "name": "stdout",
     "output_type": "stream",
     "text": [
      "\ttest acc 0.633\n",
      "\ttest acc ood 0.467\n",
      "(31715, 800) (31715,) (898, 800) (898,)\n",
      "label 32 Does the input mention or describe a visual experience? (10036, 800) (346, 800)\n"
     ]
    },
    {
     "name": "stderr",
     "output_type": "stream",
     "text": [
      " 38%|███▊      | 33/86 [19:48<20:07, 22.78s/it]"
     ]
    },
    {
     "name": "stdout",
     "output_type": "stream",
     "text": [
      "\ttest acc 0.697\n",
      "\ttest acc ood 0.480\n",
      "(31715, 800) (31715,) (898, 800) (898,)\n",
      "label 33 Does the input mention or describe high emotional intensity? (7778, 800) (212, 800)\n"
     ]
    },
    {
     "name": "stderr",
     "output_type": "stream",
     "text": [
      " 40%|███▉      | 34/86 [20:18<21:11, 24.46s/it]"
     ]
    },
    {
     "name": "stdout",
     "output_type": "stream",
     "text": [
      "\ttest acc 0.594\n",
      "\ttest acc ood 0.462\n",
      "(31715, 800) (31715,) (898, 800) (898,)\n",
      "label 34 Does the input mention or describe highly negative emotional valence? (5382, 800) (116, 800)\n"
     ]
    },
    {
     "name": "stderr",
     "output_type": "stream",
     "text": [
      " 41%|████      | 35/86 [20:49<22:13, 26.16s/it]"
     ]
    },
    {
     "name": "stdout",
     "output_type": "stream",
     "text": [
      "\ttest acc 0.629\n",
      "\ttest acc ood 0.491\n",
      "(31715, 800) (31715,) (898, 800) (898,)\n",
      "label 35 Does the input mention or describe highly positive emotional valence? (5326, 800) (186, 800)\n"
     ]
    },
    {
     "name": "stderr",
     "output_type": "stream",
     "text": [
      " 42%|████▏     | 36/86 [21:27<24:23, 29.27s/it]"
     ]
    },
    {
     "name": "stdout",
     "output_type": "stream",
     "text": [
      "\ttest acc 0.634\n",
      "\ttest acc ood 0.449\n",
      "(31715, 800) (31715,) (898, 800) (898,)\n",
      "label 36 Does the sentence contain a cultural reference? (7840, 800) (184, 800)\n"
     ]
    },
    {
     "name": "stderr",
     "output_type": "stream",
     "text": [
      " 43%|████▎     | 37/86 [21:56<23:53, 29.25s/it]"
     ]
    },
    {
     "name": "stdout",
     "output_type": "stream",
     "text": [
      "\ttest acc 0.582\n",
      "\ttest acc ood 0.435\n",
      "(31715, 800) (31715,) (898, 800) (898,)\n",
      "label 37 Does the sentence contain a negation? (9930, 800) (272, 800)\n"
     ]
    },
    {
     "name": "stderr",
     "output_type": "stream",
     "text": [
      " 44%|████▍     | 38/86 [22:24<23:04, 28.85s/it]"
     ]
    },
    {
     "name": "stdout",
     "output_type": "stream",
     "text": [
      "\ttest acc 0.673\n",
      "\ttest acc ood 0.471\n",
      "(31715, 800) (31715,) (898, 800) (898,)\n",
      "label 38 Does the sentence contain a proper noun? (9214, 800) (248, 800)\n"
     ]
    },
    {
     "name": "stderr",
     "output_type": "stream",
     "text": [
      " 45%|████▌     | 39/86 [22:40<19:35, 25.01s/it]"
     ]
    },
    {
     "name": "stdout",
     "output_type": "stream",
     "text": [
      "\ttest acc 0.669\n",
      "\ttest acc ood 0.516\n",
      "(31715, 800) (31715,) (898, 800) (898,)\n",
      "label 39 Does the sentence convey a decision or choice made by the narrator? (8262, 800) (288, 800)\n"
     ]
    },
    {
     "name": "stderr",
     "output_type": "stream",
     "text": [
      " 47%|████▋     | 40/86 [23:06<19:22, 25.28s/it]"
     ]
    },
    {
     "name": "stdout",
     "output_type": "stream",
     "text": [
      "\ttest acc 0.618\n",
      "\ttest acc ood 0.512\n",
      "(31715, 800) (31715,) (898, 800) (898,)\n",
      "label 40 Does the sentence convey a sense of urgency or haste? (5848, 800) (196, 800)\n"
     ]
    },
    {
     "name": "stderr",
     "output_type": "stream",
     "text": [
      " 48%|████▊     | 41/86 [23:36<20:07, 26.83s/it]"
     ]
    },
    {
     "name": "stdout",
     "output_type": "stream",
     "text": [
      "\ttest acc 0.536\n",
      "\ttest acc ood 0.505\n",
      "(31715, 800) (31715,) (898, 800) (898,)\n",
      "label 41 Does the sentence describe a change in a physical or emotional state? (11102, 800) (306, 800)\n"
     ]
    },
    {
     "name": "stderr",
     "output_type": "stream",
     "text": [
      " 49%|████▉     | 42/86 [24:04<19:48, 27.00s/it]"
     ]
    },
    {
     "name": "stdout",
     "output_type": "stream",
     "text": [
      "\ttest acc 0.637\n",
      "\ttest acc ood 0.497\n",
      "(31715, 800) (31715,) (898, 800) (898,)\n",
      "label 42 Does the sentence describe a moment of relief or resolution of tension? (5022, 800) (212, 800)\n"
     ]
    },
    {
     "name": "stderr",
     "output_type": "stream",
     "text": [
      " 50%|█████     | 43/86 [24:34<20:04, 28.01s/it]"
     ]
    },
    {
     "name": "stdout",
     "output_type": "stream",
     "text": [
      "\ttest acc 0.599\n",
      "\ttest acc ood 0.458\n",
      "(31715, 800) (31715,) (898, 800) (898,)\n",
      "label 43 Does the sentence describe a personal or social interaction that leads to a change or revelation? (8476, 800) (234, 800)\n"
     ]
    },
    {
     "name": "stderr",
     "output_type": "stream",
     "text": [
      " 51%|█████     | 44/86 [24:44<15:47, 22.56s/it]"
     ]
    },
    {
     "name": "stdout",
     "output_type": "stream",
     "text": [
      "\ttest acc 0.675\n",
      "\ttest acc ood 0.476\n",
      "(31715, 800) (31715,) (898, 800) (898,)\n",
      "label 44 Does the sentence describe a personal reflection or thought? (11302, 800) (294, 800)\n"
     ]
    },
    {
     "name": "stderr",
     "output_type": "stream",
     "text": [
      " 52%|█████▏    | 45/86 [24:59<13:57, 20.43s/it]"
     ]
    },
    {
     "name": "stdout",
     "output_type": "stream",
     "text": [
      "\ttest acc 0.663\n",
      "\ttest acc ood 0.497\n",
      "(31715, 800) (31715,) (898, 800) (898,)\n",
      "label 45 Does the sentence describe a physical action? (10210, 800) (366, 800)\n"
     ]
    },
    {
     "name": "stderr",
     "output_type": "stream",
     "text": [
      " 53%|█████▎    | 46/86 [25:04<10:31, 15.78s/it]"
     ]
    },
    {
     "name": "stdout",
     "output_type": "stream",
     "text": [
      "\ttest acc 0.694\n",
      "\ttest acc ood 0.474\n",
      "(31715, 800) (31715,) (898, 800) (898,)\n",
      "label 46 Does the sentence describe a physical sensation? (4642, 800) (130, 800)\n"
     ]
    },
    {
     "name": "stderr",
     "output_type": "stream",
     "text": [
      " 55%|█████▍    | 47/86 [25:06<07:32, 11.60s/it]"
     ]
    },
    {
     "name": "stdout",
     "output_type": "stream",
     "text": [
      "\ttest acc 0.669\n",
      "\ttest acc ood 0.492\n",
      "(31715, 800) (31715,) (898, 800) (898,)\n",
      "label 47 Does the sentence describe a relationship between people? (11340, 800) (292, 800)\n"
     ]
    },
    {
     "name": "stderr",
     "output_type": "stream",
     "text": [
      " 56%|█████▌    | 48/86 [25:07<05:23,  8.51s/it]"
     ]
    },
    {
     "name": "stdout",
     "output_type": "stream",
     "text": [
      "\ttest acc 0.668\n",
      "\ttest acc ood 0.474\n",
      "(31715, 800) (31715,) (898, 800) (898,)\n",
      "label 48 Does the sentence describe a sensory experience? (10244, 800) (350, 800)\n"
     ]
    },
    {
     "name": "stderr",
     "output_type": "stream",
     "text": [
      " 57%|█████▋    | 49/86 [25:09<03:56,  6.39s/it]"
     ]
    },
    {
     "name": "stdout",
     "output_type": "stream",
     "text": [
      "\ttest acc 0.657\n",
      "\ttest acc ood 0.511\n",
      "(31715, 800) (31715,) (898, 800) (898,)\n",
      "label 49 Does the sentence describe a specific sensation or feeling? (8560, 800) (244, 800)\n"
     ]
    },
    {
     "name": "stderr",
     "output_type": "stream",
     "text": [
      " 58%|█████▊    | 50/86 [25:17<04:10,  6.97s/it]"
     ]
    },
    {
     "name": "stdout",
     "output_type": "stream",
     "text": [
      "\ttest acc 0.615\n",
      "\ttest acc ood 0.508\n",
      "(31715, 800) (31715,) (898, 800) (898,)\n",
      "label 50 Does the sentence describe a visual experience or scene? (9442, 800) (348, 800)\n"
     ]
    },
    {
     "name": "stderr",
     "output_type": "stream",
     "text": [
      " 59%|█████▉    | 51/86 [25:22<03:41,  6.34s/it]"
     ]
    },
    {
     "name": "stdout",
     "output_type": "stream",
     "text": [
      "\ttest acc 0.710\n",
      "\ttest acc ood 0.513\n",
      "(31715, 800) (31715,) (898, 800) (898,)\n",
      "label 51 Does the sentence describe an activity related to daily life or routine? (8682, 800) (270, 800)\n"
     ]
    },
    {
     "name": "stderr",
     "output_type": "stream",
     "text": [
      " 60%|██████    | 52/86 [25:23<02:42,  4.78s/it]"
     ]
    },
    {
     "name": "stdout",
     "output_type": "stream",
     "text": [
      "\ttest acc 0.626\n",
      "\ttest acc ood 0.515\n",
      "(31715, 800) (31715,) (898, 800) (898,)\n",
      "label 52 Does the sentence express a philosophical or existential query or observation? (3040, 800) (46, 800)\n"
     ]
    },
    {
     "name": "stderr",
     "output_type": "stream",
     "text": [
      " 62%|██████▏   | 53/86 [25:25<02:13,  4.04s/it]"
     ]
    },
    {
     "name": "stdout",
     "output_type": "stream",
     "text": [
      "\ttest acc 0.565\n",
      "\ttest acc ood 0.543\n",
      "(31715, 800) (31715,) (898, 800) (898,)\n",
      "label 53 Does the sentence express a sense of belonging or connection to a place or community? (4694, 800) (150, 800)\n"
     ]
    },
    {
     "name": "stderr",
     "output_type": "stream",
     "text": [
      " 63%|██████▎   | 54/86 [25:26<01:37,  3.04s/it]"
     ]
    },
    {
     "name": "stdout",
     "output_type": "stream",
     "text": [
      "\ttest acc 0.620\n",
      "\ttest acc ood 0.513\n",
      "(31715, 800) (31715,) (898, 800) (898,)\n",
      "label 54 Does the sentence express the narrator's opinion or judgment about an event or character? (10232, 800) (292, 800)\n"
     ]
    },
    {
     "name": "stderr",
     "output_type": "stream",
     "text": [
      " 64%|██████▍   | 55/86 [25:27<01:14,  2.40s/it]"
     ]
    },
    {
     "name": "stdout",
     "output_type": "stream",
     "text": [
      "\ttest acc 0.637\n",
      "\ttest acc ood 0.498\n",
      "(31715, 800) (31715,) (898, 800) (898,)\n",
      "label 55 Does the sentence include a conditional clause? (3842, 800) (126, 800)\n"
     ]
    },
    {
     "name": "stderr",
     "output_type": "stream",
     "text": [
      " 65%|██████▌   | 56/86 [25:27<00:55,  1.84s/it]"
     ]
    },
    {
     "name": "stdout",
     "output_type": "stream",
     "text": [
      "\ttest acc 0.579\n",
      "\ttest acc ood 0.563\n",
      "(31715, 800) (31715,) (898, 800) (898,)\n",
      "label 56 Does the sentence include a direct speech quotation? (3740, 800) (124, 800)\n"
     ]
    },
    {
     "name": "stderr",
     "output_type": "stream",
     "text": [
      " 66%|██████▋   | 57/86 [25:28<00:42,  1.47s/it]"
     ]
    },
    {
     "name": "stdout",
     "output_type": "stream",
     "text": [
      "\ttest acc 0.766\n",
      "\ttest acc ood 0.556\n",
      "(31715, 800) (31715,) (898, 800) (898,)\n",
      "label 57 Does the sentence include a personal anecdote or story? (10684, 800) (328, 800)\n"
     ]
    },
    {
     "name": "stderr",
     "output_type": "stream",
     "text": [
      " 67%|██████▋   | 58/86 [25:29<00:36,  1.31s/it]"
     ]
    },
    {
     "name": "stdout",
     "output_type": "stream",
     "text": [
      "\ttest acc 0.643\n",
      "\ttest acc ood 0.526\n",
      "(31715, 800) (31715,) (898, 800) (898,)\n",
      "label 58 Does the sentence include a specific sound or auditory description? (3538, 800) (124, 800)\n"
     ]
    },
    {
     "name": "stderr",
     "output_type": "stream",
     "text": [
      " 69%|██████▊   | 59/86 [25:29<00:29,  1.08s/it]"
     ]
    },
    {
     "name": "stdout",
     "output_type": "stream",
     "text": [
      "\ttest acc 0.629\n",
      "\ttest acc ood 0.476\n",
      "(31715, 800) (31715,) (898, 800) (898,)\n",
      "label 59 Does the sentence include an account of a miscommunication or misunderstanding? (2836, 800) (70, 800)\n"
     ]
    },
    {
     "name": "stderr",
     "output_type": "stream",
     "text": [
      " 70%|██████▉   | 60/86 [25:30<00:23,  1.09it/s]"
     ]
    },
    {
     "name": "stdout",
     "output_type": "stream",
     "text": [
      "\ttest acc 0.514\n",
      "\ttest acc ood 0.529\n",
      "(31715, 800) (31715,) (898, 800) (898,)\n",
      "label 60 Does the sentence include dialogue? (3648, 800) (128, 800)\n"
     ]
    },
    {
     "name": "stderr",
     "output_type": "stream",
     "text": [
      " 71%|███████   | 61/86 [25:31<00:20,  1.22it/s]"
     ]
    },
    {
     "name": "stdout",
     "output_type": "stream",
     "text": [
      "\ttest acc 0.727\n",
      "\ttest acc ood 0.527\n",
      "(31715, 800) (31715,) (898, 800) (898,)\n",
      "label 61 Does the sentence include technical or specialized terminology? (2890, 800) (98, 800)\n"
     ]
    },
    {
     "name": "stderr",
     "output_type": "stream",
     "text": [
      " 72%|███████▏  | 62/86 [25:31<00:17,  1.36it/s]"
     ]
    },
    {
     "name": "stdout",
     "output_type": "stream",
     "text": [
      "\ttest acc 0.520\n",
      "\ttest acc ood 0.485\n",
      "(31715, 800) (31715,) (898, 800) (898,)\n",
      "label 62 Does the sentence involve a description of physical environment or setting? (8916, 800) (318, 800)\n"
     ]
    },
    {
     "name": "stderr",
     "output_type": "stream",
     "text": [
      " 73%|███████▎  | 63/86 [25:32<00:16,  1.38it/s]"
     ]
    },
    {
     "name": "stdout",
     "output_type": "stream",
     "text": [
      "\ttest acc 0.670\n",
      "\ttest acc ood 0.508\n",
      "(31715, 800) (31715,) (898, 800) (898,)\n",
      "label 63 Does the sentence involve a discussion about personal or social values? (6296, 800) (106, 800)\n"
     ]
    },
    {
     "name": "stderr",
     "output_type": "stream",
     "text": [
      " 74%|███████▍  | 64/86 [25:32<00:14,  1.49it/s]"
     ]
    },
    {
     "name": "stdout",
     "output_type": "stream",
     "text": [
      "\ttest acc 0.651\n",
      "\ttest acc ood 0.481\n",
      "(31715, 800) (31715,) (898, 800) (898,)\n",
      "label 64 Does the sentence involve a recount of a social or community event? (4124, 800) (100, 800)\n"
     ]
    },
    {
     "name": "stderr",
     "output_type": "stream",
     "text": [
      " 76%|███████▌  | 65/86 [25:33<00:12,  1.64it/s]"
     ]
    },
    {
     "name": "stdout",
     "output_type": "stream",
     "text": [
      "\ttest acc 0.590\n",
      "\ttest acc ood 0.480\n",
      "(31715, 800) (31715,) (898, 800) (898,)\n",
      "label 65 Does the sentence involve an expression of personal values or beliefs? (7366, 800) (162, 800)\n"
     ]
    },
    {
     "name": "stderr",
     "output_type": "stream",
     "text": [
      " 77%|███████▋  | 66/86 [25:33<00:11,  1.67it/s]"
     ]
    },
    {
     "name": "stdout",
     "output_type": "stream",
     "text": [
      "\ttest acc 0.691\n",
      "\ttest acc ood 0.472\n",
      "(31715, 800) (31715,) (898, 800) (898,)\n",
      "label 66 Does the sentence involve an unexpected incident or accident? (4350, 800) (148, 800)\n"
     ]
    },
    {
     "name": "stderr",
     "output_type": "stream",
     "text": [
      " 78%|███████▊  | 67/86 [25:34<00:10,  1.78it/s]"
     ]
    },
    {
     "name": "stdout",
     "output_type": "stream",
     "text": [
      "\ttest acc 0.581\n",
      "\ttest acc ood 0.476\n",
      "(31715, 800) (31715,) (898, 800) (898,)\n",
      "label 67 Does the sentence involve spatial reasoning? (9198, 800) (320, 800)\n"
     ]
    },
    {
     "name": "stderr",
     "output_type": "stream",
     "text": [
      " 79%|███████▉  | 68/86 [25:35<00:11,  1.63it/s]"
     ]
    },
    {
     "name": "stdout",
     "output_type": "stream",
     "text": [
      "\ttest acc 0.713\n",
      "\ttest acc ood 0.520\n",
      "(31715, 800) (31715,) (898, 800) (898,)\n",
      "label 68 Does the sentence involve the mention of a specific object or item? (10758, 800) (376, 800)\n"
     ]
    },
    {
     "name": "stderr",
     "output_type": "stream",
     "text": [
      " 80%|████████  | 69/86 [25:35<00:10,  1.57it/s]"
     ]
    },
    {
     "name": "stdout",
     "output_type": "stream",
     "text": [
      "\ttest acc 0.662\n",
      "\ttest acc ood 0.493\n",
      "(31715, 800) (31715,) (898, 800) (898,)\n",
      "label 69 Does the sentence mention a specific location? (6742, 800) (238, 800)\n"
     ]
    },
    {
     "name": "stderr",
     "output_type": "stream",
     "text": [
      " 81%|████████▏ | 70/86 [25:36<00:09,  1.61it/s]"
     ]
    },
    {
     "name": "stdout",
     "output_type": "stream",
     "text": [
      "\ttest acc 0.639\n",
      "\ttest acc ood 0.479\n",
      "(31715, 800) (31715,) (898, 800) (898,)\n",
      "label 70 Does the sentence reference a specific time or date? (4374, 800) (140, 800)\n"
     ]
    },
    {
     "name": "stderr",
     "output_type": "stream",
     "text": [
      " 83%|████████▎ | 71/86 [25:36<00:08,  1.71it/s]"
     ]
    },
    {
     "name": "stdout",
     "output_type": "stream",
     "text": [
      "\ttest acc 0.679\n",
      "\ttest acc ood 0.511\n",
      "(31715, 800) (31715,) (898, 800) (898,)\n",
      "label 71 Does the sentence use a unique or unusual word? (3946, 800) (82, 800)\n"
     ]
    },
    {
     "name": "stderr",
     "output_type": "stream",
     "text": [
      " 84%|████████▎ | 72/86 [25:37<00:07,  1.77it/s]"
     ]
    },
    {
     "name": "stdout",
     "output_type": "stream",
     "text": [
      "\ttest acc 0.549\n",
      "\ttest acc ood 0.518\n",
      "(31715, 800) (31715,) (898, 800) (898,)\n",
      "label 72 Does the story involve a personal project or creation? (6718, 800) (196, 800)\n"
     ]
    },
    {
     "name": "stderr",
     "output_type": "stream",
     "text": [
      " 85%|████████▍ | 73/86 [25:37<00:07,  1.78it/s]"
     ]
    },
    {
     "name": "stdout",
     "output_type": "stream",
     "text": [
      "\ttest acc 0.597\n",
      "\ttest acc ood 0.464\n",
      "(31715, 800) (31715,) (898, 800) (898,)\n",
      "label 73 Does the text describe a journey? (6568, 800) (262, 800)\n"
     ]
    },
    {
     "name": "stderr",
     "output_type": "stream",
     "text": [
      " 86%|████████▌ | 74/86 [25:38<00:06,  1.75it/s]"
     ]
    },
    {
     "name": "stdout",
     "output_type": "stream",
     "text": [
      "\ttest acc 0.607\n",
      "\ttest acc ood 0.496\n",
      "(31715, 800) (31715,) (898, 800) (898,)\n",
      "label 74 Does the text describe a mode of communication? (8880, 800) (248, 800)\n"
     ]
    },
    {
     "name": "stderr",
     "output_type": "stream",
     "text": [
      " 87%|████████▋ | 75/86 [25:39<00:07,  1.52it/s]"
     ]
    },
    {
     "name": "stdout",
     "output_type": "stream",
     "text": [
      "\ttest acc 0.718\n",
      "\ttest acc ood 0.492\n",
      "(31715, 800) (31715,) (898, 800) (898,)\n",
      "label 75 Does the text include a planning or decision-making process? (5440, 800) (206, 800)\n"
     ]
    },
    {
     "name": "stderr",
     "output_type": "stream",
     "text": [
      " 88%|████████▊ | 76/86 [25:40<00:06,  1.56it/s]"
     ]
    },
    {
     "name": "stdout",
     "output_type": "stream",
     "text": [
      "\ttest acc 0.621\n",
      "\ttest acc ood 0.471\n",
      "(31715, 800) (31715,) (898, 800) (898,)\n",
      "label 76 Does the text include a reference to a past era or time period? (8888, 800) (196, 800)\n"
     ]
    },
    {
     "name": "stderr",
     "output_type": "stream",
     "text": [
      " 90%|████████▉ | 77/86 [25:40<00:06,  1.49it/s]"
     ]
    },
    {
     "name": "stdout",
     "output_type": "stream",
     "text": [
      "\ttest acc 0.663\n",
      "\ttest acc ood 0.477\n",
      "(31715, 800) (31715,) (898, 800) (898,)\n",
      "label 77 Is the input about a discovery or realization? (10292, 800) (306, 800)\n"
     ]
    },
    {
     "name": "stderr",
     "output_type": "stream",
     "text": [
      " 91%|█████████ | 78/86 [25:41<00:05,  1.45it/s]"
     ]
    },
    {
     "name": "stdout",
     "output_type": "stream",
     "text": [
      "\ttest acc 0.614\n",
      "\ttest acc ood 0.448\n",
      "(31715, 800) (31715,) (898, 800) (898,)\n",
      "label 78 Is the input related to a specific industry or profession? (7894, 800) (254, 800)\n"
     ]
    },
    {
     "name": "stderr",
     "output_type": "stream",
     "text": [
      " 92%|█████████▏| 79/86 [25:42<00:04,  1.49it/s]"
     ]
    },
    {
     "name": "stdout",
     "output_type": "stream",
     "text": [
      "\ttest acc 0.646\n",
      "\ttest acc ood 0.512\n",
      "(31715, 800) (31715,) (898, 800) (898,)\n",
      "label 79 Is the sentence abstract rather than concrete? (11072, 800) (328, 800)\n"
     ]
    },
    {
     "name": "stderr",
     "output_type": "stream",
     "text": [
      " 93%|█████████▎| 80/86 [25:42<00:04,  1.45it/s]"
     ]
    },
    {
     "name": "stdout",
     "output_type": "stream",
     "text": [
      "\ttest acc 0.619\n",
      "\ttest acc ood 0.494\n",
      "(31715, 800) (31715,) (898, 800) (898,)\n",
      "label 80 Is the sentence conveying the narrator's physical movement or action in detail? (3598, 800) (110, 800)\n"
     ]
    },
    {
     "name": "stderr",
     "output_type": "stream",
     "text": [
      " 94%|█████████▍| 81/86 [25:43<00:03,  1.63it/s]"
     ]
    },
    {
     "name": "stdout",
     "output_type": "stream",
     "text": [
      "\ttest acc 0.618\n",
      "\ttest acc ood 0.468\n",
      "(31715, 800) (31715,) (898, 800) (898,)\n",
      "label 81 Is the sentence emotionally positive? (9982, 800) (332, 800)\n"
     ]
    },
    {
     "name": "stderr",
     "output_type": "stream",
     "text": [
      " 95%|█████████▌| 82/86 [25:44<00:02,  1.54it/s]"
     ]
    },
    {
     "name": "stdout",
     "output_type": "stream",
     "text": [
      "\ttest acc 0.599\n",
      "\ttest acc ood 0.515\n",
      "(31715, 800) (31715,) (898, 800) (898,)\n",
      "label 82 Is the sentence providing an explanation or rationale? (8464, 800) (272, 800)\n"
     ]
    },
    {
     "name": "stderr",
     "output_type": "stream",
     "text": [
      " 97%|█████████▋| 83/86 [25:44<00:01,  1.50it/s]"
     ]
    },
    {
     "name": "stdout",
     "output_type": "stream",
     "text": [
      "\ttest acc 0.599\n",
      "\ttest acc ood 0.509\n",
      "(31715, 800) (31715,) (898, 800) (898,)\n",
      "label 83 Is the sentence reflective, involving self-analysis or introspection? (8196, 800) (244, 800)\n"
     ]
    },
    {
     "name": "stderr",
     "output_type": "stream",
     "text": [
      " 98%|█████████▊| 84/86 [25:45<00:01,  1.55it/s]"
     ]
    },
    {
     "name": "stdout",
     "output_type": "stream",
     "text": [
      "\ttest acc 0.619\n",
      "\ttest acc ood 0.451\n",
      "(31715, 800) (31715,) (898, 800) (898,)\n",
      "label 84 Is there mention of a city, country, or geographic feature? (4404, 800) (142, 800)\n"
     ]
    },
    {
     "name": "stderr",
     "output_type": "stream",
     "text": [
      " 99%|█████████▉| 85/86 [25:45<00:00,  1.73it/s]"
     ]
    },
    {
     "name": "stdout",
     "output_type": "stream",
     "text": [
      "\ttest acc 0.669\n",
      "\ttest acc ood 0.518\n",
      "(31715, 800) (31715,) (898, 800) (898,)\n",
      "label 85 Is time mentioned in the input? (9208, 800) (300, 800)\n"
     ]
    },
    {
     "name": "stderr",
     "output_type": "stream",
     "text": [
      "100%|██████████| 86/86 [25:46<00:00, 17.98s/it]"
     ]
    },
    {
     "name": "stdout",
     "output_type": "stream",
     "text": [
      "\ttest acc 0.653\n",
      "\ttest acc ood 0.455\n"
     ]
    },
    {
     "name": "stderr",
     "output_type": "stream",
     "text": [
      "\n"
     ]
    }
   ],
   "source": [
    "# set to None to keep all coefs\n",
    "num_coefs_to_keep = None\n",
    "\n",
    "\n",
    "def _keep_only_few_coefs(X, num_coefs_to_keep, num_features=200, num_delays=4):\n",
    "    if num_coefs_to_keep is None:\n",
    "        return X\n",
    "    else:\n",
    "        idxs_to_keep = np.arange(num_coefs_to_keep)\n",
    "        idxs_to_keep = np.concatenate(\n",
    "            [idxs_to_keep + i * num_features for i in range(num_delays)])\n",
    "        return X[:, idxs_to_keep]\n",
    "\n",
    "\n",
    "for subject in ['uts01', 'uts02', 'uts03'][::-1]:\n",
    "    data = data_by_subject[subject]\n",
    "\n",
    "    # example fit linear decoder\n",
    "    r = defaultdict(list)\n",
    "    for label_num in tqdm(range(data['labs_train'].shape[1])):\n",
    "        X_train, y_train = data['df_train'].values, data['labs_train'].values[:, label_num]\n",
    "        X_test, y_test = data['df_test'].values, data['labs_test'].values[:, label_num]\n",
    "        print(X_train.shape, y_train.shape, X_test.shape, y_test.shape)\n",
    "\n",
    "        # balance the binary class imbalance\n",
    "        try:\n",
    "            rus = RandomUnderSampler(random_state=42)\n",
    "            X_train, y_train = rus.fit_resample(X_train, y_train)\n",
    "            X_test, y_test = rus.fit_resample(X_test, y_test)\n",
    "\n",
    "            # only keep 5 feats\n",
    "            X_train = _keep_only_few_coefs(X_train, num_coefs_to_keep)\n",
    "            X_test = _keep_only_few_coefs(X_test, num_coefs_to_keep)\n",
    "\n",
    "            if len(y_test) < 30:\n",
    "                print('too few positive labels', label_num)\n",
    "                continue\n",
    "\n",
    "            print('label', label_num,\n",
    "                  data['labs_train'].columns[label_num], X_train.shape, X_test.shape)\n",
    "            m = LogisticRegressionCV(random_state=42)\n",
    "            m.fit(X_train, y_train)\n",
    "            test_acc = m.score(X_test, y_test)\n",
    "            print(\n",
    "                f\"\"\"\\ttest acc {test_acc:.3f}\"\"\")  # \\n\\tnaive acc {1 -y_test.mean():.3f}\"\"\")\n",
    "            r['label'].append(data['labs_train'].columns[label_num])\n",
    "            # y_pred = m.predict(X_test)\n",
    "            # balanced_accuracy_score(y_test, y_pred))\n",
    "            r['test_acc'].append(test_acc)\n",
    "            r['num_test'].append(len(y_test))\n",
    "            r['coef'].append(m.coef_.copy())\n",
    "\n",
    "            # extra test data from another subject ##########\n",
    "            test_acc_ood = []\n",
    "            for subject_ood in ['uts01', 'uts02', 'uts03']:\n",
    "                if subject_ood == subject:\n",
    "                    continue\n",
    "                X_test_ood, y_test_ood = data_by_subject[subject_ood][\n",
    "                    'df_test'].values, data_by_subject[subject_ood]['labs_test'].values[:, label_num]\n",
    "\n",
    "                # balance the binary class imbalance\n",
    "                rus = RandomUnderSampler(random_state=42)\n",
    "                X_test_ood, y_test_ood = rus.fit_resample(\n",
    "                    X_test_ood, y_test_ood)\n",
    "\n",
    "                X_test_ood = _keep_only_few_coefs(\n",
    "                    X_test_ood, num_coefs_to_keep)\n",
    "\n",
    "                test_acc_ood_subject = m.score(X_test_ood, y_test_ood)\n",
    "                test_acc_ood.append(test_acc_ood_subject)\n",
    "            r['test_acc_ood'].append(np.mean(test_acc_ood))\n",
    "\n",
    "            print(f\"\"\"\\ttest acc ood {np.mean(test_acc_ood):.3f}\"\"\")\n",
    "            ###############################################\n",
    "\n",
    "        except Exception as e:\n",
    "            print(e)\n",
    "            print('error for', label_num)\n",
    "            continue\n",
    "    r_df = pd.DataFrame(r)\n",
    "    # .sort_values(\n",
    "    # metric, ascending=False).reset_index()\n",
    "    r_df.to_pickle(join(data_dir, f'r_df_{subject}.pkl'))"
   ]
  },
  {
   "cell_type": "markdown",
   "metadata": {},
   "source": [
    "# Plot learned decoding scores"
   ]
  },
  {
   "cell_type": "code",
   "execution_count": 32,
   "metadata": {},
   "outputs": [
    {
     "name": "stdout",
     "output_type": "stream",
     "text": [
      "mean acc 0.6769636054332193\n",
      "mean acc 0.6554084523331226\n",
      "mean acc 0.6846794862854867\n",
      "mean acc 0.6908028776810486\n"
     ]
    },
    {
     "data": {
      "text/plain": [
       "<Figure size 800x800 with 0 Axes>"
      ]
     },
     "metadata": {},
     "output_type": "display_data"
    },
    {
     "data": {
      "image/png": "[encoded data removed]",
      "text/plain": [
       "<Figure size 640x480 with 1 Axes>"
      ]
     },
     "metadata": {},
     "output_type": "display_data"
    }
   ],
   "source": [
    "# plt.figure(figsize=(13, 13))\n",
    "plt.figure(figsize=(8, 8))\n",
    "fig, ax = plt.subplots()\n",
    "colors = {\n",
    "    'uts01': 'C0',\n",
    "    'uts02': 'C1',\n",
    "    'uts03': 'C2',\n",
    "    'mean': 'black'\n",
    "}\n",
    "metric = 'test_acc'\n",
    "# metric = 'test_acc_ood'\n",
    "for subject in ['mean', 'uts01', 'uts02', 'uts03']:\n",
    "    if subject == 'mean':\n",
    "        dfs = [pd.read_pickle(join(data_dir, f'r_df_{subject}.pkl'))\n",
    "               for subject in ['uts01', 'uts02', 'uts03']]\n",
    "        r_df = pd.concat(dfs, axis=0).groupby('label').mean().reset_index()\n",
    "        idx_sort = r_df[metric].sort_values(ascending=False).index\n",
    "    else:\n",
    "        r_df = pd.read_pickle(join(data_dir, f'r_df_{subject}.pkl'))\n",
    "\n",
    "    r_df = r_df.loc[idx_sort]\n",
    "    r_df = r_df[r_df['label'].isin(QS_35_STABLE)]\n",
    "\n",
    "    # plot accuracy with binomial error bars\n",
    "    if subject == 'mean':\n",
    "        plt.errorbar(\n",
    "            r_df[metric],\n",
    "            range(len(r_df)),\n",
    "            color='black',\n",
    "            fmt='o',\n",
    "            ms=4,\n",
    "            zorder=1000,\n",
    "            label=subject.capitalize(),\n",
    "        )\n",
    "        plt.axvline(r_df[metric].mean(), color=colors[subject])\n",
    "    else:\n",
    "        plt.errorbar(\n",
    "            r_df[metric],\n",
    "            range(len(r_df)),\n",
    "            xerr=np.sqrt(\n",
    "                r_df[metric] * (1-r_df[metric])\n",
    "                / r_df['num_test']),\n",
    "            alpha=0.5,\n",
    "            label=subject.upper(),\n",
    "            fmt='o',\n",
    "            ms=4,\n",
    "        )\n",
    "        plt.axvline(r_df[metric].mean(),\n",
    "                    linestyle='--', color=colors[subject])\n",
    "\n",
    "    print('mean acc', r_df[metric].mean())\n",
    "\n",
    "fs = 'x-small'\n",
    "# add horizontal bars\n",
    "labs = [analyze_helper.abbrev_question(q) for q in r_df['label']]\n",
    "plt.yticks(range(len(r_df)), labs, fontsize=fs)\n",
    "plt.xlabel(\n",
    "    'Decoding accuracy', fontsize=fs)\n",
    "plt.xticks(fontsize=fs)\n",
    "# ax.yaxis.set_major_locator(ticker.MultipleLocator(2))\n",
    "# Get the current tick locations\n",
    "xticks = ax.get_xticks()\n",
    "yticks = ax.get_yticks()\n",
    "\n",
    "# Select every other tick\n",
    "# ax.set_xticks(xticks[::2])\n",
    "ax.set_yticks(yticks[::2], minor=True)\n",
    "ax.grid(True, which='major', linewidth=0.7, alpha=0.6)\n",
    "\n",
    "\n",
    "# annotate with baseline and text label\n",
    "plt.axvline(0.5, color='darkgray', linestyle='--')\n",
    "plt.text(0.51, 0, 'Chance', color='darkgray', fontsize=fs, ha='left')\n",
    "plt.legend(fontsize='small')\n",
    "plt.tight_layout()\n",
    "plt.savefig('linear_decoding.png', dpi=300)\n",
    "plt.show()"
   ]
  },
  {
   "cell_type": "markdown",
   "metadata": {},
   "source": [
    "# Visualize learned coefs on cortex map"
   ]
  },
  {
   "cell_type": "code",
   "execution_count": null,
   "metadata": {},
   "outputs": [],
   "source": [
    "subject = 'uts03'"
   ]
  },
  {
   "cell_type": "code",
   "execution_count": null,
   "metadata": {},
   "outputs": [],
   "source": [
    "pca_comps = joblib.load(f'{subject}/pca_components.pkl')\n",
    "# vertically stack pca_comps 4 times\n",
    "pca_comps = np.vstack([pca_comps]*4)"
   ]
  },
  {
   "cell_type": "code",
   "execution_count": null,
   "metadata": {},
   "outputs": [],
   "source": [
    "def quickshow(X: np.ndarray, subject=\"UTS03\", fname_save=None, title=None):\n",
    "    import cortex\n",
    "\n",
    "    \"\"\"\n",
    "    Actual visualizations\n",
    "    Note: for this to work, need to point the cortex config filestore to the `ds003020/derivative/pycortex-db` directory.\n",
    "    This might look something like `/home/chansingh/mntv1/deep-fMRI/data/ds003020/derivative/pycortex-db/UTS03/anatomicals/`\n",
    "    \"\"\"\n",
    "    vol = cortex.Volume(X, subject, xfmname=f\"{subject}_auto\")\n",
    "    # , with_curvature=True, with_sulci=True)\n",
    "    vabs = max(abs(vol.data.min()), abs(vol.data.max()))\n",
    "    vol.vmin = -vabs\n",
    "    vol.vmax = vabs\n",
    "    # fig = plt.figure()\n",
    "    # , vmin=-vabs, vmax=vabs)\n",
    "    cortex.quickshow(vol, with_rois=True, cmap=\"PuBu\")\n",
    "    # fig = plt.gcf()\n",
    "    # add title\n",
    "    # fig.axes[0].set_title(title, fontsize='xx-small')\n",
    "    if fname_save is not None:\n",
    "        plt.savefig(fname_save)\n",
    "        # plt.savefig(fname_save.replace(\".pdf\", \".png\"))\n",
    "        plt.close()"
   ]
  },
  {
   "cell_type": "code",
   "execution_count": null,
   "metadata": {},
   "outputs": [],
   "source": [
    "for i in range(len(r_df)):\n",
    "    pc_coef = r_df.iloc[i]['coef']\n",
    "    voxel_coefs = (pc_coef @ pca_comps).squeeze()\n",
    "    quickshow(voxel_coefs, fname_save=join(\n",
    "        'flatmaps_decoding', f'{r_df.iloc[i][\"label\"]}.pdf'))"
   ]
  },
  {
   "cell_type": "code",
   "execution_count": null,
   "metadata": {},
   "outputs": [],
   "source": []
  }
 ],
 "metadata": {
  "kernelspec": {
   "display_name": ".env",
   "language": "python",
   "name": "python3"
  },
  "language_info": {
   "codemirror_mode": {
    "name": "ipython",
    "version": 3
   },
   "file_extension": ".py",
   "mimetype": "text/x-python",
   "name": "python",
   "nbconvert_exporter": "python",
   "pygments_lexer": "ipython3",
   "version": "3.11.11"
  },
  "orig_nbformat": 4
 },
 "nbformat": 4,
 "nbformat_minor": 2
}
