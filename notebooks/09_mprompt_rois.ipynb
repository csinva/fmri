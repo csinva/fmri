{
 "cells": [
  {
   "cell_type": "code",
   "execution_count": 1,
   "metadata": {},
   "outputs": [],
   "source": [
    "%load_ext autoreload\n",
    "%autoreload 2\n",
    "import sys\n",
    "sys.path.append('..')\n",
    "import feature_spaces\n",
    "import pandas as pd\n",
    "from sklearn.preprocessing import StandardScaler\n",
    "from typing import List\n",
    "from matplotlib import pyplot as plt\n",
    "from os.path import join\n",
    "import numpy as np\n",
    "import encoding_utils, feature_spaces\n",
    "import pickle as pkl\n",
    "from collections import defaultdict\n",
    "from datasets import Dataset, DatasetDict\n",
    "from feature_spaces import *\n",
    "NUM_VOXELS = 250"
   ]
  },
  {
   "cell_type": "code",
   "execution_count": 2,
   "metadata": {},
   "outputs": [
    {
     "name": "stdout",
     "output_type": "stream",
     "text": [
      "[0.76296981 0.74258237 0.72107898 0.71616266 0.71508206]\n"
     ]
    }
   ],
   "source": [
    "subj = 'UTS03'\n",
    "\n",
    "# select top_idxs\n",
    "save_dir = '/home/chansingh/mntv1/deep-fMRI/results/encoding/bert-10__ndel=4/UTS03'\n",
    "corrs_val = np.load(join(save_dir, 'corrs.npz'))['arr_0']\n",
    "top_idxs = np.argsort(corrs_val)[::-1][:NUM_VOXELS]\n",
    "print(corrs_val[top_idxs][:5])"
   ]
  },
  {
   "attachments": {},
   "cell_type": "markdown",
   "metadata": {},
   "source": [
    "# Visualize top voxels and which ROIs they are in"
   ]
  },
  {
   "cell_type": "code",
   "execution_count": 3,
   "metadata": {},
   "outputs": [],
   "source": [
    "import cortex\n",
    "viz_cortex = __import__('03_viz_cortex')"
   ]
  },
  {
   "cell_type": "code",
   "execution_count": null,
   "metadata": {},
   "outputs": [],
   "source": [
    "# visualize after masking anything that isn't in the top_idxs\n",
    "corrs = corrs_val\n",
    "\n",
    "for i in range(len(corrs)):\n",
    "    if i not in top_idxs:\n",
    "        corrs[i] = 0\n",
    "viz_cortex.quickshow(corrs)"
   ]
  },
  {
   "cell_type": "code",
   "execution_count": 6,
   "metadata": {},
   "outputs": [
    {
     "name": "stdout",
     "output_type": "stream",
     "text": [
      "Found 100.00% of S1F\n",
      "Found 100.00% of M1F\n",
      "Found 100.00% of TOS\n",
      "Found 100.00% of FEF\n",
      "Found 100.00% of S1M\n",
      "Found 100.00% of sPMv\n",
      "Found 100.00% of EBA\n",
      "Found 100.00% of SMFA\n",
      "Found 100.00% of IPS \n",
      "Found 100.00% of PMvh\n",
      "Found 100.00% of FBA\n",
      "Found 100.00% of S2H\n",
      "Found 100.00% of S2F\n",
      "Found 100.00% of FFA\n",
      "Found 100.00% of OFA\n",
      "Found 100.00% of SMHA\n",
      "Found 100.00% of RSC\n",
      "Found 100.00% of Broca\n",
      "Found 100.00% of S2M\n",
      "Found 100.00% of hMT\n",
      "Found 100.00% of AC\n",
      "Found 100.00% of IFSFP\n",
      "Found 100.00% of PPA\n",
      "Found 100.00% of M1M\n",
      "Found 100.00% of S1H\n",
      "Found 100.00% of M1H\n",
      "Cutting 47 overlapping voxels (should be < ~50)\n"
     ]
    },
    {
     "name": "stderr",
     "output_type": "stream",
     "text": [
      "100%|██████████| 26/26 [00:47<00:00,  1.83s/it]\n"
     ]
    },
    {
     "data": {
      "text/plain": [
       "[('IPS ', 12),\n",
       " ('EBA', 9),\n",
       " ('AC', 8),\n",
       " ('sPMv', 6),\n",
       " ('S1H', 6),\n",
       " ('RSC', 5),\n",
       " ('S1F', 4),\n",
       " ('TOS', 4),\n",
       " ('FEF', 4),\n",
       " ('SMFA', 4),\n",
       " ('OFA', 4),\n",
       " ('S2H', 3),\n",
       " ('SMHA', 3),\n",
       " ('PPA', 3),\n",
       " ('S1M', 2),\n",
       " ('FFA', 2),\n",
       " ('S2M', 2),\n",
       " ('S2F', 1),\n",
       " ('hMT', 1),\n",
       " ('M1M', 1),\n",
       " ('M1H', 1)]"
      ]
     },
     "execution_count": 6,
     "metadata": {},
     "output_type": "execute_result"
    }
   ],
   "source": [
    "subject = \"UTS03\"\n",
    "xfm = \"UTS03_auto\"\n",
    "\n",
    "# Get the map of which voxels are inside of our ROI\n",
    "index_volume, index_keys = cortex.utils.get_roi_masks(\n",
    "    subject, xfm,\n",
    "    roi_list=None, # Default (None) gives all available ROIs in overlays.svg\n",
    "    gm_sampler='cortical-conservative', # Select only voxels mostly within cortex\n",
    "    split_lr=True, # Separate left/right ROIs (this occurs anyway with index volumes)\n",
    "    threshold=0.9, # convert probability values to boolean mask for each ROI\n",
    "    return_dict=False # return index volume, not dict of masks\n",
    ")\n",
    "\n",
    "# Count how many of the top_voxels are in each ROI\n",
    "roi_counter = defaultdict(list)\n",
    "roi_dict = {}\n",
    "for k in tqdm(index_keys):\n",
    "    roi_verts = cortex.get_roi_verts('UTS03', k)\n",
    "    for val in roi_verts.values():\n",
    "        for i, top_idx in enumerate(top_idxs):\n",
    "            if top_idx in val:\n",
    "                roi_counter[k].append(top_idx)\n",
    "                roi_dict[i] = k\n",
    "counts = {k: len(v) for k, v in roi_counter.items()}\n",
    "sorted(counts.items(), key=lambda s: s[1], reverse=True)"
   ]
  },
  {
   "cell_type": "code",
   "execution_count": 7,
   "metadata": {},
   "outputs": [],
   "source": [
    "pkl.dump(roi_dict, open('roi_dict.pkl', 'wb'))"
   ]
  },
  {
   "cell_type": "code",
   "execution_count": 8,
   "metadata": {},
   "outputs": [],
   "source": [
    "!cp roi_dict.pkl ../../mprompt/mprompt/modules/fmri/"
   ]
  }
 ],
 "metadata": {
  "kernelspec": {
   "display_name": "Python 3.8.10 ('.embgam')",
   "language": "python",
   "name": "python3"
  },
  "language_info": {
   "codemirror_mode": {
    "name": "ipython",
    "version": 3
   },
   "file_extension": ".py",
   "mimetype": "text/x-python",
   "name": "python",
   "nbconvert_exporter": "python",
   "pygments_lexer": "ipython3",
   "version": "3.8.10"
  },
  "orig_nbformat": 4,
  "vscode": {
   "interpreter": {
    "hash": "559535f78d940c882783b39501b2581b5193373045707e5f8a51d046029cfd38"
   }
  }
 },
 "nbformat": 4,
 "nbformat_minor": 2
}
