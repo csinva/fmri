{
 "cells": [
  {
   "cell_type": "code",
   "execution_count": null,
   "metadata": {},
   "outputs": [],
   "source": [
    "%load_ext autoreload\n",
    "%autoreload 2\n",
    "import sys\n",
    "from ridge_utils.DataSequence import DataSequence\n",
    "import pandas as pd\n",
    "import os\n",
    "from os.path import join\n",
    "from collections import defaultdict\n",
    "import numpy as np\n",
    "import joblib\n",
    "from tqdm import tqdm\n",
    "from sasc.config import FMRI_DIR, STORIES_DIR\n",
    "from neuro.config import brain_drive_resps_dir"
   ]
  },
  {
   "cell_type": "code",
   "execution_count": null,
   "metadata": {},
   "outputs": [],
   "source": [
    "RESPS_DICT = {\n",
    "    '20230504': {\n",
    "        \"default/uts02_pilot_gpt4_mar28___ver=v4_noun___seed=1\": \"GenStory1_resps.npy\",\n",
    "        \"default/uts02_pilot_gpt4_mar28___ver=v4_noun___seed=3\": \"GenStory2_resps.npy\",\n",
    "        \"default/uts02_pilot_gpt4_mar28___ver=v4_noun___seed=4\": \"GenStory3_resps.npy\",\n",
    "        \"default/uts02_pilot_gpt4_mar28___ver=v5_noun___seed=1\": \"GenStory4_resps.npy\",\n",
    "        \"default/uts02_pilot_gpt4_mar28___ver=v5_noun___seed=2\": \"GenStory5_resps.npy\",\n",
    "        \"default/uts02_pilot_gpt4_mar28___ver=v5_noun___seed=4\": \"GenStory6_resps.npy\",\n",
    "    },\n",
    "    '20230702': {\n",
    "        \"interactions/uts02___jun14___seed=1\": \"GenStory7_resps.npy\",\n",
    "        \"interactions/uts02___jun14___seed=4\": \"GenStory8_resps.npy\",\n",
    "        \"polysemantic/uts02___jun14___seed=6\": \"GenStory9_resps.npy\",\n",
    "        \"polysemantic/uts02___jun14___seed=1\": \"GenStory10_resps.npy\",\n",
    "    },\n",
    "    '20231106': {\n",
    "        'default/uts03___jun14___seed=5': 'GenStory12_resps.npy',\n",
    "        'default/uts03___jun14___seed=1': 'GenStory13_resps.npy',\n",
    "        'interactions/uts03___jun14___seed=5': 'GenStory14_resps.npy',\n",
    "        'interactions/uts03___jun14___seed=6': 'GenStory15_resps.npy',\n",
    "        'polysemantic/uts03___jun14___seed=3': 'GenStory16_resps.npy',\n",
    "        'polysemantic/uts03___jun14___seed=7': 'GenStory17_resps.npy',\n",
    "    },\n",
    "    '20240509': {\n",
    "        'default/uts01___may9___seed=5_top1': 'deeptune-story19.npy',\n",
    "        'default/uts01___may9___seed=2_top2': 'deeptune-story20.npy',\n",
    "        'interactions/uts01___may9___seed=3_top1': 'deeptune-story21.npy',\n",
    "        'interactions/uts01___may9___seed=6_top2': 'deeptune-story22.npy',\n",
    "    },\n",
    "}\n",
    "\n",
    "\n",
    "def build_wordseq(timings):\n",
    "    TR_TIME = 2\n",
    "    words = timings['word'].values\n",
    "    word_lengths = timings['timing'].values\n",
    "    end_times = timings['time_running'].values\n",
    "\n",
    "    # Compute the average times of the words (halfway through each word)\n",
    "    word_avgtimes = end_times - (word_lengths / 2.0)\n",
    "\n",
    "    # Compute the TR times starting from -9\n",
    "    tr_times = np.arange(-9, word_avgtimes[-1] + TR_TIME, TR_TIME)\n",
    "\n",
    "    # Compute the split indices\n",
    "    split_inds = [(word_avgtimes < (t + TR_TIME)).sum() for t in tr_times][:-1]\n",
    "\n",
    "    ds = DataSequence(words, split_inds, word_avgtimes, tr_times)\n",
    "    return ds"
   ]
  },
  {
   "cell_type": "code",
   "execution_count": null,
   "metadata": {},
   "outputs": [],
   "source": [
    "dset = defaultdict(list)\n",
    "for session in tqdm(RESPS_DICT.keys()):\n",
    "    for k, v in RESPS_DICT[session].items():\n",
    "        dset['session'].append(session)\n",
    "        dset['story_name'].append(k)\n",
    "        dset['resp_file'].append(v.replace('_resps', ''))\n",
    "        # all the time comes from loading the resp here\n",
    "        resp = np.load(join(brain_drive_resps_dir,\n",
    "                       session, dset['resp_file'][-1]))\n",
    "        dset['trs_resp'].append(resp.shape[0])\n",
    "\n",
    "        timings = pd.read_csv(\n",
    "            join(STORIES_DIR, k, 'timings_processed.csv'))\n",
    "        wordseq = build_wordseq(timings)\n",
    "        if len(wordseq.tr_times) - dset['trs_resp'][-1] == 16:\n",
    "            # trim off last tr from wordseq\n",
    "            wordseq.tr_times = wordseq.tr_times[:-1]\n",
    "        dset['trs_story'].append(len(wordseq.tr_times))\n",
    "        dset['wordseq'].append(wordseq)\n",
    "\n",
    "df = pd.DataFrame(dset)\n",
    "df['subject'] = df['story_name'].apply(\n",
    "    lambda x: x.split('/')[1].split('_')[0]).str.upper()\n",
    "df['story_id'] = df['resp_file'].str.replace('.npy', '')\n",
    "df = df.set_index('story_id')"
   ]
  },
  {
   "cell_type": "code",
   "execution_count": null,
   "metadata": {},
   "outputs": [],
   "source": [
    "joblib.dump(df, join(brain_drive_resps_dir, 'metadata.pkl'))\n",
    "df"
   ]
  },
  {
   "cell_type": "code",
   "execution_count": null,
   "metadata": {},
   "outputs": [],
   "source": [
    "df[df.subject == 'UTS03'].story_id.values"
   ]
  },
  {
   "cell_type": "code",
   "execution_count": null,
   "metadata": {},
   "outputs": [],
   "source": [
    "df.loc[['GenStory5', 'GenStory7']]['wordseq'].to_dict()"
   ]
  },
  {
   "cell_type": "code",
   "execution_count": null,
   "metadata": {},
   "outputs": [],
   "source": []
  }
 ],
 "metadata": {
  "kernelspec": {
   "display_name": "Python 3.8.10 ('.embgam')",
   "language": "python",
   "name": "python3"
  },
  "language_info": {
   "codemirror_mode": {
    "name": "ipython",
    "version": 3
   },
   "file_extension": ".py",
   "mimetype": "text/x-python",
   "name": "python",
   "nbconvert_exporter": "python",
   "pygments_lexer": "ipython3",
   "version": "3.11.9"
  },
  "orig_nbformat": 4,
  "vscode": {
   "interpreter": {
    "hash": "559535f78d940c882783b39501b2581b5193373045707e5f8a51d046029cfd38"
   }
  }
 },
 "nbformat": 4,
 "nbformat_minor": 2
}
