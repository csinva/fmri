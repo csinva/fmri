{
 "cells": [
  {
   "cell_type": "code",
   "execution_count": 1,
   "metadata": {},
   "outputs": [],
   "source": [
    "%load_ext autoreload\n",
    "%autoreload 2\n",
    "import sys\n",
    "sys.path.append('..')\n",
    "sys.path.append('../experiments')\n",
    "import seaborn as sns\n",
    "import os\n",
    "import pandas as pd\n",
    "from copy import deepcopy\n",
    "from matplotlib import pyplot as plt\n",
    "from os.path import join\n",
    "import numpy as np\n",
    "import imodelsx.process_results\n",
    "from neuro.features import qa_questions, feature_spaces\n",
    "from neuro.data import story_names\n",
    "from neuro.features.stim_utils import load_story_wordseqs, load_story_wordseqs_huge\n",
    "import random\n",
    "import json\n",
    "import joblib\n",
    "from neuro.features.qa_questions import get_questions, get_merged_questions_v3_boostexamples\n",
    "from tqdm import tqdm\n",
    "from collections import defaultdict\n",
    "fit_encoding = __import__('02_fit_encoding')"
   ]
  },
  {
   "cell_type": "markdown",
   "metadata": {},
   "source": [
    "### Evaluate features for labeling"
   ]
  },
  {
   "cell_type": "code",
   "execution_count": null,
   "metadata": {},
   "outputs": [],
   "source": []
  },
  {
   "cell_type": "markdown",
   "metadata": {},
   "source": [
    "### Set up data for labeling"
   ]
  },
  {
   "cell_type": "code",
   "execution_count": 2,
   "metadata": {},
   "outputs": [
    {
     "name": "stdout",
     "output_type": "stream",
     "text": [
      "loaded 1 stories\n"
     ]
    }
   ],
   "source": [
    "story_names_list = ['wheretheressmoke']\n",
    "print('loaded', len(story_names_list), 'stories')\n",
    "# wordseqs = feature_spaces.get_story_wordseqs(story_names_train)\n",
    "wordseqs = load_story_wordseqs_huge(story_names_list)\n",
    "\n",
    "ngrams_list_total = []\n",
    "for story in story_names_list:\n",
    "    ngrams_list = feature_spaces.get_ngrams_list_main(\n",
    "        wordseqs[story], num_ngrams_context=10)\n",
    "    # print(ngrams_list[:10])\n",
    "    ngrams_list_total.extend(ngrams_list)\n",
    "\n",
    "# questions = np.array(get_merged_questions_v3_boostexamples())\n",
    "questions = ['Does the sentence describe a personal reflection or thought?',\n",
    "             'Does the sentence contain a proper noun?',\n",
    "             'Does the sentence describe a physical action?',\n",
    "             'Does the sentence describe a personal or social interaction that leads to a change or revelation?',\n",
    "             'Does the sentence involve the mention of a specific object or item?',\n",
    "             'Does the sentence involve a description of physical environment or setting?',\n",
    "             'Does the sentence describe a relationship between people?',\n",
    "             'Does the sentence mention a specific location?',\n",
    "             'Is time mentioned in the input?',\n",
    "             'Is the sentence abstract rather than concrete?',\n",
    "             \"Does the sentence express the narrator's opinion or judgment about an event or character?\",\n",
    "             'Is the input related to a specific industry or profession?',\n",
    "             'Does the sentence include dialogue?',\n",
    "             'Does the sentence describe a visual experience or scene?',\n",
    "             'Does the input involve planning or organizing?',\n",
    "             'Does the sentence involve spatial reasoning?',\n",
    "             'Does the sentence involve an expression of personal values or beliefs?',\n",
    "             'Does the sentence contain a negation?',\n",
    "             'Does the sentence describe a sensory experience?',\n",
    "             'Does the sentence include technical or specialized terminology?',\n",
    "             'Does the input contain a number?',\n",
    "             'Does the sentence contain a cultural reference?',\n",
    "             'Does the text describe a mode of communication?',\n",
    "             'Does the input include a comparison or metaphor?',\n",
    "             'Does the sentence express a sense of belonging or connection to a place or community?',\n",
    "             'Does the sentence describe a specific sensation or feeling?',\n",
    "             'Does the text include a planning or decision-making process?',\n",
    "             'Does the sentence include a personal anecdote or story?',\n",
    "             'Does the sentence involve a discussion about personal or social values?',\n",
    "             'Does the text describe a journey?',\n",
    "             'Does the input contain a measurement?',\n",
    "             'Does the sentence describe a physical sensation?',\n",
    "             'Does the sentence include a direct speech quotation?',\n",
    "             'Is the sentence reflective, involving self-analysis or introspection?',\n",
    "             'Does the input describe a specific texture or sensation?']"
   ]
  },
  {
   "cell_type": "code",
   "execution_count": null,
   "metadata": {},
   "outputs": [],
   "source": [
    "answers = np.full((len(ngrams_list_total), len(questions)), fill_value='')\n",
    "df = pd.DataFrame(answers, columns=questions)\n",
    "df['text'] = ngrams_list_total\n",
    "# move question to first position\n",
    "cols = list(df.columns)\n",
    "cols = [cols[-1]] + cols[:-1]\n",
    "df = df[cols]\n",
    "df.to_csv('ngrams.csv')"
   ]
  },
  {
   "cell_type": "code",
   "execution_count": null,
   "metadata": {},
   "outputs": [],
   "source": [
    "df"
   ]
  },
  {
   "cell_type": "code",
   "execution_count": null,
   "metadata": {},
   "outputs": [],
   "source": [
    "df.to_csv('qs.csv')"
   ]
  }
 ],
 "metadata": {
  "kernelspec": {
   "display_name": "Python 3.8.10 ('.embgam')",
   "language": "python",
   "name": "python3"
  },
  "language_info": {
   "codemirror_mode": {
    "name": "ipython",
    "version": 3
   },
   "file_extension": ".py",
   "mimetype": "text/x-python",
   "name": "python",
   "nbconvert_exporter": "python",
   "pygments_lexer": "ipython3",
   "version": "3.11.3"
  },
  "orig_nbformat": 4,
  "vscode": {
   "interpreter": {
    "hash": "559535f78d940c882783b39501b2581b5193373045707e5f8a51d046029cfd38"
   }
  }
 },
 "nbformat": 4,
 "nbformat_minor": 2
}
