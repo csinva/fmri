{
 "cells": [
  {
   "cell_type": "code",
   "execution_count": null,
   "metadata": {},
   "outputs": [],
   "source": [
    "%load_ext autoreload\n",
    "%autoreload 2\n",
    "import sys\n",
    "from ridge_utils.DataSequence import DataSequence\n",
    "import pandas as pd\n",
    "import os\n",
    "import matplotlib.pyplot as plt\n",
    "import cortex\n",
    "import seaborn as sns\n",
    "from os.path import join\n",
    "from collections import defaultdict\n",
    "import numpy as np\n",
    "import sasc.viz\n",
    "import joblib\n",
    "import dvu\n",
    "import sys\n",
    "sys.path.append('../notebooks')\n",
    "from tqdm import tqdm\n",
    "from sasc.config import FMRI_DIR, STORIES_DIR, RESULTS_DIR\n",
    "from neuro.config import brain_drive_resps_dir\n",
    "from neuro import analyze_helper, viz\n",
    "from neuro.features.qa_questions import get_questions, get_merged_questions_v3_boostexamples\n",
    "flatmaps_per_question = __import__('06_flatmaps_per_question')"
   ]
  },
  {
   "cell_type": "markdown",
   "metadata": {},
   "source": [
    "### load average flatmaps per explanation braindrive"
   ]
  },
  {
   "cell_type": "code",
   "execution_count": null,
   "metadata": {},
   "outputs": [],
   "source": [
    "brain_drive_avgs_pilot = joblib.load(join(\n",
    "    RESULTS_DIR, \"processed\", \"flatmaps\", 'resps_avg_dict_pilot.pkl'))\n",
    "brain_drive_avgs_pilot5 = joblib.load(join(\n",
    "    RESULTS_DIR, \"processed\", \"flatmaps\", 'resps_avg_dict_pilot5.pkl'))\n",
    "brain_drive_avgs = brain_drive_avgs_pilot | brain_drive_avgs_pilot5"
   ]
  },
  {
   "cell_type": "markdown",
   "metadata": {},
   "source": [
    "### load weights for jointly fitted 35-question model"
   ]
  },
  {
   "cell_type": "code",
   "execution_count": null,
   "metadata": {},
   "outputs": [],
   "source": [
    "# # load questions model weights\n",
    "# results_dir = analyze_helper.best_results_dir\n",
    "# rr, cols_varied, mets = analyze_helper.load_clean_results(results_dir)\n",
    "# metric_sort = 'corrs_tune_pc_weighted_mean'\n",
    "\n",
    "# # pick model to interpret\n",
    "# r = rr\n",
    "# r = r[r.qa_questions_version == 'v3_boostexamples_merged']\n",
    "# r = r[r.num_stories == -1]\n",
    "# r = r[r.weight_enet_mask_num_nonzero == 35]\n",
    "# r = r[r.feature_space == 'qa_embedder']\n",
    "# cols_varied = [c for c in cols_varied if not c in ['num_stories',\n",
    "#                                                    'feature_selection_alpha', 'feature_selection_stability_seeds']]\n",
    "# args0 = r[r.subject == 'S02'].iloc[0]\n",
    "# weights, weights_pc = flatmaps_per_question.get_weights_top(args0)\n",
    "# qs_selected = questions[args0['weight_enet_mask']]\n",
    "# df_w_selected35 = pd.DataFrame({'question': qs_selected, 'weights': [\n",
    "#                     w for w in weights]}).set_index('question')\n",
    "# joblib.dump((args0, qs_selected, df_w_selected35),\n",
    "# '../qa_results/processed/selected_weights.pkl')\n",
    "\n",
    "args0, qs_selected, df_w_selected35 = joblib.load(\n",
    "    '../qa_results/processed/selected_weights.pkl')"
   ]
  },
  {
   "cell_type": "markdown",
   "metadata": {},
   "source": [
    "### load weights for individual question models"
   ]
  },
  {
   "cell_type": "code",
   "execution_count": null,
   "metadata": {},
   "outputs": [],
   "source": [
    "results_dir = '/home/chansingh/mntv1/deep-fMRI/encoding/jun16_gpt4'\n",
    "rr, cols_varied, mets = analyze_helper.load_clean_results(results_dir)\n",
    "r = rr\n",
    "r = r[r.subject == 'S02']\n",
    "r = r[r.use_added_wordrate_feature == 0]\n",
    "r = r[r.feature_space == 'qa_embedder']\n",
    "\n",
    "weights = np.array([\n",
    "    flatmaps_per_question.get_weights_top(r.iloc[i])[0]\n",
    "    for i in tqdm(range(len(r)))\n",
    "]).squeeze()\n",
    "qs_selected = r['qa_questions_version']\n",
    "df_w_individual = pd.DataFrame({'question': qs_selected, 'weights': [\n",
    "    w for w in weights]}).set_index('question')\n",
    "joblib.dump((r, qs_selected, df_w_individual),\n",
    "            '../qa_results/processed/individual_weights.pkl')\n",
    "r, qs_selected, df_w_individual = joblib.load(\n",
    "    '../qa_results/processed/individual_weights.pkl')"
   ]
  },
  {
   "cell_type": "markdown",
   "metadata": {},
   "source": [
    "### load weights for individual question models **with wordrate**"
   ]
  },
  {
   "cell_type": "code",
   "execution_count": null,
   "metadata": {},
   "outputs": [],
   "source": [
    "results_dir = '/home/chansingh/mntv1/deep-fMRI/encoding/jun16_gpt4'\n",
    "rr, cols_varied, mets = analyze_helper.load_clean_results(results_dir)\n",
    "r = rr\n",
    "r = r[r.subject == 'S02']\n",
    "r = r[r.use_added_wordrate_feature == 1]\n",
    "r = r[r.feature_space == 'qa_embedder']\n",
    "\n",
    "weights = np.array([\n",
    "    flatmaps_per_question.get_weights_top(r.iloc[i])[0]\n",
    "    for i in tqdm(range(len(r)))\n",
    "])[:, 0, :].squeeze()\n",
    "qs_selected = r['qa_questions_version']\n",
    "df_w_individual = pd.DataFrame({'question': qs_selected, 'weights': [\n",
    "    w for w in weights]}).set_index('question')\n",
    "joblib.dump((r, qs_selected, df_w_individual),\n",
    "            '../qa_results/processed/individual_weights_wordrate.pkl')\n",
    "r, qs_selected, df_w_individual_wordrate = joblib.load(\n",
    "    '../qa_results/processed/individual_weights_wordrate.pkl')"
   ]
  },
  {
   "cell_type": "markdown",
   "metadata": {},
   "source": [
    "### Make comparison"
   ]
  },
  {
   "cell_type": "code",
   "execution_count": null,
   "metadata": {},
   "outputs": [],
   "source": [
    "# matches\n",
    "qa_list = [\n",
    "    # approx matches\n",
    "    'Is time mentioned in the input?',\n",
    "    'Does the input contain a measurement?',\n",
    "    # 'Does the input contain a number?',\n",
    "    'Does the sentence mention a specific location?',\n",
    "    # 'Does the sentence describe a relationship between people?',\n",
    "    # 'Does the sentence describe a relationship between people?',\n",
    "    'Does the text describe a mode of communication?',\n",
    "    # 'Does the sentence contain a negation?',\n",
    "]\n",
    "bd_list = [\n",
    "    # approx matches\n",
    "    ('time', 212),\n",
    "    ('measurements', 171),\n",
    "    # ('measurements', 171),\n",
    "    # ('moments',\t337),\n",
    "    # ('locations', 122),\n",
    "    ('locations', 368),\n",
    "    # ('emotion', 179),\n",
    "    # ('emotional expression', 398),\n",
    "    ('communication', 299),\n",
    "    # ('negativity', 248)\n",
    "]\n",
    "\n",
    "\n",
    "qa_list += [\n",
    "    'Is the sentence abstract rather than concrete?',\n",
    "    'Does the sentence contain a cultural reference?',\n",
    "    'Does the sentence include dialogue?',\n",
    "    'Is the input related to a specific industry or profession?',\n",
    "    'Does the sentence contain a negation?',\n",
    "    'Does the input contain a number?',\n",
    "    \"Does the sentence express the narrator's opinion or judgment about an event or character?\",\n",
    "    'Does the sentence describe a personal or social interaction that leads to a change or revelation?',\n",
    "    'Does the sentence describe a personal reflection or thought?',\n",
    "    'Does the sentence involve an expression of personal values or beliefs?',\n",
    "    'Does the sentence describe a physical action?',\n",
    "    'Does the input involve planning or organizing?',\n",
    "    'Does the sentence contain a proper noun?',\n",
    "    'Does the sentence describe a relationship between people?',\n",
    "    'Does the sentence describe a sensory experience?',\n",
    "    'Does the sentence involve the mention of a specific object or item?',\n",
    "    'Does the sentence include technical or specialized terminology?',\n",
    "]\n",
    "\n",
    "bd_list += [\n",
    "    ('abstract descriptions', 'qa'),\n",
    "    ('cultural references', 'qa'),\n",
    "    ('dialogue', 'qa'),\n",
    "    ('industry or profession', 'qa'),\n",
    "    ('negations', 'qa'),\n",
    "    ('numbers', 'qa'),\n",
    "    ('opinions or judgments', 'qa'),\n",
    "    ('personal or interactions interactions', 'qa'),\n",
    "    ('personal reflections or thoughts', 'qa'),\n",
    "    ('personal values or beliefs', 'qa'),\n",
    "    ('physical actions', 'qa'),\n",
    "    ('planning or organizing', 'qa'),\n",
    "    ('proper nouns', 'qa'),\n",
    "    ('relationships between people', 'qa'),\n",
    "    ('sensory experiences', 'qa'),\n",
    "    ('specific objects or items', 'qa'),\n",
    "    ('technical or specialized terminology', 'qa')]\n",
    "\n",
    "df_pairs = pd.DataFrame({\n",
    "    'qa_weight': qa_list,\n",
    "    'bd_avg_resp': bd_list,\n",
    "})\n",
    "\n",
    "\n",
    "df_qa_weights = df_w_individual\n",
    "df_qa_weights = df_w_individual_wordrate\n",
    "df_qa_weights = df_w_individual\n",
    "\n",
    "# remove columns that aren't known\n",
    "df_pairs = df_pairs[df_pairs['qa_weight'].isin(df_qa_weights.index)]\n",
    "\n",
    "wt_qas = df_qa_weights.loc[df_pairs['qa_weight'].values]['weights'].values\n",
    "wt_bds = [brain_drive_avgs[bd] for bd in df_pairs['bd_avg_resp'].values]\n",
    "\n",
    "# mask = args0['corrs_test'] >= 0\n",
    "# wt_qas = [wt_qa[mask] for wt_qa in wt_qas]\n",
    "# wt_bds = [wt_bd[mask] for wt_bd in wt_bds]"
   ]
  },
  {
   "cell_type": "code",
   "execution_count": null,
   "metadata": {},
   "outputs": [],
   "source": [
    "corrs = pd.DataFrame(\n",
    "    np.zeros((len(df_pairs), len(df_pairs))),\n",
    "    columns=df_pairs['bd_avg_resp'].astype(str),\n",
    "    # [f'{bd_list[i][0]}_{bd_list[i][1]}'.replace('_qa', '') for i in range(len(bd_list))],\n",
    "    # index=[analyze_helper.abbrev_question(q) for q in qa_list],\n",
    "    index=df_pairs['qa_weight'].astype(str),\n",
    ")\n",
    "for i, qa in enumerate(df_pairs['qa_weight']):\n",
    "    for j, bd in enumerate(df_pairs['bd_avg_resp']):\n",
    "        corrs.iloc[i, j] = np.corrcoef(wt_qas[i], wt_bds[j])[0, 1]\n",
    "\n",
    "\n",
    "# normalize each column\n",
    "# corrs = corrs / corrs.abs().max()\n",
    "# normalize each row to mean zero stddev 1\n",
    "# corrs = (corrs - corrs.mean()) / corrs.std()\n",
    "# plt.figure(figsize=(20, 10))\n",
    "vmax = np.max(np.abs(corrs.values))\n",
    "# sns.clustermap(corrs, annot=False, cmap='RdBu', vmin=-vmax, vmax=vmax, dendrogram_ratio=0.01)\n",
    "\n",
    "sns.heatmap(corrs, annot=False, cmap='RdBu_r', vmin=-vmax, vmax=vmax)\n",
    "# plt.imshow(corrs, cmap='RdBu_r', vmin=-vmax, vmax=vmax)\n",
    "# plt.xticks(range(len(bd_list)), [f'{bd[0]}' for bd in bd_list], rotation=90)\n",
    "# plt.yticks(range(len(qa_list)), qa_list)\n",
    "# plt.colorbar()\n",
    "dvu.outline_diagonal(corrs.values.shape, roffset=0.5, coffset=0.5)\n",
    "plt.show()\n",
    "\n",
    "# barplot of diagonal\n",
    "sns.barplot(y=corrs.columns, x=np.diag(corrs), color='gray')\n",
    "plt.axvline(np.diag(corrs).mean())\n",
    "print('mean', np.diag(corrs).mean())\n",
    "plt.show()"
   ]
  },
  {
   "cell_type": "code",
   "execution_count": null,
   "metadata": {},
   "outputs": [],
   "source": [
    "# quickshow(wt_qas[0])\n",
    "# quickshow(wt_bds[0])\n",
    "sasc.viz.quickshow(\n",
    "    wt_qas[0],\n",
    "    subject=\"UTS02\",\n",
    ")"
   ]
  },
  {
   "cell_type": "code",
   "execution_count": null,
   "metadata": {},
   "outputs": [],
   "source": [
    "wt_qas[0].shape"
   ]
  },
  {
   "cell_type": "code",
   "execution_count": null,
   "metadata": {},
   "outputs": [],
   "source": []
  }
 ],
 "metadata": {
  "kernelspec": {
   "display_name": "Python 3.8.10 ('.embgam')",
   "language": "python",
   "name": "python3"
  },
  "language_info": {
   "codemirror_mode": {
    "name": "ipython",
    "version": 3
   },
   "file_extension": ".py",
   "mimetype": "text/x-python",
   "name": "python",
   "nbconvert_exporter": "python",
   "pygments_lexer": "ipython3",
   "version": "3.11.3"
  },
  "orig_nbformat": 4,
  "vscode": {
   "interpreter": {
    "hash": "559535f78d940c882783b39501b2581b5193373045707e5f8a51d046029cfd38"
   }
  }
 },
 "nbformat": 4,
 "nbformat_minor": 2
}
