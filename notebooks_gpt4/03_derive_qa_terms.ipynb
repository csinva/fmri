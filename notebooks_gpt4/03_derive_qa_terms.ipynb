{
 "cells": [
  {
   "cell_type": "code",
   "execution_count": 49,
   "metadata": {},
   "outputs": [
    {
     "name": "stdout",
     "output_type": "stream",
     "text": [
      "The autoreload extension is already loaded. To reload it, use:\n",
      "  %reload_ext autoreload\n"
     ]
    }
   ],
   "source": [
    "%load_ext autoreload\n",
    "%autoreload 2\n",
    "import sys\n",
    "from ridge_utils.DataSequence import DataSequence\n",
    "import pandas as pd\n",
    "import os\n",
    "import matplotlib.pyplot as plt\n",
    "import cortex\n",
    "import seaborn as sns\n",
    "from os.path import join\n",
    "from collections import defaultdict\n",
    "import numpy as np\n",
    "import sasc.viz\n",
    "import joblib\n",
    "import dvu\n",
    "import json\n",
    "import sys\n",
    "sys.path.append('../notebooks')\n",
    "from tqdm import tqdm\n",
    "from sasc.config import FMRI_DIR, STORIES_DIR, RESULTS_DIR\n",
    "from neuro.config import brain_drive_resps_dir, repo_dir\n",
    "from neuro import analyze_helper, viz\n",
    "from neuro.features.qa_questions import get_questions, get_merged_questions_v3_boostexamples"
   ]
  },
  {
   "cell_type": "code",
   "execution_count": null,
   "metadata": {},
   "outputs": [],
   "source": [
    "# https://github.com/neurosynth/neurosynth-data/blob/master/data-neurosynth_version-7_vocab-terms_vocabulary.txt"
   ]
  },
  {
   "cell_type": "code",
   "execution_count": null,
   "metadata": {},
   "outputs": [],
   "source": [
    "df = pd.read_csv('data-neurosynth_version-7_vocab-terms_vocabulary.txt')"
   ]
  },
  {
   "cell_type": "code",
   "execution_count": 40,
   "metadata": {},
   "outputs": [
    {
     "name": "stdout",
     "output_type": "stream",
     "text": [
      "3227\n",
      "3160\n",
      "3132\n",
      "2816\n",
      "2744\n"
     ]
    }
   ],
   "source": [
    "vals = df['001'].str.strip()\n",
    "assert len(vals) == len(vals.unique())\n",
    "print(len(vals))\n",
    "# vals remove any terms that contain numbers\n",
    "vals = vals[~vals.str.contains(r'\\d')]\n",
    "print(len(vals))\n",
    "vals = vals[vals.str.len() > 2]\n",
    "print(len(vals))\n",
    "\n",
    "# remove val if val + 's' in vals\n",
    "vals = vals[~vals.apply(lambda x: (x + 's') in vals.values)]\n",
    "print(len(vals))\n",
    "vals = vals[~vals.apply(lambda x: (x + 'ly') in vals.values)]\n",
    "print(len(vals))"
   ]
  },
  {
   "cell_type": "code",
   "execution_count": 42,
   "metadata": {},
   "outputs": [],
   "source": [
    "vals.to_csv('terms_full.csv')"
   ]
  },
  {
   "cell_type": "code",
   "execution_count": 47,
   "metadata": {},
   "outputs": [],
   "source": [
    "prompt = '''You are given a comma-separated list of words / phrases. Your task is to classify whether each element of the list is a semantic text property or not. Some of the words instead describe properties of brain regions or diseases. Answer yes or no and return your answer in json.\n",
    "\n",
    "\n",
    "### Example input\n",
    "Input: abstract, acc, add, addiction, alcohol, anger, arithmetic, baseline, experiments, family, foot\n",
    "\n",
    "### Example output\n",
    "```\n",
    "{\n",
    "  \"abstract\": \"yes\",\n",
    "  \"acc\": \"no\",\n",
    "  \"addiction\": \"yes\",\n",
    "  \"alcohol\": \"no\",\n",
    "  \"anger\": \"yes\",\n",
    "  \"arithmetic\": \"yes\",\n",
    "  \"baseline\": \"no\",\n",
    "  \"date\": \"yes\",\n",
    "  \"debate\": \"yes\",\n",
    "  \"dti\": \"no\",\n",
    "  \"exhibit\": \"no\",\n",
    "  \"experiments\": \"no\",\n",
    "  \"family\": \"yes\",\n",
    "  \"foot\": \"yes\"\n",
    "}\n",
    "```\n",
    "\n",
    "### Input\n",
    "'''"
   ]
  },
  {
   "cell_type": "code",
   "execution_count": 46,
   "metadata": {},
   "outputs": [
    {
     "data": {
      "text/plain": [
       "'aberrant, abilities, ability, able, abnormal, abnormalities, abnormality, absence, absent, abstract, abuse, acc, access, accompanied, accordance, accordingly, accounted, accounts, accumbens, accuracy, accurately, achieve, achieved, acoustic, acquired, acquisition, action observation, actions, activates, activations, actively, activities, acts, actually, acute, adaptation, adapted, adaptive, add, addiction, addition, additionally, addressed, adhd, adjacent, administered, administration, adolescence, adolescents, adopted, adulthood, adults, advanced, advances, advantage, affected, affecting, affective, affects, age controls, age gender, age groups, age healthy, age sex, aged, agent, ages, aging, agreement, aimed, aims, alcohol, alff, algorithm, allele, allocation, allowed, allowing, allows, alpha, alterations, altered, alternating, alternative, alters, alzheimer, alzheimer disease, ambiguous, amnestic, amplitude low, amplitudes, amygdala, amygdala anterior, amygdala hippocampus, amygdala insula, amygdala responses, analysed, analyses, analyze, analyzed, analyzed using, analyzing, anatomically, anatomy, anger, angry, angular, angular gyrus, animals, anisotropy, anisotropy fa, anterior, anterior cingulate, anterior hippocampus, anterior insula, anterior insular, anterior intraparietal, anterior medial, anterior posterior, anterior prefrontal, anterior superior, anterior temporal, anti, anticipation, anticipatory, anxiety, anxiety disorders, apart, aphasia, apparent, appeared, appears, application, applied, apply, applying, appraisal, approach, approaches, appropriate, approximately, architecture, argue, arise, arithmetic, arm, arousal, arterial, arterial spin, articulatory, asd, asked, aspects, assess, assessed, assessed using, assessing, assessments, assigned, associations, associative, assume, assumed, assumption, asymmetry, atrophy, attempt, attempted, attend, attended, attending, attention, attention deficit, attention network, attention task, attentional, attentional control, attenuated, attenuation, attributed, attributes, attribution, atypical, audiovisual, auditory, auditory cortex, auditory stimuli, auditory visual, autism, autism spectrum, autobiographical, autobiographical memory, automated, automatic, automatically, autonomic, available, average, aversive, avoid, avoidance, awareness, away, axis, background, balance, bands, basal, basal ganglia, baseline, bases, basic, basis, bayesian, beginning, behavioral evidence, behavioral level, behavioral measures, behavioral performance, behavioral responses, behaviorally, behaviors, behaviour, behavioural, beliefs, believed, beneficial, benefits, best, beta, better, better understanding, bias, biased, biases, bilaterally, bilinguals, binding, biological, biomarkers, bipolar, bipolar disorder, blind, block design, blocked, blocks, blood, blood flow, blood oxygen, blood oxygenation, bodily, body, bold, bold responses, bold signals, brains, brainstem, brief, broad, broader, broca, brodmann, brodmann ba, button, calculated, calculation, called, callosum, candidate, canonical, capacity, capture, carried, carriers, cases, categorical, categories, categorization, category, caudal, caudate, caudate nucleus, causal, causal modeling, causality, caused, causes, center, centered, central, central role, cerebellar, cerebellum, cerebral, cerebral blood, cerebral cortex, certain, challenges, challenging, change, changed, changing, characteristics, characterization, characterize, characterized, characterizing, characters, childhood, children, children adolescents, chinese, choices, choose, chosen, chronic, chronic pain, cingulate, cingulate cortex, cingulate cortices, cingulate gyrus, circuitry, circuits, clarify, class, classic, classical, classification, classified, clearly, clinically, clips, closed, closely, clustering, clusters, code, coding, cognition, cognitive control, cognitive deficits, cognitive emotional, cognitive functions, cognitive impairment, cognitive neuroscience, cognitive performance, cognitive processes, cognitive tasks, cognitively, coherence, coherent, cohort, collected, collectively, color, combinations, combined, combining, commonly, communication, community, comparable, compare, comparing, comparisons, compatible, compensate, compensation, compensatory, competing, competition, complementary, completed, completely, complex, complexity, component ica, components, composed, comprehension, comprehensive, comprised, compromised, compulsive, compulsive disorder, computation, computational, computed, concentration, concepts, conceptual, concerning, conclude, conclusion, concomitant, concrete, concurrently, conditioned, conditioning, conditions, conductance, conducted, confidence, confirm, confirmed, conflict, conflicting, confounding, congruency, congruent, congruent incongruent, conjunction, connected, connections, connectivity, connectivity amygdala, connectivity analyses, connectivity anterior, connectivity fc, connectivity networks, connectivity patterns, connectivity posterior, connectivity rsfc, connectivity using, conscious, consciousness, consecutive, consequences, consequently, consider, considerable, considered, considering, consisted, consistency, consistently, consisting, consists, consolidation, constant, constitute, constrained, constraints, construct, constructed, construction, consumption, contained, containing, contains, contents, contexts, contextual, contingent, continuously, contralateral, contrary, contrasted, contrasting, contrasts, contributed, contributes, contributing, contributions, control conditions, control groups, control network, control processes, control task, controlled, controlling, controls, controls hcs, controls using, controversial, conventional, convergence, converging, conversely, conveyed, coordinates, coordination, core, corpus, corpus callosum, corrected, correction, correctly, correlated, correlated negatively, correlated positively, correlates, correlating, correlation analyses, correlations, correspond, corresponded, correspondence, corresponding, cortex acc, cortex amygdala, cortex anterior, cortex ba, cortex bilaterally, cortex cerebellum, cortex dacc, cortex dlpfc, cortex dmpfc, cortex dorsal, cortex dorsolateral, cortex frontal, cortex hippocampus, cortex inferior, cortex insula, cortex involved, cortex lateral, cortex medial, cortex middle, cortex mpfc, cortex ofc, cortex parietal, cortex pcc, cortex pfc, cortex posterior, cortex ppc, cortex precuneus, cortex suggest, cortex superior, cortex supplementary, cortex thalamus, cortex ventral, cortex vlpfc, cortex vmpfc, cortical, cortical involved, cortical networks, cortical subcortical, cortical thickness, cortices, cortico, costs, coupled, coupling, courses, covariance, covaried, covert, craving, created, criteria, critical role, critically, cross, cross modal, cross sectional, crossover, crucial role, crucially, crus, cued, cues, cuneus, current functional, currently, dacc, daily, daily life, damage, datasets, date, days, deactivated, deactivations, debate, debated, decision making, decision task, decisions, declines, decoding, decreases, decreasing, deep, default, default mode, default network, deficient, deficit hyperactivity, deficits, define, defined, degrees, delay, delayed, delivered, demanding, demands, dementia, demonstrated, demonstrates, demonstrating, density, depended, dependence, depending, depends, depicting, depressed, depression, depressive, depressive disorder, deprivation, depth, derived, described, describing, designed, designs, despite, detailed, details, detect, detected, detecting, detection, detection task, determine, determined, determining, develop, developed, developing, development, developmental, diagnosed, diagnosis, diagnostic, did, did differ, differed, difference, differentially, differentiate, differentiated, differentiation, differently, differing, differs, difficult, difficulties, difficulty, diffusion, diffusion tensor, digit, dimensional, dimensions, diminished, direct evidence, directed, directions, directly, disability, discrete, discriminate, discriminated, discrimination, discrimination task, discriminative, discuss, discussed, discussion, disease ad, disease pd, diseases, disentangle, disgust, disorder adhd, disorder mdd, disorder ocd, disorder ptsd, disorders, displayed, displays, disrupted, disruption, dissociable, dissociate, dissociated, dissociation, distance, distinction, distinguish, distinguished, distraction, distractors, distress, distributed, distributed network, distribution, disturbances, disturbed, divergent, diverse, divided, dlpfc, dmn, dmpfc, documented, does, domain general, domains, dominance, dominant, dopamine, dopaminergic, dorsal, dorsal anterior, dorsal attention, dorsal medial, dorsal premotor, dorsal striatum, dorsal ventral, dorsolateral, dorsolateral pfc, dorsolateral prefrontal, dorsomedial, dorsomedial prefrontal, dose, dot, double, double blind, drive, driven, driving, drugs, dti, dual, duration, dynamic causal, dynamically, dynamics, dysfunctional, dysfunctions, dyslexia, dysregulation, earlier, early, early stages, early visual, easy, eating, echo, economic, education, eeg, effective connectivity, effectively, effects, efficacy, efficiency, efficient, effort, effortful, eighteen, elderly, electrical, electroencephalography, electroencephalography eeg, electrophysiological, elements, elevated, elicited, elicits, elucidate, elucidated, elusive, embedded, emerge, emerged, emergence, emerging, emission, emission tomography, emotion regulation, emotional faces, emotional information, emotional responses, emotional stimuli, emotional valence, emotionally, emotions, empathic, empathy, emphasize, empirical, employed, employing, enabled, enables, encode, encoded, encoding, encoding retrieval, encompassing, end, endogenous, engaged, engagement, engages, engaging, english, enhancement, enhances, enhancing, entire, environmental, environments, epilepsy, episodes, episodic, episodic memory, equally, equivalent, erp, errors, especially, essential, establish, established, estimated, estimates, estimation, et al, evaluate, evaluated, evaluating, evaluations, event design, event functional, event potentials, events, everyday, everyday life, evidence, evidence suggests, evidenced, evident, evoke, evoked, evolution, exact, examination, examining, example, excessive, exclusively, executed, execution, executive, executive control, executive functions, exert, exhibit, exhibited, exhibited greater, exhibiting, existence, existing, exists, expectancy, expectations, expected, experienced, experiences, experiencing, experimental conditions, experimentally, experiments, expertise, explain, explained, explanation, explicitly, exploration, exploratory, explore, explored, exploring, exposed, exposure, expressed, expressions, extended, extending, extends, extension, extensively, extent, externally, extinction, extra, extract, extracted, extrastriate, eye fields, eye movements, eyes, face ffa, face recognition, faces, facial, facial expressions, facilitated, facilitates, facilitation, fact, factorial, factorial design, factors, failed, failure, false, familiar, familiarity, family, far, fasciculus, fashion, fast, faster, fear, fearful, fearful faces, features, feedback, feelings, females, fewer, ffa, fiber, fields, finally, fine, finger, finger movements, finger tapping, fixation, fixed, flexibility, flexible, flexibly, flow, fluctuations, fluency, focal, foci, focus, focused, focusing, follow, followed, following, food, foot, force, formation, formed, forms, forward, fourteen, fractional, fractional anisotropy, framework, free, frequencies, frequency, frequency fluctuations, frequently, frontal, frontal cortex, frontal cortices, frontal eye, frontal gyri, frontal gyrus, frontal lobes, frontal operculum, frontal parietal, frontal temporal, fronto, fronto parietal, fronto striatal, fronto temporal, frontoparietal, frontoparietal network, frontopolar, frontotemporal, fully, functional abnormalities, functional connections, functional connectivity, functional coupling, functional magnetic, functional networks, functional neuroanatomy, functional organization, functional role, functional structural, functionally, functionally connected, functioning, functions, fundamental, furthermore, fusiform, fusiform face, fusiform gyri, fusiform gyrus, future, gains, gambling, game, gamma, ganglia, gap, gaze, gender, general linear, generalized, generally, generate, generated, generating, generation, genes, genetic, genetic risk, genotype, german, gestures, given, global, globus, globus pallidus, gm volume, goal directed, goals, good, gradient, granger, graph, grasping, gray, gray matter, great, greater, greater extent, greatest, grey, grey matter, group comparisons, group healthy, group level, groups, growing, guide, guided, gyri, gyrus, gyrus anterior, gyrus ba, gyrus cerebellum, gyrus ifg, gyrus inferior, gyrus insula, gyrus medial, gyrus mfg, gyrus middle, gyrus posterior, gyrus precuneus, gyrus stg, gyrus superior, half, hand movements, handed, handedness, hands, happy, happy faces, having, hcs, head, health, healthy, healthy adults, healthy controls, healthy handed, healthy human, healthy individuals, healthy male, healthy volunteers, healthy young, heard, hearing, heart, heart rate, heightened, held, help, hemispheres, hemispheric, hemodynamic, hemodynamic responses, heschl, heschl gyrus, heterogeneity, heterogeneous, hierarchical, hierarchy, high frequency, high functioning, high level, high low, high resolution, high risk, higher, higher levels, higher order, highest, highlighted, highlights, highly, hippocampal, hippocampus, history, hoc, homogeneity, homogeneity reho, hubs, hum, hum mapp, humans, hyperactivation, hyperactivity, hyperactivity disorder, hypoactivation, hypothalamus, hypotheses, hypothesize, hypothesized, ica, idea, identical, identification, identified, identify, identifying, identity, ifg, iii, illness, illusion, illustrate, imagery, images, images acquired, imagine, imagined, imitation, immediately, impacts, impaired, impairments, implementation, implemented, implicate, implicated, implications, implications understanding, implicit, imply, importance, important role, importantly, improved, improvements, improves, impulsive, impulsivity, incentive, incentive delay, incidental, included, includes, incongruent, inconsistent, incorrect, increases, increasingly, independent component, independently, index, index finger, indexed, indicated, indicates, indicating, indices, indirect, individual variability, individually, individuals, induced, induces, inducing, induction, infer, inferences, inferior, inferior frontal, inferior middle, inferior occipital, inferior parietal, inferior prefrontal, inferior superior, inferior temporal, influenced, influences, inform, information, inhibit, inhibition, inhibitory, inhibitory control, initially, initiation, injury, inputs, insights, instead, instructed, instructions, insula, insula anterior, insula inferior, insular, insular cortex, intact, integrate, integrated, integrating, integration, integrative, integrity, intelligence, intense, intensity, intentional, intentions, inter, inter individual, interacting, interactions, interactive, interacts, interestingly, interference, interhemispheric, intermediate, internally, interoceptive, interpersonal, interplay, interpret, interpretation, interpreted, intervals, interventions, intra, intraparietal, intraparietal sulcus, intrinsic, intrinsic functional, introduced, introduction, invariant, invasive, inventory, inversely, investigates, investigating, investigations, involved, involved cognitive, involvement, involves, involving, ipl, ips, ipsilateral, irrelevant, irrespective, isolate, isolated, issues, items, joint, judge, judged, judgment task, judgments, junction, junction tpj, just, key, key role, kinds, know, knowledge, known, known involved, labeling, laboratory, lack, lacking, language comprehension, language network, languages, large sample, large scale, largely, largely unknown, larger, late, latencies, latency, later, lateral, lateral frontal, lateral medial, lateral occipital, lateral orbitofrontal, lateral parietal, lateral prefrontal, lateral temporal, laterality, lateralization, lateralized, leading, leads, learn, learned, learning, learning task, led, length, lesions, lesser, letters, level bold, level signal, levels, lexical, lexical decision, life, light, likelihood, likely, limb, limbic, limitations, limited, line, linear model, linearly, lingual, lingual gyrus, linguistic, linked, linking, links, list, listened, listening, literature, little, little known, load, lobe mtl, lobes, lobule ipl, lobules, local, localization, localize, localized, located, locations, locus, long, long term, longer, longitudinal, loop, loss, losses, low, low frequency, low high, low level, lower, machine, magnetic, magnetic resonance, magnetic stimulation, magnetoencephalography, magnitude, main effect, mainly, maintain, maintained, maintaining, maintenance, major, major depression, major depressive, majority, make, making, male female, males, manifest, manipulated, manipulating, manipulations, manner, manual, mapp, mapped, mapping, maps, marked, markers, masked, mass, match, matching, matching task, materials, matrix, matter, matter density, matter gm, matter volumes, maturation, maximal, maximum, mci, mdd, mean age, meaning, meaningful, means, measurements, measures, measuring, mechanisms, mechanisms involved, mechanisms underlying, medial, medial frontal, medial lateral, medial orbitofrontal, medial pfc, medial prefrontal, medial superior, medial temporal, median, mediated, mediates, mediating, medication, meg, memories, memory, memory encoding, memory load, memory performance, memory processes, memory retrieval, memory tasks, memory test, memory wm, men, men women, mental, mental imagery, mental states, mentalizing, mesial, mesolimbic, met, metabolic, metabolism, methodological, methodology, methodology principal, methods, methods functional, mfg, mid, midbrain, middle, middle cingulate, middle frontal, middle inferior, middle occipital, middle superior, middle temporal, midline, mild, mild cognitive, min, mind, mind tom, minimal, mirror, mirror neuron, mixed, mnemonic, modal, modalities, modality, mode, mode network, modeling, models, moderate, modified, modulated, modulates, modulating, modulations, modulatory, monetary, monetary incentive, monetary reward, money, monitor, monitored, monitoring, monkeys, months, mood, moral, morphological, morphology, morphometry, morphometry vbm, motion, motivation, motivational, motor, motor control, motor cortex, motor function, motor imagery, motor network, motor performance, motor pre, motor premotor, motor responses, motor sma, motor task, movements, moving, mpfc, mtg, mtl, multi, multimodal, multiple, multiple comparisons, multiple sclerosis, multisensory, multivariate, multivariate pattern, muscle, music, musical, musicians, naive, names, naming, native, natural, naturalistic, nature, navigation, near, necessary, needed, needs, negative affect, negative correlations, negative emotional, negative emotions, negative feedback, negative neutral, negative positive, negatively, negatively correlated, negativity, neocortical, nerve, nervous, network connectivity, network dmn, network involved, networks, networks involved, neuro, neuroanatomical, neuroanatomy, neurobiological, neurobiology, neurocognitive, neurodegenerative, neurodevelopmental, neurofunctional, neurological, neuronal, neurons, neurophysiological, neuropsychiatric, neuropsychological, neuroscience, neutral, neutral faces, neutral pictures, neutral stimuli, new insights, newly, nineteen, nociceptive, nodes, nogo, noise, non, normal controls, normalized, normally, notably, noted, notion, nouns, novel, novelty, noxious, nuclei, nucleus, nucleus accumbens, numbers, numerical, numerous, object recognition, objectives, objects, observations, observers, observing, obsessive, obsessive compulsive, obtain, obtained, occipital, occipital cortex, occipital gyrus, occipital lobe, occipital parietal, occipital temporal, occipito, occipito temporal, occipitotemporal, occipitotemporal cortex, occurred, occurrence, occurring, occurs, ocd, oddball, ofc, offers, old, older, older adults, olfactory, ones, ongoing, online, onset, open, operations, opercular, opercularis, operculum, opportunity, opposed, opposite, optimal, optimized, options, oral, orbital, orbitofrontal, orbitofrontal cortex, order, organization, organized, orientation, oriented, orienting, origin, original, orthographic, oscillations, outcomes, output, outside, outside scanner, overall, overcome, overlap, overlapped, overlapping, overt, oxygen, oxygen level, oxygenation, oxygenation level, paced, pain, painful, paired, pairs, pallidus, paper, paradigms, parahippocampal, parahippocampal cortex, parahippocampal gyrus, parahippocampus, paralimbic, parallel, parameters, parametric, parametric mapping, parametrically, parietal, parietal cortex, parietal cortices, parietal frontal, parietal junction, parietal lobes, parietal lobules, parietal network, parietal occipital, parietal temporal, parieto, parieto occipital, parkinson, parkinson disease, pars, pars opercularis, partially, participant, participate, participated, particularly, partly, partner, parts, passive viewing, passively, past, pathological, pathology, pathophysiological, pathophysiology, pathways, patient, patient groups, patterns, pcc, peak, people, perceive, perceived, perceiving, percept, perception, perceptual, perform, performance task, performances, performing, perfusion, periaqueductal, periodicals, periods, peripheral, persistent, personal, personality, personality traits, persons, perspective, pet, pfc, pharmacological, phases, phenomena, phenomenon, phenotype, phonological, photographs, physical, physiological, pictures, pitch, place, placebo, placebo controlled, planning, planum, planum temporale, plasticity, play important, play role, played, playing, plays, plays important, plays role, pleasant, pointing, points, pole, polymorphism, poorer, poorly, poorly understood, populations, portions, position, positive correlations, positive negative, positively, positively correlated, positron, positron emission, possibility, possible, possibly, post, post hoc, postcentral, postcentral gyrus, posterior, posterior anterior, posterior cingulate, posterior inferior, posterior insula, posterior middle, posterior parietal, posterior superior, posterior temporal, posttraumatic, potentially, potentials, power, powerful, ppc, ppi, practice, pre, pre post, pre sma, pre supplementary, preceded, preceding, precentral, precentral gyrus, precise, precuneus, precuneus posterior, predicted, predicting, prediction error, predictions, predictive, predictors, predicts, predominantly, preferences, preferentially, prefrontal, prefrontal cortex, prefrontal cortical, prefrontal cortices, prefrontal parietal, preliminary, premotor, premotor cortex, preparation, preparatory, presence, presentations, presented, presenting, preserved, press, pressure, presumably, previous, previous functional, previous reports, previous research, previous shown, previous work, primarily, primary, primary auditory, primary motor, primary secondary, primary sensorimotor, primary somatosensory, primary visual, primates, prime, priming, principal, principle, prior, priori, probabilistic, probability, probably, probe, problems, procedures, process, processed, processes, processes involved, processes underlying, produce, produced, producing, production, profiles, progression, progressive, prolonged, prominent, promising, pronounced, proper, properties, proportion, propose, proposed, prospective, protocol, provide evidence, provide new, provide novel, provided, provides, provides evidence, providing, pseudowords, psts, psychiatric, psychiatric disorders, psychological, psychopathology, psychophysical, psychophysiological, psychophysiological interaction, psychosis, psychotic, ptsd, published, punishment, pure, purpose, putamen, putative, quality, quantified, quantify, quantitative, questionnaire, questions, random effects, randomized, randomly, range, ranging, rapidly, rarely, rated, rates, ratings, ratio, rationale, reach, reaching, reaction times, reactions, reactivity, read, readers, reading, real, real time, real world, reality, reappraisal, reasoning, recall, receive, received, receiving, recently, receptor, recognition, recognition memory, recognition task, recognize, recognized, recognizing, recollection, recorded, recordings, recovery, recruited, recruitment, recruits, reduces, reducing, reductions, reference, referential, referred, refers, reflected, reflecting, reflects, regard, regarding, regardless, regional, regional cerebral, regional gray, regional homogeneity, regular, regulate, regulating, regulation, regulatory, rehabilitation, rehearsal, reho, reinforcement, reinforcement learning, relates, relational, relations, relationships, relatively, relevance, relevant, relevant information, reliability, reliable, reliably, reliance, relied, relies, rely, remain, remain unclear, remained, remaining, remarkably, remember, remembered, remembering, remote, reorganization, repeat, repeatedly, repetition, repetition suppression, repetitive, replicate, replicated, reported, reports, representational, representations, represented, representing, represents, required, requirements, requires, requiring, research, research suggests, researchers, residual, resolution, resolve, resonance, resonance experiment, resonance healthy, resonance images, resonance measure, resonance performing, resonance rs, resonance scans, resources, respect, respectively, responded, responding, responds, response inhibition, response selection, response times, responses, responsible, responsive, responsiveness, rest, resting, resting state, restricted, result, resulted, resulting, retention, retrieval, retrieved, retrosplenial, retrosplenial cortex, revealing, reveals, reversal, reverse, reversed, reward anticipation, rewarding, rewards, rhythm, rich, rise, risk, risk taking, risky, robust, rois, roles, rostral, rostral anterior, rotation, rsfc, rules, runs, saccades, sad, salience, salience network, salient, samples, sampling, scales, scalp, scanned, scanned using, scanner, scanning, scans, scenes, schizophrenia, schizophrenic, sclerosis, scores, search, second, secondary, secondary somatosensory, sectional, seeds, seeking, seen, segregated, segregation, select, selected, selection, selective attention, selectively, selectivity, self, self referential, self report, self reported, semantic memory, semantically, semantics, sensations, sense, sensitive, sensitivity, sensorimotor, sensorimotor cortex, sensorimotor network, sensory, sensory information, sensory motor, sentence comprehension, sentences, separable, separated, separately, separation, sequences, sequential, serial, series, serotonin, served, serves, sessions, sets, settings, seven, seventeen, severe, severity, sex, sexual, sham, shaped, shapes, share, shared, shed, shed light, shifted, shifting, shifts, short, short term, shorter, showing, shown, shows, sided, sighted, signal change, signal task, signaling, signals, signature, significance, significance statement, signs, sii, silent, similarities, similarity, similarly, simple, simply, simulated, simulation, simultaneous eeg, simultaneously, single, single subject, single trial, sites, situations, sixteen, sizes, skills, skin, skin conductance, sleep, slow, slower, sma, small, smaller, smokers, smoking, social cognition, social cognitive, social interactions, socially, software, solving, somatosensory, somatosensory cortex, somatosensory cortices, sought, sounds, sources, space, span, sparse, spatial attention, spatial information, spatial temporal, spatially, spatiotemporal, speakers, speaking, special, specialization, specialized, species, specifically, specificity, specified, spectral, spectrum, spectrum disorders, speech, speech perception, speech production, speed, spin, spin labeling, spinal, spl, spoken, spontaneous, stable, stages, standard, standardized, state connectivity, state functional, state networks, statement, states, static, statistics, status, step, stg, stimulated, stimulation, stimulation tms, stimuli, stimuli presented, stimulus, stimulus driven, stimulus response, stop, stop signal, storage, stored, strategic, strategies, strategy, streams, strength, stress, stress disorder, striatal, striatum, striking, stroke, strongest, strongly, stroop, stroop task, structural, structural functional, structural magnetic, structure function, structures, structures involved, sts, students, studied, studying, sub, subcortical, subcortical structures, subgenual, subject, subjective, subregions, subsequent memory, subsequently, subserve, subserved, subserving, subset, substance, substantia, substantially, substrates, subtle, subtraction, success, successfully, successive, suffering, sufficient, suggest functional, suggested, suggesting, suggests, sulci, sulcus, sulcus ips, sulcus sts, sum, summary, superior, superior frontal, superior inferior, superior middle, superior parietal, superior temporal, supplementary, supplementary motor, supported, supporting, supports, suppressed, suppression, supramarginal, supramarginal gyrus, surface, surprisingly, surrounding, susceptibility, sustained, sustained attention, switch, switching, symbolic, symptom severity, symptoms, synchronization, syndrome, syntactic, systematic, systematically, systems, systems involved, tactile, taken, taken suggest, taking, tapping, target detection, targeted, targets, task conditions, task demands, task difficulty, task functional, task induced, task involving, task irrelevant, task performance, task positive, task relevant, task required, task task, task using, tasks, taste, techniques, tegmental, temporal cortex, temporal cortices, temporal frontal, temporal gyri, temporal gyrus, temporal inferior, temporal lobes, temporal occipital, temporal parietal, temporal pole, temporal sulcus, temporale, temporally, temporo, temporo parietal, temporoparietal, temporoparietal junction, tend, tendency, tensor, tensor dti, term memory, terms, tesla, tested, testing, tests, thalamic, thalamus, theoretical, theories, theory, theory mind, therapeutic, therapy, thickness, thinking, thirteen, thirty, thoughts, threat, threatening, threshold, time courses, time points, time series, time task, times, timing, tissue, tms, tom, tomography, tomography pet, tones, took, tools, total, touch, tpj, track, tracking, tractography, tracts, traditionally, trained, training, traits, trajectories, transcranial, transcranial magnetic, transfer, transformation, transient, transition, trauma, traumatic, treated, treatments, trend, trial trial, trials, trigger, triggered, true, turn, twice, types, typically, typically developing, unaffected, uncertain, uncertainty, unclear, undergoing, undergoing functional, underlies, underlying, underlying mechanisms, underpinnings, understand, understanding, understood, unexpected, unfamiliar, unilateral, unimodal, uniquely, univariate, unknown, unlike, unmedicated, unpleasant, unrelated, upcoming, updating, upper, use functional, useful, users, uses, using, using event, using functional, using resting, using voxel, usually, utility, utilized, valence, valid, validated, validity, valuable, values, variability, variables, variance, variant, variations, varied, varies, variety, various, vary, varying, vbm, vector, ventral, ventral anterior, ventral dorsal, ventral medial, ventral premotor, ventral striatum, ventral tegmental, ventral visual, ventrolateral, ventrolateral prefrontal, ventromedial, ventromedial prefrontal, verbal, verbal fluency, verbal working, verbs, vermis, version, versus, video clips, videos, view, viewed, viewing, violations, virtual, vision, visual attention, visual auditory, visual cortex, visual cortices, visual field, visual information, visual motion, visual perception, visual stimuli, visual stimulus, visual stream, visual word, visually, visually presented, visuo, visuo spatial, visuomotor, visuospatial, vivo, vlpfc, vmpfc, vocal, voice, volumes, volumetric, voluntary, volunteers, voxel morphometry, voxel wise, voxels, voxelwise, vulnerability, watched, watching, ways, weak, weaker, weeks, weight, weighted, whilst, white, white matter, widely, widespread, wiley, wiley periodicals, window, wise, wm task, women, word form, word pairs, word recognition, words, work, working, working memory, world, worse, written, year old, years, years old, yield, yielded, young, young adults, young healthy, young older, younger, younger adults, youth, zone'"
      ]
     },
     "execution_count": 46,
     "metadata": {},
     "output_type": "execute_result"
    }
   ],
   "source": [
    "', '.join(vals.values)"
   ]
  },
  {
   "cell_type": "code",
   "execution_count": 65,
   "metadata": {},
   "outputs": [],
   "source": [
    "filt1 = json.load(open('terms_filt1.json', 'r'))"
   ]
  },
  {
   "cell_type": "code",
   "execution_count": 66,
   "metadata": {},
   "outputs": [],
   "source": [
    "vals_filt1 = sorted({k for k in filt1 if filt1[k] == 'yes'})"
   ]
  },
  {
   "cell_type": "code",
   "execution_count": 67,
   "metadata": {},
   "outputs": [],
   "source": [
    "pd.DataFrame(vals_filt1).to_csv('terms_filt1.csv')"
   ]
  },
  {
   "cell_type": "code",
   "execution_count": 68,
   "metadata": {},
   "outputs": [
    {
     "data": {
      "text/plain": [
       "(2744, 534)"
      ]
     },
     "execution_count": 68,
     "metadata": {},
     "output_type": "execute_result"
    }
   ],
   "source": [
    "len(vals), len(vals_filt1)"
   ]
  },
  {
   "cell_type": "code",
   "execution_count": 70,
   "metadata": {},
   "outputs": [
    {
     "data": {
      "text/plain": [
       "'abilities, ability, able, abstract, access, accordance, accordingly, accuracy, accurately, achieve, achieved, action observation, actions, actively, activities, acts, actually, adaptation, addition, additionally, advantage, agreement, allocation, alternative, ambiguous, anger, angry, anticipation, apparent, application, apply, appraisal, approach, appropriate, approximately, architecture, argue, arise, arithmetic, aspects, assess, assume, assumption, attempt, attend, attention, attentional control, attribution, automatic, automatically, available, average, avoid, avoidance, awareness, background, balance, basic, basis, beginning, behavioral evidence, behavioral level, behavioral measures, behavioral performance, behavioral responses, behaviorally, behaviors, behaviour, behavioural, beliefs, beneficial, benefits, best, better, better understanding, bias, biased, biases, brief, broad, broader, calculation, capacity, capture, categorical, categories, categorization, category, causal, causality, central role, certain, change, characteristics, characterization, characterize, characters, choices, choose, clarify, class, classic, classical, classification, clearly, closely, code, coding, cognition, cognitive control, cognitive emotional, cognitive functions, cognitive performance, cognitive processes, cognitive tasks, cognitively, coherence, coherent, collectively, color, commonly, communication, comparable, compare, compatible, compensate, compensation, complementary, completely, complex, complexity, comprehension, comprehensive, computation, computational, concentration, concepts, conceptual, conclude, conclusion, concrete, concurrently, confidence, confirm, conflict, conscious, consciousness, consequently, consider, considerable, consistency, consistently, consolidation, constant, constitute, construct, construction, continuously, contrary, controversial, conventional, conversely, correctly, correspond, critical role, critically, crucial role, crucially, currently, daily, daily life, date, debate, decision making, deep, define, delay, depth, despite, detailed, detect, determine, develop, difference, differentiate, differentiation, differently, difficult, difficulty, dimensional, directly, discrete, discriminate, discuss, disentangle, disgust, distance, distinction, distinguish, diverse, double, dual, duration, dynamically, earlier, early, easy, economic, effectively, efficiency, efficient, effort, elucidate, elusive, emerge, emergence, emotion regulation, emotionally, empathic, empathy, emphasize, empirical, encode, enhancement, entire, equally, equivalent, especially, essential, establish, estimation, evaluate, everyday, everyday life, evident, evoke, evolution, exact, example, excessive, exclusively, executive control, exert, expertise, explain, explanation, explicitly, exploration, explore, extension, extensively, externally, extra, extract, face recognition, fact, factorial, false, familiar, familiarity, family, fashion, fast, faster, fear, fearful, fewer, finally, fine, flexibility, flexible, flexibly, flow, fluency, focus, follow, framework, free, frequently, fully, functionally, fundamental, furthermore, future, generally, generate, generation, global, goal directed, good, great, greater, greatest, guide, happy, help, heterogeneous, hierarchical, higher, highest, highly, hypothesize, idea, identical, identification, identify, identity, illusion, illustrate, imagery, imagine, imitation, immediately, imply, importance, importantly, inconsistent, incorrect, increasingly, independently, indirect, individually, infer, inferences, inform, information, inhibit, initially, instead, integrate, integration, intense, intensity, intentional, interactive, interestingly, internally, interpret, interpretation, inversely, irrelevant, irrespective, isolate, judge, just, language comprehension, largely, larger, late, later, learn, lesser, likelihood, likely, linearly, long, longer, low, lower, mainly, maintain, major, make, manifest, manner, match, maximal, maximum, meaningful, minimal, mixed, monitor, moral, multi, multiple, naive, natural, necessary, neutral, newly, normally, notably, notion, novel, obtain, ongoing, online, opportunity, optimal, overall, overcome, overlap, partially, participate, particularly, partly, passively, past, perceive, perform, persistent, pleasant, poorer, poorly, possibility, possible, possibly, potentially, powerful, precise, predictive, predominantly, presumably, previous, primarily, probably, produce, progressive, prolonged, prominent, promising, pronounced, proper, propose, pure, purpose, putative, quantify, randomly, rapidly, rarely, reach, real, reappraisal, receive, recently, recognize, regardless, regulate, relatively, relevance, relevant, reliability, reliable, reliably, remain, remarkably, remember, remote, repeat, repeatedly, replicate, representational, resolve, respectively, responsive, reverse, rewarding, rich, risky, robust, sad, salient, select, selectively, semantically, sensitive, sensitivity, sentence comprehension, separately, sequential, share, short, shorter, silent, similarly, simple, simply, simultaneously, single, slow, slower, small, smaller, socially, sparse, special, specifically, spontaneous, stable, striking, strongest, strongly, subjective, subsequently, substantially, subtle, successfully, successive, sufficient, surprisingly, sustained, systematic, systematically, tend, theoretical, total, traditionally, transient, true, typically, uncertain, uncertainty, unclear, understand, unexpected, unfamiliar, uniquely, unlike, unpleasant, unrelated, useful, usually, valid, valuable, varied, vary, voluntary, weak, weaker, whilst, widely, widespread, worse'"
      ]
     },
     "execution_count": 70,
     "metadata": {},
     "output_type": "execute_result"
    }
   ],
   "source": [
    "', '.join(vals_filt1)"
   ]
  },
  {
   "cell_type": "code",
   "execution_count": null,
   "metadata": {},
   "outputs": [],
   "source": []
  }
 ],
 "metadata": {
  "kernelspec": {
   "display_name": ".venv",
   "language": "python",
   "name": "python3"
  },
  "language_info": {
   "codemirror_mode": {
    "name": "ipython",
    "version": 3
   },
   "file_extension": ".py",
   "mimetype": "text/x-python",
   "name": "python",
   "nbconvert_exporter": "python",
   "pygments_lexer": "ipython3",
   "version": "3.11.9"
  }
 },
 "nbformat": 4,
 "nbformat_minor": 2
}
