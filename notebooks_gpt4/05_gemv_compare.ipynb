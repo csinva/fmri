{
 "cells": [
  {
   "cell_type": "code",
   "execution_count": 31,
   "metadata": {},
   "outputs": [
    {
     "name": "stdout",
     "output_type": "stream",
     "text": [
      "The autoreload extension is already loaded. To reload it, use:\n",
      "  %reload_ext autoreload\n"
     ]
    }
   ],
   "source": [
    "%load_ext autoreload\n",
    "%autoreload 2\n",
    "import sys\n",
    "from ridge_utils.DataSequence import DataSequence\n",
    "import pandas as pd\n",
    "import os\n",
    "import matplotlib.pyplot as plt\n",
    "import cortex\n",
    "import seaborn as sns\n",
    "from os.path import join\n",
    "from collections import defaultdict\n",
    "import numpy as np\n",
    "import sasc.viz\n",
    "import joblib\n",
    "import dvu\n",
    "import sys\n",
    "sys.path.append('../notebooks')\n",
    "from tqdm import tqdm\n",
    "from sasc.config import FMRI_DIR, STORIES_DIR, RESULTS_DIR\n",
    "from neuro.config import repo_dir, PROCESSED_DIR\n",
    "from neuro import analyze_helper, viz\n",
    "from neuro.features.qa_questions import get_questions, get_merged_questions_v3_boostexamples\n",
    "# flatmaps_per_question = __import__('06_flatmaps_per_question')\n",
    "import viz"
   ]
  },
  {
   "cell_type": "markdown",
   "metadata": {},
   "source": [
    "Note, this notebook requires first running `03_export_qa_flatmaps.ipynb` into `df_qa_dict.pkl` files for each subject."
   ]
  },
  {
   "cell_type": "markdown",
   "metadata": {},
   "source": [
    "### load gemv average flatmaps"
   ]
  },
  {
   "cell_type": "code",
   "execution_count": 29,
   "metadata": {},
   "outputs": [],
   "source": [
    "gemv_avgs_pilot = joblib.load(join(\n",
    "    RESULTS_DIR, \"processed\", \"flatmaps\", 'resps_avg_dict_pilot.pkl'))\n",
    "gemv_avgs_pilot5 = joblib.load(join(\n",
    "    RESULTS_DIR, \"processed\", \"flatmaps\", 'resps_avg_dict_pilot5.pkl'))\n",
    "gemv_avg_flatmaps = gemv_avgs_pilot | gemv_avgs_pilot5"
   ]
  },
  {
   "cell_type": "code",
   "execution_count": 30,
   "metadata": {},
   "outputs": [],
   "source": [
    "# matches\n",
    "qa_list = [\n",
    "    # approx matches\n",
    "    'Is time mentioned in the input?',\n",
    "    'Does the input contain a measurement?',\n",
    "    # 'Does the input contain a number?',\n",
    "    'Does the sentence mention a specific location?',\n",
    "    # 'Does the sentence describe a relationship between people?',\n",
    "    # 'Does the sentence describe a relationship between people?',\n",
    "    'Does the text describe a mode of communication?',\n",
    "    # 'Does the sentence contain a negation?',\n",
    "]\n",
    "gemv_list = [\n",
    "    # approx matches\n",
    "    ('time', 212),\n",
    "    ('measurements', 171),\n",
    "    # ('measurements', 171),\n",
    "    # ('moments',\t337),\n",
    "    # ('locations', 122),\n",
    "    ('locations', 368),\n",
    "    # ('emotion', 179),\n",
    "    # ('emotional expression', 398),\n",
    "    ('communication', 299),\n",
    "    # ('negativity', 248)\n",
    "]\n",
    "\n",
    "\n",
    "qa_list += [\n",
    "    'Is the sentence abstract rather than concrete?',\n",
    "    'Does the sentence contain a cultural reference?',\n",
    "    'Does the sentence include dialogue?',\n",
    "    'Is the input related to a specific industry or profession?',\n",
    "    'Does the sentence contain a negation?',\n",
    "    'Does the input contain a number?',\n",
    "    \"Does the sentence express the narrator's opinion or judgment about an event or character?\",\n",
    "    'Does the sentence describe a personal or social interaction that leads to a change or revelation?',\n",
    "    'Does the sentence describe a personal reflection or thought?',\n",
    "    'Does the sentence involve an expression of personal values or beliefs?',\n",
    "    'Does the sentence describe a physical action?',\n",
    "    'Does the input involve planning or organizing?',\n",
    "    'Does the sentence contain a proper noun?',\n",
    "    'Does the sentence describe a relationship between people?',\n",
    "    'Does the sentence describe a sensory experience?',\n",
    "    'Does the sentence involve the mention of a specific object or item?',\n",
    "    'Does the sentence include technical or specialized terminology?',\n",
    "]\n",
    "\n",
    "gemv_list += [\n",
    "    ('abstract descriptions', 'qa'),\n",
    "    ('cultural references', 'qa'),\n",
    "    ('dialogue', 'qa'),\n",
    "    ('industry or profession', 'qa'),\n",
    "    ('negations', 'qa'),\n",
    "    ('numbers', 'qa'),\n",
    "    ('opinions or judgments', 'qa'),\n",
    "    ('personal or interactions interactions', 'qa'),\n",
    "    ('personal reflections or thoughts', 'qa'),\n",
    "    ('personal values or beliefs', 'qa'),\n",
    "    ('physical actions', 'qa'),\n",
    "    ('planning or organizing', 'qa'),\n",
    "    ('proper nouns', 'qa'),\n",
    "    ('relationships between people', 'qa'),\n",
    "    ('sensory experiences', 'qa'),\n",
    "    ('specific objects or items', 'qa'),\n",
    "    ('technical or specialized terminology', 'qa')\n",
    "]\n",
    "\n",
    "df_pairs = pd.DataFrame({\n",
    "    'qa_weight': qa_list,\n",
    "    'gemv_avg_resp': gemv_list,\n",
    "})"
   ]
  },
  {
   "cell_type": "code",
   "execution_count": 23,
   "metadata": {},
   "outputs": [],
   "source": [
    "subject = 'UTS02'\n",
    "# df_qa_dict = joblib.load(f'df_qa_dict_{subject.replace(\"UT\", \"\")}.pkl')"
   ]
  },
  {
   "cell_type": "code",
   "execution_count": 36,
   "metadata": {},
   "outputs": [
    {
     "name": "stderr",
     "output_type": "stream",
     "text": [
      "/home/chansingh/fmri/notebooks_gpt4/viz.py:104: RuntimeWarning: Mean of empty slice.\n",
      "  plt.axvline(np.diag(corrs).mean())\n",
      "/home/chansingh/.env/lib/python3.11/site-packages/numpy/core/_methods.py:192: RuntimeWarning: invalid value encountered in scalar divide\n",
      "  ret = ret.dtype.type(ret / rcount)\n",
      "/home/chansingh/fmri/notebooks_gpt4/viz.py:107: RuntimeWarning: Mean of empty slice.\n",
      "  plt.text(np.diag(corrs).mean(), 0.1,\n",
      "/home/chansingh/fmri/notebooks_gpt4/viz.py:108: RuntimeWarning: Mean of empty slice.\n",
      "  f'{np.diag(corrs).mean():.3f}', ha='left', color='C0')\n",
      "posx and posy should be finite values\n",
      "posx and posy should be finite values\n",
      "posx and posy should be finite values\n",
      "posx and posy should be finite values\n",
      "posx and posy should be finite values\n",
      "posx and posy should be finite values\n",
      "posx and posy should be finite values\n",
      "posx and posy should be finite values\n"
     ]
    },
    {
     "name": "stdout",
     "output_type": "stream",
     "text": [
      "/home/chansingh/fmri/qa_results/gemv/corrs_individual\n"
     ]
    },
    {
     "data": {
      "image/png": "[encoded data removed]",
      "text/plain": [
       "<Figure size 640x480 with 1 Axes>"
      ]
     },
     "metadata": {},
     "output_type": "display_data"
    }
   ],
   "source": [
    "# for setting in df_qa_dict.keys():\n",
    "# setting = 'avg_individual'\n",
    "# setting = 'shapley_35'\n",
    "setting = 'individual'\n",
    "# df_qa_weights = df_qa_dict[setting]\n",
    "df_qa_weights = joblib.load(\n",
    "    join(PROCESSED_DIR, subject.replace('UT', ''), setting + '.pkl'))\n",
    "\n",
    "if isinstance(df_qa_weights, pd.DataFrame):\n",
    "    df_pairs = df_pairs[df_pairs['qa_weight'].isin(df_qa_weights.index)]\n",
    "    flatmaps_qa = df_qa_weights.loc[df_pairs['qa_weight'].values]['weights'].values\n",
    "else:\n",
    "    flatmaps_qa = [df_qa_weights[bd]\n",
    "                   for bd in df_pairs['qa_weight'].values]\n",
    "flatmaps_gemv = [gemv_avg_flatmaps[bd]\n",
    "                 for bd in df_pairs['gemv_avg_resp'].values]\n",
    "\n",
    "titles_gt = df_pairs['gemv_avg_resp'].apply(lambda x: x[0]).astype(str)\n",
    "corrs = viz._calc_corrs(\n",
    "    flatmaps_qa,\n",
    "    flatmaps_gemv,\n",
    "    titles_qa=[analyze_helper.abbrev_question(\n",
    "        q) for q in df_pairs['qa_weight'].astype(str)],\n",
    "    titles_gt=titles_gt,\n",
    ")\n",
    "corrs_df = pd.DataFrame({'corrs': np.diag(\n",
    "    corrs.values), 'questions': corrs.columns}).sort_values('corrs', ascending=False)\n",
    "corrs_df.to_pickle(join(repo_dir, 'qa_results', 'gemv',\n",
    "                        setting + '_corrs_df.pkl'))\n",
    "\n",
    "viz.corr_bars(\n",
    "    corrs,\n",
    "    out_dir_save=join(repo_dir, 'qa_results', 'gemv',\n",
    "                      'corrs_' + setting),\n",
    "    xlab='GEM-V',\n",
    ")\n",
    "plt.show()\n",
    "\n",
    "# # save flatmaps\n",
    "# for i in tqdm(range(len(flatmaps_qa))):\n",
    "#     sasc.viz.quickshow(\n",
    "#         flatmaps_qa[i],\n",
    "#         subject=subject,\n",
    "#         fname_save=join(repo_dir, 'qa_results', 'gemv', subject,\n",
    "#                         setting, f'{titles_gt[i]}.png')\n",
    "#     )\n",
    "\n",
    "#     sasc.viz.quickshow(\n",
    "#         flatmaps_gemv[i],\n",
    "#         subject=subject,\n",
    "#         fname_save=join(repo_dir, 'qa_results', 'gemv', subject,\n",
    "#                         'gemv', f'{titles_gt[i]}.png')\n",
    "#     )"
   ]
  },
  {
   "cell_type": "markdown",
   "metadata": {},
   "source": [
    "# Look at merged flatmaps"
   ]
  },
  {
   "cell_type": "code",
   "execution_count": 17,
   "metadata": {},
   "outputs": [],
   "source": [
    "corrs_df = pd.read_pickle(join(repo_dir, 'qa_results',\n",
    "                               'gemv', setting + '_corrs_df.pkl'))"
   ]
  },
  {
   "cell_type": "code",
   "execution_count": 18,
   "metadata": {},
   "outputs": [],
   "source": [
    "img_dir1 = join(repo_dir, 'qa_results', 'gemv',\n",
    "                subject, 'gemv')\n",
    "img_dir2 = join(repo_dir, 'qa_results', 'gemv',\n",
    "                subject, setting)\n",
    "\n",
    "# read images and combine them with their filenames on a single plot\n",
    "# fnames = os.listdir(img_dir1)\n",
    "# fnames = [f for f in fnames if f.endswith('.png')]\n",
    "# only keep the ones that are in both directories\n",
    "# fnames = [f for f in fnames if f in os.listdir(img_dir2)]\n",
    "\n",
    "\n",
    "# corrs = corrs.sort_values('corrs', ascending=False)\n",
    "fnames = [v + '.png' for v in corrs_df['questions'].values]\n",
    "\n",
    "n = len(fnames)\n",
    "C = 4\n",
    "R = int(np.ceil(n / C))\n",
    "\n",
    "fig, axs = plt.subplots(R, C, figsize=(C * 3.2, R * 1))\n",
    "axs = axs.flatten()\n",
    "for i in range(len(axs)):\n",
    "    axs[i].axis('off')\n",
    "for i, fname in enumerate(fnames):\n",
    "    img1 = plt.imread(join(img_dir1, fname))\n",
    "    img2 = plt.imread(join(img_dir2, fname))\n",
    "    axs[i].imshow(np.concatenate([img1, img2], axis=1))\n",
    "    axs[i].set_title(\n",
    "        f'{fname[:-4]} ({corrs_df[\"corrs\"].values[i]:0.3f})', fontsize=8)\n",
    "\n",
    "# add text in bottom right of figure\n",
    "fig.text(0.99, 0.01, f'{subject}\\nGEMV on left, QA on right',\n",
    "         ha='right', va='bottom', fontsize=8)\n",
    "plt.tight_layout()\n",
    "plt.savefig(join(repo_dir, 'qa_results', 'gemv',\n",
    "            subject, f'flatmaps_{setting}_{subject}.png'), dpi=300)\n",
    "plt.close()"
   ]
  },
  {
   "cell_type": "code",
   "execution_count": null,
   "metadata": {},
   "outputs": [],
   "source": []
  }
 ],
 "metadata": {
  "kernelspec": {
   "display_name": "Python 3.8.10 ('.embgam')",
   "language": "python",
   "name": "python3"
  },
  "language_info": {
   "codemirror_mode": {
    "name": "ipython",
    "version": 3
   },
   "file_extension": ".py",
   "mimetype": "text/x-python",
   "name": "python",
   "nbconvert_exporter": "python",
   "pygments_lexer": "ipython3",
   "version": "3.11.9"
  },
  "orig_nbformat": 4,
  "vscode": {
   "interpreter": {
    "hash": "559535f78d940c882783b39501b2581b5193373045707e5f8a51d046029cfd38"
   }
  }
 },
 "nbformat": 4,
 "nbformat_minor": 2
}
