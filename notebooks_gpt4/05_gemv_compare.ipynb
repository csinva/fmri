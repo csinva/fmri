{
 "cells": [
  {
   "cell_type": "code",
   "execution_count": null,
   "metadata": {},
   "outputs": [],
   "source": [
    "%load_ext autoreload\n",
    "%autoreload 2\n",
    "import sys\n",
    "from ridge_utils.DataSequence import DataSequence\n",
    "import pandas as pd\n",
    "import os\n",
    "import matplotlib.pyplot as plt\n",
    "import cortex\n",
    "import seaborn as sns\n",
    "from os.path import join\n",
    "from collections import defaultdict\n",
    "import numpy as np\n",
    "import sasc.viz\n",
    "import joblib\n",
    "import dvu\n",
    "import sys\n",
    "sys.path.append('../notebooks')\n",
    "from tqdm import tqdm\n",
    "from sasc.config import FMRI_DIR, STORIES_DIR, RESULTS_DIR\n",
    "from neuro.config import repo_dir\n",
    "from neuro import analyze_helper, viz\n",
    "from neuro.features.qa_questions import get_questions, get_merged_questions_v3_boostexamples\n",
    "flatmaps_per_question = __import__('06_flatmaps_per_question')\n",
    "import viz"
   ]
  },
  {
   "cell_type": "markdown",
   "metadata": {},
   "source": [
    "Note, this notebook requires first running `03_export_qa_flatmaps.ipynb` into `df_qa_dict.pkl` files for each subject."
   ]
  },
  {
   "cell_type": "markdown",
   "metadata": {},
   "source": [
    "### load gemv average flatmaps"
   ]
  },
  {
   "cell_type": "code",
   "execution_count": null,
   "metadata": {},
   "outputs": [],
   "source": [
    "gemv_avgs_pilot = joblib.load(join(\n",
    "    RESULTS_DIR, \"processed\", \"flatmaps\", 'resps_avg_dict_pilot.pkl'))\n",
    "gemv_avgs_pilot5 = joblib.load(join(\n",
    "    RESULTS_DIR, \"processed\", \"flatmaps\", 'resps_avg_dict_pilot5.pkl'))\n",
    "gemv_avg_flatmaps = gemv_avgs_pilot | gemv_avgs_pilot5"
   ]
  },
  {
   "cell_type": "markdown",
   "metadata": {},
   "source": [
    "# Make comparison"
   ]
  },
  {
   "cell_type": "code",
   "execution_count": null,
   "metadata": {},
   "outputs": [],
   "source": [
    "# matches\n",
    "qa_list = [\n",
    "    # approx matches\n",
    "    'Is time mentioned in the input?',\n",
    "    'Does the input contain a measurement?',\n",
    "    # 'Does the input contain a number?',\n",
    "    'Does the sentence mention a specific location?',\n",
    "    # 'Does the sentence describe a relationship between people?',\n",
    "    # 'Does the sentence describe a relationship between people?',\n",
    "    'Does the text describe a mode of communication?',\n",
    "    # 'Does the sentence contain a negation?',\n",
    "]\n",
    "gemv_list = [\n",
    "    # approx matches\n",
    "    ('time', 212),\n",
    "    ('measurements', 171),\n",
    "    # ('measurements', 171),\n",
    "    # ('moments',\t337),\n",
    "    # ('locations', 122),\n",
    "    ('locations', 368),\n",
    "    # ('emotion', 179),\n",
    "    # ('emotional expression', 398),\n",
    "    ('communication', 299),\n",
    "    # ('negativity', 248)\n",
    "]\n",
    "\n",
    "\n",
    "qa_list += [\n",
    "    'Is the sentence abstract rather than concrete?',\n",
    "    'Does the sentence contain a cultural reference?',\n",
    "    'Does the sentence include dialogue?',\n",
    "    'Is the input related to a specific industry or profession?',\n",
    "    'Does the sentence contain a negation?',\n",
    "    'Does the input contain a number?',\n",
    "    \"Does the sentence express the narrator's opinion or judgment about an event or character?\",\n",
    "    'Does the sentence describe a personal or social interaction that leads to a change or revelation?',\n",
    "    'Does the sentence describe a personal reflection or thought?',\n",
    "    'Does the sentence involve an expression of personal values or beliefs?',\n",
    "    'Does the sentence describe a physical action?',\n",
    "    'Does the input involve planning or organizing?',\n",
    "    'Does the sentence contain a proper noun?',\n",
    "    'Does the sentence describe a relationship between people?',\n",
    "    'Does the sentence describe a sensory experience?',\n",
    "    'Does the sentence involve the mention of a specific object or item?',\n",
    "    'Does the sentence include technical or specialized terminology?',\n",
    "]\n",
    "\n",
    "gemv_list += [\n",
    "    ('abstract descriptions', 'qa'),\n",
    "    ('cultural references', 'qa'),\n",
    "    ('dialogue', 'qa'),\n",
    "    ('industry or profession', 'qa'),\n",
    "    ('negations', 'qa'),\n",
    "    ('numbers', 'qa'),\n",
    "    ('opinions or judgments', 'qa'),\n",
    "    ('personal or interactions interactions', 'qa'),\n",
    "    ('personal reflections or thoughts', 'qa'),\n",
    "    ('personal values or beliefs', 'qa'),\n",
    "    ('physical actions', 'qa'),\n",
    "    ('planning or organizing', 'qa'),\n",
    "    ('proper nouns', 'qa'),\n",
    "    ('relationships between people', 'qa'),\n",
    "    ('sensory experiences', 'qa'),\n",
    "    ('specific objects or items', 'qa'),\n",
    "    ('technical or specialized terminology', 'qa')\n",
    "]\n",
    "\n",
    "df_pairs = pd.DataFrame({\n",
    "    'qa_weight': qa_list,\n",
    "    'gemv_avg_resp': gemv_list,\n",
    "})"
   ]
  },
  {
   "cell_type": "code",
   "execution_count": null,
   "metadata": {},
   "outputs": [],
   "source": [
    "subject = 'S02'\n",
    "df_qa_dict = joblib.load(f'df_qa_dict_{subject.replace(\"UT\", \"\")}.pkl')"
   ]
  },
  {
   "cell_type": "code",
   "execution_count": null,
   "metadata": {},
   "outputs": [],
   "source": [
    "# for setting in df_qa_dict.keys():\n",
    "for setting in ['shapley35', 'avg_individual']:\n",
    "    df_qa_weights = df_qa_dict[setting]\n",
    "\n",
    "    if isinstance(df_qa_weights, pd.DataFrame):\n",
    "        df_pairs = df_pairs[df_pairs['qa_weight'].isin(df_qa_weights.index)]\n",
    "        flatmaps_qa = df_qa_weights.loc[df_pairs['qa_weight'].values]['weights'].values\n",
    "    else:\n",
    "        flatmaps_qa = [df_qa_weights[bd]\n",
    "                       for bd in df_pairs['qa_weight'].values]\n",
    "    flatmaps_gemv = [gemv_avg_flatmaps[bd]\n",
    "                     for bd in df_pairs['gemv_avg_resp'].values]\n",
    "\n",
    "    corrs = viz._calc_corrs(\n",
    "        flatmaps_qa,\n",
    "        flatmaps_gemv,\n",
    "        titles_qa=[analyze_helper.abbrev_question(\n",
    "            q) for q in df_pairs['qa_weight'].astype(str)],\n",
    "        titles_gt=df_pairs['gemv_avg_resp'].apply(lambda x: x[0]).astype(str)\n",
    "    )\n",
    "\n",
    "    viz.corr_bars(\n",
    "        corrs,\n",
    "        out_dir_save=join(repo_dir, 'qa_results', 'hypothesis_tests', setting),\n",
    "        xlab='GEM-V',\n",
    "    )\n",
    "    plt.show()"
   ]
  }
 ],
 "metadata": {
  "kernelspec": {
   "display_name": "Python 3.8.10 ('.embgam')",
   "language": "python",
   "name": "python3"
  },
  "language_info": {
   "codemirror_mode": {
    "name": "ipython",
    "version": 3
   },
   "file_extension": ".py",
   "mimetype": "text/x-python",
   "name": "python",
   "nbconvert_exporter": "python",
   "pygments_lexer": "ipython3",
   "version": "3.11.9"
  },
  "orig_nbformat": 4,
  "vscode": {
   "interpreter": {
    "hash": "559535f78d940c882783b39501b2581b5193373045707e5f8a51d046029cfd38"
   }
  }
 },
 "nbformat": 4,
 "nbformat_minor": 2
}
