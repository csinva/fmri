{
 "cells": [
  {
   "cell_type": "code",
   "execution_count": null,
   "metadata": {},
   "outputs": [],
   "source": [
    "%load_ext autoreload\n",
    "%autoreload 2\n",
    "import sys\n",
    "from ridge_utils.DataSequence import DataSequence\n",
    "import pandas as pd\n",
    "import os\n",
    "import matplotlib.pyplot as plt\n",
    "import cortex\n",
    "import seaborn as sns\n",
    "from os.path import join\n",
    "from collections import defaultdict\n",
    "import numpy as np\n",
    "import sasc.viz\n",
    "import joblib\n",
    "import dvu\n",
    "import sys\n",
    "sys.path.append('../notebooks')\n",
    "from tqdm import tqdm\n",
    "from sasc.config import FMRI_DIR, STORIES_DIR, RESULTS_DIR\n",
    "from neuro.config import repo_dir\n",
    "from neuro import analyze_helper, viz\n",
    "from neuro.features.qa_questions import get_questions, get_merged_questions_v3_boostexamples\n",
    "flatmaps_per_question = __import__('06_flatmaps_per_question')\n",
    "from neurosynth import term_dict, term_dict_rev\n",
    "import viz"
   ]
  },
  {
   "cell_type": "code",
   "execution_count": null,
   "metadata": {},
   "outputs": [],
   "source": [
    "from load_coef_flatmaps import _load_coefs_35questions, _load_coefs_individual, _load_coefs_individual_wordrate, _load_coefs_wordrate"
   ]
  },
  {
   "cell_type": "code",
   "execution_count": null,
   "metadata": {},
   "outputs": [],
   "source": [
    "results_dir = '/home/chansingh/mntv1/deep-fMRI/encoding/aug12_neurosynth_gemv'\n",
    "rr_shapley, cols_varied, mets = analyze_helper.load_clean_results(results_dir)"
   ]
  },
  {
   "cell_type": "code",
   "execution_count": null,
   "metadata": {},
   "outputs": [],
   "source": [
    "def _load_coefs_shapley(subject='S02', qa_questions_version='v3_boostexamples_merged'):\n",
    "    r = rr_shapley\n",
    "    r = r[r['qa_questions_version'] == qa_questions_version]\n",
    "    r = r[r['subject'] == subject]\n",
    "    print(r.shape, rr_shapley.shape)\n",
    "    row = r.iloc[0]\n",
    "\n",
    "    if qa_questions_version == 'v3_boostexamples_merged':\n",
    "        questions = get_merged_questions_v3_boostexamples()\n",
    "        questions = np.array(questions)[row.weight_enet_mask]\n",
    "    else:\n",
    "        questions = get_questions(qa_questions_version)\n",
    "\n",
    "    flatmaps_shapley = defaultdict(list)\n",
    "    for i in range(len(r)):\n",
    "        row = r.iloc[i]\n",
    "        weights, weights_pc = flatmaps_per_question.get_weights_top(row)\n",
    "        question_indexes = np.arange(len(questions))[\n",
    "            row['weight_random_mask'][:len(questions)]]\n",
    "\n",
    "        for w_idx, q_idx in enumerate(question_indexes):\n",
    "            flatmaps_shapley[questions[q_idx]].append(weights[w_idx])\n",
    "\n",
    "    print('lens', [len(w) for w in flatmaps_shapley.values()])\n",
    "\n",
    "    for q, w in flatmaps_shapley.items():\n",
    "        flatmaps_shapley[q] = np.vstack(w).mean(axis=0)\n",
    "    return flatmaps_shapley\n",
    "\n",
    "\n",
    "subject = 'S03'\n",
    "df_w_shapley35 = _load_coefs_shapley(\n",
    "    subject=subject, qa_questions_version='v3_boostexamples_merged')\n",
    "\n",
    "df_w_shapley_neurosynth = _load_coefs_shapley(\n",
    "    subject, qa_questions_version='v1neurosynth')"
   ]
  },
  {
   "cell_type": "code",
   "execution_count": null,
   "metadata": {},
   "outputs": [],
   "source": [
    "# subject = 'S02'\n",
    "for subject in ['S01', 'S02', 'S03']:\n",
    "    # jointly fitted 35-question model\n",
    "    df_w_selected35 = _load_coefs_35questions(subject=subject)\n",
    "\n",
    "    # individually fitted question models\n",
    "    df_w_individual = _load_coefs_individual(subject=subject)\n",
    "\n",
    "    # individually fitted question models *with wordrate\n",
    "    df_w_individual_wordrate = _load_coefs_individual_wordrate(\n",
    "        subject=subject)\n",
    "\n",
    "    # wordrate\n",
    "    df_w_wordrate_alone = _load_coefs_wordrate(subject=subject)\n",
    "\n",
    "    df_w_shapley35 = _load_coefs_shapley(\n",
    "        subject, qa_questions_version='v3_boostexamples_merged')\n",
    "\n",
    "    df_w_shapley_neurosynth = _load_coefs_shapley(\n",
    "        subject, qa_questions_version='v1neurosynth')\n",
    "\n",
    "    # collate individual dfs #########################\n",
    "    # average weights for df_w_selected35 and df_w_individual\n",
    "    if subject == 'S02':\n",
    "        df_avg = df_w_selected35.merge(df_w_individual, on='question')\n",
    "        df_avg['weights'] = df_avg.apply(\n",
    "            lambda x: np.mean([x['weights_x'], x['weights_y']], axis=0), axis=1)\n",
    "\n",
    "    df_avg_individual = df_w_individual.merge(\n",
    "        df_w_individual_wordrate, on='question')\n",
    "    df_avg_individual['weights'] = df_avg_individual.apply(\n",
    "        lambda x: np.mean([x['weights_x'], x['weights_y']], axis=0), axis=1)\n",
    "\n",
    "    df_qa_dict = {\n",
    "        'selected35': df_w_selected35,\n",
    "        'individual': df_w_individual,\n",
    "        'individual_wordrate': df_w_individual_wordrate,\n",
    "        'wordrate_alone': df_w_wordrate_alone,\n",
    "        # 'avg': df_avg,\n",
    "        'shapley_neurosynth': df_w_shapley_neurosynth,\n",
    "        'shapley35': df_w_shapley35,\n",
    "        'avg_individual': df_avg_individual\n",
    "    }\n",
    "    joblib.dump(df_qa_dict, f'df_qa_dict_{subject}.pkl')"
   ]
  }
 ],
 "metadata": {
  "kernelspec": {
   "display_name": "Python 3.8.10 ('.embgam')",
   "language": "python",
   "name": "python3"
  },
  "language_info": {
   "codemirror_mode": {
    "name": "ipython",
    "version": 3
   },
   "file_extension": ".py",
   "mimetype": "text/x-python",
   "name": "python",
   "nbconvert_exporter": "python",
   "pygments_lexer": "ipython3",
   "version": "3.11.9"
  },
  "orig_nbformat": 4,
  "vscode": {
   "interpreter": {
    "hash": "559535f78d940c882783b39501b2581b5193373045707e5f8a51d046029cfd38"
   }
  }
 },
 "nbformat": 4,
 "nbformat_minor": 2
}
