{
 "cells": [
  {
   "cell_type": "code",
   "execution_count": null,
   "metadata": {},
   "outputs": [],
   "source": [
    "%load_ext autoreload\n",
    "%autoreload 2\n",
    "import os\n",
    "import matplotlib.pyplot as plt\n",
    "import seaborn as sns\n",
    "from os.path import join\n",
    "from tqdm import tqdm\n",
    "import pandas as pd\n",
    "import sys\n",
    "from typing import List\n",
    "import numpy as np\n",
    "import joblib\n",
    "from pprint import pprint\n",
    "from math import ceil\n",
    "import imodelsx.util\n",
    "import sasc.viz\n",
    "from copy import deepcopy\n",
    "from sklearn.cluster import AgglomerativeClustering\n",
    "from PIL import Image\n",
    "from scipy.sparse import csr_matrix\n",
    "from sasc.config import CACHE_DIR, RESULTS_DIR, cache_ngrams_dir, regions_idxs_dir, FMRI_DIR, SAVE_DIR_FMRI\n",
    "import sasc.modules.fmri_module\n",
    "from neuro.config import repo_dir, PROCESSED_DIR\n",
    "from collections import defaultdict\n",
    "from scipy.stats import norm\n",
    "from statsmodels.stats.multitest import multipletests\n",
    "import gemv\n",
    "from neuro.flatmaps_helper import load_flatmaps\n",
    "\n",
    "subject = 'S02'\n",
    "k_values = np.unique(np.logspace(0.5, 3.5, 20, dtype=int))\n",
    "SUBJECT_VOX_COUNTS_DICT = {'S02': 94251,}\n",
    "\n",
    "# load connectivity stuff\n",
    "data = np.load(\n",
    "    join(FMRI_DIR, 'brain_tune/voxel_neighbors_and_pcs/', 'connectivity.npz'))\n",
    "connectivity = csr_matrix(\n",
    "    (data['data'], data['indices'], data['indptr']), shape=data['shape'])"
   ]
  },
  {
   "cell_type": "code",
   "execution_count": 88,
   "metadata": {},
   "outputs": [],
   "source": [
    "# flatmaps qa dict\n",
    "settings = ['individual_gpt4_pc']\n",
    "flatmaps_qa_list = defaultdict(list)\n",
    "for setting in settings:\n",
    "    flatmaps_qa_dict = joblib.load(\n",
    "        join(PROCESSED_DIR, subject.replace('UT', ''), setting + '.pkl'))\n",
    "    for q in flatmaps_qa_dict.keys():\n",
    "        flatmaps_qa_list[q].append(flatmaps_qa_dict[q])\n",
    "flatmaps_qa_dict = {\n",
    "    q: np.mean(flatmaps_qa_list[q], axis=0)\n",
    "    for q in flatmaps_qa_list.keys()}"
   ]
  },
  {
   "cell_type": "code",
   "execution_count": 89,
   "metadata": {},
   "outputs": [],
   "source": [
    "# q = 'Does the input contain a number?'\n",
    "q = 'Does the input contain a measurement?'\n",
    "flatmap_q = flatmaps_qa_dict[q].reshape(-1, 1)"
   ]
  },
  {
   "cell_type": "markdown",
   "metadata": {},
   "source": [
    "### run clustering"
   ]
  },
  {
   "cell_type": "code",
   "execution_count": null,
   "metadata": {},
   "outputs": [],
   "source": [
    "cluster_assignments_dict = {}\n",
    "for num_clusters in tqdm(k_values):\n",
    "    out_fname = f'clusters/cluster_aggregated_{num_clusters}.png'\n",
    "    clustering = AgglomerativeClustering(\n",
    "        n_clusters=num_clusters,\n",
    "        connectivity=connectivity,\n",
    "        linkage='ward',\n",
    "    )\n",
    "\n",
    "    clustering.fit(flatmap_q)\n",
    "    cluster_assignments = clustering.labels_\n",
    "    cluster_assignments_dict[num_clusters] = deepcopy(cluster_assignments)\n",
    "\n",
    "    # visualize clusters\n",
    "    # for i in range(min(20, num_clusters)):\n",
    "    #     flatmap = (cluster_assignments == i).astype(int)\n",
    "\n",
    "    #     sasc.viz._save_flatmap(\n",
    "    #         flatmap, 'S02', fname_save=f'clusters/{i+1}.png')\n",
    "\n",
    "    # # # read all plots and save as subplots on the same page\n",
    "    # C = 10\n",
    "    # R = ceil(min(20, num_clusters)/C)\n",
    "    # fig, axs = plt.subplots(R, C, figsize=(C * 4, R * 2))\n",
    "    # axs = axs.ravel()\n",
    "    # for i in range(min(20, num_clusters)):\n",
    "    #     axs[i].imshow(Image.open(f'clusters/{i+1}.png'))\n",
    "    #     axs[i].axis('off')\n",
    "    #     axs[i].set_title(f'{i + 1}')\n",
    "    # plt.savefig(out_fname)\n",
    "joblib.dump(cluster_assignments_dict, join(\n",
    "    cache_ngrams_dir, f'cluster_assignments_dict_{subject}.jbl'))\n",
    "\n",
    "# sasc.viz._save_flatmap(\n",
    "#     flatmap_q.flatten(), 'S02', fname_save=f'clusters/raw_data.png')"
   ]
  },
  {
   "cell_type": "markdown",
   "metadata": {},
   "source": [
    "### Evaluate clustering"
   ]
  },
  {
   "cell_type": "code",
   "execution_count": 69,
   "metadata": {},
   "outputs": [],
   "source": [
    "cluster_assignments_dict = joblib.load(join(\n",
    "    cache_ngrams_dir, f'cluster_assignments_dict_{subject}.jbl'))"
   ]
  },
  {
   "cell_type": "code",
   "execution_count": 70,
   "metadata": {},
   "outputs": [],
   "source": [
    "cluster_assignments_dict\n",
    "r = defaultdict(list)\n",
    "for k in cluster_assignments_dict.keys():\n",
    "    clusters = cluster_assignments_dict[k]\n",
    "    cluster_sizes = np.unique(clusters, return_counts=True)[1]\n",
    "    cluster_vals = np.array([\n",
    "        np.median(flatmap_q[clusters == i]) for i in range(k)])\n",
    "    r['num_clusters'].append(k)\n",
    "    r['cluster_sizes'].append(cluster_sizes)\n",
    "    r['cluster_driving_scores'].append(cluster_vals)\n",
    "r = pd.DataFrame(r)"
   ]
  },
  {
   "cell_type": "code",
   "execution_count": null,
   "metadata": {},
   "outputs": [],
   "source": [
    "i_cluster = 15\n",
    "row = r.iloc[i_cluster]\n",
    "plt.plot(row['cluster_sizes'], row['cluster_driving_scores'], '.')\n",
    "plt.grid()\n",
    "plt.xscale('log')\n",
    "plt.xlabel('Cluster size')\n",
    "plt.ylabel('Cluster driving score')\n",
    "plt.show()"
   ]
  },
  {
   "cell_type": "code",
   "execution_count": null,
   "metadata": {},
   "outputs": [],
   "source": [
    "good_clusters = (row['cluster_sizes'] > 10) & (\n",
    "    row['cluster_driving_scores'] > 0.01)\n",
    "good_cluster_idxs = np.arange(len(row['cluster_sizes']))[good_clusters]\n",
    "k_cluster = row['num_clusters']\n",
    "num_clusters = len(good_cluster_idxs)\n",
    "cluster_assignments = cluster_assignments_dict[k_cluster]\n",
    "\n",
    "# for i in tqdm(range(min(20, num_clusters))):\n",
    "#     k = good_cluster_idxs[i]\n",
    "#     flatmap = (cluster_assignments == k).astype(int)\n",
    "\n",
    "#     sasc.viz._save_flatmap(\n",
    "#         flatmap, 'S02', fname_save=f'good_clusters/{i+1}.png')\n",
    "\n",
    "# # read all plots and save as subplots on the same page\n",
    "# C = 10\n",
    "# R = ceil(min(20, num_clusters)/C)\n",
    "# fig, axs = plt.subplots(R, C, figsize=(C * 4, R * 2))\n",
    "# axs = axs.ravel()\n",
    "# for i in range(min(20, num_clusters)):\n",
    "#     axs[i].imshow(Image.open(f'good_clusters/{i+1}.png'))\n",
    "#     axs[i].axis('off')\n",
    "#     axs[i].set_title(f'{i + 1}')\n",
    "# plt.savefig('good_clusters/cluster_aggregated.png')"
   ]
  },
  {
   "cell_type": "markdown",
   "metadata": {},
   "source": [
    "### Evaluate on gemv"
   ]
  },
  {
   "cell_type": "code",
   "execution_count": 76,
   "metadata": {},
   "outputs": [],
   "source": [
    "# gemv_flatmaps_dict = gemv_flatmaps_pilot | gemv_flatmaps_pilot5\n",
    "qa_questions_list, gemv_questions_list = gemv.get_matched_lists()\n",
    "qa_to_gemv_questions_list = {qa_q: gemv_q for gemv_q, qa_q in zip(\n",
    "    gemv_questions_list, qa_questions_list)}"
   ]
  },
  {
   "cell_type": "code",
   "execution_count": 77,
   "metadata": {},
   "outputs": [],
   "source": [
    "normalize_flatmaps = False\n",
    "gemv_flatmaps_dict_S02, gemv_flatmaps_dict_S03, gemv_flatmaps_dict_S02_timecourse, gemv_flatmaps_dict_S03_timecourse = load_flatmaps(\n",
    "    normalize_flatmaps, load_timecourse=True)"
   ]
  },
  {
   "cell_type": "code",
   "execution_count": 78,
   "metadata": {},
   "outputs": [],
   "source": [
    "gemv_flatmaps_dict = gemv_flatmaps_dict_S02"
   ]
  },
  {
   "cell_type": "code",
   "execution_count": null,
   "metadata": {},
   "outputs": [],
   "source": [
    "q_gemv = qa_to_gemv_questions_list[q]\n",
    "flatmap_gemv = gemv_flatmaps_dict[q_gemv]\n",
    "\n",
    "# evaluate cluster driving scores\n",
    "driving_scores = []\n",
    "qa_driving_scores = []\n",
    "for k in good_cluster_idxs:\n",
    "    cluster_driving_score = np.mean(flatmap_gemv[cluster_assignments == k])\n",
    "    driving_scores.append(cluster_driving_score)\n",
    "    qa_driving_score = np.mean(flatmap_q[cluster_assignments == k])\n",
    "    qa_driving_scores.append(qa_driving_score)\n",
    "# plt.hist(driving_scores)\n",
    "print('mean gemv driving score', np.mean(driving_scores))\n",
    "df = pd.DataFrame({'qa_driving_scores': qa_driving_scores,\n",
    "                   'driving_scores': driving_scores, 'cluster_size': row['cluster_sizes'][good_clusters]})\n",
    "# plt.plot(qa_driving_scores, driving_scores, '.')\n",
    "# plt.xlabel('QA driving score')\n",
    "# plt.ylabel('GEMV driving score')\n",
    "sns.scatterplot(data=df, x='qa_driving_scores',\n",
    "                y='driving_scores', hue='cluster_size')\n",
    "plt.axhline(0, color='k', linestyle='--')\n",
    "plt.axhline(np.mean(driving_scores), color='pink', linestyle='--')\n",
    "plt.show()"
   ]
  },
  {
   "cell_type": "code",
   "execution_count": 80,
   "metadata": {},
   "outputs": [],
   "source": [
    "# t-test on cluster driving score\n",
    "def zscore_to_pvalue_right_tailed(z):\n",
    "    \"\"\"Return the right-tailed p-value for a given z-score.\"\"\"\n",
    "    return 1 - norm.cdf(z)"
   ]
  },
  {
   "cell_type": "code",
   "execution_count": 81,
   "metadata": {},
   "outputs": [],
   "source": [
    "driving_scores = []\n",
    "zscores = []\n",
    "pvals = []\n",
    "for k in good_cluster_idxs:\n",
    "    cluster_mask = cluster_assignments == k\n",
    "    timecourse_roi = gemv_flatmaps_dict_S02_timecourse[q_gemv][cluster_mask]\n",
    "    flatmap_gemv = gemv_flatmaps_dict[q_gemv]\n",
    "\n",
    "    driving_score = np.mean(flatmap_gemv[cluster_mask])\n",
    "    stderr = timecourse_roi.mean(\n",
    "        axis=0).std() / np.sqrt(timecourse_roi.shape[1])\n",
    "    zscore = driving_score / stderr\n",
    "    pval = zscore_to_pvalue_right_tailed(zscore)\n",
    "\n",
    "    driving_scores.append(driving_score)\n",
    "    zscores.append(zscore)\n",
    "    pvals.append(pval)"
   ]
  },
  {
   "cell_type": "code",
   "execution_count": null,
   "metadata": {},
   "outputs": [],
   "source": [
    "driving_scores"
   ]
  },
  {
   "cell_type": "code",
   "execution_count": null,
   "metadata": {},
   "outputs": [],
   "source": [
    "sorted(pvals)"
   ]
  },
  {
   "cell_type": "code",
   "execution_count": null,
   "metadata": {},
   "outputs": [],
   "source": []
  }
 ],
 "metadata": {
  "kernelspec": {
   "display_name": ".env",
   "language": "python",
   "name": "python3"
  },
  "language_info": {
   "codemirror_mode": {
    "name": "ipython",
    "version": 3
   },
   "file_extension": ".py",
   "mimetype": "text/x-python",
   "name": "python",
   "nbconvert_exporter": "python",
   "pygments_lexer": "ipython3",
   "version": "3.11.11"
  },
  "orig_nbformat": 4
 },
 "nbformat": 4,
 "nbformat_minor": 2
}
