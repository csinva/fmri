{
 "cells": [
  {
   "cell_type": "code",
   "execution_count": null,
   "metadata": {},
   "outputs": [],
   "source": [
    "%load_ext autoreload\n",
    "%autoreload 2\n",
    "import os\n",
    "import matplotlib.pyplot as plt\n",
    "import seaborn as sns\n",
    "from os.path import join\n",
    "from tqdm import tqdm\n",
    "import pandas as pd\n",
    "import sys\n",
    "from typing import List\n",
    "import numpy as np\n",
    "import joblib\n",
    "from pprint import pprint\n",
    "from math import ceil\n",
    "import cortex\n",
    "from sasc.config import CACHE_DIR, RESULTS_DIR, cache_ngrams_dir, regions_idxs_dir, FMRI_DIR, SAVE_DIR_FMRI\n",
    "from neuro.config import repo_dir, PROCESSED_DIR\n",
    "from collections import defaultdict\n",
    "from scipy.stats import norm\n",
    "from statsmodels.stats.multitest import multipletests\n",
    "import gemv\n",
    "from neuro.flatmaps_helper import load_flatmaps\n",
    "import sasc.viz\n",
    "import nibabel as nib\n",
    "import neurosynth\n",
    "\n",
    "\n",
    "# set os environ SUBJECTS_DIR\n",
    "FREESURFER_VARS = {\n",
    "    'FREESURFER_HOME': os.path.expanduser('~/freesurfer'),\n",
    "    'FSL_DIR': os.path.expanduser('~/fsl'),\n",
    "    'FSFAST_HOME': os.path.expanduser('~/freesurfer/fsfast'),\n",
    "    'MNI_DIR': os.path.expanduser('~/freesurfer/mni'),\n",
    "    # 'SUBJECTS_DIR': join(repo_dir, 'notebooks_gt_flatmaps'),\n",
    "    'SUBJECTS_DIR': os.path.expanduser('~/freesurfer/subjects'),\n",
    "    # add freesurfer bin to path\n",
    "    'PATH': os.path.expanduser('~/freesurfer/bin') + ':' + os.environ['PATH'],\n",
    "}\n",
    "for k in FREESURFER_VARS.keys():\n",
    "    os.environ[k] = FREESURFER_VARS[k]\n",
    "\n",
    "subject = 'S02'"
   ]
  },
  {
   "cell_type": "markdown",
   "metadata": {},
   "source": [
    "### Load flatmaps"
   ]
  },
  {
   "cell_type": "code",
   "execution_count": null,
   "metadata": {},
   "outputs": [],
   "source": [
    "if subject in ['S01', 'S02', 'S03']:\n",
    "    settings = ['individual_gpt4', 'individual_gpt4_wordrate', 'shapley_35']\n",
    "else:\n",
    "    settings = ['individual_gpt4_ndel=1_pc_new']\n",
    "flatmaps_qa_list = defaultdict(list)\n",
    "for setting in settings:\n",
    "    flatmaps_qa_dict = joblib.load(\n",
    "        join(PROCESSED_DIR, subject.replace('UT', ''), setting + '.pkl'))\n",
    "    for q in flatmaps_qa_dict.keys():\n",
    "        flatmaps_qa_list[q].append(flatmaps_qa_dict[q])\n",
    "flatmaps_qa_dict = {\n",
    "    q: np.mean(flatmaps_qa_list[q], axis=0)\n",
    "    for q in flatmaps_qa_list.keys()}"
   ]
  },
  {
   "cell_type": "code",
   "execution_count": null,
   "metadata": {},
   "outputs": [],
   "source": [
    "flatmap_subject = flatmaps_qa_dict[list(flatmaps_qa_dict.keys())[0]].copy()"
   ]
  },
  {
   "cell_type": "code",
   "execution_count": 31,
   "metadata": {},
   "outputs": [
    {
     "name": "stdout",
     "output_type": "stream",
     "text": [
      "Caching mapper...\n",
      "subj shape (54, 84, 84) mni shape (91, 109, 91)\n"
     ]
    }
   ],
   "source": [
    "subj_vol = cortex.Volume(flatmap_subject, 'UT' + subject,\n",
    "                         xfmname=f\"UT{subject}_auto\")\n",
    "mni_vol = neurosynth.subj_vol_to_mni_surf(subj_vol, subject)\n",
    "print('subj shape', subj_vol.shape, 'mni shape', mni_vol.shape)"
   ]
  },
  {
   "cell_type": "code",
   "execution_count": null,
   "metadata": {},
   "outputs": [
    {
     "name": "stdout",
     "output_type": "stream",
     "text": [
      "Caching mapper...\n",
      "mni shape (91, 109, 91) subj shape (54, 84, 84) subj_arr shape (94251,)\n"
     ]
    }
   ],
   "source": [
    "term = 'locations'\n",
    "mni_filename = f'/home/chansingh/mntv1/deep-fMRI/qa/neurosynth_data/all_association-test_z/{term}_association-test_z.nii.gz'\n",
    "mni_vol = cortex.Volume(mni_filename, \"fsaverage\", \"atlas_2mm\")\n",
    "subj_vol, subj_arr = neurosynth.mni_vol_to_subj_vol_surf(\n",
    "    mni_vol, subject=subject)\n",
    "print('mni shape', mni_vol.shape, 'subj shape',\n",
    "      subj_vol.shape, 'subj_arr shape', subj_arr.shape)\n",
    "\n",
    "sasc.viz.quickshow(\n",
    "    subj_vol.data,\n",
    "    subject='UT' + subject,\n",
    "    fname_save=join(f'viz/{term}_subj.png'),\n",
    ")\n",
    "sasc.viz.quickshow(\n",
    "    mni_vol,\n",
    "    subject='fsaverage',\n",
    "    fname_save=join(f'viz/{term}_mni.png'),\n",
    ")"
   ]
  },
  {
   "cell_type": "markdown",
   "metadata": {},
   "source": [
    "# Save flatmaps"
   ]
  },
  {
   "cell_type": "code",
   "execution_count": null,
   "metadata": {},
   "outputs": [],
   "source": [
    "q = 'Does the sentence mention a specific location?'\n",
    "for subject in ['S03']:  # ['S02']: #['S01', 'S02', 'S03']:\n",
    "    if subject in ['S03']:\n",
    "        # settings = ['individual_gpt4', 'individual_gpt4_wordrate', 'shapley_35']\n",
    "        settings = ['shapley_35']\n",
    "    else:\n",
    "        settings = ['individual_gpt4_ndel=1_pc_new']\n",
    "    flatmaps_qa_list = defaultdict(list)\n",
    "    for setting in settings:\n",
    "        flatmaps_qa_dict = joblib.load(\n",
    "            join(PROCESSED_DIR, subject.replace('UT', ''), setting + '.pkl'))\n",
    "        flatmaps_qa_list[q].append(flatmaps_qa_dict[q])\n",
    "    flatmaps_qa_dict = {\n",
    "        q: np.mean(flatmaps_qa_list[q], axis=0)\n",
    "        for q in flatmaps_qa_list.keys()}\n",
    "\n",
    "    print('visualizing...')\n",
    "    sasc.viz.quickshow(\n",
    "        flatmaps_qa_dict[q],\n",
    "        subject='UT'+subject,\n",
    "        fname_save=join(repo_dir, 'qa_results', 'figs',\n",
    "                        'flatmaps_export', q, f'QA_{subject}.png'),\n",
    "        # cmap='RdYlBu_r',\n",
    "    )"
   ]
  },
  {
   "cell_type": "code",
   "execution_count": null,
   "metadata": {},
   "outputs": [],
   "source": [
    "gemv_flatmaps_dict_S02, gemv_flatmaps_dict_S03 = load_flatmaps(\n",
    "    normalize_flatmaps=False, load_timecourse=False)\n",
    "q_tup = ('locations', 368)\n",
    "sasc.viz.quickshow(\n",
    "    gemv_flatmaps_dict_S02[q_tup],\n",
    "    subject='UTS02',\n",
    "    fname_save=join(repo_dir, 'qa_results', 'figs',\n",
    "                    'flatmaps_export', q, f'gemv_S02.png'),\n",
    "    # cmap='RdYlBu_r',\n",
    ")"
   ]
  },
  {
   "cell_type": "code",
   "execution_count": null,
   "metadata": {},
   "outputs": [],
   "source": [
    "sasc.viz.quickshow(\n",
    "    subjvol.data,\n",
    "    subject='UTS02',\n",
    "    fname_save=join('viz/test.png'),\n",
    ")"
   ]
  },
  {
   "cell_type": "code",
   "execution_count": null,
   "metadata": {},
   "outputs": [],
   "source": []
  }
 ],
 "metadata": {
  "kernelspec": {
   "display_name": ".env",
   "language": "python",
   "name": "python3"
  },
  "language_info": {
   "codemirror_mode": {
    "name": "ipython",
    "version": 3
   },
   "file_extension": ".py",
   "mimetype": "text/x-python",
   "name": "python",
   "nbconvert_exporter": "python",
   "pygments_lexer": "ipython3",
   "version": "3.11.11"
  },
  "orig_nbformat": 4
 },
 "nbformat": 4,
 "nbformat_minor": 2
}
