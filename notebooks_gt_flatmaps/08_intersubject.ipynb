{
 "cells": [
  {
   "cell_type": "code",
   "execution_count": null,
   "metadata": {},
   "outputs": [],
   "source": [
    "%load_ext autoreload\n",
    "%autoreload 2\n",
    "import os\n",
    "import matplotlib.pyplot as plt\n",
    "import seaborn as sns\n",
    "from os.path import join\n",
    "from tqdm import tqdm\n",
    "import pandas as pd\n",
    "import sys\n",
    "from typing import List\n",
    "import numpy as np\n",
    "import joblib\n",
    "from pprint import pprint\n",
    "from math import ceil\n",
    "import imodelsx.util\n",
    "import sasc.viz\n",
    "from copy import deepcopy\n",
    "from sklearn.cluster import AgglomerativeClustering\n",
    "from PIL import Image\n",
    "from scipy.sparse import csr_matrix\n",
    "from sasc.config import CACHE_DIR, RESULTS_DIR, cache_ngrams_dir, regions_idxs_dir, FMRI_DIR, SAVE_DIR_FMRI\n",
    "import sasc.modules.fmri_module\n",
    "from neuro.config import repo_dir, PROCESSED_DIR\n",
    "from collections import defaultdict\n",
    "from scipy.stats import norm\n",
    "from statsmodels.stats.multitest import multipletests\n",
    "import gemv\n",
    "from neuro.flatmaps_helper import load_flatmaps\n",
    "\n",
    "subject = 'S02'"
   ]
  },
  {
   "cell_type": "code",
   "execution_count": null,
   "metadata": {},
   "outputs": [],
   "source": [
    "if subject in ['S01', 'S02', 'S03']:\n",
    "    settings = ['individual_gpt4', 'individual_gpt4_wordrate', 'shapley_35']\n",
    "else:\n",
    "    settings = ['individual_gpt4_ndel=1_pc_new']\n",
    "flatmaps_qa_list = defaultdict(list)\n",
    "for setting in settings:\n",
    "    flatmaps_qa_dict = joblib.load(\n",
    "        join(PROCESSED_DIR, subject.replace('UT', ''), setting + '.pkl'))\n",
    "    for q in flatmaps_qa_dict.keys():\n",
    "        flatmaps_qa_list[q].append(flatmaps_qa_dict[q])\n",
    "flatmaps_qa_dict = {\n",
    "    q: np.mean(flatmaps_qa_list[q], axis=0)\n",
    "    for q in flatmaps_qa_list.keys()}"
   ]
  },
  {
   "cell_type": "code",
   "execution_count": null,
   "metadata": {},
   "outputs": [],
   "source": []
  }
 ],
 "metadata": {
  "kernelspec": {
   "display_name": ".env",
   "language": "python",
   "name": "python3"
  },
  "language_info": {
   "codemirror_mode": {
    "name": "ipython",
    "version": 3
   },
   "file_extension": ".py",
   "mimetype": "text/x-python",
   "name": "python",
   "nbconvert_exporter": "python",
   "pygments_lexer": "ipython3",
   "version": "3.11.11"
  },
  "orig_nbformat": 4
 },
 "nbformat": 4,
 "nbformat_minor": 2
}
