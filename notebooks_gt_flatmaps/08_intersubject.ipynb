{
 "cells": [
  {
   "cell_type": "code",
   "execution_count": 1,
   "metadata": {},
   "outputs": [],
   "source": [
    "%load_ext autoreload\n",
    "%autoreload 2\n",
    "import os\n",
    "import matplotlib.pyplot as plt\n",
    "import seaborn as sns\n",
    "from os.path import join\n",
    "from tqdm import tqdm\n",
    "import pandas as pd\n",
    "import sys\n",
    "from typing import List\n",
    "import numpy as np\n",
    "import joblib\n",
    "from pprint import pprint\n",
    "from math import ceil\n",
    "import cortex\n",
    "from sasc.config import CACHE_DIR, RESULTS_DIR, cache_ngrams_dir, regions_idxs_dir, FMRI_DIR, SAVE_DIR_FMRI\n",
    "from neuro.config import repo_dir, PROCESSED_DIR\n",
    "from collections import defaultdict\n",
    "from scipy.stats import norm\n",
    "from statsmodels.stats.multitest import multipletests\n",
    "import gemv\n",
    "from neuro.flatmaps_helper import load_flatmaps\n",
    "import sasc.viz\n",
    "import nibabel as nib\n",
    "\n",
    "subject = 'S02'"
   ]
  },
  {
   "cell_type": "code",
   "execution_count": 2,
   "metadata": {},
   "outputs": [],
   "source": [
    "if subject in ['S01', 'S02', 'S03']:\n",
    "    settings = ['individual_gpt4', 'individual_gpt4_wordrate', 'shapley_35']\n",
    "else:\n",
    "    settings = ['individual_gpt4_ndel=1_pc_new']\n",
    "flatmaps_qa_list = defaultdict(list)\n",
    "for setting in settings:\n",
    "    flatmaps_qa_dict = joblib.load(\n",
    "        join(PROCESSED_DIR, subject.replace('UT', ''), setting + '.pkl'))\n",
    "    for q in flatmaps_qa_dict.keys():\n",
    "        flatmaps_qa_list[q].append(flatmaps_qa_dict[q])\n",
    "flatmaps_qa_dict = {\n",
    "    q: np.mean(flatmaps_qa_list[q], axis=0)\n",
    "    for q in flatmaps_qa_list.keys()}"
   ]
  },
  {
   "cell_type": "code",
   "execution_count": 3,
   "metadata": {},
   "outputs": [],
   "source": [
    "flatmap_subject = flatmaps_qa_dict[list(flatmaps_qa_dict.keys())[0]].copy()"
   ]
  },
  {
   "cell_type": "markdown",
   "metadata": {},
   "source": [
    "### Freesurfer transform"
   ]
  },
  {
   "cell_type": "code",
   "execution_count": 4,
   "metadata": {},
   "outputs": [],
   "source": [
    "# set os environ SUBJECTS_DIR\n",
    "FREESURFER_VARS = {\n",
    "    'FREESURFER_HOME': os.path.expanduser('~/freesurfer'),\n",
    "    'FSL_DIR': os.path.expanduser('~/fsl'),\n",
    "    'FSFAST_HOME': os.path.expanduser('~/freesurfer/fsfast'),\n",
    "    'MNI_DIR': os.path.expanduser('~/freesurfer/mni'),\n",
    "    # 'SUBJECTS_DIR': join(repo_dir, 'notebooks_gt_flatmaps'),\n",
    "    'SUBJECTS_DIR': os.path.expanduser('~/freesurfer/subjects'),\n",
    "}\n",
    "for k in FREESURFER_VARS.keys():\n",
    "    os.environ[k] = FREESURFER_VARS[k]"
   ]
  },
  {
   "cell_type": "code",
   "execution_count": 16,
   "metadata": {},
   "outputs": [
    {
     "name": "stdout",
     "output_type": "stream",
     "text": [
      "Caching mapper...\n",
      "mni shape (91, 109, 91) subj shape (54, 84, 84) subj_arr shape (94251,)\n"
     ]
    }
   ],
   "source": [
    "def mni_vol_to_subj_vol(\n",
    "    mni_vol,\n",
    "    subject='S02',\n",
    "    pycortex_db_dir='/home/chansingh/mntv1/deep-fMRI/data/ds003020/derivative/pycortex-db/',\n",
    "):\n",
    "    fs_mapper = cortex.get_mapper(\"fsaverage\", \"atlas_2mm\")\n",
    "    fssurf = fs_mapper(mni_vol)\n",
    "\n",
    "    subjmapper = cortex.get_mapper(\n",
    "        'UT' + subject, join(pycortex_db_dir, f'UT{subject}/transforms/UT{subject}_auto/'))\n",
    "    (ltrans, rtrans) = cortex.db.get_mri_surf2surf_matrix(\n",
    "        subject=\"fsaverage\",\n",
    "        surface_type=\"pial\",\n",
    "        target_subj=subject,\n",
    "    )\n",
    "    subjsurf = cortex.Vertex(\n",
    "        np.hstack([ltrans@fssurf.left, rtrans@fssurf.right]), 'UT' + subject)\n",
    "    subjvol = subjmapper.backwards(subjsurf)\n",
    "    mask = cortex.db.get_mask('UT' + subject, 'UT' + subject + '_auto')\n",
    "    return subjvol, subjvol.data[mask]\n",
    "\n",
    "\n",
    "term = 'location'\n",
    "mni_filename = f'/home/chansingh/mntv1/deep-fMRI/qa/neurosynth_data/all_association-test_z/{term}_association-test_z.nii.gz'\n",
    "mni_vol = cortex.Volume(mni_filename, \"fsaverage\", \"atlas_2mm\")\n",
    "subj_vol, subj_arr = mni_vol_to_subj_vol(mni_vol, subject='S02')\n",
    "print('mni shape', mni_vol.shape, 'subj shape',\n",
    "      subj_vol.shape, 'subj_arr shape', subj_arr.shape)"
   ]
  },
  {
   "cell_type": "code",
   "execution_count": 12,
   "metadata": {},
   "outputs": [
    {
     "name": "stderr",
     "output_type": "stream",
     "text": [
      "/home/chansingh/automated-explanations/sasc/viz.py:39: DeprecationWarning: invalid escape sequence '\\s'\n",
      "  def imshow_diverging(mat, clab=\"Mean response ($\\sigma$)\", clab_size='medium', vabs_multiplier=1):\n",
      "/home/chansingh/automated-explanations/sasc/viz.py:316: DeprecationWarning: invalid escape sequence '\\s'\n",
      "  )\n",
      "/home/chansingh/automated-explanations/sasc/viz.py:361: DeprecationWarning: invalid escape sequence '\\s'\n",
      "  plt.grid(axis='y')\n",
      "/home/chansingh/automated-explanations/sasc/viz.py:456: DeprecationWarning: invalid escape sequence '\\s'\n",
      "  plt.grid(axis='y')\n",
      "/home/chansingh/automated-explanations/sasc/viz.py:517: DeprecationWarning: invalid escape sequence '\\s'\n",
      "  plt.grid(axis='y')\n",
      "/home/chansingh/automated-explanations/sasc/viz.py:552: DeprecationWarning: invalid escape sequence '\\s'\n",
      "  \n"
     ]
    }
   ],
   "source": [
    "sasc.viz.quickshow(\n",
    "    subj_vol.data,\n",
    "    subject='UTS02',\n",
    "    fname_save=join('viz/mni_to_subj.png'),\n",
    ")"
   ]
  },
  {
   "cell_type": "code",
   "execution_count": 13,
   "metadata": {},
   "outputs": [],
   "source": [
    "sasc.viz.quickshow(\n",
    "    mni_vol,\n",
    "    subject='fsaverage',\n",
    "    fname_save=join('viz/mni.png'),\n",
    ")"
   ]
  },
  {
   "cell_type": "code",
   "execution_count": null,
   "metadata": {},
   "outputs": [],
   "source": [
    "## download individual subject freesurfer dirs\n",
    "## untar under $SUBJECTS_DIR, usually this is ~/freesurfer/subjects\n",
    "\n",
    "subjects = [f\"S0{ii}\" for ii in np.arange(8)+1]\n",
    "xfms = <however you usually load subj xfms>\n",
    "terms = <list of terms>\n",
    "\n",
    "## get fs to subj xfms\n",
    "## *** YOU'LL NEED FSL FOR THIS STEP ***\n",
    "## {subject: (lefthem_xfm, righthem_xfm)}\n",
    "fs2subj_xfms = {}\n",
    "for subject in subjects:\n",
    "    ## first param is source subject; keep \"pial\" for surface\n",
    "    fs2subj_xfms[subject] = cortex.db.get_mri_surf2surf_matrix(\"fsaverage\", \"pial\", \n",
    "                                                        target_subj=subject)\n",
    "\n",
    "## vol2surf mapping for MNI \n",
    "fsmapper = cortex.get_mapper(\"fsaverage\", \"atlas_2mm\")\n",
    "\n",
    "## {subj: {term: cortex.Volume/cortex.Vertex}}\n",
    "subj_term_surfs = {}\n",
    "subj_term_vols = {}\n",
    "for subject, (ltrans, rtrans) in fs2subj_xfms.items(): \n",
    "    subjmapper = cortex.get_mapper(subject, xfms[subject])\n",
    "\n",
    "    ## {term: data}\n",
    "    subj_surfs = {}\n",
    "    subj_vols = {}\n",
    "    for term in terms:\n",
    "        \n",
    "        ## map MNI volumes to fsaverage surface \n",
    "        mnivol = cortex.Volume(<filename>, \"fsaverage\", \"atlas_2mm\")\n",
    "        fssurf = fsmapper(mnivol)\n",
    "\n",
    "        ## xtrans @ surfdata to get xfmed surfdata, then put into cortex.Vertex\n",
    "        subjsurf = cortex.Vertex(np.hstack([ltrans@fssurf.left, rtrans@fssurf.right]), subject)\n",
    "        ## map subject surface to volume\n",
    "        subjvol = subjmapper.backwards(subjsurf)\n",
    "        \n",
    "        subj_surfs[term] = subjsurf\n",
    "        subj_vols[term] = subjvol\n",
    "#         break\n",
    "        \n",
    "    subj_term_surfs[subject] = subj_surfs\n",
    "    subj_term_vols[subject] = subj_vols\n",
    "#     break"
   ]
  },
  {
   "cell_type": "markdown",
   "metadata": {},
   "source": [
    "# Save flatmaps"
   ]
  },
  {
   "cell_type": "code",
   "execution_count": null,
   "metadata": {},
   "outputs": [],
   "source": [
    "q = 'Does the sentence mention a specific location?'\n",
    "for subject in ['S03']:  # ['S02']: #['S01', 'S02', 'S03']:\n",
    "    if subject in ['S03']:\n",
    "        # settings = ['individual_gpt4', 'individual_gpt4_wordrate', 'shapley_35']\n",
    "        settings = ['shapley_35']\n",
    "    else:\n",
    "        settings = ['individual_gpt4_ndel=1_pc_new']\n",
    "    flatmaps_qa_list = defaultdict(list)\n",
    "    for setting in settings:\n",
    "        flatmaps_qa_dict = joblib.load(\n",
    "            join(PROCESSED_DIR, subject.replace('UT', ''), setting + '.pkl'))\n",
    "        flatmaps_qa_list[q].append(flatmaps_qa_dict[q])\n",
    "    flatmaps_qa_dict = {\n",
    "        q: np.mean(flatmaps_qa_list[q], axis=0)\n",
    "        for q in flatmaps_qa_list.keys()}\n",
    "\n",
    "    print('visualizing...')\n",
    "    sasc.viz.quickshow(\n",
    "        flatmaps_qa_dict[q],\n",
    "        subject='UT'+subject,\n",
    "        fname_save=join(repo_dir, 'qa_results', 'figs',\n",
    "                        'flatmaps_export', q, f'QA_{subject}.png'),\n",
    "        # cmap='RdYlBu_r',\n",
    "    )"
   ]
  },
  {
   "cell_type": "code",
   "execution_count": null,
   "metadata": {},
   "outputs": [],
   "source": [
    "gemv_flatmaps_dict_S02, gemv_flatmaps_dict_S03 = load_flatmaps(\n",
    "    normalize_flatmaps=False, load_timecourse=False)\n",
    "q_tup = ('locations', 368)\n",
    "sasc.viz.quickshow(\n",
    "    gemv_flatmaps_dict_S02[q_tup],\n",
    "    subject='UTS02',\n",
    "    fname_save=join(repo_dir, 'qa_results', 'figs',\n",
    "                    'flatmaps_export', q, f'gemv_S02.png'),\n",
    "    # cmap='RdYlBu_r',\n",
    ")"
   ]
  },
  {
   "cell_type": "code",
   "execution_count": 71,
   "metadata": {},
   "outputs": [],
   "source": [
    "sasc.viz.quickshow(\n",
    "    subjvol.data,\n",
    "    subject='UTS02',\n",
    "    fname_save=join('viz/test.png'),\n",
    ")"
   ]
  },
  {
   "cell_type": "code",
   "execution_count": null,
   "metadata": {},
   "outputs": [],
   "source": []
  }
 ],
 "metadata": {
  "kernelspec": {
   "display_name": ".env",
   "language": "python",
   "name": "python3"
  },
  "language_info": {
   "codemirror_mode": {
    "name": "ipython",
    "version": 3
   },
   "file_extension": ".py",
   "mimetype": "text/x-python",
   "name": "python",
   "nbconvert_exporter": "python",
   "pygments_lexer": "ipython3",
   "version": "3.11.11"
  },
  "orig_nbformat": 4
 },
 "nbformat": 4,
 "nbformat_minor": 2
}
