{
 "cells": [
  {
   "cell_type": "code",
   "execution_count": 1,
   "metadata": {},
   "outputs": [],
   "source": [
    "%load_ext autoreload\n",
    "%autoreload 2\n",
    "import os\n",
    "import matplotlib.pyplot as plt\n",
    "import seaborn as sns\n",
    "from os.path import join\n",
    "from tqdm import tqdm\n",
    "import pandas as pd\n",
    "import sys\n",
    "from typing import List\n",
    "import numpy as np\n",
    "from copy import deepcopy\n",
    "import joblib\n",
    "from pprint import pprint\n",
    "from math import ceil\n",
    "import cortex\n",
    "from neuro.config import repo_dir, PROCESSED_DIR, setup_freesurfer\n",
    "from collections import defaultdict\n",
    "from scipy.stats import norm\n",
    "from statsmodels.stats.multitest import multipletests\n",
    "import gemv\n",
    "from neuro.flatmaps_helper import load_flatmaps\n",
    "import sasc.viz\n",
    "from neuro import analyze_helper\n",
    "import nibabel as nib\n",
    "neurosynth_compare = __import__('04_neurosynth_compare')\n",
    "import neurosynth\n",
    "from neuro.features.questions.gpt4 import QS_35_STABLE\n",
    "setup_freesurfer()\n",
    "\n",
    "subject = 'S02'\n",
    "subjects = [f'S0{i}' for i in range(1, 9) if not i == 6] # there's some problem with S06 surf2surf\n",
    "# subjects = ['S01', 'S02', 'S03']"
   ]
  },
  {
   "cell_type": "code",
   "execution_count": 3,
   "metadata": {},
   "outputs": [
    {
     "name": "stdout",
     "output_type": "stream",
     "text": [
      "Caching mapper...\n",
      "mni shape (91, 109, 91) subj shape (54, 84, 84) subj_arr shape (94251,)\n",
      "Caching mapper...\n",
      "mni shape (91, 109, 91) subj shape (54, 84, 84) subj_arr shape (94251,)\n"
     ]
    }
   ],
   "source": [
    "subj_vols = []\n",
    "for term in ['place', 'location']:  # , 'locations']:\n",
    "    mni_filename = f'/home/chansingh/mntv1/deep-fMRI/qa/neurosynth_data/all_association-test_z/{term}_association-test_z.nii.gz'\n",
    "    mni_vol = cortex.Volume(mni_filename, \"fsaverage\", \"atlas_2mm\")\n",
    "    subj_vol, subj_arr = neurosynth.mni_vol_to_subj_vol_surf(\n",
    "        mni_vol, subject=subject)\n",
    "    print('mni shape', mni_vol.shape, 'subj shape',\n",
    "          subj_vol.shape, 'subj_arr shape', subj_arr.shape)\n",
    "\n",
    "    sasc.viz.quickshow(\n",
    "        subj_vol.data,\n",
    "        subject='UT' + subject,\n",
    "        fname_save=join(f'intersubject/{term}_subj.png'),\n",
    "    )\n",
    "    sasc.viz.quickshow(\n",
    "        mni_vol,\n",
    "        subject='fsaverage',\n",
    "        fname_save=join(f'intersubject/{term}_mni.png'),\n",
    "    )\n",
    "    subj_vols.append(subj_vol.data)\n",
    "\n",
    "sasc.viz.quickshow(\n",
    "    np.array(subj_vols).mean(axis=0),\n",
    "    subject='UT' + subject,\n",
    "    fname_save=join(f'intersubject/avg_subj.png'),\n",
    ")"
   ]
  },
  {
   "cell_type": "code",
   "execution_count": null,
   "metadata": {},
   "outputs": [],
   "source": [
    "q = 'Does the sentence mention a specific location?'\n",
    "for subject in ['S01']:  # ['S02']: #['S01', 'S02', 'S03']:\n",
    "    # if subject in ['S03']:\n",
    "    # settings = ['individual_gpt4', 'individual_gpt4_wordrate', 'shapley_35']\n",
    "    # settings = ['shapley_35']\n",
    "    # else:\n",
    "    settings = ['individual_gpt4_ndel=1_pc_new']\n",
    "    flatmaps_qa_list = defaultdict(list)\n",
    "    for setting in settings:\n",
    "        flatmaps_qa_dict = joblib.load(\n",
    "            join(PROCESSED_DIR, subject.replace('UT', ''), setting + '.pkl'))\n",
    "        flatmaps_qa_list[q].append(flatmaps_qa_dict[q])\n",
    "    flatmaps_qa_dict = {\n",
    "        q: np.mean(flatmaps_qa_list[q], axis=0)\n",
    "        for q in flatmaps_qa_list.keys()}\n",
    "\n",
    "    print('visualizing...')\n",
    "    sasc.viz.quickshow(\n",
    "        flatmaps_qa_dict[q],\n",
    "        subject='UT'+subject,\n",
    "        fname_save=join(repo_dir, 'qa_results', 'figs',\n",
    "                        'flatmaps_export', q, f'QA_{subject}.png'),\n",
    "        # cmap='RdYlBu_r',\n",
    "    )"
   ]
  },
  {
   "cell_type": "code",
   "execution_count": null,
   "metadata": {},
   "outputs": [],
   "source": [
    "gemv_flatmaps_dict_S02, gemv_flatmaps_dict_S03 = load_flatmaps(\n",
    "    normalize_flatmaps=False, load_timecourse=False)\n",
    "q_tup = ('locations', 368)\n",
    "sasc.viz.quickshow(\n",
    "    gemv_flatmaps_dict_S02[q_tup],\n",
    "    subject='UTS02',\n",
    "    fname_save=join(repo_dir, 'qa_results', 'figs',\n",
    "                    'flatmaps_export', q, f'gemv_S02.png'),\n",
    "    # cmap='RdYlBu_r',\n",
    ")"
   ]
  }
 ],
 "metadata": {
  "kernelspec": {
   "display_name": ".env",
   "language": "python",
   "name": "python3"
  },
  "language_info": {
   "codemirror_mode": {
    "name": "ipython",
    "version": 3
   },
   "file_extension": ".py",
   "mimetype": "text/x-python",
   "name": "python",
   "nbconvert_exporter": "python",
   "pygments_lexer": "ipython3",
   "version": "3.11.10"
  },
  "orig_nbformat": 4
 },
 "nbformat": 4,
 "nbformat_minor": 2
}
